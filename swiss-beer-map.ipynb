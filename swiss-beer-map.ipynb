{
 "cells": [
  {
   "cell_type": "code",
   "execution_count": 1,
   "metadata": {},
   "outputs": [],
   "source": [
    "import requests\n",
    "from bs4 import BeautifulSoup\n",
    "import numpy as np\n",
    "import timeit\n",
    "\n",
    "import pandas as pd\n",
    "import geopy"
   ]
  },
  {
   "cell_type": "markdown",
   "metadata": {},
   "source": [
    "# Scrape online data"
   ]
  },
  {
   "cell_type": "code",
   "execution_count": 3,
   "metadata": {},
   "outputs": [],
   "source": [
    "URL = 'https://www.beeradvocate.com/beer/profile/2958/87869/'\n",
    "page = requests.get(URL)\n",
    "\n",
    "soup = BeautifulSoup(page.content, 'html.parser')\n"
   ]
  },
  {
   "cell_type": "code",
   "execution_count": 50,
   "metadata": {},
   "outputs": [],
   "source": [
    "res = soup.find(id='info_box')"
   ]
  },
  {
   "cell_type": "code",
   "execution_count": 16,
   "metadata": {},
   "outputs": [],
   "source": [
    "beerstats = soup.find_all(class_='beerstats')"
   ]
  },
  {
   "cell_type": "code",
   "execution_count": 32,
   "metadata": {},
   "outputs": [],
   "source": [
    "bold = res.find_all('b')"
   ]
  },
  {
   "cell_type": "code",
   "execution_count": 33,
   "metadata": {},
   "outputs": [
    {
     "data": {
      "text/plain": [
       "[<b>Beer Geek Stats:</b>,\n",
       " <b>Style:</b>,\n",
       " <b>Belgian Saison</b>,\n",
       " <b>ABV:</b>,\n",
       " <b>5%</b>,\n",
       " <b>Score:</b>,\n",
       " <b>94</b>]"
      ]
     },
     "execution_count": 33,
     "metadata": {},
     "output_type": "execute_result"
    }
   ],
   "source": [
    "bold"
   ]
  },
  {
   "cell_type": "code",
   "execution_count": 57,
   "metadata": {},
   "outputs": [
    {
     "data": {
      "text/plain": [
       "'Belgian Saison'"
      ]
     },
     "execution_count": 57,
     "metadata": {},
     "output_type": "execute_result"
    }
   ],
   "source": [
    "soup.find(title=\"Learn more about this style.\").find('b').text"
   ]
  },
  {
   "cell_type": "code",
   "execution_count": 65,
   "metadata": {},
   "outputs": [
    {
     "data": {
      "text/plain": [
       "'5'"
      ]
     },
     "execution_count": 65,
     "metadata": {},
     "output_type": "execute_result"
    }
   ],
   "source": [
    "soup.find_all(title=\"Percentage of alcohol by volume.\")[-1].find('b').text[:-1]"
   ]
  },
  {
   "cell_type": "code",
   "execution_count": 55,
   "metadata": {},
   "outputs": [
    {
     "data": {
      "text/plain": [
       "'94'"
      ]
     },
     "execution_count": 55,
     "metadata": {},
     "output_type": "execute_result"
    }
   ],
   "source": [
    "soup.find(class_=\"ba-score Tooltip\").text"
   ]
  },
  {
   "cell_type": "code",
   "execution_count": 54,
   "metadata": {},
   "outputs": [
    {
     "data": {
      "text/plain": [
       "'4.26'"
      ]
     },
     "execution_count": 54,
     "metadata": {},
     "output_type": "execute_result"
    }
   ],
   "source": [
    "soup.find(class_=\"ba-ravg Tooltip\").text"
   ]
  },
  {
   "cell_type": "code",
   "execution_count": 60,
   "metadata": {},
   "outputs": [
    {
     "data": {
      "text/plain": [
       "'BFM (Brasserie des Franches-Montagnes)'"
      ]
     },
     "execution_count": 60,
     "metadata": {},
     "output_type": "execute_result"
    }
   ],
   "source": [
    "soup.find(title=\"View more beers and info from this brewery.\").text"
   ]
  },
  {
   "cell_type": "code",
   "execution_count": 64,
   "metadata": {},
   "outputs": [
    {
     "data": {
      "text/plain": [
       "'Switzerland'"
      ]
     },
     "execution_count": 64,
     "metadata": {},
     "output_type": "execute_result"
    }
   ],
   "source": [
    "soup.find_all(href=lambda x: x and x.startswith('/place/directory/'))[-1].text"
   ]
  },
  {
   "cell_type": "code",
   "execution_count": 75,
   "metadata": {},
   "outputs": [
    {
     "data": {
      "text/plain": [
       "<div class=\"titleBar\">\n",
       "<h1>XV (√225 Saison)<br/><span style=\"color:#999999; font-size:0.75em;\">BFM (Brasserie des Franches-Montagnes)</span></h1>\n",
       "</div>"
      ]
     },
     "execution_count": 75,
     "metadata": {},
     "output_type": "execute_result"
    }
   ],
   "source": [
    "soup.find(class_=\"titleBar\")"
   ]
  },
  {
   "cell_type": "code",
   "execution_count": 81,
   "metadata": {},
   "outputs": [
    {
     "data": {
      "text/plain": [
       "'XV (√225 Saison)'"
      ]
     },
     "execution_count": 81,
     "metadata": {},
     "output_type": "execute_result"
    }
   ],
   "source": [
    "soup.find('title').text.split('|')[0].strip()"
   ]
  },
  {
   "cell_type": "code",
   "execution_count": 94,
   "metadata": {},
   "outputs": [],
   "source": [
    "def parse_beer_page(url):\n",
    "    page = requests.get(url)\n",
    "    soup = BeautifulSoup(page.content, 'html.parser')\n",
    "    \n",
    "    name = soup.find('title').text.split('|')[0].strip()\n",
    "    style = soup.find(title=\"Learn more about this style.\").find('b').text\n",
    "    alc_perc = float(soup.find_all(title=\"Percentage of alcohol by volume.\")[-1].find('b').text[:-1])\n",
    "    \n",
    "    score_temp = soup.find(class_=\"ba-score Tooltip\")\n",
    "    if score_temp is not None:\n",
    "        score = float(score_temp.text)\n",
    "    else: score = np.NaN\n",
    "    rating = float(soup.find(class_=\"ba-ravg Tooltip\").text)\n",
    "    brewery = soup.find(title=\"View more beers and info from this brewery.\").text\n",
    "    country = soup.find_all(href=lambda x: x and x.startswith('/place/directory/'))[-1].text\n",
    "    \n",
    "    return dict(name=name, style=style, alc_perc=alc_perc, \n",
    "                score=score, rating=rating, brewery=brewery, country=country)\n",
    "    "
   ]
  },
  {
   "cell_type": "code",
   "execution_count": 165,
   "metadata": {},
   "outputs": [],
   "source": [
    "def get_beer_country(url, session=requests):\n",
    "    try:\n",
    "        page = session.get(url)\n",
    "        soup = BeautifulSoup(page.content, 'html.parser')\n",
    "        country = soup.find_all(href=lambda x: x and x.startswith('/place/directory/'))[-1].text\n",
    "    except:\n",
    "        country = ''\n",
    "    return country"
   ]
  },
  {
   "cell_type": "code",
   "execution_count": 99,
   "metadata": {},
   "outputs": [
    {
     "data": {
      "text/plain": [
       "{'name': 'Dark Ale',\n",
       " 'style': 'American Brown Ale',\n",
       " 'alc_perc': 4.0,\n",
       " 'score': nan,\n",
       " 'rating': 3.44,\n",
       " 'brewery': 'Black Duck Brewery',\n",
       " 'country': 'Australia'}"
      ]
     },
     "execution_count": 99,
     "metadata": {},
     "output_type": "execute_result"
    }
   ],
   "source": [
    "parse_beer_page('https://www.beeradvocate.com/beer/profile/2385/87878/')"
   ]
  },
  {
   "cell_type": "code",
   "execution_count": 106,
   "metadata": {},
   "outputs": [
    {
     "data": {
      "text/plain": [
       "'United States'"
      ]
     },
     "execution_count": 106,
     "metadata": {},
     "output_type": "execute_result"
    }
   ],
   "source": [
    "get_beer_country('https://www.beeradvocate.com/beer/profile/2/3/')"
   ]
  },
  {
   "cell_type": "code",
   "execution_count": 109,
   "metadata": {},
   "outputs": [
    {
     "name": "stdout",
     "output_type": "stream",
     "text": [
      "1\n",
      "2\n",
      "22\n",
      "25\n",
      "53\n",
      "57\n",
      "60\n",
      "64\n",
      "70\n",
      "77\n",
      "91\n",
      "98\n"
     ]
    }
   ],
   "source": [
    "countries = []\n",
    "url = 'https://www.beeradvocate.com/beer/profile/2/{}/'\n",
    "for i in range(100):\n",
    "    try:\n",
    "        countries.append(get_beer_country(url.format(i)))\n",
    "    except:\n",
    "        print(i)\n",
    "    "
   ]
  },
  {
   "cell_type": "code",
   "execution_count": 167,
   "metadata": {},
   "outputs": [
    {
     "data": {
      "text/plain": [
       "3.777793766999821"
      ]
     },
     "execution_count": 167,
     "metadata": {},
     "output_type": "execute_result"
    }
   ],
   "source": [
    "s = requests.Session()\n",
    "timeit.timeit(lambda: get_beer_country(url.format(15002),s), number=5)"
   ]
  },
  {
   "cell_type": "code",
   "execution_count": 146,
   "metadata": {},
   "outputs": [
    {
     "data": {
      "text/plain": [
       "0.8501878259994555"
      ]
     },
     "execution_count": 146,
     "metadata": {},
     "output_type": "execute_result"
    }
   ],
   "source": [
    "timeit.timeit(lambda: requests.head(url.format(19)), number=1)"
   ]
  },
  {
   "cell_type": "code",
   "execution_count": 147,
   "metadata": {},
   "outputs": [
    {
     "data": {
      "text/plain": [
       "<Response [301]>"
      ]
     },
     "execution_count": 147,
     "metadata": {},
     "output_type": "execute_result"
    }
   ],
   "source": [
    "requests.head(url.format(19))"
   ]
  },
  {
   "cell_type": "code",
   "execution_count": 149,
   "metadata": {},
   "outputs": [
    {
     "data": {
      "text/plain": [
       "41.666666666666664"
      ]
     },
     "execution_count": 149,
     "metadata": {},
     "output_type": "execute_result"
    }
   ],
   "source": [
    "1.5* 100000 / 3600"
   ]
  },
  {
   "cell_type": "markdown",
   "metadata": {},
   "source": [
    "## Check parallel requests"
   ]
  },
  {
   "cell_type": "code",
   "execution_count": 160,
   "metadata": {
    "collapsed": true,
    "jupyter": {
     "outputs_hidden": true
    }
   },
   "outputs": [
    {
     "name": "stdout",
     "output_type": "stream",
     "text": [
      "one is done\n",
      "one is done\n",
      "one is done\n",
      "one is done\n",
      "one is done\n",
      "one is done\n",
      "one is done\n",
      "one is done\n",
      "one is done\n",
      "one is done\n",
      "one is done\n",
      "one is done\n",
      "one is done\n",
      "one is done\n",
      "one is done\n",
      "one is done\n",
      "one is done\n",
      "one is done\n",
      "one is done\n",
      "one is done\n",
      "one is done\n",
      "one is done\n",
      "one is done\n",
      "one is done\n",
      "one is done\n",
      "one is done\n",
      "one is done\n",
      "one is done\n",
      "one is done\n",
      "one is done\n",
      "one is done\n",
      "one is done\n",
      "one is done\n",
      "one is done\n",
      "one is done\n",
      "one is done\n",
      "one is done\n",
      "one is done\n",
      "one is done\n",
      "one is done\n",
      "one is done\n",
      "one is done\n",
      "one is done\n",
      "one is done\n",
      "one is done\n",
      "one is done\n",
      "one is done\n",
      "one is done\n",
      "one is done\n",
      "one is done\n"
     ]
    },
    {
     "data": {
      "text/plain": [
       "60.20601609700043"
      ]
     },
     "execution_count": 160,
     "metadata": {},
     "output_type": "execute_result"
    }
   ],
   "source": [
    "import eventlet\n",
    "\n",
    "urls = [url.format(i) for i in range(50)]\n",
    "pool = eventlet.GreenPool(50)\n",
    "\n",
    "countries = []\n",
    "def pool_work():\n",
    "    for country in pool.imap(get_beer_country, urls):\n",
    "        countries.append(country)\n",
    "        print('one is done')\n",
    "\n",
    "timeit.timeit(pool_work, number=1)"
   ]
  },
  {
   "cell_type": "code",
   "execution_count": 154,
   "metadata": {
    "collapsed": true,
    "jupyter": {
     "outputs_hidden": true
    }
   },
   "outputs": [
    {
     "data": {
      "text/plain": [
       "['https://www.beeradvocate.com/beer/profile/2/3/',\n",
       " 'https://www.beeradvocate.com/beer/profile/2/4/',\n",
       " 'https://www.beeradvocate.com/beer/profile/2/5/',\n",
       " 'https://www.beeradvocate.com/beer/profile/2/6/',\n",
       " 'https://www.beeradvocate.com/beer/profile/2/7/',\n",
       " 'https://www.beeradvocate.com/beer/profile/2/8/',\n",
       " 'https://www.beeradvocate.com/beer/profile/2/9/',\n",
       " 'https://www.beeradvocate.com/beer/profile/2/10/',\n",
       " 'https://www.beeradvocate.com/beer/profile/2/11/',\n",
       " 'https://www.beeradvocate.com/beer/profile/2/12/',\n",
       " 'https://www.beeradvocate.com/beer/profile/2/13/',\n",
       " 'https://www.beeradvocate.com/beer/profile/2/14/',\n",
       " 'https://www.beeradvocate.com/beer/profile/2/15/',\n",
       " 'https://www.beeradvocate.com/beer/profile/2/16/',\n",
       " 'https://www.beeradvocate.com/beer/profile/2/17/',\n",
       " 'https://www.beeradvocate.com/beer/profile/2/18/',\n",
       " 'https://www.beeradvocate.com/beer/profile/2/19/',\n",
       " 'https://www.beeradvocate.com/beer/profile/2/20/',\n",
       " 'https://www.beeradvocate.com/beer/profile/2/21/',\n",
       " 'https://www.beeradvocate.com/beer/profile/2/22/',\n",
       " 'https://www.beeradvocate.com/beer/profile/2/23/',\n",
       " 'https://www.beeradvocate.com/beer/profile/2/24/',\n",
       " 'https://www.beeradvocate.com/beer/profile/2/25/',\n",
       " 'https://www.beeradvocate.com/beer/profile/2/26/',\n",
       " 'https://www.beeradvocate.com/beer/profile/2/27/',\n",
       " 'https://www.beeradvocate.com/beer/profile/2/28/',\n",
       " 'https://www.beeradvocate.com/beer/profile/2/29/',\n",
       " 'https://www.beeradvocate.com/beer/profile/2/30/',\n",
       " 'https://www.beeradvocate.com/beer/profile/2/31/',\n",
       " 'https://www.beeradvocate.com/beer/profile/2/32/',\n",
       " 'https://www.beeradvocate.com/beer/profile/2/33/',\n",
       " 'https://www.beeradvocate.com/beer/profile/2/34/',\n",
       " 'https://www.beeradvocate.com/beer/profile/2/35/',\n",
       " 'https://www.beeradvocate.com/beer/profile/2/36/',\n",
       " 'https://www.beeradvocate.com/beer/profile/2/37/',\n",
       " 'https://www.beeradvocate.com/beer/profile/2/38/',\n",
       " 'https://www.beeradvocate.com/beer/profile/2/39/',\n",
       " 'https://www.beeradvocate.com/beer/profile/2/40/',\n",
       " 'https://www.beeradvocate.com/beer/profile/2/41/',\n",
       " 'https://www.beeradvocate.com/beer/profile/2/42/',\n",
       " 'https://www.beeradvocate.com/beer/profile/2/43/',\n",
       " 'https://www.beeradvocate.com/beer/profile/2/44/',\n",
       " 'https://www.beeradvocate.com/beer/profile/2/45/',\n",
       " 'https://www.beeradvocate.com/beer/profile/2/46/',\n",
       " 'https://www.beeradvocate.com/beer/profile/2/47/',\n",
       " 'https://www.beeradvocate.com/beer/profile/2/48/',\n",
       " 'https://www.beeradvocate.com/beer/profile/2/49/']"
      ]
     },
     "execution_count": 154,
     "metadata": {},
     "output_type": "execute_result"
    }
   ],
   "source": [
    "urls"
   ]
  },
  {
   "cell_type": "code",
   "execution_count": 169,
   "metadata": {},
   "outputs": [
    {
     "data": {
      "text/plain": [
       "0.007156055999985256"
      ]
     },
     "execution_count": 169,
     "metadata": {},
     "output_type": "execute_result"
    }
   ],
   "source": [
    "from concurrent.futures import ThreadPoolExecutor\n",
    "from requests_futures.sessions import FuturesSession\n",
    "\n",
    "session = FuturesSession(max_workers=5)\n",
    "cs = []\n",
    "timeit.timeit(lambda: cs.append(get_beer_country(url.format(15002),session)), number=5)"
   ]
  },
  {
   "cell_type": "code",
   "execution_count": 172,
   "metadata": {},
   "outputs": [
    {
     "data": {
      "text/plain": [
       "['', '', '', '', '']"
      ]
     },
     "execution_count": 172,
     "metadata": {},
     "output_type": "execute_result"
    }
   ],
   "source": [
    "cs"
   ]
  },
  {
   "cell_type": "code",
   "execution_count": 175,
   "metadata": {},
   "outputs": [],
   "source": [
    "from concurrent.futures import as_completed\n",
    "from requests_futures.sessions import FuturesSession\n",
    "\n",
    "def get_beer_countries_parall(urls):\n",
    "    countries = []\n",
    "    session = FuturesSession(max_workers=5)\n",
    "    \n",
    "    futures = [session.get(url) for url in urls]\n",
    "    for future in as_completed(futures):\n",
    "        try:\n",
    "            resp = future.result()\n",
    "            soup = BeautifulSoup(resp.content, 'html.parser')\n",
    "            country = soup.find_all(href=lambda x: x and x.startswith('/place/directory/'))[-1].text\n",
    "            countries.append(country)\n",
    "        except:\n",
    "            pass\n",
    "    \n",
    "    return countries"
   ]
  },
  {
   "cell_type": "code",
   "execution_count": 187,
   "metadata": {},
   "outputs": [],
   "source": [
    "def get_swiss_beers_parall(urls):\n",
    "    swissbeers = []\n",
    "    session = FuturesSession(max_workers=5)\n",
    "    \n",
    "    futures = [session.get(url) for url in urls]\n",
    "    for future in as_completed(futures):\n",
    "        try:\n",
    "            resp = future.result()\n",
    "            soup = BeautifulSoup(resp.content, 'html.parser')\n",
    "            country = soup.find_all(href=lambda x: x and x.startswith('/place/directory/'))[-1].text\n",
    "            if country == 'Switzerland':\n",
    "                swissbeers.append(resp.url)\n",
    "        except:\n",
    "            pass\n",
    "    \n",
    "    return swissbeers"
   ]
  },
  {
   "cell_type": "code",
   "execution_count": 176,
   "metadata": {},
   "outputs": [
    {
     "data": {
      "text/plain": [
       "6.967507653000212"
      ]
     },
     "execution_count": 176,
     "metadata": {},
     "output_type": "execute_result"
    }
   ],
   "source": [
    "urls = [url.format(i) for i in range(50)]\n",
    "\n",
    "timeit.timeit(lambda: get_beer_countries_parall(urls), number=1)"
   ]
  },
  {
   "cell_type": "code",
   "execution_count": 184,
   "metadata": {},
   "outputs": [],
   "source": [
    "session = FuturesSession(max_workers=5)\n",
    "\n",
    "future = session.get(url.format(19))"
   ]
  },
  {
   "cell_type": "code",
   "execution_count": 185,
   "metadata": {},
   "outputs": [],
   "source": [
    "resp = future.result()"
   ]
  },
  {
   "cell_type": "code",
   "execution_count": 186,
   "metadata": {},
   "outputs": [
    {
     "data": {
      "text/plain": [
       "'https://www.beeradvocate.com/beer/profile/9/19/'"
      ]
     },
     "execution_count": 186,
     "metadata": {},
     "output_type": "execute_result"
    }
   ],
   "source": [
    "resp.url"
   ]
  },
  {
   "cell_type": "code",
   "execution_count": 188,
   "metadata": {},
   "outputs": [],
   "source": [
    "swiss_beers_urls = get_swiss_beers_parall([url.format(i) for i in range(1000)])"
   ]
  },
  {
   "cell_type": "code",
   "execution_count": 189,
   "metadata": {},
   "outputs": [
    {
     "data": {
      "text/plain": [
       "[]"
      ]
     },
     "execution_count": 189,
     "metadata": {},
     "output_type": "execute_result"
    }
   ],
   "source": [
    "swiss_beers_urls"
   ]
  },
  {
   "cell_type": "code",
   "execution_count": 191,
   "metadata": {},
   "outputs": [
    {
     "data": {
      "text/plain": [
       "64400.00000000001"
      ]
     },
     "execution_count": 191,
     "metadata": {},
     "output_type": "execute_result"
    }
   ],
   "source": [
    "460000 * (7/50)"
   ]
  },
  {
   "cell_type": "code",
   "execution_count": 194,
   "metadata": {},
   "outputs": [
    {
     "data": {
      "text/plain": [
       "12857.142857142855"
      ]
     },
     "execution_count": 194,
     "metadata": {},
     "output_type": "execute_result"
    }
   ],
   "source": [
    "30*60/(7/50)"
   ]
  },
  {
   "cell_type": "code",
   "execution_count": 195,
   "metadata": {
    "collapsed": true,
    "jupyter": {
     "outputs_hidden": true
    }
   },
   "outputs": [
    {
     "ename": "KeyboardInterrupt",
     "evalue": "",
     "output_type": "error",
     "traceback": [
      "\u001b[0;31m---------------------------------------------------------------------------\u001b[0m",
      "\u001b[0;31mKeyboardInterrupt\u001b[0m                         Traceback (most recent call last)",
      "\u001b[0;32m<ipython-input-195-c3fe206295df>\u001b[0m in \u001b[0;36m<module>\u001b[0;34m\u001b[0m\n\u001b[0;32m----> 1\u001b[0;31m \u001b[0mswiss_beers_urls_to12k\u001b[0m \u001b[0;34m=\u001b[0m \u001b[0mget_swiss_beers_parall\u001b[0m\u001b[0;34m(\u001b[0m\u001b[0;34m[\u001b[0m\u001b[0murl\u001b[0m\u001b[0;34m.\u001b[0m\u001b[0mformat\u001b[0m\u001b[0;34m(\u001b[0m\u001b[0mi\u001b[0m\u001b[0;34m)\u001b[0m \u001b[0;32mfor\u001b[0m \u001b[0mi\u001b[0m \u001b[0;32min\u001b[0m \u001b[0mrange\u001b[0m\u001b[0;34m(\u001b[0m\u001b[0;36m12000\u001b[0m\u001b[0;34m)\u001b[0m\u001b[0;34m]\u001b[0m\u001b[0;34m)\u001b[0m\u001b[0;34m\u001b[0m\u001b[0;34m\u001b[0m\u001b[0m\n\u001b[0m",
      "\u001b[0;32m<ipython-input-187-a1643d79ffb1>\u001b[0m in \u001b[0;36mget_swiss_beers_parall\u001b[0;34m(urls)\u001b[0m\n\u001b[1;32m      4\u001b[0m \u001b[0;34m\u001b[0m\u001b[0m\n\u001b[1;32m      5\u001b[0m     \u001b[0mfutures\u001b[0m \u001b[0;34m=\u001b[0m \u001b[0;34m[\u001b[0m\u001b[0msession\u001b[0m\u001b[0;34m.\u001b[0m\u001b[0mget\u001b[0m\u001b[0;34m(\u001b[0m\u001b[0murl\u001b[0m\u001b[0;34m)\u001b[0m \u001b[0;32mfor\u001b[0m \u001b[0murl\u001b[0m \u001b[0;32min\u001b[0m \u001b[0murls\u001b[0m\u001b[0;34m]\u001b[0m\u001b[0;34m\u001b[0m\u001b[0;34m\u001b[0m\u001b[0m\n\u001b[0;32m----> 6\u001b[0;31m     \u001b[0;32mfor\u001b[0m \u001b[0mfuture\u001b[0m \u001b[0;32min\u001b[0m \u001b[0mas_completed\u001b[0m\u001b[0;34m(\u001b[0m\u001b[0mfutures\u001b[0m\u001b[0;34m)\u001b[0m\u001b[0;34m:\u001b[0m\u001b[0;34m\u001b[0m\u001b[0;34m\u001b[0m\u001b[0m\n\u001b[0m\u001b[1;32m      7\u001b[0m         \u001b[0;32mtry\u001b[0m\u001b[0;34m:\u001b[0m\u001b[0;34m\u001b[0m\u001b[0;34m\u001b[0m\u001b[0m\n\u001b[1;32m      8\u001b[0m             \u001b[0mresp\u001b[0m \u001b[0;34m=\u001b[0m \u001b[0mfuture\u001b[0m\u001b[0;34m.\u001b[0m\u001b[0mresult\u001b[0m\u001b[0;34m(\u001b[0m\u001b[0;34m)\u001b[0m\u001b[0;34m\u001b[0m\u001b[0;34m\u001b[0m\u001b[0m\n",
      "\u001b[0;32m/usr/local/Cellar/python/3.7.5/Frameworks/Python.framework/Versions/3.7/lib/python3.7/concurrent/futures/_base.py\u001b[0m in \u001b[0;36mas_completed\u001b[0;34m(fs, timeout)\u001b[0m\n\u001b[1;32m    238\u001b[0m                             len(pending), total_futures))\n\u001b[1;32m    239\u001b[0m \u001b[0;34m\u001b[0m\u001b[0m\n\u001b[0;32m--> 240\u001b[0;31m             \u001b[0mwaiter\u001b[0m\u001b[0;34m.\u001b[0m\u001b[0mevent\u001b[0m\u001b[0;34m.\u001b[0m\u001b[0mwait\u001b[0m\u001b[0;34m(\u001b[0m\u001b[0mwait_timeout\u001b[0m\u001b[0;34m)\u001b[0m\u001b[0;34m\u001b[0m\u001b[0;34m\u001b[0m\u001b[0m\n\u001b[0m\u001b[1;32m    241\u001b[0m \u001b[0;34m\u001b[0m\u001b[0m\n\u001b[1;32m    242\u001b[0m             \u001b[0;32mwith\u001b[0m \u001b[0mwaiter\u001b[0m\u001b[0;34m.\u001b[0m\u001b[0mlock\u001b[0m\u001b[0;34m:\u001b[0m\u001b[0;34m\u001b[0m\u001b[0;34m\u001b[0m\u001b[0m\n",
      "\u001b[0;32m/usr/local/Cellar/python/3.7.5/Frameworks/Python.framework/Versions/3.7/lib/python3.7/threading.py\u001b[0m in \u001b[0;36mwait\u001b[0;34m(self, timeout)\u001b[0m\n\u001b[1;32m    550\u001b[0m             \u001b[0msignaled\u001b[0m \u001b[0;34m=\u001b[0m \u001b[0mself\u001b[0m\u001b[0;34m.\u001b[0m\u001b[0m_flag\u001b[0m\u001b[0;34m\u001b[0m\u001b[0;34m\u001b[0m\u001b[0m\n\u001b[1;32m    551\u001b[0m             \u001b[0;32mif\u001b[0m \u001b[0;32mnot\u001b[0m \u001b[0msignaled\u001b[0m\u001b[0;34m:\u001b[0m\u001b[0;34m\u001b[0m\u001b[0;34m\u001b[0m\u001b[0m\n\u001b[0;32m--> 552\u001b[0;31m                 \u001b[0msignaled\u001b[0m \u001b[0;34m=\u001b[0m \u001b[0mself\u001b[0m\u001b[0;34m.\u001b[0m\u001b[0m_cond\u001b[0m\u001b[0;34m.\u001b[0m\u001b[0mwait\u001b[0m\u001b[0;34m(\u001b[0m\u001b[0mtimeout\u001b[0m\u001b[0;34m)\u001b[0m\u001b[0;34m\u001b[0m\u001b[0;34m\u001b[0m\u001b[0m\n\u001b[0m\u001b[1;32m    553\u001b[0m             \u001b[0;32mreturn\u001b[0m \u001b[0msignaled\u001b[0m\u001b[0;34m\u001b[0m\u001b[0;34m\u001b[0m\u001b[0m\n\u001b[1;32m    554\u001b[0m \u001b[0;34m\u001b[0m\u001b[0m\n",
      "\u001b[0;32m/usr/local/Cellar/python/3.7.5/Frameworks/Python.framework/Versions/3.7/lib/python3.7/threading.py\u001b[0m in \u001b[0;36mwait\u001b[0;34m(self, timeout)\u001b[0m\n\u001b[1;32m    294\u001b[0m         \u001b[0;32mtry\u001b[0m\u001b[0;34m:\u001b[0m    \u001b[0;31m# restore state no matter what (e.g., KeyboardInterrupt)\u001b[0m\u001b[0;34m\u001b[0m\u001b[0;34m\u001b[0m\u001b[0m\n\u001b[1;32m    295\u001b[0m             \u001b[0;32mif\u001b[0m \u001b[0mtimeout\u001b[0m \u001b[0;32mis\u001b[0m \u001b[0;32mNone\u001b[0m\u001b[0;34m:\u001b[0m\u001b[0;34m\u001b[0m\u001b[0;34m\u001b[0m\u001b[0m\n\u001b[0;32m--> 296\u001b[0;31m                 \u001b[0mwaiter\u001b[0m\u001b[0;34m.\u001b[0m\u001b[0macquire\u001b[0m\u001b[0;34m(\u001b[0m\u001b[0;34m)\u001b[0m\u001b[0;34m\u001b[0m\u001b[0;34m\u001b[0m\u001b[0m\n\u001b[0m\u001b[1;32m    297\u001b[0m                 \u001b[0mgotit\u001b[0m \u001b[0;34m=\u001b[0m \u001b[0;32mTrue\u001b[0m\u001b[0;34m\u001b[0m\u001b[0;34m\u001b[0m\u001b[0m\n\u001b[1;32m    298\u001b[0m             \u001b[0;32melse\u001b[0m\u001b[0;34m:\u001b[0m\u001b[0;34m\u001b[0m\u001b[0;34m\u001b[0m\u001b[0m\n",
      "\u001b[0;31mKeyboardInterrupt\u001b[0m: "
     ]
    }
   ],
   "source": [
    "swiss_beers_urls_to12k = get_swiss_beers_parall([url.format(i) for i in range(12000)])"
   ]
  },
  {
   "cell_type": "markdown",
   "metadata": {},
   "source": [
    "## Login to BeerAdvocate"
   ]
  },
  {
   "cell_type": "code",
   "execution_count": 275,
   "metadata": {},
   "outputs": [],
   "source": [
    "s = requests.Session()\n",
    "url_login = 'https://www.beeradvocate.com/community/login/login'\n",
    "with open('ba_credentials','r') as f:\n",
    "    login, password = f.read().splitlines()"
   ]
  },
  {
   "cell_type": "code",
   "execution_count": 276,
   "metadata": {},
   "outputs": [],
   "source": [
    " \n",
    "payload = {'login': login, 'password': password}\n",
    "page = s.post(url_login, data=payload)"
   ]
  },
  {
   "cell_type": "code",
   "execution_count": 277,
   "metadata": {},
   "outputs": [],
   "source": [
    "with open('test.html','bw') as f:\n",
    "    f.write(page.content)"
   ]
  },
  {
   "cell_type": "code",
   "execution_count": 10,
   "metadata": {},
   "outputs": [],
   "source": [
    "url_ch = 'https://www.beeradvocate.com/place/list/?c_id=CH&s_id=0&brewery=Y'\n",
    "url_ch2 = 'https://www.beeradvocate.com/place/list/?start=20&&c_id=CH&brewery=Y&sort=name'\n",
    "ch_page1 = s.get(url_ch)"
   ]
  },
  {
   "cell_type": "code",
   "execution_count": 278,
   "metadata": {},
   "outputs": [],
   "source": [
    "url_ch_gen = 'https://www.beeradvocate.com/place/list/?start={}&&c_id=CH&brewery=Y&sort=name'"
   ]
  },
  {
   "cell_type": "code",
   "execution_count": 281,
   "metadata": {},
   "outputs": [
    {
     "data": {
      "text/plain": [
       "[]"
      ]
     },
     "execution_count": 281,
     "metadata": {},
     "output_type": "execute_result"
    }
   ],
   "source": [
    "ch_end = s.get(url_ch_gen.format(140))\n",
    "soup_ch_end = BeautifulSoup(ch_end.content)\n",
    "list_ch_end = soup_ch_end.find_all(href=lambda x: x and x.startswith('/beer/profile/'))\n",
    "list_ch_end"
   ]
  },
  {
   "cell_type": "code",
   "execution_count": 274,
   "metadata": {},
   "outputs": [],
   "source": [
    "with open('test2.html','bw') as f:\n",
    "    f.write(ch_end.content)"
   ]
  },
  {
   "cell_type": "code",
   "execution_count": 258,
   "metadata": {},
   "outputs": [
    {
     "data": {
      "text/plain": [
       "0"
      ]
     },
     "execution_count": 258,
     "metadata": {},
     "output_type": "execute_result"
    }
   ],
   "source": [
    "len(list_ch_end)"
   ]
  },
  {
   "cell_type": "markdown",
   "metadata": {},
   "source": [
    "## List all CH breweries"
   ]
  },
  {
   "cell_type": "code",
   "execution_count": 298,
   "metadata": {},
   "outputs": [],
   "source": [
    "base_url = 'https://www.beeradvocate.com'\n",
    "def brewery_extract(row):\n",
    "    cols = row.find_all('td')\n",
    "    first_el = cols[0].find('a')\n",
    "    link = base_url +first_el['href']\n",
    "    brewery_name = first_el.text\n",
    "    def treat_dash(text):\n",
    "        if text=='-':\n",
    "            return 'nan'\n",
    "        else:\n",
    "            return text\n",
    "    ratings, nbeers = [treat_dash(x.text) for x in cols[-2:]]\n",
    "    ratings = float(ratings)\n",
    "    nbeers = int(nbeers)\n",
    "    dic = dict(\n",
    "        name = brewery_name, link = link,\n",
    "        ratings = ratings, n_beers = nbeers\n",
    "        )\n",
    "    return dic\n",
    "    "
   ]
  },
  {
   "cell_type": "code",
   "execution_count": 299,
   "metadata": {},
   "outputs": [],
   "source": [
    "def treat_address(list_ad):\n",
    "    ad = ''\n",
    "    for el in list_ad:\n",
    "        if el.name == 'br':\n",
    "            ad += '\\n'\n",
    "        elif el.name == 'a':\n",
    "            ad += el.get_text()\n",
    "        else:\n",
    "            ad += str(el).strip()\n",
    "    ad = ad.split('\\n\\n')\n",
    "    ad = list(map(lambda x: x.strip(), ad))\n",
    "    if len(ad) == 2:\n",
    "        address, tel = ad\n",
    "    else:\n",
    "        address = ad[0]\n",
    "        tel = ''\n",
    "    return dict(address=address, telephone=tel)"
   ]
  },
  {
   "cell_type": "code",
   "execution_count": 302,
   "metadata": {},
   "outputs": [],
   "source": [
    "def breweries_from_page(page):\n",
    "    table_rows = iter(page.find('table').find_all('tr'))\n",
    "    breweries = []\n",
    "    for row in table_rows:\n",
    "        #columns = row.find_all('td')\n",
    "        #table.append([el.text.rstrip() for el in columns])\n",
    "        if row.find(href=lambda x: x and x.startswith('/beer/profile/')):\n",
    "            brew_dic = brewery_extract(row)\n",
    "            address_row = next(table_rows).find('td')\n",
    "            list_ad = list(address_row.children)\n",
    "            brew_dic.update(treat_address(list_ad))\n",
    "            breweries.append(brew_dic)\n",
    "    return breweries"
   ]
  },
  {
   "cell_type": "code",
   "execution_count": 303,
   "metadata": {},
   "outputs": [
    {
     "name": "stdout",
     "output_type": "stream",
     "text": [
      "20\n",
      "40\n",
      "60\n",
      "80\n",
      "100\n",
      "120\n",
      "140\n",
      "160\n"
     ]
    }
   ],
   "source": [
    "s = requests.Session()\n",
    "url_login = 'https://www.beeradvocate.com/community/login/login'\n",
    "\n",
    "with open('ba_credentials','r') as f:\n",
    "    login, password = f.read().splitlines() \n",
    "payload = {'login': login, 'password': password}\n",
    "page = s.post(url_login, data=payload)\n",
    "\n",
    "url_ch_gen = 'https://www.beeradvocate.com/place/list/?start={}&&c_id=CH&brewery=Y&sort=name'\n",
    "start_n = 0\n",
    "search = True\n",
    "breweries_ch = []\n",
    "while search:\n",
    "    brew_page = BeautifulSoup(s.get(url_ch_gen.format(start_n)).content)\n",
    "    more_breweries = brew_page.find_all(href=lambda x: x and x.startswith('/beer/profile/'))\n",
    "    if len(more_breweries) >0 :\n",
    "        breweries_ch += breweries_from_page(brew_page)\n",
    "    else:\n",
    "        search=False\n",
    "    \n",
    "    start_n += 20\n",
    "    print(start_n)\n",
    "    \n"
   ]
  },
  {
   "cell_type": "code",
   "execution_count": 304,
   "metadata": {},
   "outputs": [],
   "source": [
    "breweries_ch_df = pd.DataFrame(breweries_ch)"
   ]
  },
  {
   "cell_type": "code",
   "execution_count": 305,
   "metadata": {},
   "outputs": [
    {
     "data": {
      "text/html": [
       "<div>\n",
       "<style scoped>\n",
       "    .dataframe tbody tr th:only-of-type {\n",
       "        vertical-align: middle;\n",
       "    }\n",
       "\n",
       "    .dataframe tbody tr th {\n",
       "        vertical-align: top;\n",
       "    }\n",
       "\n",
       "    .dataframe thead th {\n",
       "        text-align: right;\n",
       "    }\n",
       "</style>\n",
       "<table border=\"1\" class=\"dataframe\">\n",
       "  <thead>\n",
       "    <tr style=\"text-align: right;\">\n",
       "      <th></th>\n",
       "      <th>name</th>\n",
       "      <th>link</th>\n",
       "      <th>ratings</th>\n",
       "      <th>n_beers</th>\n",
       "      <th>address</th>\n",
       "      <th>telephone</th>\n",
       "    </tr>\n",
       "  </thead>\n",
       "  <tbody>\n",
       "    <tr>\n",
       "      <th>0</th>\n",
       "      <td>4655 Brewing Company</td>\n",
       "      <td>https://www.beeradvocate.com/beer/profile/41488/</td>\n",
       "      <td>NaN</td>\n",
       "      <td>4</td>\n",
       "      <td>Stüsslingen, 4655\\nSwitzerland</td>\n",
       "      <td></td>\n",
       "    </tr>\n",
       "    <tr>\n",
       "      <th>1</th>\n",
       "      <td>523</td>\n",
       "      <td>https://www.beeradvocate.com/beer/profile/44206/</td>\n",
       "      <td>3.79</td>\n",
       "      <td>2</td>\n",
       "      <td>Sonnenweg 30\\nKöniz, 3098\\nSwitzerland</td>\n",
       "      <td>+41 77 450 7655</td>\n",
       "    </tr>\n",
       "    <tr>\n",
       "      <th>2</th>\n",
       "      <td>7Peaks Brasserie</td>\n",
       "      <td>https://www.beeradvocate.com/beer/profile/39040/</td>\n",
       "      <td>2.72</td>\n",
       "      <td>9</td>\n",
       "      <td>Route de la Patinoire 15a\\nMorgins, 1875\\nSwit...</td>\n",
       "      <td>+41 78 797 1875</td>\n",
       "    </tr>\n",
       "    <tr>\n",
       "      <th>3</th>\n",
       "      <td>À tue-tête</td>\n",
       "      <td>https://www.beeradvocate.com/beer/profile/52843/</td>\n",
       "      <td>4.14</td>\n",
       "      <td>9</td>\n",
       "      <td>Chemin de la Biole 10\\nAigle, 1860\\nSwitzerland</td>\n",
       "      <td>+41 79 235 56 49</td>\n",
       "    </tr>\n",
       "    <tr>\n",
       "      <th>4</th>\n",
       "      <td>Ahoi Bier</td>\n",
       "      <td>https://www.beeradvocate.com/beer/profile/42305/</td>\n",
       "      <td>3.67</td>\n",
       "      <td>4</td>\n",
       "      <td>Schlieren, 8952,Switzerland</td>\n",
       "      <td></td>\n",
       "    </tr>\n",
       "    <tr>\n",
       "      <th>...</th>\n",
       "      <td>...</td>\n",
       "      <td>...</td>\n",
       "      <td>...</td>\n",
       "      <td>...</td>\n",
       "      <td>...</td>\n",
       "      <td>...</td>\n",
       "    </tr>\n",
       "    <tr>\n",
       "      <th>135</th>\n",
       "      <td>Volta Bräu</td>\n",
       "      <td>https://www.beeradvocate.com/beer/profile/39036/</td>\n",
       "      <td>NaN</td>\n",
       "      <td>2</td>\n",
       "      <td>Voltastrasse 30\\nBasel, 4056\\nSwitzerland</td>\n",
       "      <td>+41 61 690 91 29</td>\n",
       "    </tr>\n",
       "    <tr>\n",
       "      <th>136</th>\n",
       "      <td>Wadi-Brau-Huss AG</td>\n",
       "      <td>https://www.beeradvocate.com/beer/profile/9378/</td>\n",
       "      <td>NaN</td>\n",
       "      <td>0</td>\n",
       "      <td>Florhofstrasse 13\\nWadenswill, 8820\\nSwitzerland</td>\n",
       "      <td>01 783 9392</td>\n",
       "    </tr>\n",
       "    <tr>\n",
       "      <th>137</th>\n",
       "      <td>Wartauer Seegal Bräu</td>\n",
       "      <td>https://www.beeradvocate.com/beer/profile/39074/</td>\n",
       "      <td>NaN</td>\n",
       "      <td>8</td>\n",
       "      <td>Hauptstrasse 33/35\\nTrübbach, 9477\\nSwitzerland</td>\n",
       "      <td>+41 78 878 19 52</td>\n",
       "    </tr>\n",
       "    <tr>\n",
       "      <th>138</th>\n",
       "      <td>Weedbeer</td>\n",
       "      <td>https://www.beeradvocate.com/beer/profile/32639/</td>\n",
       "      <td>3.00</td>\n",
       "      <td>1</td>\n",
       "      <td>Chemin de l'Etraz 14\\nOrbe, 1350\\nSwitzerland</td>\n",
       "      <td>+41 21 312 68 21</td>\n",
       "    </tr>\n",
       "    <tr>\n",
       "      <th>139</th>\n",
       "      <td>WhiteFrontier Brewery</td>\n",
       "      <td>https://www.beeradvocate.com/beer/profile/38648/</td>\n",
       "      <td>3.79</td>\n",
       "      <td>10</td>\n",
       "      <td>Route des Creux 1\\nBagnes, 1936\\nSwitzerland</td>\n",
       "      <td>+41 79 939 11 73</td>\n",
       "    </tr>\n",
       "  </tbody>\n",
       "</table>\n",
       "<p>140 rows × 6 columns</p>\n",
       "</div>"
      ],
      "text/plain": [
       "                      name                                              link  \\\n",
       "0     4655 Brewing Company  https://www.beeradvocate.com/beer/profile/41488/   \n",
       "1                      523  https://www.beeradvocate.com/beer/profile/44206/   \n",
       "2         7Peaks Brasserie  https://www.beeradvocate.com/beer/profile/39040/   \n",
       "3               À tue-tête  https://www.beeradvocate.com/beer/profile/52843/   \n",
       "4                Ahoi Bier  https://www.beeradvocate.com/beer/profile/42305/   \n",
       "..                     ...                                               ...   \n",
       "135             Volta Bräu  https://www.beeradvocate.com/beer/profile/39036/   \n",
       "136      Wadi-Brau-Huss AG   https://www.beeradvocate.com/beer/profile/9378/   \n",
       "137   Wartauer Seegal Bräu  https://www.beeradvocate.com/beer/profile/39074/   \n",
       "138               Weedbeer  https://www.beeradvocate.com/beer/profile/32639/   \n",
       "139  WhiteFrontier Brewery  https://www.beeradvocate.com/beer/profile/38648/   \n",
       "\n",
       "     ratings  n_beers                                            address  \\\n",
       "0        NaN        4                     Stüsslingen, 4655\\nSwitzerland   \n",
       "1       3.79        2             Sonnenweg 30\\nKöniz, 3098\\nSwitzerland   \n",
       "2       2.72        9  Route de la Patinoire 15a\\nMorgins, 1875\\nSwit...   \n",
       "3       4.14        9    Chemin de la Biole 10\\nAigle, 1860\\nSwitzerland   \n",
       "4       3.67        4                        Schlieren, 8952,Switzerland   \n",
       "..       ...      ...                                                ...   \n",
       "135      NaN        2          Voltastrasse 30\\nBasel, 4056\\nSwitzerland   \n",
       "136      NaN        0   Florhofstrasse 13\\nWadenswill, 8820\\nSwitzerland   \n",
       "137      NaN        8    Hauptstrasse 33/35\\nTrübbach, 9477\\nSwitzerland   \n",
       "138     3.00        1      Chemin de l'Etraz 14\\nOrbe, 1350\\nSwitzerland   \n",
       "139     3.79       10       Route des Creux 1\\nBagnes, 1936\\nSwitzerland   \n",
       "\n",
       "            telephone  \n",
       "0                      \n",
       "1     +41 77 450 7655  \n",
       "2     +41 78 797 1875  \n",
       "3    +41 79 235 56 49  \n",
       "4                      \n",
       "..                ...  \n",
       "135  +41 61 690 91 29  \n",
       "136       01 783 9392  \n",
       "137  +41 78 878 19 52  \n",
       "138  +41 21 312 68 21  \n",
       "139  +41 79 939 11 73  \n",
       "\n",
       "[140 rows x 6 columns]"
      ]
     },
     "execution_count": 305,
     "metadata": {},
     "output_type": "execute_result"
    }
   ],
   "source": [
    "breweries_ch_df"
   ]
  },
  {
   "cell_type": "markdown",
   "metadata": {},
   "source": [
    "## Data exploration"
   ]
  },
  {
   "cell_type": "code",
   "execution_count": 337,
   "metadata": {},
   "outputs": [
    {
     "data": {
      "text/html": [
       "<div>\n",
       "<style scoped>\n",
       "    .dataframe tbody tr th:only-of-type {\n",
       "        vertical-align: middle;\n",
       "    }\n",
       "\n",
       "    .dataframe tbody tr th {\n",
       "        vertical-align: top;\n",
       "    }\n",
       "\n",
       "    .dataframe thead th {\n",
       "        text-align: right;\n",
       "    }\n",
       "</style>\n",
       "<table border=\"1\" class=\"dataframe\">\n",
       "  <thead>\n",
       "    <tr style=\"text-align: right;\">\n",
       "      <th></th>\n",
       "      <th>name</th>\n",
       "      <th>link</th>\n",
       "      <th>ratings</th>\n",
       "      <th>n_beers</th>\n",
       "      <th>address</th>\n",
       "      <th>telephone</th>\n",
       "    </tr>\n",
       "  </thead>\n",
       "  <tbody>\n",
       "    <tr>\n",
       "      <th>40</th>\n",
       "      <td>Brasserie Trois Dames</td>\n",
       "      <td>https://www.beeradvocate.com/beer/profile/17998/</td>\n",
       "      <td>3.80</td>\n",
       "      <td>39</td>\n",
       "      <td>Rue de France 1\\nSainte-Croix, 1450\\nSwitzerland</td>\n",
       "      <td>+41 24 454 4375</td>\n",
       "    </tr>\n",
       "    <tr>\n",
       "      <th>85</th>\n",
       "      <td>Feldschlösschen Beverages Group</td>\n",
       "      <td>https://www.beeradvocate.com/beer/profile/555/</td>\n",
       "      <td>2.96</td>\n",
       "      <td>28</td>\n",
       "      <td>Theophil-Roniger-Strasse\\nRheinfelden, 4310\\nS...</td>\n",
       "      <td>+41 (0)61 833 48 48</td>\n",
       "    </tr>\n",
       "    <tr>\n",
       "      <th>57</th>\n",
       "      <td>Brauerei Locher AG</td>\n",
       "      <td>https://www.beeradvocate.com/beer/profile/5687/</td>\n",
       "      <td>3.58</td>\n",
       "      <td>24</td>\n",
       "      <td>Brauereiplatz\\nAppenzell, 9050\\nSwitzerland</td>\n",
       "      <td>0041 71 787 13 18</td>\n",
       "    </tr>\n",
       "    <tr>\n",
       "      <th>12</th>\n",
       "      <td>BFM (Brasserie des Franches-Montagnes)</td>\n",
       "      <td>https://www.beeradvocate.com/beer/profile/2958/</td>\n",
       "      <td>4.16</td>\n",
       "      <td>23</td>\n",
       "      <td>Chemin des Buissons 8\\nSaignelégier, 2350\\nSwi...</td>\n",
       "      <td>+41 32 951 26 26</td>\n",
       "    </tr>\n",
       "    <tr>\n",
       "      <th>18</th>\n",
       "      <td>Birrificio Ticinese</td>\n",
       "      <td>https://www.beeradvocate.com/beer/profile/24571/</td>\n",
       "      <td>3.53</td>\n",
       "      <td>15</td>\n",
       "      <td>Via Vite 5\\nStabio, 6855\\nSwitzerland</td>\n",
       "      <td>+41 (0)91 695 41 90</td>\n",
       "    </tr>\n",
       "    <tr>\n",
       "      <th>...</th>\n",
       "      <td>...</td>\n",
       "      <td>...</td>\n",
       "      <td>...</td>\n",
       "      <td>...</td>\n",
       "      <td>...</td>\n",
       "      <td>...</td>\n",
       "    </tr>\n",
       "    <tr>\n",
       "      <th>133</th>\n",
       "      <td>UHB</td>\n",
       "      <td>https://www.beeradvocate.com/beer/profile/47229/</td>\n",
       "      <td>3.50</td>\n",
       "      <td>1</td>\n",
       "      <td>Pestalozzistrasse 70\\nBurgdorf, 3400\\nSwitzerland</td>\n",
       "      <td>+41 079 345 03 20</td>\n",
       "    </tr>\n",
       "    <tr>\n",
       "      <th>61</th>\n",
       "      <td>Brauerei Stadtguet</td>\n",
       "      <td>https://www.beeradvocate.com/beer/profile/21378/</td>\n",
       "      <td>3.99</td>\n",
       "      <td>1</td>\n",
       "      <td>Industriestrasse 35\\nWinterthur, 8404\\nSwitzer...</td>\n",
       "      <td>079 784 96 22</td>\n",
       "    </tr>\n",
       "    <tr>\n",
       "      <th>69</th>\n",
       "      <td>Bun Tschlin</td>\n",
       "      <td>https://www.beeradvocate.com/beer/profile/44230/</td>\n",
       "      <td>3.59</td>\n",
       "      <td>1</td>\n",
       "      <td>Mierta Rainolter\\nTschlin, 7559\\nSwitzerland</td>\n",
       "      <td>41 81 866 31 07</td>\n",
       "    </tr>\n",
       "    <tr>\n",
       "      <th>6</th>\n",
       "      <td>All Bar One</td>\n",
       "      <td>https://www.beeradvocate.com/beer/profile/32419/</td>\n",
       "      <td>3.65</td>\n",
       "      <td>1</td>\n",
       "      <td>Steinenvorstadt 37\\nBasel, 4051\\nSwitzerland</td>\n",
       "      <td>+41 61 281 87 00</td>\n",
       "    </tr>\n",
       "    <tr>\n",
       "      <th>64</th>\n",
       "      <td>Braumanufaktur Schlachthuus</td>\n",
       "      <td>https://www.beeradvocate.com/beer/profile/50016/</td>\n",
       "      <td>3.60</td>\n",
       "      <td>1</td>\n",
       "      <td>Zurcherstrasse 33\\nLufingen, 8426\\nSwitzerland</td>\n",
       "      <td>+41 (44) 500 96 95</td>\n",
       "    </tr>\n",
       "  </tbody>\n",
       "</table>\n",
       "<p>80 rows × 6 columns</p>\n",
       "</div>"
      ],
      "text/plain": [
       "                                       name  \\\n",
       "40                    Brasserie Trois Dames   \n",
       "85          Feldschlösschen Beverages Group   \n",
       "57                       Brauerei Locher AG   \n",
       "12   BFM (Brasserie des Franches-Montagnes)   \n",
       "18                      Birrificio Ticinese   \n",
       "..                                      ...   \n",
       "133                                     UHB   \n",
       "61                       Brauerei Stadtguet   \n",
       "69                              Bun Tschlin   \n",
       "6                               All Bar One   \n",
       "64              Braumanufaktur Schlachthuus   \n",
       "\n",
       "                                                 link  ratings  n_beers  \\\n",
       "40   https://www.beeradvocate.com/beer/profile/17998/     3.80       39   \n",
       "85     https://www.beeradvocate.com/beer/profile/555/     2.96       28   \n",
       "57    https://www.beeradvocate.com/beer/profile/5687/     3.58       24   \n",
       "12    https://www.beeradvocate.com/beer/profile/2958/     4.16       23   \n",
       "18   https://www.beeradvocate.com/beer/profile/24571/     3.53       15   \n",
       "..                                                ...      ...      ...   \n",
       "133  https://www.beeradvocate.com/beer/profile/47229/     3.50        1   \n",
       "61   https://www.beeradvocate.com/beer/profile/21378/     3.99        1   \n",
       "69   https://www.beeradvocate.com/beer/profile/44230/     3.59        1   \n",
       "6    https://www.beeradvocate.com/beer/profile/32419/     3.65        1   \n",
       "64   https://www.beeradvocate.com/beer/profile/50016/     3.60        1   \n",
       "\n",
       "                                               address            telephone  \n",
       "40    Rue de France 1\\nSainte-Croix, 1450\\nSwitzerland      +41 24 454 4375  \n",
       "85   Theophil-Roniger-Strasse\\nRheinfelden, 4310\\nS...  +41 (0)61 833 48 48  \n",
       "57         Brauereiplatz\\nAppenzell, 9050\\nSwitzerland    0041 71 787 13 18  \n",
       "12   Chemin des Buissons 8\\nSaignelégier, 2350\\nSwi...     +41 32 951 26 26  \n",
       "18               Via Vite 5\\nStabio, 6855\\nSwitzerland  +41 (0)91 695 41 90  \n",
       "..                                                 ...                  ...  \n",
       "133  Pestalozzistrasse 70\\nBurgdorf, 3400\\nSwitzerland    +41 079 345 03 20  \n",
       "61   Industriestrasse 35\\nWinterthur, 8404\\nSwitzer...        079 784 96 22  \n",
       "69        Mierta Rainolter\\nTschlin, 7559\\nSwitzerland      41 81 866 31 07  \n",
       "6         Steinenvorstadt 37\\nBasel, 4051\\nSwitzerland     +41 61 281 87 00  \n",
       "64      Zurcherstrasse 33\\nLufingen, 8426\\nSwitzerland   +41 (44) 500 96 95  \n",
       "\n",
       "[80 rows x 6 columns]"
      ]
     },
     "execution_count": 337,
     "metadata": {},
     "output_type": "execute_result"
    }
   ],
   "source": [
    "breweries_ch_df.sort_values('n_beers', ascending=False).dropna()"
   ]
  },
  {
   "cell_type": "markdown",
   "metadata": {},
   "source": [
    "## Find geographical coordinates of breweries"
   ]
  },
  {
   "cell_type": "code",
   "execution_count": 37,
   "metadata": {},
   "outputs": [],
   "source": [
    "from  geopy.geocoders import Nominatim\n",
    "from geopy.extra.rate_limiter import RateLimiter\n",
    "\n",
    "geolocator = Nominatim(user_agent='beer-scraper')\n",
    "geocode = RateLimiter(geolocator.geocode, min_delay_seconds=0.5)\n",
    "\n",
    "def address_to_coordinates(ad):\n",
    "    ad_com = ad.replace('\\n',', ')\n",
    "    loc = geocode(ad_com)\n",
    "    if loc is None:\n",
    "        partial_ad = ', '.join(ad.split('\\n')[1:])\n",
    "        loc = geocode(partial_ad)\n",
    "        if loc is None:\n",
    "            return float('nan'), float('nan')\n",
    "    return loc.latitude, loc.longitude"
   ]
  },
  {
   "cell_type": "code",
   "execution_count": 309,
   "metadata": {},
   "outputs": [
    {
     "data": {
      "text/plain": [
       "'Via Sotto Bisio 3A\\nBalerna, 6828\\nSwitzerland'"
      ]
     },
     "execution_count": 309,
     "metadata": {},
     "output_type": "execute_result"
    }
   ],
   "source": [
    "breweries_ch_df['address'][17]"
   ]
  },
  {
   "cell_type": "code",
   "execution_count": 330,
   "metadata": {},
   "outputs": [
    {
     "name": "stderr",
     "output_type": "stream",
     "text": [
      "/usr/local/lib/python3.7/site-packages/ipykernel_launcher.py:2: DeprecationWarning: Using Nominatim with the default \"geopy/1.20.0\" `user_agent` is strongly discouraged, as it violates Nominatim's ToS https://operations.osmfoundation.org/policies/nominatim/ and may possibly cause 403 and 429 HTTP errors. Please specify a custom `user_agent` with `Nominatim(user_agent=\"my-application\")` or by overriding the default `user_agent`: `geopy.geocoders.options.default_user_agent = \"my-application\"`. In geopy 2.0 this will become an exception.\n",
      "  \n"
     ]
    }
   ],
   "source": [
    "from  geopy.geocoders import Nominatim\n",
    "geolocator = Nominatim()\n",
    "loc = geolocator.geocode(address)\n",
    "#print(\"latitude is :-\" ,loc.latitude,\"\\nlongtitude is:-\" ,loc.longitude)"
   ]
  },
  {
   "cell_type": "code",
   "execution_count": 362,
   "metadata": {},
   "outputs": [],
   "source": [
    "address = breweries_ch_df['address'][50]"
   ]
  },
  {
   "cell_type": "code",
   "execution_count": 329,
   "metadata": {},
   "outputs": [
    {
     "data": {
      "text/plain": [
       "'Obergrundstrasse 110, Luzern, 6002, Switzerland'"
      ]
     },
     "execution_count": 329,
     "metadata": {},
     "output_type": "execute_result"
    }
   ],
   "source": [
    "address"
   ]
  },
  {
   "cell_type": "code",
   "execution_count": 322,
   "metadata": {},
   "outputs": [
    {
     "data": {
      "text/plain": [
       "Location(Birrificio Sottobisio, 3A, Via Sotto Bisio, Bisio, Balerna, Circolo di Balerna, Distretto di Mendrisio, Ticino, 6828, Switzerland, (45.8443345, 9.0078042, 0.0))"
      ]
     },
     "execution_count": 322,
     "metadata": {},
     "output_type": "execute_result"
    }
   ],
   "source": [
    "loc"
   ]
  },
  {
   "cell_type": "code",
   "execution_count": 331,
   "metadata": {},
   "outputs": [
    {
     "data": {
      "text/plain": [
       "(47.04039495, 8.297661748848313)"
      ]
     },
     "execution_count": 331,
     "metadata": {},
     "output_type": "execute_result"
    }
   ],
   "source": [
    "loc.latitude, loc.longitude"
   ]
  },
  {
   "cell_type": "code",
   "execution_count": 35,
   "metadata": {},
   "outputs": [
    {
     "data": {
      "text/plain": [
       "name                         Aktienbrauerei Flims Surselva AG\n",
       "link         https://www.beeradvocate.com/beer/profile/20175/\n",
       "ratings                                                  4.03\n",
       "n_beers                                                     1\n",
       "address           Waldhaus\\nFlims Waldhaus, 7018\\nSwitzerland\n",
       "telephone                                     41 81 928 14 00\n",
       "latitude                                              46.8273\n",
       "longitude                                             9.28622\n",
       "Name: 5, dtype: object"
      ]
     },
     "execution_count": 35,
     "metadata": {},
     "output_type": "execute_result"
    }
   ],
   "source": [
    "breweries_ch_df.loc[5]"
   ]
  },
  {
   "cell_type": "code",
   "execution_count": 34,
   "metadata": {},
   "outputs": [
    {
     "data": {
      "text/plain": [
       "(46.827296700000005, 9.286218266858235)"
      ]
     },
     "execution_count": 34,
     "metadata": {},
     "output_type": "execute_result"
    }
   ],
   "source": [
    "address_to_coordinates(breweries_ch_df['address'][5])"
   ]
  },
  {
   "cell_type": "code",
   "execution_count": 349,
   "metadata": {},
   "outputs": [
    {
     "data": {
      "text/plain": [
       "'Route de la Patinoire 15a, Morgins, 1875, Switzerland'"
      ]
     },
     "execution_count": 349,
     "metadata": {},
     "output_type": "execute_result"
    }
   ],
   "source": [
    "breweries_ch_df['address'][2].replace('\\n', ', ')"
   ]
  },
  {
   "cell_type": "code",
   "execution_count": 38,
   "metadata": {},
   "outputs": [],
   "source": [
    "breweries_ch_df[\"latitude\"], breweries_ch_df[\"longitude\"] = zip(\n",
    "    *breweries_ch_df[\"address\"].map(address_to_coordinates))"
   ]
  },
  {
   "cell_type": "code",
   "execution_count": 358,
   "metadata": {},
   "outputs": [],
   "source": [
    "loc = geolocator.geocode('7Peaks')"
   ]
  },
  {
   "cell_type": "code",
   "execution_count": 360,
   "metadata": {},
   "outputs": [
    {
     "data": {
      "text/plain": [
       "True"
      ]
     },
     "execution_count": 360,
     "metadata": {},
     "output_type": "execute_result"
    }
   ],
   "source": [
    "loc is None"
   ]
  },
  {
   "cell_type": "code",
   "execution_count": 367,
   "metadata": {},
   "outputs": [
    {
     "data": {
      "text/plain": [
       "'Luzern, 6002, Switzerland'"
      ]
     },
     "execution_count": 367,
     "metadata": {},
     "output_type": "execute_result"
    }
   ],
   "source": [
    "', '.join(address.split('\\n')[1:])"
   ]
  },
  {
   "cell_type": "code",
   "execution_count": 30,
   "metadata": {
    "collapsed": true,
    "jupyter": {
     "outputs_hidden": true
    }
   },
   "outputs": [
    {
     "ename": "ConfigurationError",
     "evalue": "OpenMapQuest requires an API key",
     "output_type": "error",
     "traceback": [
      "\u001b[0;31m---------------------------------------------------------------------------\u001b[0m",
      "\u001b[0;31mConfigurationError\u001b[0m                        Traceback (most recent call last)",
      "\u001b[0;32m<ipython-input-30-dd0737a5369b>\u001b[0m in \u001b[0;36m<module>\u001b[0;34m\u001b[0m\n\u001b[1;32m      2\u001b[0m \u001b[0;32mimport\u001b[0m \u001b[0mgeopy\u001b[0m\u001b[0;34m.\u001b[0m\u001b[0mgeocoders\u001b[0m \u001b[0;32mas\u001b[0m \u001b[0mgeocoders\u001b[0m\u001b[0;34m\u001b[0m\u001b[0;34m\u001b[0m\u001b[0m\n\u001b[1;32m      3\u001b[0m \u001b[0;31m#geolocator = Nominatim(user_agent='beer-scraper')\u001b[0m\u001b[0;34m\u001b[0m\u001b[0;34m\u001b[0m\u001b[0;34m\u001b[0m\u001b[0m\n\u001b[0;32m----> 4\u001b[0;31m \u001b[0mgeolocator\u001b[0m \u001b[0;34m=\u001b[0m \u001b[0mgeocoders\u001b[0m\u001b[0;34m.\u001b[0m\u001b[0mOpenMapQuest\u001b[0m\u001b[0;34m(\u001b[0m\u001b[0muser_agent\u001b[0m\u001b[0;34m=\u001b[0m\u001b[0;34m'beer-scraper'\u001b[0m\u001b[0;34m)\u001b[0m\u001b[0;34m\u001b[0m\u001b[0;34m\u001b[0m\u001b[0m\n\u001b[0m\u001b[1;32m      5\u001b[0m \u001b[0;34m\u001b[0m\u001b[0m\n\u001b[1;32m      6\u001b[0m \u001b[0mloc\u001b[0m \u001b[0;34m=\u001b[0m \u001b[0mgeolocator\u001b[0m\u001b[0;34m.\u001b[0m\u001b[0mgeocode\u001b[0m\u001b[0;34m(\u001b[0m\u001b[0;34m'Route de Bas-Vièze 83, 1875 Morgins, Switzerland'\u001b[0m\u001b[0;34m,\u001b[0m \u001b[0mtimeout\u001b[0m\u001b[0;34m=\u001b[0m\u001b[0;36m5\u001b[0m\u001b[0;34m)\u001b[0m\u001b[0;34m\u001b[0m\u001b[0;34m\u001b[0m\u001b[0m\n",
      "\u001b[0;32m/usr/local/lib/python3.7/site-packages/geopy/geocoders/openmapquest.py\u001b[0m in \u001b[0;36m__init__\u001b[0;34m(self, api_key, format_string, view_box, bounded, country_bias, timeout, proxies, domain, scheme, user_agent, ssl_context)\u001b[0m\n\u001b[1;32m    112\u001b[0m         )\n\u001b[1;32m    113\u001b[0m         \u001b[0;32mif\u001b[0m \u001b[0;32mnot\u001b[0m \u001b[0mapi_key\u001b[0m\u001b[0;34m:\u001b[0m\u001b[0;34m\u001b[0m\u001b[0;34m\u001b[0m\u001b[0m\n\u001b[0;32m--> 114\u001b[0;31m             \u001b[0;32mraise\u001b[0m \u001b[0mConfigurationError\u001b[0m\u001b[0;34m(\u001b[0m\u001b[0;34m'OpenMapQuest requires an API key'\u001b[0m\u001b[0;34m)\u001b[0m\u001b[0;34m\u001b[0m\u001b[0;34m\u001b[0m\u001b[0m\n\u001b[0m\u001b[1;32m    115\u001b[0m         \u001b[0mself\u001b[0m\u001b[0;34m.\u001b[0m\u001b[0mapi_key\u001b[0m \u001b[0;34m=\u001b[0m \u001b[0mapi_key\u001b[0m\u001b[0;34m\u001b[0m\u001b[0;34m\u001b[0m\u001b[0m\n\u001b[1;32m    116\u001b[0m \u001b[0;34m\u001b[0m\u001b[0m\n",
      "\u001b[0;31mConfigurationError\u001b[0m: OpenMapQuest requires an API key"
     ]
    }
   ],
   "source": [
    "# Try google maps\n",
    "import geopy.geocoders as geocoders\n",
    "#geolocator = Nominatim(user_agent='beer-scraper')\n",
    "geolocator = geocoders.OpenMapQuest(user_agent='beer-scraper')\n",
    "\n",
    "loc = geolocator.geocode('Route de Bas-Vièze 83, 1875 Morgins, Switzerland', timeout=5)\n",
    "#loc = geolocator.geocode('Morgins, Switzerland', timeout=5)\n",
    "loc"
   ]
  },
  {
   "cell_type": "code",
   "execution_count": 31,
   "metadata": {
    "collapsed": true,
    "jupyter": {
     "outputs_hidden": true
    }
   },
   "outputs": [
    {
     "name": "stderr",
     "output_type": "stream",
     "text": [
      "/usr/local/lib/python3.7/site-packages/ipykernel_launcher.py:2: UserWarning: Since July 2018 Google requires each request to have an API key. Pass a valid `api_key` to GoogleV3 geocoder to hide this warning. See https://developers.google.com/maps/documentation/geocoding/usage-and-billing\n",
      "  \n"
     ]
    },
    {
     "ename": "GeocoderQueryError",
     "evalue": "Your request was denied.",
     "output_type": "error",
     "traceback": [
      "\u001b[0;31m---------------------------------------------------------------------------\u001b[0m",
      "\u001b[0;31mGeocoderQueryError\u001b[0m                        Traceback (most recent call last)",
      "\u001b[0;32m<ipython-input-31-04745dd680d1>\u001b[0m in \u001b[0;36m<module>\u001b[0;34m\u001b[0m\n\u001b[1;32m      1\u001b[0m \u001b[0;32mfrom\u001b[0m \u001b[0mgeopy\u001b[0m\u001b[0;34m.\u001b[0m\u001b[0mgeocoders\u001b[0m \u001b[0;32mimport\u001b[0m \u001b[0mGoogleV3\u001b[0m\u001b[0;34m\u001b[0m\u001b[0;34m\u001b[0m\u001b[0m\n\u001b[1;32m      2\u001b[0m \u001b[0mgeolocator\u001b[0m \u001b[0;34m=\u001b[0m \u001b[0mGoogleV3\u001b[0m\u001b[0;34m(\u001b[0m\u001b[0;34m)\u001b[0m\u001b[0;34m\u001b[0m\u001b[0;34m\u001b[0m\u001b[0m\n\u001b[0;32m----> 3\u001b[0;31m \u001b[0maddress\u001b[0m\u001b[0;34m,\u001b[0m \u001b[0;34m(\u001b[0m\u001b[0mlatitude\u001b[0m\u001b[0;34m,\u001b[0m \u001b[0mlongitude\u001b[0m\u001b[0;34m)\u001b[0m \u001b[0;34m=\u001b[0m \u001b[0mgeolocator\u001b[0m\u001b[0;34m.\u001b[0m\u001b[0mgeocode\u001b[0m\u001b[0;34m(\u001b[0m\u001b[0;34m\"175 5th Avenue NYC\"\u001b[0m\u001b[0;34m)\u001b[0m\u001b[0;34m\u001b[0m\u001b[0;34m\u001b[0m\u001b[0m\n\u001b[0m",
      "\u001b[0;32m/usr/local/lib/python3.7/site-packages/geopy/geocoders/googlev3.py\u001b[0m in \u001b[0;36mgeocode\u001b[0;34m(self, query, exactly_one, timeout, bounds, region, components, place_id, language, sensor)\u001b[0m\n\u001b[1;32m    271\u001b[0m         \u001b[0mlogger\u001b[0m\u001b[0;34m.\u001b[0m\u001b[0mdebug\u001b[0m\u001b[0;34m(\u001b[0m\u001b[0;34m\"%s.geocode: %s\"\u001b[0m\u001b[0;34m,\u001b[0m \u001b[0mself\u001b[0m\u001b[0;34m.\u001b[0m\u001b[0m__class__\u001b[0m\u001b[0;34m.\u001b[0m\u001b[0m__name__\u001b[0m\u001b[0;34m,\u001b[0m \u001b[0murl\u001b[0m\u001b[0;34m)\u001b[0m\u001b[0;34m\u001b[0m\u001b[0;34m\u001b[0m\u001b[0m\n\u001b[1;32m    272\u001b[0m         return self._parse_json(\n\u001b[0;32m--> 273\u001b[0;31m             \u001b[0mself\u001b[0m\u001b[0;34m.\u001b[0m\u001b[0m_call_geocoder\u001b[0m\u001b[0;34m(\u001b[0m\u001b[0murl\u001b[0m\u001b[0;34m,\u001b[0m \u001b[0mtimeout\u001b[0m\u001b[0;34m=\u001b[0m\u001b[0mtimeout\u001b[0m\u001b[0;34m)\u001b[0m\u001b[0;34m,\u001b[0m \u001b[0mexactly_one\u001b[0m\u001b[0;34m\u001b[0m\u001b[0;34m\u001b[0m\u001b[0m\n\u001b[0m\u001b[1;32m    274\u001b[0m         )\n\u001b[1;32m    275\u001b[0m \u001b[0;34m\u001b[0m\u001b[0m\n",
      "\u001b[0;32m/usr/local/lib/python3.7/site-packages/geopy/geocoders/googlev3.py\u001b[0m in \u001b[0;36m_parse_json\u001b[0;34m(self, page, exactly_one)\u001b[0m\n\u001b[1;32m    478\u001b[0m         \u001b[0mplaces\u001b[0m \u001b[0;34m=\u001b[0m \u001b[0mpage\u001b[0m\u001b[0;34m.\u001b[0m\u001b[0mget\u001b[0m\u001b[0;34m(\u001b[0m\u001b[0;34m'results'\u001b[0m\u001b[0;34m,\u001b[0m \u001b[0;34m[\u001b[0m\u001b[0;34m]\u001b[0m\u001b[0;34m)\u001b[0m\u001b[0;34m\u001b[0m\u001b[0;34m\u001b[0m\u001b[0m\n\u001b[1;32m    479\u001b[0m         \u001b[0;32mif\u001b[0m \u001b[0;32mnot\u001b[0m \u001b[0mlen\u001b[0m\u001b[0;34m(\u001b[0m\u001b[0mplaces\u001b[0m\u001b[0;34m)\u001b[0m\u001b[0;34m:\u001b[0m\u001b[0;34m\u001b[0m\u001b[0;34m\u001b[0m\u001b[0m\n\u001b[0;32m--> 480\u001b[0;31m             \u001b[0mself\u001b[0m\u001b[0;34m.\u001b[0m\u001b[0m_check_status\u001b[0m\u001b[0;34m(\u001b[0m\u001b[0mpage\u001b[0m\u001b[0;34m.\u001b[0m\u001b[0mget\u001b[0m\u001b[0;34m(\u001b[0m\u001b[0;34m'status'\u001b[0m\u001b[0;34m)\u001b[0m\u001b[0;34m)\u001b[0m\u001b[0;34m\u001b[0m\u001b[0;34m\u001b[0m\u001b[0m\n\u001b[0m\u001b[1;32m    481\u001b[0m             \u001b[0;32mreturn\u001b[0m \u001b[0;32mNone\u001b[0m\u001b[0;34m\u001b[0m\u001b[0;34m\u001b[0m\u001b[0m\n\u001b[1;32m    482\u001b[0m \u001b[0;34m\u001b[0m\u001b[0m\n",
      "\u001b[0;32m/usr/local/lib/python3.7/site-packages/geopy/geocoders/googlev3.py\u001b[0m in \u001b[0;36m_check_status\u001b[0;34m(status)\u001b[0m\n\u001b[1;32m    509\u001b[0m         \u001b[0;32melif\u001b[0m \u001b[0mstatus\u001b[0m \u001b[0;34m==\u001b[0m \u001b[0;34m'REQUEST_DENIED'\u001b[0m\u001b[0;34m:\u001b[0m\u001b[0;34m\u001b[0m\u001b[0;34m\u001b[0m\u001b[0m\n\u001b[1;32m    510\u001b[0m             raise GeocoderQueryError(\n\u001b[0;32m--> 511\u001b[0;31m                 \u001b[0;34m'Your request was denied.'\u001b[0m\u001b[0;34m\u001b[0m\u001b[0;34m\u001b[0m\u001b[0m\n\u001b[0m\u001b[1;32m    512\u001b[0m             )\n\u001b[1;32m    513\u001b[0m         \u001b[0;32melif\u001b[0m \u001b[0mstatus\u001b[0m \u001b[0;34m==\u001b[0m \u001b[0;34m'INVALID_REQUEST'\u001b[0m\u001b[0;34m:\u001b[0m\u001b[0;34m\u001b[0m\u001b[0;34m\u001b[0m\u001b[0m\n",
      "\u001b[0;31mGeocoderQueryError\u001b[0m: Your request was denied."
     ]
    }
   ],
   "source": [
    "from geopy.geocoders import GoogleV3\n",
    "geolocator = GoogleV3()\n",
    "address, (latitude, longitude) = geolocator.geocode(\"175 5th Avenue NYC\")"
   ]
  },
  {
   "cell_type": "code",
   "execution_count": 62,
   "metadata": {},
   "outputs": [
    {
     "data": {
      "text/html": [
       "<div>\n",
       "<style scoped>\n",
       "    .dataframe tbody tr th:only-of-type {\n",
       "        vertical-align: middle;\n",
       "    }\n",
       "\n",
       "    .dataframe tbody tr th {\n",
       "        vertical-align: top;\n",
       "    }\n",
       "\n",
       "    .dataframe thead th {\n",
       "        text-align: right;\n",
       "    }\n",
       "</style>\n",
       "<table border=\"1\" class=\"dataframe\">\n",
       "  <thead>\n",
       "    <tr style=\"text-align: right;\">\n",
       "      <th></th>\n",
       "      <th>name</th>\n",
       "      <th>link</th>\n",
       "      <th>ratings</th>\n",
       "      <th>n_beers</th>\n",
       "      <th>address</th>\n",
       "      <th>telephone</th>\n",
       "      <th>latitude</th>\n",
       "      <th>longitude</th>\n",
       "    </tr>\n",
       "  </thead>\n",
       "  <tbody>\n",
       "    <tr>\n",
       "      <th>95</th>\n",
       "      <td>Il Fermento</td>\n",
       "      <td>https://www.beeradvocate.com/beer/profile/58104/</td>\n",
       "      <td>NaN</td>\n",
       "      <td>0</td>\n",
       "      <td>Via Marconi 2\\nPalazzi Gargantini\\nLugano, 690...</td>\n",
       "      <td>+41 (0) 91 923 45 45</td>\n",
       "      <td>NaN</td>\n",
       "      <td>NaN</td>\n",
       "    </tr>\n",
       "    <tr>\n",
       "      <th>126</th>\n",
       "      <td>Steinfels</td>\n",
       "      <td>https://www.beeradvocate.com/beer/profile/21242/</td>\n",
       "      <td>3.17</td>\n",
       "      <td>4</td>\n",
       "      <td>Heinrichstrasse 267\\nEcher Wyss Platz\\nZürich,...</td>\n",
       "      <td>41 (0)44 271 10 30</td>\n",
       "      <td>NaN</td>\n",
       "      <td>NaN</td>\n",
       "    </tr>\n",
       "    <tr>\n",
       "      <th>136</th>\n",
       "      <td>Wadi-Brau-Huss AG</td>\n",
       "      <td>https://www.beeradvocate.com/beer/profile/9378/</td>\n",
       "      <td>NaN</td>\n",
       "      <td>0</td>\n",
       "      <td>Florhofstrasse 13\\nWadenswill, 8820\\nSwitzerland</td>\n",
       "      <td>01 783 9392</td>\n",
       "      <td>NaN</td>\n",
       "      <td>NaN</td>\n",
       "    </tr>\n",
       "  </tbody>\n",
       "</table>\n",
       "</div>"
      ],
      "text/plain": [
       "                  name                                              link  \\\n",
       "95         Il Fermento  https://www.beeradvocate.com/beer/profile/58104/   \n",
       "126          Steinfels  https://www.beeradvocate.com/beer/profile/21242/   \n",
       "136  Wadi-Brau-Huss AG   https://www.beeradvocate.com/beer/profile/9378/   \n",
       "\n",
       "     ratings  n_beers                                            address  \\\n",
       "95       NaN        0  Via Marconi 2\\nPalazzi Gargantini\\nLugano, 690...   \n",
       "126     3.17        4  Heinrichstrasse 267\\nEcher Wyss Platz\\nZürich,...   \n",
       "136      NaN        0   Florhofstrasse 13\\nWadenswill, 8820\\nSwitzerland   \n",
       "\n",
       "                telephone  latitude  longitude  \n",
       "95   +41 (0) 91 923 45 45       NaN        NaN  \n",
       "126    41 (0)44 271 10 30       NaN        NaN  \n",
       "136           01 783 9392       NaN        NaN  "
      ]
     },
     "execution_count": 62,
     "metadata": {},
     "output_type": "execute_result"
    }
   ],
   "source": [
    "# Fixing missing coordinates by hand\n",
    "breweries_ch_df[breweries_ch_df['latitude'].isna()]"
   ]
  },
  {
   "cell_type": "code",
   "execution_count": 73,
   "metadata": {},
   "outputs": [
    {
     "data": {
      "text/plain": [
       "'Florhofstrasse 13\\nWadenswill, 8820\\nSwitzerland'"
      ]
     },
     "execution_count": 73,
     "metadata": {},
     "output_type": "execute_result"
    }
   ],
   "source": [
    "breweries_ch_df.loc[136]['address']"
   ]
  },
  {
   "cell_type": "code",
   "execution_count": 78,
   "metadata": {},
   "outputs": [
    {
     "data": {
      "text/plain": [
       "(47.2308218, 8.6695479)"
      ]
     },
     "execution_count": 78,
     "metadata": {},
     "output_type": "execute_result"
    }
   ],
   "source": [
    "loc = address_to_coordinates('Florhofstrasse 9, 8820 Wädenswil')\n",
    "loc"
   ]
  },
  {
   "cell_type": "code",
   "execution_count": 80,
   "metadata": {},
   "outputs": [],
   "source": [
    "ind = 136\n",
    "#breweries_ch_df.loc[ind,'latitude'], breweries_ch_df.loc[ind, 'longitude'] = loc"
   ]
  },
  {
   "cell_type": "code",
   "execution_count": 61,
   "metadata": {},
   "outputs": [
    {
     "data": {
      "text/plain": [
       "name                                            Engadiner Bier\n",
       "link          https://www.beeradvocate.com/beer/profile/44231/\n",
       "ratings                                                   3.59\n",
       "n_beers                                                      3\n",
       "address      Via Da la Staziun 51\\nPostfach 110\\nPontresina...\n",
       "telephone                                     +41 81 842 68 31\n",
       "latitude                                               46.4913\n",
       "longitude                                              9.89583\n",
       "Name: 82, dtype: object"
      ]
     },
     "execution_count": 61,
     "metadata": {},
     "output_type": "execute_result"
    }
   ],
   "source": [
    "breweries_ch_df.loc[ind]"
   ]
  },
  {
   "cell_type": "markdown",
   "metadata": {},
   "source": [
    "## Save pandas DataFrame"
   ]
  },
  {
   "cell_type": "code",
   "execution_count": 83,
   "metadata": {},
   "outputs": [],
   "source": [
    "breweries_ch_df.to_pickle('breweries_ch_pickled')"
   ]
  },
  {
   "cell_type": "code",
   "execution_count": 6,
   "metadata": {},
   "outputs": [],
   "source": [
    "# read pickle\n",
    "\n",
    "breweries_ch_df = pd.read_pickle('breweries_ch_pickled')"
   ]
  },
  {
   "cell_type": "code",
   "execution_count": 85,
   "metadata": {},
   "outputs": [
    {
     "data": {
      "text/html": [
       "<div>\n",
       "<style scoped>\n",
       "    .dataframe tbody tr th:only-of-type {\n",
       "        vertical-align: middle;\n",
       "    }\n",
       "\n",
       "    .dataframe tbody tr th {\n",
       "        vertical-align: top;\n",
       "    }\n",
       "\n",
       "    .dataframe thead th {\n",
       "        text-align: right;\n",
       "    }\n",
       "</style>\n",
       "<table border=\"1\" class=\"dataframe\">\n",
       "  <thead>\n",
       "    <tr style=\"text-align: right;\">\n",
       "      <th></th>\n",
       "      <th>name</th>\n",
       "      <th>link</th>\n",
       "      <th>ratings</th>\n",
       "      <th>n_beers</th>\n",
       "      <th>address</th>\n",
       "      <th>telephone</th>\n",
       "      <th>latitude</th>\n",
       "      <th>longitude</th>\n",
       "    </tr>\n",
       "  </thead>\n",
       "  <tbody>\n",
       "    <tr>\n",
       "      <th>0</th>\n",
       "      <td>4655 Brewing Company</td>\n",
       "      <td>https://www.beeradvocate.com/beer/profile/41488/</td>\n",
       "      <td>NaN</td>\n",
       "      <td>4</td>\n",
       "      <td>Stüsslingen, 4655\\nSwitzerland</td>\n",
       "      <td></td>\n",
       "      <td>47.392886</td>\n",
       "      <td>7.971289</td>\n",
       "    </tr>\n",
       "    <tr>\n",
       "      <th>1</th>\n",
       "      <td>523</td>\n",
       "      <td>https://www.beeradvocate.com/beer/profile/44206/</td>\n",
       "      <td>3.79</td>\n",
       "      <td>2</td>\n",
       "      <td>Sonnenweg 30\\nKöniz, 3098\\nSwitzerland</td>\n",
       "      <td>+41 77 450 7655</td>\n",
       "      <td>46.925468</td>\n",
       "      <td>7.416251</td>\n",
       "    </tr>\n",
       "    <tr>\n",
       "      <th>2</th>\n",
       "      <td>7Peaks Brasserie</td>\n",
       "      <td>https://www.beeradvocate.com/beer/profile/39040/</td>\n",
       "      <td>2.72</td>\n",
       "      <td>9</td>\n",
       "      <td>Route de la Patinoire 15a\\nMorgins, 1875\\nSwit...</td>\n",
       "      <td>+41 78 797 1875</td>\n",
       "      <td>46.237659</td>\n",
       "      <td>6.858102</td>\n",
       "    </tr>\n",
       "    <tr>\n",
       "      <th>3</th>\n",
       "      <td>À tue-tête</td>\n",
       "      <td>https://www.beeradvocate.com/beer/profile/52843/</td>\n",
       "      <td>4.14</td>\n",
       "      <td>9</td>\n",
       "      <td>Chemin de la Biole 10\\nAigle, 1860\\nSwitzerland</td>\n",
       "      <td>+41 79 235 56 49</td>\n",
       "      <td>46.309735</td>\n",
       "      <td>6.944491</td>\n",
       "    </tr>\n",
       "    <tr>\n",
       "      <th>4</th>\n",
       "      <td>Ahoi Bier</td>\n",
       "      <td>https://www.beeradvocate.com/beer/profile/42305/</td>\n",
       "      <td>3.67</td>\n",
       "      <td>4</td>\n",
       "      <td>Schlieren, 8952,Switzerland</td>\n",
       "      <td></td>\n",
       "      <td>47.396515</td>\n",
       "      <td>8.444486</td>\n",
       "    </tr>\n",
       "    <tr>\n",
       "      <th>...</th>\n",
       "      <td>...</td>\n",
       "      <td>...</td>\n",
       "      <td>...</td>\n",
       "      <td>...</td>\n",
       "      <td>...</td>\n",
       "      <td>...</td>\n",
       "      <td>...</td>\n",
       "      <td>...</td>\n",
       "    </tr>\n",
       "    <tr>\n",
       "      <th>135</th>\n",
       "      <td>Volta Bräu</td>\n",
       "      <td>https://www.beeradvocate.com/beer/profile/39036/</td>\n",
       "      <td>NaN</td>\n",
       "      <td>2</td>\n",
       "      <td>Voltastrasse 30\\nBasel, 4056\\nSwitzerland</td>\n",
       "      <td>+41 61 690 91 29</td>\n",
       "      <td>47.570967</td>\n",
       "      <td>7.579546</td>\n",
       "    </tr>\n",
       "    <tr>\n",
       "      <th>136</th>\n",
       "      <td>Wadi-Brau-Huss AG</td>\n",
       "      <td>https://www.beeradvocate.com/beer/profile/9378/</td>\n",
       "      <td>NaN</td>\n",
       "      <td>0</td>\n",
       "      <td>Florhofstrasse 13\\nWadenswill, 8820\\nSwitzerland</td>\n",
       "      <td>01 783 9392</td>\n",
       "      <td>47.230822</td>\n",
       "      <td>8.669548</td>\n",
       "    </tr>\n",
       "    <tr>\n",
       "      <th>137</th>\n",
       "      <td>Wartauer Seegal Bräu</td>\n",
       "      <td>https://www.beeradvocate.com/beer/profile/39074/</td>\n",
       "      <td>NaN</td>\n",
       "      <td>8</td>\n",
       "      <td>Hauptstrasse 33/35\\nTrübbach, 9477\\nSwitzerland</td>\n",
       "      <td>+41 78 878 19 52</td>\n",
       "      <td>47.073017</td>\n",
       "      <td>9.480788</td>\n",
       "    </tr>\n",
       "    <tr>\n",
       "      <th>138</th>\n",
       "      <td>Weedbeer</td>\n",
       "      <td>https://www.beeradvocate.com/beer/profile/32639/</td>\n",
       "      <td>3.00</td>\n",
       "      <td>1</td>\n",
       "      <td>Chemin de l'Etraz 14\\nOrbe, 1350\\nSwitzerland</td>\n",
       "      <td>+41 21 312 68 21</td>\n",
       "      <td>46.720308</td>\n",
       "      <td>6.539114</td>\n",
       "    </tr>\n",
       "    <tr>\n",
       "      <th>139</th>\n",
       "      <td>WhiteFrontier Brewery</td>\n",
       "      <td>https://www.beeradvocate.com/beer/profile/38648/</td>\n",
       "      <td>3.79</td>\n",
       "      <td>10</td>\n",
       "      <td>Route des Creux 1\\nBagnes, 1936\\nSwitzerland</td>\n",
       "      <td>+41 79 939 11 73</td>\n",
       "      <td>46.096372</td>\n",
       "      <td>7.229051</td>\n",
       "    </tr>\n",
       "  </tbody>\n",
       "</table>\n",
       "<p>140 rows × 8 columns</p>\n",
       "</div>"
      ],
      "text/plain": [
       "                      name                                              link  \\\n",
       "0     4655 Brewing Company  https://www.beeradvocate.com/beer/profile/41488/   \n",
       "1                      523  https://www.beeradvocate.com/beer/profile/44206/   \n",
       "2         7Peaks Brasserie  https://www.beeradvocate.com/beer/profile/39040/   \n",
       "3               À tue-tête  https://www.beeradvocate.com/beer/profile/52843/   \n",
       "4                Ahoi Bier  https://www.beeradvocate.com/beer/profile/42305/   \n",
       "..                     ...                                               ...   \n",
       "135             Volta Bräu  https://www.beeradvocate.com/beer/profile/39036/   \n",
       "136      Wadi-Brau-Huss AG   https://www.beeradvocate.com/beer/profile/9378/   \n",
       "137   Wartauer Seegal Bräu  https://www.beeradvocate.com/beer/profile/39074/   \n",
       "138               Weedbeer  https://www.beeradvocate.com/beer/profile/32639/   \n",
       "139  WhiteFrontier Brewery  https://www.beeradvocate.com/beer/profile/38648/   \n",
       "\n",
       "     ratings  n_beers                                            address  \\\n",
       "0        NaN        4                     Stüsslingen, 4655\\nSwitzerland   \n",
       "1       3.79        2             Sonnenweg 30\\nKöniz, 3098\\nSwitzerland   \n",
       "2       2.72        9  Route de la Patinoire 15a\\nMorgins, 1875\\nSwit...   \n",
       "3       4.14        9    Chemin de la Biole 10\\nAigle, 1860\\nSwitzerland   \n",
       "4       3.67        4                        Schlieren, 8952,Switzerland   \n",
       "..       ...      ...                                                ...   \n",
       "135      NaN        2          Voltastrasse 30\\nBasel, 4056\\nSwitzerland   \n",
       "136      NaN        0   Florhofstrasse 13\\nWadenswill, 8820\\nSwitzerland   \n",
       "137      NaN        8    Hauptstrasse 33/35\\nTrübbach, 9477\\nSwitzerland   \n",
       "138     3.00        1      Chemin de l'Etraz 14\\nOrbe, 1350\\nSwitzerland   \n",
       "139     3.79       10       Route des Creux 1\\nBagnes, 1936\\nSwitzerland   \n",
       "\n",
       "            telephone   latitude  longitude  \n",
       "0                      47.392886   7.971289  \n",
       "1     +41 77 450 7655  46.925468   7.416251  \n",
       "2     +41 78 797 1875  46.237659   6.858102  \n",
       "3    +41 79 235 56 49  46.309735   6.944491  \n",
       "4                      47.396515   8.444486  \n",
       "..                ...        ...        ...  \n",
       "135  +41 61 690 91 29  47.570967   7.579546  \n",
       "136       01 783 9392  47.230822   8.669548  \n",
       "137  +41 78 878 19 52  47.073017   9.480788  \n",
       "138  +41 21 312 68 21  46.720308   6.539114  \n",
       "139  +41 79 939 11 73  46.096372   7.229051  \n",
       "\n",
       "[140 rows x 8 columns]"
      ]
     },
     "execution_count": 85,
     "metadata": {},
     "output_type": "execute_result"
    }
   ],
   "source": [
    "breweries_ch_df"
   ]
  },
  {
   "cell_type": "markdown",
   "metadata": {},
   "source": [
    "## Bubble map"
   ]
  },
  {
   "cell_type": "code",
   "execution_count": 36,
   "metadata": {},
   "outputs": [
    {
     "data": {
      "application/vnd.plotly.v1+json": {
       "config": {
        "plotlyServerURL": "https://plot.ly"
       },
       "data": [
        {
         "lat": [
          47.3928859,
          46.92546765,
          47.0505452,
          46.3097353,
          47.3965147,
          46.827296700000005,
          47.5529107,
          46.9475089,
          47.1808794,
          46.9586736,
          47.4249895,
          47.64024295,
          47.2542489,
          47.2277611,
          47.0505452,
          47.1941912,
          47.0505452,
          45.8443345,
          45.8420843,
          47.5397037,
          47.04682095,
          47.0505452,
          46.6235829,
          46.2039435,
          47.159653750000004,
          46.3840139,
          46.531071100000005,
          46.3857754,
          46.1356737,
          46.6537189,
          46.2422988,
          46.5389783,
          46.5639988,
          46.52472175,
          46.4658662,
          46.158053949999996,
          46.4557557,
          46.804000900000005,
          47.0505452,
          46.524109,
          46.8224812,
          46.990699199999995,
          47.567703,
          47.041590049999996,
          47.0505452,
          47.0453404,
          47.0505452,
          47.0505452,
          47.5726876,
          47.0505452,
          47.04039495,
          47.3427304,
          47.710864,
          46.97249495,
          47.5593624,
          47.4770882,
          47.37283725,
          47.3308829,
          47.47830225,
          47.0505452,
          47.0505452,
          47.4963642,
          47.55846,
          46.9401598,
          47.4898977,
          47.413127700000004,
          47.345104,
          47.0505452,
          47.4109231,
          47.0505452,
          46.85027035,
          47.05817895,
          47.0505452,
          46.2024942,
          45.8462957,
          46.5218269,
          47.50798985,
          47.364879900000005,
          47.4971903,
          47.349502,
          47.0505452,
          46.9294631,
          47.0505452,
          46.8247544,
          47.10052615,
          47.5462534,
          47.5171141,
          46.69199915,
          46.8460547,
          46.8568419,
          46.736729100000005,
          46.8475055,
          47.4000753,
          47.0505452,
          47.50050875,
          47.0505452,
          46.75894935,
          47.5529107,
          47.4792076,
          47.045563,
          46.1844492,
          47.0505452,
          46.810727,
          46.253542,
          47.0497783,
          47.0505452,
          46.5205691,
          46.2096971,
          47.0505452,
          47.0505452,
          45.8421175,
          47.232595950000004,
          47.0505452,
          47.211795,
          47.4852042,
          47.0505452,
          47.3438469,
          47.16779905,
          47.05190465,
          47.4536102,
          46.670748700000004,
          47.0505452,
          46.5468623,
          47.1573506,
          47.1193417,
          47.3983878,
          47.0505452,
          47.4433633,
          47.37068775,
          47.0505452,
          47.0505452,
          47.4174158,
          47.3841009,
          47.058681500000006,
          47.5423932,
          47.5709666,
          47.0505452,
          47.0730171,
          46.720308450000005,
          46.0963723
         ],
         "lon": [
          7.9712891,
          7.416250898828126,
          8.3054682,
          6.9444914,
          8.4444861,
          9.286218266858235,
          7.5888052,
          7.4596534,
          8.5740163,
          7.4542469,
          7.6975165,
          8.597737101211761,
          7.0025048,
          8.8272217,
          8.3054682,
          7.138370216348417,
          8.3054682,
          9.0078042,
          8.9234459,
          7.6008817,
          7.619786746225149,
          8.3054682,
          6.792362,
          6.122386,
          7.21472302192322,
          6.2180429,
          6.635230756773302,
          6.2168053,
          7.6257865,
          6.5060523,
          6.2448953,
          6.7059247,
          6.6035195,
          6.634587721216966,
          6.8412788,
          6.1243330977719115,
          6.336827389919694,
          7.167031939132739,
          8.3054682,
          6.6334435,
          6.500209292813783,
          7.45386595,
          7.5918269,
          7.255671358272728,
          8.3054682,
          8.315543655539143,
          8.3054682,
          8.3054682,
          7.5951942,
          8.3054682,
          8.297661748848313,
          8.2463459,
          8.6448942,
          7.440283557382271,
          7.5931568,
          8.3058758,
          7.99980281013403,
          9.4123243,
          9.481672555174615,
          8.3054682,
          8.3054682,
          8.7494497,
          8.9006739,
          7.4399166,
          8.5944765,
          8.96897555,
          8.720895207186855,
          8.3054682,
          8.2374844,
          8.3054682,
          9.516085342672863,
          7.630061993913195,
          8.3054682,
          6.1308013,
          9.0197581,
          6.6327025,
          8.51156626890732,
          7.910691485786558,
          8.7598926,
          7.9088633,
          8.3054682,
          7.565562807528156,
          8.3054682,
          8.403261,
          8.280261307107727,
          7.791998,
          9.429901078105274,
          7.874505951973905,
          9.5086891,
          9.5134547,
          7.615471379820717,
          9.525777,
          8.5321851,
          8.3054682,
          9.39552325,
          8.3054682,
          8.055866637462643,
          7.5888052,
          9.4853156,
          8.28967790547522,
          6.1302415,
          8.3054682,
          7.1488504,
          6.9572985,
          7.0392209,
          8.3054682,
          6.632534,
          6.1427997,
          8.3054682,
          8.3054682,
          8.9802304,
          7.5046996061269695,
          8.3054682,
          7.5257211,
          8.2076652,
          8.3054682,
          8.1140873,
          8.10194536288874,
          8.306424227129524,
          8.965423080180447,
          7.854752966921897,
          8.3054682,
          7.8940031,
          9.4757746,
          9.4843483,
          9.5822562,
          8.3054682,
          8.7290562,
          8.770814104470404,
          8.3054682,
          8.3054682,
          8.3999251,
          8.4964028,
          7.615820350000003,
          7.599492,
          7.5795463,
          8.3054682,
          9.4807881,
          6.539113544977548,
          7.2290514
         ],
         "marker": {
          "color": [
           4,
           2,
           9,
           9,
           4,
           1,
           1,
           3,
           0,
           0,
           1,
           0,
           23,
           13,
           0,
           0,
           6,
           10,
           15,
           0,
           2,
           0,
           5,
           4,
           8,
           0,
           0,
           1,
           1,
           3,
           5,
           8,
           4,
           1,
           2,
           0,
           0,
           2,
           3,
           9,
           39,
           0,
           5,
           1,
           0,
           0,
           2,
           2,
           0,
           6,
           6,
           3,
           6,
           7,
           6,
           4,
           0,
           24,
           0,
           4,
           7,
           1,
           4,
           0,
           1,
           3,
           0,
           0,
           0,
           1,
           0,
           4,
           3,
           2,
           1,
           4,
           8,
           1,
           13,
           3,
           0,
           0,
           3,
           1,
           1,
           28,
           0,
           2,
           0,
           4,
           0,
           10,
           0,
           10,
           0,
           0,
           1,
           2,
           3,
           0,
           0,
           0,
           1,
           0,
           1,
           5,
           0,
           8,
           1,
           3,
           1,
           4,
           1,
           2,
           2,
           0,
           0,
           1,
           5,
           0,
           5,
           0,
           0,
           4,
           0,
           3,
           4,
           8,
           7,
           7,
           0,
           5,
           8,
           1,
           5,
           2,
           0,
           8,
           1,
           10
          ]
         },
         "mode": "markers",
         "text": [
          "4655 Brewing Company",
          "523",
          "7Peaks Brasserie",
          "À tue-tête",
          "Ahoi Bier",
          "Aktienbrauerei Flims Surselva AG",
          "All Bar One",
          "Altes Tramdepot",
          "Bachweg Brewing",
          "Barbière",
          "Baselbieter Brauerei",
          "Benedix Klosterbräu",
          "BFM (Brasserie des Franches-Montagnes)",
          "Bier Factory Rapperswil AG",
          "Bière Buse",
          "Bières&Co Brewery",
          "Birra San Rocco",
          "Birrificio Sottobisio",
          "Birrificio Ticinese",
          "Bîrtel",
          "Blackwell Brewery",
          "Brasserie Artisanale Broyarde",
          "Brasserie Artisanale Du Jorat",
          "Brasserie Artisanale Glouglou",
          "Brasserie BLZ",
          "Brasserie Cap'taine Mousse SA",
          "Brasserie de l'Improbable",
          "Brasserie De La Cote",
          "Brasserie des 5 Quatre Mille",
          "Brasserie des Condémines",
          "Brasserie Des Murailles",
          "Brasserie Docteur Gab’s",
          "Brasserie du Boxer SA",
          "Brasserie Du Chateau",
          "Brasserie du Haut-Lac",
          "Brasserie Du Virage",
          "Brasserie FMR",
          "Brasserie Fri-Mousse",
          "Brasserie Haldemann",
          "Brasserie Les Fleurs du Malt",
          "Brasserie Trois Dames",
          "Braubar",
          "Braubude Basel",
          "Brauerei Aare Bier",
          "Brauerei Adler AG",
          "Brauerei AG Luzern",
          "Brauerei Albert Egger AG",
          "Brauerei Baar AG",
          "Brauerei Basiliske Bier",
          "Brauerei BierVision Monstein AG",
          "Brauerei Eichhof",
          "Brauerei Erusbacher & Paul AG",
          "Brauerei Falken AG",
          "Brauerei Felsenau AG",
          "Brauerei Fischerstube AG",
          "Brauerei H. Müller AG",
          "Brauerei Karbacher",
          "Brauerei Locher AG",
          "Brauerei Löwengarten",
          "Brauerei Rosengarten AG",
          "Brauerei Schützengarten AG",
          "Brauerei Stadtguet",
          "Brauhaus Sternen AG",
          "Braui-Lade Bäre-Bräu",
          "Braumanufaktur Schlachthuus",
          "Braurei Kloster Fischingen AG",
          "Braurei Uster Braukultur",
          "Brigitte Und Markus Reutimann",
          "Büchler Bier",
          "Bun Tschlin",
          "Bündner Bier",
          "Burgdorfer Gasthausbrauerei",
          "Cayon's Brewing",
          "Chien Bleu",
          "Cormano Vini",
          "CôteWest Brewing",
          "Culina-Bräu",
          "Degenbier",
          "Doppelleu Brauwerkstatt",
          "Drei Tannen Bier",
          "Echec et Malt",
          "Egger",
          "Engadiner Bier",
          "Engelberger Klosterbräu",
          "Eurobräu GmbH",
          "Feldschlösschen Beverages Group",
          "Frohsinn Gasthof Brauerei Hotel",
          "Haarige Kuh Brauerei",
          "Haldengut",
          "Hausbrauerei Stadtbier Chur",
          "Heimbrauerei Patrik Feller",
          "Heineken Switzerland AG",
          "Hirnibräu",
          "Hoppy People",
          "Huus-Braui",
          "Il Fermento",
          "JungfrauBräu AG",
          "Kitchen Brew",
          "Kornhausbräu",
          "Krügel BIER",
          "L'Apaisée",
          "La Brasse-Mortier",
          "La Brasserie du Chauve",
          "La Brasserie du Griffon",
          "La Brasserie du Manoir",
          "La Nébuleuse",
          "Les Brasseurs",
          "Les Brasseurs",
          "Les Faiseurs De Biere",
          "Lord Nelson Pub (Brasserie Du Molard)",
          "Microbirrificio Artigianale MóMò",
          "Oberdörfer Chäuerbräu",
          "Original Ittinger Klosterbräu",
          "Öufi Brauerei",
          "Patschiifig Bräu",
          "Pfauenbier GmbH",
          "Rabenbrau",
          "Ramseier Suisse AG",
          "Rathaus Brauerei",
          "Riethöfler",
          "Rugenbräu AG",
          "Scherlibräu",
          "Schwarz Mönch",
          "Sennbräu",
          "Sevibräu",
          "Sonnenbräu AG",
          "Steinfels",
          "Storm & Anchor Brewing Company",
          "Sudwerk",
          "Sunnegg Brau Haus",
          "Terra Matta",
          "The Darkwolf Brewery AG",
          "Turbinenbräu",
          "UHB",
          "Unser Bier",
          "Volta Bräu",
          "Wadi-Brau-Huss AG",
          "Wartauer Seegal Bräu",
          "Weedbeer",
          "WhiteFrontier Brewery"
         ],
         "type": "scattergeo"
        }
       ],
       "layout": {
        "autosize": true,
        "geo": {
         "center": {
          "lat": 47.164534181481315,
          "lon": 7.579386280399836
         },
         "landcolor": "rgb(217, 217, 217)",
         "projection": {
          "scale": 64.53455711325444
         },
         "scope": "europe"
        },
        "showlegend": true,
        "template": {
         "data": {
          "bar": [
           {
            "error_x": {
             "color": "#2a3f5f"
            },
            "error_y": {
             "color": "#2a3f5f"
            },
            "marker": {
             "line": {
              "color": "#E5ECF6",
              "width": 0.5
             }
            },
            "type": "bar"
           }
          ],
          "barpolar": [
           {
            "marker": {
             "line": {
              "color": "#E5ECF6",
              "width": 0.5
             }
            },
            "type": "barpolar"
           }
          ],
          "carpet": [
           {
            "aaxis": {
             "endlinecolor": "#2a3f5f",
             "gridcolor": "white",
             "linecolor": "white",
             "minorgridcolor": "white",
             "startlinecolor": "#2a3f5f"
            },
            "baxis": {
             "endlinecolor": "#2a3f5f",
             "gridcolor": "white",
             "linecolor": "white",
             "minorgridcolor": "white",
             "startlinecolor": "#2a3f5f"
            },
            "type": "carpet"
           }
          ],
          "choropleth": [
           {
            "colorbar": {
             "outlinewidth": 0,
             "ticks": ""
            },
            "type": "choropleth"
           }
          ],
          "contour": [
           {
            "colorbar": {
             "outlinewidth": 0,
             "ticks": ""
            },
            "colorscale": [
             [
              0,
              "#0d0887"
             ],
             [
              0.1111111111111111,
              "#46039f"
             ],
             [
              0.2222222222222222,
              "#7201a8"
             ],
             [
              0.3333333333333333,
              "#9c179e"
             ],
             [
              0.4444444444444444,
              "#bd3786"
             ],
             [
              0.5555555555555556,
              "#d8576b"
             ],
             [
              0.6666666666666666,
              "#ed7953"
             ],
             [
              0.7777777777777778,
              "#fb9f3a"
             ],
             [
              0.8888888888888888,
              "#fdca26"
             ],
             [
              1,
              "#f0f921"
             ]
            ],
            "type": "contour"
           }
          ],
          "contourcarpet": [
           {
            "colorbar": {
             "outlinewidth": 0,
             "ticks": ""
            },
            "type": "contourcarpet"
           }
          ],
          "heatmap": [
           {
            "colorbar": {
             "outlinewidth": 0,
             "ticks": ""
            },
            "colorscale": [
             [
              0,
              "#0d0887"
             ],
             [
              0.1111111111111111,
              "#46039f"
             ],
             [
              0.2222222222222222,
              "#7201a8"
             ],
             [
              0.3333333333333333,
              "#9c179e"
             ],
             [
              0.4444444444444444,
              "#bd3786"
             ],
             [
              0.5555555555555556,
              "#d8576b"
             ],
             [
              0.6666666666666666,
              "#ed7953"
             ],
             [
              0.7777777777777778,
              "#fb9f3a"
             ],
             [
              0.8888888888888888,
              "#fdca26"
             ],
             [
              1,
              "#f0f921"
             ]
            ],
            "type": "heatmap"
           }
          ],
          "heatmapgl": [
           {
            "colorbar": {
             "outlinewidth": 0,
             "ticks": ""
            },
            "colorscale": [
             [
              0,
              "#0d0887"
             ],
             [
              0.1111111111111111,
              "#46039f"
             ],
             [
              0.2222222222222222,
              "#7201a8"
             ],
             [
              0.3333333333333333,
              "#9c179e"
             ],
             [
              0.4444444444444444,
              "#bd3786"
             ],
             [
              0.5555555555555556,
              "#d8576b"
             ],
             [
              0.6666666666666666,
              "#ed7953"
             ],
             [
              0.7777777777777778,
              "#fb9f3a"
             ],
             [
              0.8888888888888888,
              "#fdca26"
             ],
             [
              1,
              "#f0f921"
             ]
            ],
            "type": "heatmapgl"
           }
          ],
          "histogram": [
           {
            "marker": {
             "colorbar": {
              "outlinewidth": 0,
              "ticks": ""
             }
            },
            "type": "histogram"
           }
          ],
          "histogram2d": [
           {
            "colorbar": {
             "outlinewidth": 0,
             "ticks": ""
            },
            "colorscale": [
             [
              0,
              "#0d0887"
             ],
             [
              0.1111111111111111,
              "#46039f"
             ],
             [
              0.2222222222222222,
              "#7201a8"
             ],
             [
              0.3333333333333333,
              "#9c179e"
             ],
             [
              0.4444444444444444,
              "#bd3786"
             ],
             [
              0.5555555555555556,
              "#d8576b"
             ],
             [
              0.6666666666666666,
              "#ed7953"
             ],
             [
              0.7777777777777778,
              "#fb9f3a"
             ],
             [
              0.8888888888888888,
              "#fdca26"
             ],
             [
              1,
              "#f0f921"
             ]
            ],
            "type": "histogram2d"
           }
          ],
          "histogram2dcontour": [
           {
            "colorbar": {
             "outlinewidth": 0,
             "ticks": ""
            },
            "colorscale": [
             [
              0,
              "#0d0887"
             ],
             [
              0.1111111111111111,
              "#46039f"
             ],
             [
              0.2222222222222222,
              "#7201a8"
             ],
             [
              0.3333333333333333,
              "#9c179e"
             ],
             [
              0.4444444444444444,
              "#bd3786"
             ],
             [
              0.5555555555555556,
              "#d8576b"
             ],
             [
              0.6666666666666666,
              "#ed7953"
             ],
             [
              0.7777777777777778,
              "#fb9f3a"
             ],
             [
              0.8888888888888888,
              "#fdca26"
             ],
             [
              1,
              "#f0f921"
             ]
            ],
            "type": "histogram2dcontour"
           }
          ],
          "mesh3d": [
           {
            "colorbar": {
             "outlinewidth": 0,
             "ticks": ""
            },
            "type": "mesh3d"
           }
          ],
          "parcoords": [
           {
            "line": {
             "colorbar": {
              "outlinewidth": 0,
              "ticks": ""
             }
            },
            "type": "parcoords"
           }
          ],
          "pie": [
           {
            "automargin": true,
            "type": "pie"
           }
          ],
          "scatter": [
           {
            "marker": {
             "colorbar": {
              "outlinewidth": 0,
              "ticks": ""
             }
            },
            "type": "scatter"
           }
          ],
          "scatter3d": [
           {
            "line": {
             "colorbar": {
              "outlinewidth": 0,
              "ticks": ""
             }
            },
            "marker": {
             "colorbar": {
              "outlinewidth": 0,
              "ticks": ""
             }
            },
            "type": "scatter3d"
           }
          ],
          "scattercarpet": [
           {
            "marker": {
             "colorbar": {
              "outlinewidth": 0,
              "ticks": ""
             }
            },
            "type": "scattercarpet"
           }
          ],
          "scattergeo": [
           {
            "marker": {
             "colorbar": {
              "outlinewidth": 0,
              "ticks": ""
             }
            },
            "type": "scattergeo"
           }
          ],
          "scattergl": [
           {
            "marker": {
             "colorbar": {
              "outlinewidth": 0,
              "ticks": ""
             }
            },
            "type": "scattergl"
           }
          ],
          "scattermapbox": [
           {
            "marker": {
             "colorbar": {
              "outlinewidth": 0,
              "ticks": ""
             }
            },
            "type": "scattermapbox"
           }
          ],
          "scatterpolar": [
           {
            "marker": {
             "colorbar": {
              "outlinewidth": 0,
              "ticks": ""
             }
            },
            "type": "scatterpolar"
           }
          ],
          "scatterpolargl": [
           {
            "marker": {
             "colorbar": {
              "outlinewidth": 0,
              "ticks": ""
             }
            },
            "type": "scatterpolargl"
           }
          ],
          "scatterternary": [
           {
            "marker": {
             "colorbar": {
              "outlinewidth": 0,
              "ticks": ""
             }
            },
            "type": "scatterternary"
           }
          ],
          "surface": [
           {
            "colorbar": {
             "outlinewidth": 0,
             "ticks": ""
            },
            "colorscale": [
             [
              0,
              "#0d0887"
             ],
             [
              0.1111111111111111,
              "#46039f"
             ],
             [
              0.2222222222222222,
              "#7201a8"
             ],
             [
              0.3333333333333333,
              "#9c179e"
             ],
             [
              0.4444444444444444,
              "#bd3786"
             ],
             [
              0.5555555555555556,
              "#d8576b"
             ],
             [
              0.6666666666666666,
              "#ed7953"
             ],
             [
              0.7777777777777778,
              "#fb9f3a"
             ],
             [
              0.8888888888888888,
              "#fdca26"
             ],
             [
              1,
              "#f0f921"
             ]
            ],
            "type": "surface"
           }
          ],
          "table": [
           {
            "cells": {
             "fill": {
              "color": "#EBF0F8"
             },
             "line": {
              "color": "white"
             }
            },
            "header": {
             "fill": {
              "color": "#C8D4E3"
             },
             "line": {
              "color": "white"
             }
            },
            "type": "table"
           }
          ]
         },
         "layout": {
          "annotationdefaults": {
           "arrowcolor": "#2a3f5f",
           "arrowhead": 0,
           "arrowwidth": 1
          },
          "coloraxis": {
           "colorbar": {
            "outlinewidth": 0,
            "ticks": ""
           }
          },
          "colorscale": {
           "diverging": [
            [
             0,
             "#8e0152"
            ],
            [
             0.1,
             "#c51b7d"
            ],
            [
             0.2,
             "#de77ae"
            ],
            [
             0.3,
             "#f1b6da"
            ],
            [
             0.4,
             "#fde0ef"
            ],
            [
             0.5,
             "#f7f7f7"
            ],
            [
             0.6,
             "#e6f5d0"
            ],
            [
             0.7,
             "#b8e186"
            ],
            [
             0.8,
             "#7fbc41"
            ],
            [
             0.9,
             "#4d9221"
            ],
            [
             1,
             "#276419"
            ]
           ],
           "sequential": [
            [
             0,
             "#0d0887"
            ],
            [
             0.1111111111111111,
             "#46039f"
            ],
            [
             0.2222222222222222,
             "#7201a8"
            ],
            [
             0.3333333333333333,
             "#9c179e"
            ],
            [
             0.4444444444444444,
             "#bd3786"
            ],
            [
             0.5555555555555556,
             "#d8576b"
            ],
            [
             0.6666666666666666,
             "#ed7953"
            ],
            [
             0.7777777777777778,
             "#fb9f3a"
            ],
            [
             0.8888888888888888,
             "#fdca26"
            ],
            [
             1,
             "#f0f921"
            ]
           ],
           "sequentialminus": [
            [
             0,
             "#0d0887"
            ],
            [
             0.1111111111111111,
             "#46039f"
            ],
            [
             0.2222222222222222,
             "#7201a8"
            ],
            [
             0.3333333333333333,
             "#9c179e"
            ],
            [
             0.4444444444444444,
             "#bd3786"
            ],
            [
             0.5555555555555556,
             "#d8576b"
            ],
            [
             0.6666666666666666,
             "#ed7953"
            ],
            [
             0.7777777777777778,
             "#fb9f3a"
            ],
            [
             0.8888888888888888,
             "#fdca26"
            ],
            [
             1,
             "#f0f921"
            ]
           ]
          },
          "colorway": [
           "#636efa",
           "#EF553B",
           "#00cc96",
           "#ab63fa",
           "#FFA15A",
           "#19d3f3",
           "#FF6692",
           "#B6E880",
           "#FF97FF",
           "#FECB52"
          ],
          "font": {
           "color": "#2a3f5f"
          },
          "geo": {
           "bgcolor": "white",
           "lakecolor": "white",
           "landcolor": "#E5ECF6",
           "showlakes": true,
           "showland": true,
           "subunitcolor": "white"
          },
          "hoverlabel": {
           "align": "left"
          },
          "hovermode": "closest",
          "mapbox": {
           "style": "light"
          },
          "paper_bgcolor": "white",
          "plot_bgcolor": "#E5ECF6",
          "polar": {
           "angularaxis": {
            "gridcolor": "white",
            "linecolor": "white",
            "ticks": ""
           },
           "bgcolor": "#E5ECF6",
           "radialaxis": {
            "gridcolor": "white",
            "linecolor": "white",
            "ticks": ""
           }
          },
          "scene": {
           "xaxis": {
            "backgroundcolor": "#E5ECF6",
            "gridcolor": "white",
            "gridwidth": 2,
            "linecolor": "white",
            "showbackground": true,
            "ticks": "",
            "zerolinecolor": "white"
           },
           "yaxis": {
            "backgroundcolor": "#E5ECF6",
            "gridcolor": "white",
            "gridwidth": 2,
            "linecolor": "white",
            "showbackground": true,
            "ticks": "",
            "zerolinecolor": "white"
           },
           "zaxis": {
            "backgroundcolor": "#E5ECF6",
            "gridcolor": "white",
            "gridwidth": 2,
            "linecolor": "white",
            "showbackground": true,
            "ticks": "",
            "zerolinecolor": "white"
           }
          },
          "shapedefaults": {
           "line": {
            "color": "#2a3f5f"
           }
          },
          "ternary": {
           "aaxis": {
            "gridcolor": "white",
            "linecolor": "white",
            "ticks": ""
           },
           "baxis": {
            "gridcolor": "white",
            "linecolor": "white",
            "ticks": ""
           },
           "bgcolor": "#E5ECF6",
           "caxis": {
            "gridcolor": "white",
            "linecolor": "white",
            "ticks": ""
           }
          },
          "title": {
           "x": 0.05
          },
          "xaxis": {
           "automargin": true,
           "gridcolor": "white",
           "linecolor": "white",
           "ticks": "",
           "title": {
            "standoff": 15
           },
           "zerolinecolor": "white",
           "zerolinewidth": 2
          },
          "yaxis": {
           "automargin": true,
           "gridcolor": "white",
           "linecolor": "white",
           "ticks": "",
           "title": {
            "standoff": 15
           },
           "zerolinecolor": "white",
           "zerolinewidth": 2
          }
         }
        },
        "title": {
         "text": "Breweries of Switzerland"
        }
       }
      },
      "image/png": "[encoded data removed]",
      "text/html": [
       "<div>\n",
       "        \n",
       "        \n",
       "            <div id=\"6040272f-031a-491f-8ae1-3971f94a3dcf\" class=\"plotly-graph-div\" style=\"height:525px; width:100%;\"></div>\n",
       "            <script type=\"text/javascript\">\n",
       "                require([\"plotly\"], function(Plotly) {\n",
       "                    window.PLOTLYENV=window.PLOTLYENV || {};\n",
       "                    \n",
       "                if (document.getElementById(\"6040272f-031a-491f-8ae1-3971f94a3dcf\")) {\n",
       "                    Plotly.newPlot(\n",
       "                        '6040272f-031a-491f-8ae1-3971f94a3dcf',\n",
       "                        [{\"lat\": [47.3928859, 46.92546765, 47.0505452, 46.3097353, 47.3965147, 46.827296700000005, 47.5529107, 46.9475089, 47.1808794, 46.9586736, 47.4249895, 47.64024295, 47.2542489, 47.2277611, 47.0505452, 47.1941912, 47.0505452, 45.8443345, 45.8420843, 47.5397037, 47.04682095, 47.0505452, 46.6235829, 46.2039435, 47.159653750000004, 46.3840139, 46.531071100000005, 46.3857754, 46.1356737, 46.6537189, 46.2422988, 46.5389783, 46.5639988, 46.52472175, 46.4658662, 46.158053949999996, 46.4557557, 46.804000900000005, 47.0505452, 46.524109, 46.8224812, 46.990699199999995, 47.567703, 47.041590049999996, 47.0505452, 47.0453404, 47.0505452, 47.0505452, 47.5726876, 47.0505452, 47.04039495, 47.3427304, 47.710864, 46.97249495, 47.5593624, 47.4770882, 47.37283725, 47.3308829, 47.47830225, 47.0505452, 47.0505452, 47.4963642, 47.55846, 46.9401598, 47.4898977, 47.413127700000004, 47.345104, 47.0505452, 47.4109231, 47.0505452, 46.85027035, 47.05817895, 47.0505452, 46.2024942, 45.8462957, 46.5218269, 47.50798985, 47.364879900000005, 47.4971903, 47.349502, 47.0505452, 46.9294631, 47.0505452, 46.8247544, 47.10052615, 47.5462534, 47.5171141, 46.69199915, 46.8460547, 46.8568419, 46.736729100000005, 46.8475055, 47.4000753, 47.0505452, 47.50050875, 47.0505452, 46.75894935, 47.5529107, 47.4792076, 47.045563, 46.1844492, 47.0505452, 46.810727, 46.253542, 47.0497783, 47.0505452, 46.5205691, 46.2096971, 47.0505452, 47.0505452, 45.8421175, 47.232595950000004, 47.0505452, 47.211795, 47.4852042, 47.0505452, 47.3438469, 47.16779905, 47.05190465, 47.4536102, 46.670748700000004, 47.0505452, 46.5468623, 47.1573506, 47.1193417, 47.3983878, 47.0505452, 47.4433633, 47.37068775, 47.0505452, 47.0505452, 47.4174158, 47.3841009, 47.058681500000006, 47.5423932, 47.5709666, 47.0505452, 47.0730171, 46.720308450000005, 46.0963723], \"lon\": [7.9712891, 7.416250898828126, 8.3054682, 6.9444914, 8.4444861, 9.286218266858235, 7.5888052, 7.4596534, 8.5740163, 7.4542469, 7.6975165, 8.597737101211761, 7.0025048, 8.8272217, 8.3054682, 7.138370216348417, 8.3054682, 9.0078042, 8.9234459, 7.6008817, 7.619786746225149, 8.3054682, 6.792362, 6.122386, 7.21472302192322, 6.2180429, 6.635230756773302, 6.2168053, 7.6257865, 6.5060523, 6.2448953, 6.7059247, 6.6035195, 6.634587721216966, 6.8412788, 6.1243330977719115, 6.336827389919694, 7.167031939132739, 8.3054682, 6.6334435, 6.500209292813783, 7.45386595, 7.5918269, 7.255671358272728, 8.3054682, 8.315543655539143, 8.3054682, 8.3054682, 7.5951942, 8.3054682, 8.297661748848313, 8.2463459, 8.6448942, 7.440283557382271, 7.5931568, 8.3058758, 7.99980281013403, 9.4123243, 9.481672555174615, 8.3054682, 8.3054682, 8.7494497, 8.9006739, 7.4399166, 8.5944765, 8.96897555, 8.720895207186855, 8.3054682, 8.2374844, 8.3054682, 9.516085342672863, 7.630061993913195, 8.3054682, 6.1308013, 9.0197581, 6.6327025, 8.51156626890732, 7.910691485786558, 8.7598926, 7.9088633, 8.3054682, 7.565562807528156, 8.3054682, 8.403261, 8.280261307107727, 7.791998, 9.429901078105274, 7.874505951973905, 9.5086891, 9.5134547, 7.615471379820717, 9.525777, 8.5321851, 8.3054682, 9.39552325, 8.3054682, 8.055866637462643, 7.5888052, 9.4853156, 8.28967790547522, 6.1302415, 8.3054682, 7.1488504, 6.9572985, 7.0392209, 8.3054682, 6.632534, 6.1427997, 8.3054682, 8.3054682, 8.9802304, 7.5046996061269695, 8.3054682, 7.5257211, 8.2076652, 8.3054682, 8.1140873, 8.10194536288874, 8.306424227129524, 8.965423080180447, 7.854752966921897, 8.3054682, 7.8940031, 9.4757746, 9.4843483, 9.5822562, 8.3054682, 8.7290562, 8.770814104470404, 8.3054682, 8.3054682, 8.3999251, 8.4964028, 7.615820350000003, 7.599492, 7.5795463, 8.3054682, 9.4807881, 6.539113544977548, 7.2290514], \"marker\": {\"color\": [4, 2, 9, 9, 4, 1, 1, 3, 0, 0, 1, 0, 23, 13, 0, 0, 6, 10, 15, 0, 2, 0, 5, 4, 8, 0, 0, 1, 1, 3, 5, 8, 4, 1, 2, 0, 0, 2, 3, 9, 39, 0, 5, 1, 0, 0, 2, 2, 0, 6, 6, 3, 6, 7, 6, 4, 0, 24, 0, 4, 7, 1, 4, 0, 1, 3, 0, 0, 0, 1, 0, 4, 3, 2, 1, 4, 8, 1, 13, 3, 0, 0, 3, 1, 1, 28, 0, 2, 0, 4, 0, 10, 0, 10, 0, 0, 1, 2, 3, 0, 0, 0, 1, 0, 1, 5, 0, 8, 1, 3, 1, 4, 1, 2, 2, 0, 0, 1, 5, 0, 5, 0, 0, 4, 0, 3, 4, 8, 7, 7, 0, 5, 8, 1, 5, 2, 0, 8, 1, 10]}, \"mode\": \"markers\", \"text\": [\"4655 Brewing Company\", \"523\", \"7Peaks Brasserie\", \"\\u00c0 tue-t\\u00eate\", \"Ahoi Bier\", \"Aktienbrauerei Flims Surselva AG\", \"All Bar One\", \"Altes Tramdepot\", \"Bachweg Brewing\", \"Barbi\\u00e8re\", \"Baselbieter Brauerei\", \"Benedix Klosterbr\\u00e4u\", \"BFM (Brasserie des Franches-Montagnes)\", \"Bier Factory Rapperswil AG\", \"Bi\\u00e8re Buse\", \"Bi\\u00e8res&Co Brewery\", \"Birra San Rocco\", \"Birrificio Sottobisio\", \"Birrificio Ticinese\", \"B\\u00eertel\", \"Blackwell Brewery\", \"Brasserie Artisanale Broyarde\", \"Brasserie Artisanale Du Jorat\", \"Brasserie Artisanale Glouglou\", \"Brasserie BLZ\", \"Brasserie Cap'taine Mousse SA\", \"Brasserie de l'Improbable\", \"Brasserie De La Cote\", \"Brasserie des 5 Quatre Mille\", \"Brasserie des Cond\\u00e9mines\", \"Brasserie Des Murailles\", \"Brasserie Docteur Gab\\u2019s\", \"Brasserie du Boxer SA\", \"Brasserie Du Chateau\", \"Brasserie du Haut-Lac\", \"Brasserie Du Virage\", \"Brasserie FMR\", \"Brasserie Fri-Mousse\", \"Brasserie Haldemann\", \"Brasserie Les Fleurs du Malt\", \"Brasserie Trois Dames\", \"Braubar\", \"Braubude Basel\", \"Brauerei Aare Bier\", \"Brauerei Adler AG\", \"Brauerei AG Luzern\", \"Brauerei Albert Egger AG\", \"Brauerei Baar AG\", \"Brauerei Basiliske Bier\", \"Brauerei BierVision Monstein AG\", \"Brauerei Eichhof\", \"Brauerei Erusbacher & Paul AG\", \"Brauerei Falken AG\", \"Brauerei Felsenau AG\", \"Brauerei Fischerstube AG\", \"Brauerei H. M\\u00fcller AG\", \"Brauerei Karbacher\", \"Brauerei Locher AG\", \"Brauerei L\\u00f6wengarten\", \"Brauerei Rosengarten AG\", \"Brauerei Sch\\u00fctzengarten AG\", \"Brauerei Stadtguet\", \"Brauhaus Sternen AG\", \"Braui-Lade B\\u00e4re-Br\\u00e4u\", \"Braumanufaktur Schlachthuus\", \"Braurei Kloster Fischingen AG\", \"Braurei Uster Braukultur\", \"Brigitte Und Markus Reutimann\", \"B\\u00fcchler Bier\", \"Bun Tschlin\", \"B\\u00fcndner Bier\", \"Burgdorfer Gasthausbrauerei\", \"Cayon's Brewing\", \"Chien Bleu\", \"Cormano Vini\", \"C\\u00f4teWest Brewing\", \"Culina-Br\\u00e4u\", \"Degenbier\", \"Doppelleu Brauwerkstatt\", \"Drei Tannen Bier\", \"Echec et Malt\", \"Egger\", \"Engadiner Bier\", \"Engelberger Klosterbr\\u00e4u\", \"Eurobr\\u00e4u GmbH\", \"Feldschl\\u00f6sschen Beverages Group\", \"Frohsinn Gasthof Brauerei Hotel\", \"Haarige Kuh Brauerei\", \"Haldengut\", \"Hausbrauerei Stadtbier Chur\", \"Heimbrauerei Patrik Feller\", \"Heineken Switzerland AG\", \"Hirnibr\\u00e4u\", \"Hoppy People\", \"Huus-Braui\", \"Il Fermento\", \"JungfrauBr\\u00e4u AG\", \"Kitchen Brew\", \"Kornhausbr\\u00e4u\", \"Kr\\u00fcgel BIER\", \"L'Apais\\u00e9e\", \"La Brasse-Mortier\", \"La Brasserie du Chauve\", \"La Brasserie du Griffon\", \"La Brasserie du Manoir\", \"La N\\u00e9buleuse\", \"Les Brasseurs\", \"Les Brasseurs\", \"Les Faiseurs De Biere\", \"Lord Nelson Pub (Brasserie Du Molard)\", \"Microbirrificio Artigianale M\\u00f3M\\u00f2\", \"Oberd\\u00f6rfer Ch\\u00e4uerbr\\u00e4u\", \"Original Ittinger Klosterbr\\u00e4u\", \"\\u00d6ufi Brauerei\", \"Patschiifig Br\\u00e4u\", \"Pfauenbier GmbH\", \"Rabenbrau\", \"Ramseier Suisse AG\", \"Rathaus Brauerei\", \"Rieth\\u00f6fler\", \"Rugenbr\\u00e4u AG\", \"Scherlibr\\u00e4u\", \"Schwarz M\\u00f6nch\", \"Sennbr\\u00e4u\", \"Sevibr\\u00e4u\", \"Sonnenbr\\u00e4u AG\", \"Steinfels\", \"Storm & Anchor Brewing Company\", \"Sudwerk\", \"Sunnegg Brau Haus\", \"Terra Matta\", \"The Darkwolf Brewery AG\", \"Turbinenbr\\u00e4u\", \"UHB\", \"Unser Bier\", \"Volta Br\\u00e4u\", \"Wadi-Brau-Huss AG\", \"Wartauer Seegal Br\\u00e4u\", \"Weedbeer\", \"WhiteFrontier Brewery\"], \"type\": \"scattergeo\"}],\n",
       "                        {\"geo\": {\"landcolor\": \"rgb(217, 217, 217)\", \"scope\": \"europe\"}, \"showlegend\": true, \"template\": {\"data\": {\"bar\": [{\"error_x\": {\"color\": \"#2a3f5f\"}, \"error_y\": {\"color\": \"#2a3f5f\"}, \"marker\": {\"line\": {\"color\": \"#E5ECF6\", \"width\": 0.5}}, \"type\": \"bar\"}], \"barpolar\": [{\"marker\": {\"line\": {\"color\": \"#E5ECF6\", \"width\": 0.5}}, \"type\": \"barpolar\"}], \"carpet\": [{\"aaxis\": {\"endlinecolor\": \"#2a3f5f\", \"gridcolor\": \"white\", \"linecolor\": \"white\", \"minorgridcolor\": \"white\", \"startlinecolor\": \"#2a3f5f\"}, \"baxis\": {\"endlinecolor\": \"#2a3f5f\", \"gridcolor\": \"white\", \"linecolor\": \"white\", \"minorgridcolor\": \"white\", \"startlinecolor\": \"#2a3f5f\"}, \"type\": \"carpet\"}], \"choropleth\": [{\"colorbar\": {\"outlinewidth\": 0, \"ticks\": \"\"}, \"type\": \"choropleth\"}], \"contour\": [{\"colorbar\": {\"outlinewidth\": 0, \"ticks\": \"\"}, \"colorscale\": [[0.0, \"#0d0887\"], [0.1111111111111111, \"#46039f\"], [0.2222222222222222, \"#7201a8\"], [0.3333333333333333, \"#9c179e\"], [0.4444444444444444, \"#bd3786\"], [0.5555555555555556, \"#d8576b\"], [0.6666666666666666, \"#ed7953\"], [0.7777777777777778, \"#fb9f3a\"], [0.8888888888888888, \"#fdca26\"], [1.0, \"#f0f921\"]], \"type\": \"contour\"}], \"contourcarpet\": [{\"colorbar\": {\"outlinewidth\": 0, \"ticks\": \"\"}, \"type\": \"contourcarpet\"}], \"heatmap\": [{\"colorbar\": {\"outlinewidth\": 0, \"ticks\": \"\"}, \"colorscale\": [[0.0, \"#0d0887\"], [0.1111111111111111, \"#46039f\"], [0.2222222222222222, \"#7201a8\"], [0.3333333333333333, \"#9c179e\"], [0.4444444444444444, \"#bd3786\"], [0.5555555555555556, \"#d8576b\"], [0.6666666666666666, \"#ed7953\"], [0.7777777777777778, \"#fb9f3a\"], [0.8888888888888888, \"#fdca26\"], [1.0, \"#f0f921\"]], \"type\": \"heatmap\"}], \"heatmapgl\": [{\"colorbar\": {\"outlinewidth\": 0, \"ticks\": \"\"}, \"colorscale\": [[0.0, \"#0d0887\"], [0.1111111111111111, \"#46039f\"], [0.2222222222222222, \"#7201a8\"], [0.3333333333333333, \"#9c179e\"], [0.4444444444444444, \"#bd3786\"], [0.5555555555555556, \"#d8576b\"], [0.6666666666666666, \"#ed7953\"], [0.7777777777777778, \"#fb9f3a\"], [0.8888888888888888, \"#fdca26\"], [1.0, \"#f0f921\"]], \"type\": \"heatmapgl\"}], \"histogram\": [{\"marker\": {\"colorbar\": {\"outlinewidth\": 0, \"ticks\": \"\"}}, \"type\": \"histogram\"}], \"histogram2d\": [{\"colorbar\": {\"outlinewidth\": 0, \"ticks\": \"\"}, \"colorscale\": [[0.0, \"#0d0887\"], [0.1111111111111111, \"#46039f\"], [0.2222222222222222, \"#7201a8\"], [0.3333333333333333, \"#9c179e\"], [0.4444444444444444, \"#bd3786\"], [0.5555555555555556, \"#d8576b\"], [0.6666666666666666, \"#ed7953\"], [0.7777777777777778, \"#fb9f3a\"], [0.8888888888888888, \"#fdca26\"], [1.0, \"#f0f921\"]], \"type\": \"histogram2d\"}], \"histogram2dcontour\": [{\"colorbar\": {\"outlinewidth\": 0, \"ticks\": \"\"}, \"colorscale\": [[0.0, \"#0d0887\"], [0.1111111111111111, \"#46039f\"], [0.2222222222222222, \"#7201a8\"], [0.3333333333333333, \"#9c179e\"], [0.4444444444444444, \"#bd3786\"], [0.5555555555555556, \"#d8576b\"], [0.6666666666666666, \"#ed7953\"], [0.7777777777777778, \"#fb9f3a\"], [0.8888888888888888, \"#fdca26\"], [1.0, \"#f0f921\"]], \"type\": \"histogram2dcontour\"}], \"mesh3d\": [{\"colorbar\": {\"outlinewidth\": 0, \"ticks\": \"\"}, \"type\": \"mesh3d\"}], \"parcoords\": [{\"line\": {\"colorbar\": {\"outlinewidth\": 0, \"ticks\": \"\"}}, \"type\": \"parcoords\"}], \"pie\": [{\"automargin\": true, \"type\": \"pie\"}], \"scatter\": [{\"marker\": {\"colorbar\": {\"outlinewidth\": 0, \"ticks\": \"\"}}, \"type\": \"scatter\"}], \"scatter3d\": [{\"line\": {\"colorbar\": {\"outlinewidth\": 0, \"ticks\": \"\"}}, \"marker\": {\"colorbar\": {\"outlinewidth\": 0, \"ticks\": \"\"}}, \"type\": \"scatter3d\"}], \"scattercarpet\": [{\"marker\": {\"colorbar\": {\"outlinewidth\": 0, \"ticks\": \"\"}}, \"type\": \"scattercarpet\"}], \"scattergeo\": [{\"marker\": {\"colorbar\": {\"outlinewidth\": 0, \"ticks\": \"\"}}, \"type\": \"scattergeo\"}], \"scattergl\": [{\"marker\": {\"colorbar\": {\"outlinewidth\": 0, \"ticks\": \"\"}}, \"type\": \"scattergl\"}], \"scattermapbox\": [{\"marker\": {\"colorbar\": {\"outlinewidth\": 0, \"ticks\": \"\"}}, \"type\": \"scattermapbox\"}], \"scatterpolar\": [{\"marker\": {\"colorbar\": {\"outlinewidth\": 0, \"ticks\": \"\"}}, \"type\": \"scatterpolar\"}], \"scatterpolargl\": [{\"marker\": {\"colorbar\": {\"outlinewidth\": 0, \"ticks\": \"\"}}, \"type\": \"scatterpolargl\"}], \"scatterternary\": [{\"marker\": {\"colorbar\": {\"outlinewidth\": 0, \"ticks\": \"\"}}, \"type\": \"scatterternary\"}], \"surface\": [{\"colorbar\": {\"outlinewidth\": 0, \"ticks\": \"\"}, \"colorscale\": [[0.0, \"#0d0887\"], [0.1111111111111111, \"#46039f\"], [0.2222222222222222, \"#7201a8\"], [0.3333333333333333, \"#9c179e\"], [0.4444444444444444, \"#bd3786\"], [0.5555555555555556, \"#d8576b\"], [0.6666666666666666, \"#ed7953\"], [0.7777777777777778, \"#fb9f3a\"], [0.8888888888888888, \"#fdca26\"], [1.0, \"#f0f921\"]], \"type\": \"surface\"}], \"table\": [{\"cells\": {\"fill\": {\"color\": \"#EBF0F8\"}, \"line\": {\"color\": \"white\"}}, \"header\": {\"fill\": {\"color\": \"#C8D4E3\"}, \"line\": {\"color\": \"white\"}}, \"type\": \"table\"}]}, \"layout\": {\"annotationdefaults\": {\"arrowcolor\": \"#2a3f5f\", \"arrowhead\": 0, \"arrowwidth\": 1}, \"coloraxis\": {\"colorbar\": {\"outlinewidth\": 0, \"ticks\": \"\"}}, \"colorscale\": {\"diverging\": [[0, \"#8e0152\"], [0.1, \"#c51b7d\"], [0.2, \"#de77ae\"], [0.3, \"#f1b6da\"], [0.4, \"#fde0ef\"], [0.5, \"#f7f7f7\"], [0.6, \"#e6f5d0\"], [0.7, \"#b8e186\"], [0.8, \"#7fbc41\"], [0.9, \"#4d9221\"], [1, \"#276419\"]], \"sequential\": [[0.0, \"#0d0887\"], [0.1111111111111111, \"#46039f\"], [0.2222222222222222, \"#7201a8\"], [0.3333333333333333, \"#9c179e\"], [0.4444444444444444, \"#bd3786\"], [0.5555555555555556, \"#d8576b\"], [0.6666666666666666, \"#ed7953\"], [0.7777777777777778, \"#fb9f3a\"], [0.8888888888888888, \"#fdca26\"], [1.0, \"#f0f921\"]], \"sequentialminus\": [[0.0, \"#0d0887\"], [0.1111111111111111, \"#46039f\"], [0.2222222222222222, \"#7201a8\"], [0.3333333333333333, \"#9c179e\"], [0.4444444444444444, \"#bd3786\"], [0.5555555555555556, \"#d8576b\"], [0.6666666666666666, \"#ed7953\"], [0.7777777777777778, \"#fb9f3a\"], [0.8888888888888888, \"#fdca26\"], [1.0, \"#f0f921\"]]}, \"colorway\": [\"#636efa\", \"#EF553B\", \"#00cc96\", \"#ab63fa\", \"#FFA15A\", \"#19d3f3\", \"#FF6692\", \"#B6E880\", \"#FF97FF\", \"#FECB52\"], \"font\": {\"color\": \"#2a3f5f\"}, \"geo\": {\"bgcolor\": \"white\", \"lakecolor\": \"white\", \"landcolor\": \"#E5ECF6\", \"showlakes\": true, \"showland\": true, \"subunitcolor\": \"white\"}, \"hoverlabel\": {\"align\": \"left\"}, \"hovermode\": \"closest\", \"mapbox\": {\"style\": \"light\"}, \"paper_bgcolor\": \"white\", \"plot_bgcolor\": \"#E5ECF6\", \"polar\": {\"angularaxis\": {\"gridcolor\": \"white\", \"linecolor\": \"white\", \"ticks\": \"\"}, \"bgcolor\": \"#E5ECF6\", \"radialaxis\": {\"gridcolor\": \"white\", \"linecolor\": \"white\", \"ticks\": \"\"}}, \"scene\": {\"xaxis\": {\"backgroundcolor\": \"#E5ECF6\", \"gridcolor\": \"white\", \"gridwidth\": 2, \"linecolor\": \"white\", \"showbackground\": true, \"ticks\": \"\", \"zerolinecolor\": \"white\"}, \"yaxis\": {\"backgroundcolor\": \"#E5ECF6\", \"gridcolor\": \"white\", \"gridwidth\": 2, \"linecolor\": \"white\", \"showbackground\": true, \"ticks\": \"\", \"zerolinecolor\": \"white\"}, \"zaxis\": {\"backgroundcolor\": \"#E5ECF6\", \"gridcolor\": \"white\", \"gridwidth\": 2, \"linecolor\": \"white\", \"showbackground\": true, \"ticks\": \"\", \"zerolinecolor\": \"white\"}}, \"shapedefaults\": {\"line\": {\"color\": \"#2a3f5f\"}}, \"ternary\": {\"aaxis\": {\"gridcolor\": \"white\", \"linecolor\": \"white\", \"ticks\": \"\"}, \"baxis\": {\"gridcolor\": \"white\", \"linecolor\": \"white\", \"ticks\": \"\"}, \"bgcolor\": \"#E5ECF6\", \"caxis\": {\"gridcolor\": \"white\", \"linecolor\": \"white\", \"ticks\": \"\"}}, \"title\": {\"x\": 0.05}, \"xaxis\": {\"automargin\": true, \"gridcolor\": \"white\", \"linecolor\": \"white\", \"ticks\": \"\", \"title\": {\"standoff\": 15}, \"zerolinecolor\": \"white\", \"zerolinewidth\": 2}, \"yaxis\": {\"automargin\": true, \"gridcolor\": \"white\", \"linecolor\": \"white\", \"ticks\": \"\", \"title\": {\"standoff\": 15}, \"zerolinecolor\": \"white\", \"zerolinewidth\": 2}}}, \"title\": {\"text\": \"Breweries of Switzerland\"}},\n",
       "                        {\"responsive\": true}\n",
       "                    ).then(function(){\n",
       "                            \n",
       "var gd = document.getElementById('6040272f-031a-491f-8ae1-3971f94a3dcf');\n",
       "var x = new MutationObserver(function (mutations, observer) {{\n",
       "        var display = window.getComputedStyle(gd).display;\n",
       "        if (!display || display === 'none') {{\n",
       "            console.log([gd, 'removed!']);\n",
       "            Plotly.purge(gd);\n",
       "            observer.disconnect();\n",
       "        }}\n",
       "}});\n",
       "\n",
       "// Listen for the removal of the full notebook cells\n",
       "var notebookContainer = gd.closest('#notebook-container');\n",
       "if (notebookContainer) {{\n",
       "    x.observe(notebookContainer, {childList: true});\n",
       "}}\n",
       "\n",
       "// Listen for the clearing of the current output cell\n",
       "var outputEl = gd.closest('.output');\n",
       "if (outputEl) {{\n",
       "    x.observe(outputEl, {childList: true});\n",
       "}}\n",
       "\n",
       "                        })\n",
       "                };\n",
       "                });\n",
       "            </script>\n",
       "        </div>"
      ]
     },
     "metadata": {},
     "output_type": "display_data"
    }
   ],
   "source": [
    "fig = go.Figure(data=go.Scattergeo(\n",
    "        lon = breweries_ch_df['longitude'],\n",
    "        lat = breweries_ch_df['latitude'],\n",
    "        text = breweries_ch_df['name'],\n",
    "        mode = 'markers',\n",
    "        marker_color = breweries_ch_df['n_beers'],\n",
    "        ))\n",
    "fig.update_layout(\n",
    "        title_text = 'Breweries of Switzerland',\n",
    "        showlegend = True,\n",
    "        geo = dict(\n",
    "            scope = 'europe',\n",
    "            landcolor = 'rgb(217, 217, 217)',\n",
    "        )\n",
    "    )\n",
    "fig.show()"
   ]
  },
  {
   "cell_type": "markdown",
   "metadata": {},
   "source": [
    "## Mapbox"
   ]
  },
  {
   "cell_type": "code",
   "execution_count": 31,
   "metadata": {},
   "outputs": [
    {
     "data": {
      "text/html": [
       "<div>\n",
       "<style scoped>\n",
       "    .dataframe tbody tr th:only-of-type {\n",
       "        vertical-align: middle;\n",
       "    }\n",
       "\n",
       "    .dataframe tbody tr th {\n",
       "        vertical-align: top;\n",
       "    }\n",
       "\n",
       "    .dataframe thead th {\n",
       "        text-align: right;\n",
       "    }\n",
       "</style>\n",
       "<table border=\"1\" class=\"dataframe\">\n",
       "  <thead>\n",
       "    <tr style=\"text-align: right;\">\n",
       "      <th></th>\n",
       "      <th>name</th>\n",
       "      <th>link</th>\n",
       "      <th>ratings</th>\n",
       "      <th>n_beers</th>\n",
       "      <th>address</th>\n",
       "      <th>telephone</th>\n",
       "      <th>latitude</th>\n",
       "      <th>longitude</th>\n",
       "    </tr>\n",
       "  </thead>\n",
       "  <tbody>\n",
       "    <tr>\n",
       "      <th>93</th>\n",
       "      <td>Hoppy People</td>\n",
       "      <td>https://www.beeradvocate.com/beer/profile/48536/</td>\n",
       "      <td>3.76</td>\n",
       "      <td>10</td>\n",
       "      <td>Route Des Sablons 11\\nSierre, 3960\\nSwitzerland</td>\n",
       "      <td>+41 (0)27 455-00 00</td>\n",
       "      <td>47.050545</td>\n",
       "      <td>8.305468</td>\n",
       "    </tr>\n",
       "  </tbody>\n",
       "</table>\n",
       "</div>"
      ],
      "text/plain": [
       "            name                                              link  ratings  \\\n",
       "93  Hoppy People  https://www.beeradvocate.com/beer/profile/48536/     3.76   \n",
       "\n",
       "    n_beers                                          address  \\\n",
       "93       10  Route Des Sablons 11\\nSierre, 3960\\nSwitzerland   \n",
       "\n",
       "              telephone   latitude  longitude  \n",
       "93  +41 (0)27 455-00 00  47.050545   8.305468  "
      ]
     },
     "execution_count": 31,
     "metadata": {},
     "output_type": "execute_result"
    }
   ],
   "source": [
    "breweries_ch_df[breweries_ch_df['name'].apply(lambda s: 'Hoppy' in s)]"
   ]
  },
  {
   "cell_type": "code",
   "execution_count": 32,
   "metadata": {},
   "outputs": [
    {
     "data": {
      "text/html": [
       "<div>\n",
       "<style scoped>\n",
       "    .dataframe tbody tr th:only-of-type {\n",
       "        vertical-align: middle;\n",
       "    }\n",
       "\n",
       "    .dataframe tbody tr th {\n",
       "        vertical-align: top;\n",
       "    }\n",
       "\n",
       "    .dataframe thead th {\n",
       "        text-align: right;\n",
       "    }\n",
       "</style>\n",
       "<table border=\"1\" class=\"dataframe\">\n",
       "  <thead>\n",
       "    <tr style=\"text-align: right;\">\n",
       "      <th></th>\n",
       "      <th>name</th>\n",
       "      <th>link</th>\n",
       "      <th>ratings</th>\n",
       "      <th>n_beers</th>\n",
       "      <th>address</th>\n",
       "      <th>telephone</th>\n",
       "      <th>latitude</th>\n",
       "      <th>longitude</th>\n",
       "    </tr>\n",
       "  </thead>\n",
       "  <tbody>\n",
       "    <tr>\n",
       "      <th>2</th>\n",
       "      <td>7Peaks Brasserie</td>\n",
       "      <td>https://www.beeradvocate.com/beer/profile/39040/</td>\n",
       "      <td>2.72</td>\n",
       "      <td>9</td>\n",
       "      <td>Route de la Patinoire 15a\\nMorgins, 1875\\nSwit...</td>\n",
       "      <td>+41 78 797 1875</td>\n",
       "      <td>47.050545</td>\n",
       "      <td>8.305468</td>\n",
       "    </tr>\n",
       "  </tbody>\n",
       "</table>\n",
       "</div>"
      ],
      "text/plain": [
       "               name                                              link  \\\n",
       "2  7Peaks Brasserie  https://www.beeradvocate.com/beer/profile/39040/   \n",
       "\n",
       "   ratings  n_beers                                            address  \\\n",
       "2     2.72        9  Route de la Patinoire 15a\\nMorgins, 1875\\nSwit...   \n",
       "\n",
       "         telephone   latitude  longitude  \n",
       "2  +41 78 797 1875  47.050545   8.305468  "
      ]
     },
     "execution_count": 32,
     "metadata": {},
     "output_type": "execute_result"
    }
   ],
   "source": [
    "breweries_ch_df[breweries_ch_df['name'].apply(lambda s: '7Peaks' in s)]"
   ]
  },
  {
   "cell_type": "code",
   "execution_count": 86,
   "metadata": {},
   "outputs": [
    {
     "data": {
      "text/plain": [
       "'swiss-breweries-map.html'"
      ]
     },
     "execution_count": 86,
     "metadata": {},
     "output_type": "execute_result"
    }
   ],
   "source": [
    "import plotly.express as px\n",
    "import plotly.offline as py\n",
    "px.set_mapbox_access_token(open(\".mapbox_token\").read())\n",
    "\n",
    "fig = px.scatter_mapbox(breweries_ch_df, \n",
    "                        lat=\"latitude\", lon=\"longitude\",     \n",
    "                        color=\"ratings\", size=\"n_beers\",\n",
    "                        text='name',\n",
    "                  color_continuous_scale=px.colors.sequential.Viridis, \n",
    "                        size_max=15, zoom=6)\n",
    "#fig.show()\n",
    "py.plot(fig, filename='swiss-breweries-map.html')"
   ]
  },
  {
   "cell_type": "markdown",
   "metadata": {},
   "source": [
    "## Selecting items on map"
   ]
  },
  {
   "cell_type": "code",
   "execution_count": 7,
   "metadata": {},
   "outputs": [
    {
     "data": {
      "application/vnd.jupyter.widget-view+json": {
       "model_id": "a5f0d84cdbe1425ca575adf43dd3d833",
       "version_major": 2,
       "version_minor": 0
      },
      "text/plain": [
       "VBox(children=(FigureWidget({\n",
       "    'data': [{'hoverlabel': {'namelength': 0},\n",
       "              'hovertemplate': ('…"
      ]
     },
     "metadata": {},
     "output_type": "display_data"
    }
   ],
   "source": [
    "import plotly.graph_objs as go\n",
    "from ipywidgets import Output, VBox\n",
    "import plotly.express as px\n",
    "\n",
    "\n",
    "map = px.scatter_mapbox(breweries_ch_df, \n",
    "                        lat=\"latitude\", lon=\"longitude\",     \n",
    "                        color=\"ratings\", size=\"n_beers\",\n",
    "                        text='name',\n",
    "                  color_continuous_scale=px.colors.sequential.Viridis, \n",
    "                        size_max=15, zoom=6)\n",
    "fig = go.FigureWidget(map)\n",
    "\n",
    "out = Output()\n",
    "@out.capture(clear_output=True)\n",
    "def handle_click(trace, points, state):\n",
    "    print(points.point_inds)\n",
    "\n",
    "#pie.on_click(handle_click)\n",
    "fig.data[0].on_click(handle_click)\n",
    "\n",
    "VBox([fig, out])"
   ]
  },
  {
   "cell_type": "code",
   "execution_count": null,
   "metadata": {},
   "outputs": [],
   "source": []
  }
 ],
 "metadata": {
  "kernelspec": {
   "display_name": "Python 3",
   "language": "python",
   "name": "python3"
  },
  "language_info": {
   "codemirror_mode": {
    "name": "ipython",
    "version": 3
   },
   "file_extension": ".py",
   "mimetype": "text/x-python",
   "name": "python",
   "nbconvert_exporter": "python",
   "pygments_lexer": "ipython3",
   "version": "3.7.5"
  }
 },
 "nbformat": 4,
 "nbformat_minor": 4
}
