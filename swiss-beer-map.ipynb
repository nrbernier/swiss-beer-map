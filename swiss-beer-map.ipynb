{
 "cells": [
  {
   "cell_type": "code",
   "execution_count": 1,
   "metadata": {},
   "outputs": [],
   "source": [
    "import requests\n",
    "from bs4 import BeautifulSoup\n",
    "import numpy as np\n",
    "import timeit\n",
    "\n",
    "import pandas as pd\n",
    "import geopy"
   ]
  },
  {
   "cell_type": "markdown",
   "metadata": {},
   "source": [
    "# Scrape online data"
   ]
  },
  {
   "cell_type": "markdown",
   "metadata": {},
   "source": [
    "## Data from BeerAdvocate"
   ]
  },
  {
   "cell_type": "code",
   "execution_count": 94,
   "metadata": {},
   "outputs": [],
   "source": [
    "def parse_beer_page(url):\n",
    "    page = requests.get(url)\n",
    "    soup = BeautifulSoup(page.content, 'html.parser')\n",
    "    \n",
    "    name = soup.find('title').text.split('|')[0].strip()\n",
    "    style = soup.find(title=\"Learn more about this style.\").find('b').text\n",
    "    alc_perc = float(soup.find_all(title=\"Percentage of alcohol by volume.\")[-1].find('b').text[:-1])\n",
    "    \n",
    "    score_temp = soup.find(class_=\"ba-score Tooltip\")\n",
    "    if score_temp is not None:\n",
    "        score = float(score_temp.text)\n",
    "    else: score = np.NaN\n",
    "    rating = float(soup.find(class_=\"ba-ravg Tooltip\").text)\n",
    "    brewery = soup.find(title=\"View more beers and info from this brewery.\").text\n",
    "    country = soup.find_all(href=lambda x: x and x.startswith('/place/directory/'))[-1].text\n",
    "    \n",
    "    return dict(name=name, style=style, alc_perc=alc_perc, \n",
    "                score=score, rating=rating, brewery=brewery, country=country)\n",
    "    "
   ]
  },
  {
   "cell_type": "code",
   "execution_count": 165,
   "metadata": {},
   "outputs": [],
   "source": [
    "def get_beer_country(url, session=requests):\n",
    "    try:\n",
    "        page = session.get(url)\n",
    "        soup = BeautifulSoup(page.content, 'html.parser')\n",
    "        country = soup.find_all(href=lambda x: x and x.startswith('/place/directory/'))[-1].text\n",
    "    except:\n",
    "        country = ''\n",
    "    return country"
   ]
  },
  {
   "cell_type": "code",
   "execution_count": 99,
   "metadata": {},
   "outputs": [
    {
     "data": {
      "text/plain": [
       "{'name': 'Dark Ale',\n",
       " 'style': 'American Brown Ale',\n",
       " 'alc_perc': 4.0,\n",
       " 'score': nan,\n",
       " 'rating': 3.44,\n",
       " 'brewery': 'Black Duck Brewery',\n",
       " 'country': 'Australia'}"
      ]
     },
     "execution_count": 99,
     "metadata": {},
     "output_type": "execute_result"
    }
   ],
   "source": [
    "parse_beer_page('https://www.beeradvocate.com/beer/profile/2385/87878/')"
   ]
  },
  {
   "cell_type": "code",
   "execution_count": 106,
   "metadata": {},
   "outputs": [
    {
     "data": {
      "text/plain": [
       "'United States'"
      ]
     },
     "execution_count": 106,
     "metadata": {},
     "output_type": "execute_result"
    }
   ],
   "source": [
    "get_beer_country('https://www.beeradvocate.com/beer/profile/2/3/')"
   ]
  },
  {
   "cell_type": "code",
   "execution_count": 109,
   "metadata": {
    "collapsed": true,
    "jupyter": {
     "outputs_hidden": true
    }
   },
   "outputs": [
    {
     "name": "stdout",
     "output_type": "stream",
     "text": [
      "1\n",
      "2\n",
      "22\n",
      "25\n",
      "53\n",
      "57\n",
      "60\n",
      "64\n",
      "70\n",
      "77\n",
      "91\n",
      "98\n"
     ]
    }
   ],
   "source": [
    "countries = []\n",
    "url = 'https://www.beeradvocate.com/beer/profile/2/{}/'\n",
    "for i in range(100):\n",
    "    try:\n",
    "        countries.append(get_beer_country(url.format(i)))\n",
    "    except:\n",
    "        print(i)\n",
    "    "
   ]
  },
  {
   "cell_type": "code",
   "execution_count": 167,
   "metadata": {},
   "outputs": [
    {
     "data": {
      "text/plain": [
       "3.777793766999821"
      ]
     },
     "execution_count": 167,
     "metadata": {},
     "output_type": "execute_result"
    }
   ],
   "source": [
    "s = requests.Session()\n",
    "timeit.timeit(lambda: get_beer_country(url.format(15002),s), number=5)"
   ]
  },
  {
   "cell_type": "code",
   "execution_count": 146,
   "metadata": {},
   "outputs": [
    {
     "data": {
      "text/plain": [
       "0.8501878259994555"
      ]
     },
     "execution_count": 146,
     "metadata": {},
     "output_type": "execute_result"
    }
   ],
   "source": [
    "timeit.timeit(lambda: requests.head(url.format(19)), number=1)"
   ]
  },
  {
   "cell_type": "code",
   "execution_count": 147,
   "metadata": {},
   "outputs": [
    {
     "data": {
      "text/plain": [
       "<Response [301]>"
      ]
     },
     "execution_count": 147,
     "metadata": {},
     "output_type": "execute_result"
    }
   ],
   "source": [
    "requests.head(url.format(19))"
   ]
  },
  {
   "cell_type": "code",
   "execution_count": 149,
   "metadata": {},
   "outputs": [
    {
     "data": {
      "text/plain": [
       "41.666666666666664"
      ]
     },
     "execution_count": 149,
     "metadata": {},
     "output_type": "execute_result"
    }
   ],
   "source": [
    "1.5* 100000 / 3600"
   ]
  },
  {
   "cell_type": "markdown",
   "metadata": {},
   "source": [
    "### Try to improve speed with parallel requests"
   ]
  },
  {
   "cell_type": "code",
   "execution_count": 160,
   "metadata": {
    "collapsed": true,
    "jupyter": {
     "outputs_hidden": true
    }
   },
   "outputs": [
    {
     "name": "stdout",
     "output_type": "stream",
     "text": [
      "one is done\n",
      "one is done\n",
      "one is done\n",
      "one is done\n",
      "one is done\n",
      "one is done\n",
      "one is done\n",
      "one is done\n",
      "one is done\n",
      "one is done\n",
      "one is done\n",
      "one is done\n",
      "one is done\n",
      "one is done\n",
      "one is done\n",
      "one is done\n",
      "one is done\n",
      "one is done\n",
      "one is done\n",
      "one is done\n",
      "one is done\n",
      "one is done\n",
      "one is done\n",
      "one is done\n",
      "one is done\n",
      "one is done\n",
      "one is done\n",
      "one is done\n",
      "one is done\n",
      "one is done\n",
      "one is done\n",
      "one is done\n",
      "one is done\n",
      "one is done\n",
      "one is done\n",
      "one is done\n",
      "one is done\n",
      "one is done\n",
      "one is done\n",
      "one is done\n",
      "one is done\n",
      "one is done\n",
      "one is done\n",
      "one is done\n",
      "one is done\n",
      "one is done\n",
      "one is done\n",
      "one is done\n",
      "one is done\n",
      "one is done\n"
     ]
    },
    {
     "data": {
      "text/plain": [
       "60.20601609700043"
      ]
     },
     "execution_count": 160,
     "metadata": {},
     "output_type": "execute_result"
    }
   ],
   "source": [
    "import eventlet\n",
    "\n",
    "urls = [url.format(i) for i in range(50)]\n",
    "pool = eventlet.GreenPool(50)\n",
    "\n",
    "countries = []\n",
    "def pool_work():\n",
    "    for country in pool.imap(get_beer_country, urls):\n",
    "        countries.append(country)\n",
    "        print('one is done')\n",
    "\n",
    "timeit.timeit(pool_work, number=1)"
   ]
  },
  {
   "cell_type": "code",
   "execution_count": 154,
   "metadata": {
    "collapsed": true,
    "jupyter": {
     "outputs_hidden": true
    }
   },
   "outputs": [
    {
     "data": {
      "text/plain": [
       "['https://www.beeradvocate.com/beer/profile/2/3/',\n",
       " 'https://www.beeradvocate.com/beer/profile/2/4/',\n",
       " 'https://www.beeradvocate.com/beer/profile/2/5/',\n",
       " 'https://www.beeradvocate.com/beer/profile/2/6/',\n",
       " 'https://www.beeradvocate.com/beer/profile/2/7/',\n",
       " 'https://www.beeradvocate.com/beer/profile/2/8/',\n",
       " 'https://www.beeradvocate.com/beer/profile/2/9/',\n",
       " 'https://www.beeradvocate.com/beer/profile/2/10/',\n",
       " 'https://www.beeradvocate.com/beer/profile/2/11/',\n",
       " 'https://www.beeradvocate.com/beer/profile/2/12/',\n",
       " 'https://www.beeradvocate.com/beer/profile/2/13/',\n",
       " 'https://www.beeradvocate.com/beer/profile/2/14/',\n",
       " 'https://www.beeradvocate.com/beer/profile/2/15/',\n",
       " 'https://www.beeradvocate.com/beer/profile/2/16/',\n",
       " 'https://www.beeradvocate.com/beer/profile/2/17/',\n",
       " 'https://www.beeradvocate.com/beer/profile/2/18/',\n",
       " 'https://www.beeradvocate.com/beer/profile/2/19/',\n",
       " 'https://www.beeradvocate.com/beer/profile/2/20/',\n",
       " 'https://www.beeradvocate.com/beer/profile/2/21/',\n",
       " 'https://www.beeradvocate.com/beer/profile/2/22/',\n",
       " 'https://www.beeradvocate.com/beer/profile/2/23/',\n",
       " 'https://www.beeradvocate.com/beer/profile/2/24/',\n",
       " 'https://www.beeradvocate.com/beer/profile/2/25/',\n",
       " 'https://www.beeradvocate.com/beer/profile/2/26/',\n",
       " 'https://www.beeradvocate.com/beer/profile/2/27/',\n",
       " 'https://www.beeradvocate.com/beer/profile/2/28/',\n",
       " 'https://www.beeradvocate.com/beer/profile/2/29/',\n",
       " 'https://www.beeradvocate.com/beer/profile/2/30/',\n",
       " 'https://www.beeradvocate.com/beer/profile/2/31/',\n",
       " 'https://www.beeradvocate.com/beer/profile/2/32/',\n",
       " 'https://www.beeradvocate.com/beer/profile/2/33/',\n",
       " 'https://www.beeradvocate.com/beer/profile/2/34/',\n",
       " 'https://www.beeradvocate.com/beer/profile/2/35/',\n",
       " 'https://www.beeradvocate.com/beer/profile/2/36/',\n",
       " 'https://www.beeradvocate.com/beer/profile/2/37/',\n",
       " 'https://www.beeradvocate.com/beer/profile/2/38/',\n",
       " 'https://www.beeradvocate.com/beer/profile/2/39/',\n",
       " 'https://www.beeradvocate.com/beer/profile/2/40/',\n",
       " 'https://www.beeradvocate.com/beer/profile/2/41/',\n",
       " 'https://www.beeradvocate.com/beer/profile/2/42/',\n",
       " 'https://www.beeradvocate.com/beer/profile/2/43/',\n",
       " 'https://www.beeradvocate.com/beer/profile/2/44/',\n",
       " 'https://www.beeradvocate.com/beer/profile/2/45/',\n",
       " 'https://www.beeradvocate.com/beer/profile/2/46/',\n",
       " 'https://www.beeradvocate.com/beer/profile/2/47/',\n",
       " 'https://www.beeradvocate.com/beer/profile/2/48/',\n",
       " 'https://www.beeradvocate.com/beer/profile/2/49/']"
      ]
     },
     "execution_count": 154,
     "metadata": {},
     "output_type": "execute_result"
    }
   ],
   "source": [
    "urls"
   ]
  },
  {
   "cell_type": "code",
   "execution_count": 169,
   "metadata": {},
   "outputs": [
    {
     "data": {
      "text/plain": [
       "0.007156055999985256"
      ]
     },
     "execution_count": 169,
     "metadata": {},
     "output_type": "execute_result"
    }
   ],
   "source": [
    "from concurrent.futures import ThreadPoolExecutor\n",
    "from requests_futures.sessions import FuturesSession\n",
    "\n",
    "session = FuturesSession(max_workers=5)\n",
    "cs = []\n",
    "timeit.timeit(lambda: cs.append(get_beer_country(url.format(15002),session)), number=5)"
   ]
  },
  {
   "cell_type": "code",
   "execution_count": 172,
   "metadata": {},
   "outputs": [
    {
     "data": {
      "text/plain": [
       "['', '', '', '', '']"
      ]
     },
     "execution_count": 172,
     "metadata": {},
     "output_type": "execute_result"
    }
   ],
   "source": [
    "cs"
   ]
  },
  {
   "cell_type": "code",
   "execution_count": 175,
   "metadata": {},
   "outputs": [],
   "source": [
    "from concurrent.futures import as_completed\n",
    "from requests_futures.sessions import FuturesSession\n",
    "\n",
    "def get_beer_countries_parall(urls):\n",
    "    countries = []\n",
    "    session = FuturesSession(max_workers=5)\n",
    "    \n",
    "    futures = [session.get(url) for url in urls]\n",
    "    for future in as_completed(futures):\n",
    "        try:\n",
    "            resp = future.result()\n",
    "            soup = BeautifulSoup(resp.content, 'html.parser')\n",
    "            country = soup.find_all(href=lambda x: x and x.startswith('/place/directory/'))[-1].text\n",
    "            countries.append(country)\n",
    "        except:\n",
    "            pass\n",
    "    \n",
    "    return countries"
   ]
  },
  {
   "cell_type": "code",
   "execution_count": 187,
   "metadata": {},
   "outputs": [],
   "source": [
    "def get_swiss_beers_parall(urls):\n",
    "    swissbeers = []\n",
    "    session = FuturesSession(max_workers=5)\n",
    "    \n",
    "    futures = [session.get(url) for url in urls]\n",
    "    for future in as_completed(futures):\n",
    "        try:\n",
    "            resp = future.result()\n",
    "            soup = BeautifulSoup(resp.content, 'html.parser')\n",
    "            country = soup.find_all(href=lambda x: x and x.startswith('/place/directory/'))[-1].text\n",
    "            if country == 'Switzerland':\n",
    "                swissbeers.append(resp.url)\n",
    "        except:\n",
    "            pass\n",
    "    \n",
    "    return swissbeers"
   ]
  },
  {
   "cell_type": "code",
   "execution_count": 176,
   "metadata": {},
   "outputs": [
    {
     "data": {
      "text/plain": [
       "6.967507653000212"
      ]
     },
     "execution_count": 176,
     "metadata": {},
     "output_type": "execute_result"
    }
   ],
   "source": [
    "urls = [url.format(i) for i in range(50)]\n",
    "\n",
    "timeit.timeit(lambda: get_beer_countries_parall(urls), number=1)"
   ]
  },
  {
   "cell_type": "code",
   "execution_count": 195,
   "metadata": {
    "collapsed": true,
    "jupyter": {
     "outputs_hidden": true
    }
   },
   "outputs": [
    {
     "ename": "KeyboardInterrupt",
     "evalue": "",
     "output_type": "error",
     "traceback": [
      "\u001b[0;31m---------------------------------------------------------------------------\u001b[0m",
      "\u001b[0;31mKeyboardInterrupt\u001b[0m                         Traceback (most recent call last)",
      "\u001b[0;32m<ipython-input-195-c3fe206295df>\u001b[0m in \u001b[0;36m<module>\u001b[0;34m\u001b[0m\n\u001b[0;32m----> 1\u001b[0;31m \u001b[0mswiss_beers_urls_to12k\u001b[0m \u001b[0;34m=\u001b[0m \u001b[0mget_swiss_beers_parall\u001b[0m\u001b[0;34m(\u001b[0m\u001b[0;34m[\u001b[0m\u001b[0murl\u001b[0m\u001b[0;34m.\u001b[0m\u001b[0mformat\u001b[0m\u001b[0;34m(\u001b[0m\u001b[0mi\u001b[0m\u001b[0;34m)\u001b[0m \u001b[0;32mfor\u001b[0m \u001b[0mi\u001b[0m \u001b[0;32min\u001b[0m \u001b[0mrange\u001b[0m\u001b[0;34m(\u001b[0m\u001b[0;36m12000\u001b[0m\u001b[0;34m)\u001b[0m\u001b[0;34m]\u001b[0m\u001b[0;34m)\u001b[0m\u001b[0;34m\u001b[0m\u001b[0;34m\u001b[0m\u001b[0m\n\u001b[0m",
      "\u001b[0;32m<ipython-input-187-a1643d79ffb1>\u001b[0m in \u001b[0;36mget_swiss_beers_parall\u001b[0;34m(urls)\u001b[0m\n\u001b[1;32m      4\u001b[0m \u001b[0;34m\u001b[0m\u001b[0m\n\u001b[1;32m      5\u001b[0m     \u001b[0mfutures\u001b[0m \u001b[0;34m=\u001b[0m \u001b[0;34m[\u001b[0m\u001b[0msession\u001b[0m\u001b[0;34m.\u001b[0m\u001b[0mget\u001b[0m\u001b[0;34m(\u001b[0m\u001b[0murl\u001b[0m\u001b[0;34m)\u001b[0m \u001b[0;32mfor\u001b[0m \u001b[0murl\u001b[0m \u001b[0;32min\u001b[0m \u001b[0murls\u001b[0m\u001b[0;34m]\u001b[0m\u001b[0;34m\u001b[0m\u001b[0;34m\u001b[0m\u001b[0m\n\u001b[0;32m----> 6\u001b[0;31m     \u001b[0;32mfor\u001b[0m \u001b[0mfuture\u001b[0m \u001b[0;32min\u001b[0m \u001b[0mas_completed\u001b[0m\u001b[0;34m(\u001b[0m\u001b[0mfutures\u001b[0m\u001b[0;34m)\u001b[0m\u001b[0;34m:\u001b[0m\u001b[0;34m\u001b[0m\u001b[0;34m\u001b[0m\u001b[0m\n\u001b[0m\u001b[1;32m      7\u001b[0m         \u001b[0;32mtry\u001b[0m\u001b[0;34m:\u001b[0m\u001b[0;34m\u001b[0m\u001b[0;34m\u001b[0m\u001b[0m\n\u001b[1;32m      8\u001b[0m             \u001b[0mresp\u001b[0m \u001b[0;34m=\u001b[0m \u001b[0mfuture\u001b[0m\u001b[0;34m.\u001b[0m\u001b[0mresult\u001b[0m\u001b[0;34m(\u001b[0m\u001b[0;34m)\u001b[0m\u001b[0;34m\u001b[0m\u001b[0;34m\u001b[0m\u001b[0m\n",
      "\u001b[0;32m/usr/local/Cellar/python/3.7.5/Frameworks/Python.framework/Versions/3.7/lib/python3.7/concurrent/futures/_base.py\u001b[0m in \u001b[0;36mas_completed\u001b[0;34m(fs, timeout)\u001b[0m\n\u001b[1;32m    238\u001b[0m                             len(pending), total_futures))\n\u001b[1;32m    239\u001b[0m \u001b[0;34m\u001b[0m\u001b[0m\n\u001b[0;32m--> 240\u001b[0;31m             \u001b[0mwaiter\u001b[0m\u001b[0;34m.\u001b[0m\u001b[0mevent\u001b[0m\u001b[0;34m.\u001b[0m\u001b[0mwait\u001b[0m\u001b[0;34m(\u001b[0m\u001b[0mwait_timeout\u001b[0m\u001b[0;34m)\u001b[0m\u001b[0;34m\u001b[0m\u001b[0;34m\u001b[0m\u001b[0m\n\u001b[0m\u001b[1;32m    241\u001b[0m \u001b[0;34m\u001b[0m\u001b[0m\n\u001b[1;32m    242\u001b[0m             \u001b[0;32mwith\u001b[0m \u001b[0mwaiter\u001b[0m\u001b[0;34m.\u001b[0m\u001b[0mlock\u001b[0m\u001b[0;34m:\u001b[0m\u001b[0;34m\u001b[0m\u001b[0;34m\u001b[0m\u001b[0m\n",
      "\u001b[0;32m/usr/local/Cellar/python/3.7.5/Frameworks/Python.framework/Versions/3.7/lib/python3.7/threading.py\u001b[0m in \u001b[0;36mwait\u001b[0;34m(self, timeout)\u001b[0m\n\u001b[1;32m    550\u001b[0m             \u001b[0msignaled\u001b[0m \u001b[0;34m=\u001b[0m \u001b[0mself\u001b[0m\u001b[0;34m.\u001b[0m\u001b[0m_flag\u001b[0m\u001b[0;34m\u001b[0m\u001b[0;34m\u001b[0m\u001b[0m\n\u001b[1;32m    551\u001b[0m             \u001b[0;32mif\u001b[0m \u001b[0;32mnot\u001b[0m \u001b[0msignaled\u001b[0m\u001b[0;34m:\u001b[0m\u001b[0;34m\u001b[0m\u001b[0;34m\u001b[0m\u001b[0m\n\u001b[0;32m--> 552\u001b[0;31m                 \u001b[0msignaled\u001b[0m \u001b[0;34m=\u001b[0m \u001b[0mself\u001b[0m\u001b[0;34m.\u001b[0m\u001b[0m_cond\u001b[0m\u001b[0;34m.\u001b[0m\u001b[0mwait\u001b[0m\u001b[0;34m(\u001b[0m\u001b[0mtimeout\u001b[0m\u001b[0;34m)\u001b[0m\u001b[0;34m\u001b[0m\u001b[0;34m\u001b[0m\u001b[0m\n\u001b[0m\u001b[1;32m    553\u001b[0m             \u001b[0;32mreturn\u001b[0m \u001b[0msignaled\u001b[0m\u001b[0;34m\u001b[0m\u001b[0;34m\u001b[0m\u001b[0m\n\u001b[1;32m    554\u001b[0m \u001b[0;34m\u001b[0m\u001b[0m\n",
      "\u001b[0;32m/usr/local/Cellar/python/3.7.5/Frameworks/Python.framework/Versions/3.7/lib/python3.7/threading.py\u001b[0m in \u001b[0;36mwait\u001b[0;34m(self, timeout)\u001b[0m\n\u001b[1;32m    294\u001b[0m         \u001b[0;32mtry\u001b[0m\u001b[0;34m:\u001b[0m    \u001b[0;31m# restore state no matter what (e.g., KeyboardInterrupt)\u001b[0m\u001b[0;34m\u001b[0m\u001b[0;34m\u001b[0m\u001b[0m\n\u001b[1;32m    295\u001b[0m             \u001b[0;32mif\u001b[0m \u001b[0mtimeout\u001b[0m \u001b[0;32mis\u001b[0m \u001b[0;32mNone\u001b[0m\u001b[0;34m:\u001b[0m\u001b[0;34m\u001b[0m\u001b[0;34m\u001b[0m\u001b[0m\n\u001b[0;32m--> 296\u001b[0;31m                 \u001b[0mwaiter\u001b[0m\u001b[0;34m.\u001b[0m\u001b[0macquire\u001b[0m\u001b[0;34m(\u001b[0m\u001b[0;34m)\u001b[0m\u001b[0;34m\u001b[0m\u001b[0;34m\u001b[0m\u001b[0m\n\u001b[0m\u001b[1;32m    297\u001b[0m                 \u001b[0mgotit\u001b[0m \u001b[0;34m=\u001b[0m \u001b[0;32mTrue\u001b[0m\u001b[0;34m\u001b[0m\u001b[0;34m\u001b[0m\u001b[0m\n\u001b[1;32m    298\u001b[0m             \u001b[0;32melse\u001b[0m\u001b[0;34m:\u001b[0m\u001b[0;34m\u001b[0m\u001b[0;34m\u001b[0m\u001b[0m\n",
      "\u001b[0;31mKeyboardInterrupt\u001b[0m: "
     ]
    }
   ],
   "source": [
    "swiss_beers_urls_to12k = get_swiss_beers_parall([url.format(i) for i in range(12000)])"
   ]
  },
  {
   "cell_type": "markdown",
   "metadata": {},
   "source": [
    "### List all CH breweries from BeerAdvocate with login"
   ]
  },
  {
   "cell_type": "code",
   "execution_count": 298,
   "metadata": {},
   "outputs": [],
   "source": [
    "base_url = 'https://www.beeradvocate.com'\n",
    "def brewery_extract(row):\n",
    "    cols = row.find_all('td')\n",
    "    first_el = cols[0].find('a')\n",
    "    link = base_url +first_el['href']\n",
    "    brewery_name = first_el.text\n",
    "    def treat_dash(text):\n",
    "        if text=='-':\n",
    "            return 'nan'\n",
    "        else:\n",
    "            return text\n",
    "    ratings, nbeers = [treat_dash(x.text) for x in cols[-2:]]\n",
    "    ratings = float(ratings)\n",
    "    nbeers = int(nbeers)\n",
    "    dic = dict(\n",
    "        name = brewery_name, link = link,\n",
    "        ratings = ratings, n_beers = nbeers\n",
    "        )\n",
    "    return dic\n",
    "    "
   ]
  },
  {
   "cell_type": "code",
   "execution_count": 299,
   "metadata": {},
   "outputs": [],
   "source": [
    "def treat_address(list_ad):\n",
    "    ad = ''\n",
    "    for el in list_ad:\n",
    "        if el.name == 'br':\n",
    "            ad += '\\n'\n",
    "        elif el.name == 'a':\n",
    "            ad += el.get_text()\n",
    "        else:\n",
    "            ad += str(el).strip()\n",
    "    ad = ad.split('\\n\\n')\n",
    "    ad = list(map(lambda x: x.strip(), ad))\n",
    "    if len(ad) == 2:\n",
    "        address, tel = ad\n",
    "    else:\n",
    "        address = ad[0]\n",
    "        tel = ''\n",
    "    return dict(address=address, telephone=tel)"
   ]
  },
  {
   "cell_type": "code",
   "execution_count": 302,
   "metadata": {},
   "outputs": [],
   "source": [
    "def breweries_from_page(page):\n",
    "    table_rows = iter(page.find('table').find_all('tr'))\n",
    "    breweries = []\n",
    "    for row in table_rows:\n",
    "        #columns = row.find_all('td')\n",
    "        #table.append([el.text.rstrip() for el in columns])\n",
    "        if row.find(href=lambda x: x and x.startswith('/beer/profile/')):\n",
    "            brew_dic = brewery_extract(row)\n",
    "            address_row = next(table_rows).find('td')\n",
    "            list_ad = list(address_row.children)\n",
    "            brew_dic.update(treat_address(list_ad))\n",
    "            breweries.append(brew_dic)\n",
    "    return breweries"
   ]
  },
  {
   "cell_type": "code",
   "execution_count": 303,
   "metadata": {},
   "outputs": [
    {
     "name": "stdout",
     "output_type": "stream",
     "text": [
      "20\n",
      "40\n",
      "60\n",
      "80\n",
      "100\n",
      "120\n",
      "140\n",
      "160\n"
     ]
    }
   ],
   "source": [
    "s = requests.Session()\n",
    "url_login = 'https://www.beeradvocate.com/community/login/login'\n",
    "\n",
    "with open('ba_credentials','r') as f:\n",
    "    login, password = f.read().splitlines() \n",
    "payload = {'login': login, 'password': password}\n",
    "page = s.post(url_login, data=payload)\n",
    "\n",
    "url_ch_gen = 'https://www.beeradvocate.com/place/list/?start={}&&c_id=CH&brewery=Y&sort=name'\n",
    "start_n = 0\n",
    "search = True\n",
    "breweries_ch = []\n",
    "while search:\n",
    "    brew_page = BeautifulSoup(s.get(url_ch_gen.format(start_n)).content)\n",
    "    more_breweries = brew_page.find_all(href=lambda x: x and x.startswith('/beer/profile/'))\n",
    "    if len(more_breweries) >0 :\n",
    "        breweries_ch += breweries_from_page(brew_page)\n",
    "    else:\n",
    "        search=False\n",
    "    \n",
    "    start_n += 20\n",
    "    print(start_n)\n",
    "    \n"
   ]
  },
  {
   "cell_type": "code",
   "execution_count": 304,
   "metadata": {},
   "outputs": [],
   "source": [
    "breweries_ch_df = pd.DataFrame(breweries_ch)"
   ]
  },
  {
   "cell_type": "code",
   "execution_count": 305,
   "metadata": {},
   "outputs": [
    {
     "data": {
      "text/html": [
       "<div>\n",
       "<style scoped>\n",
       "    .dataframe tbody tr th:only-of-type {\n",
       "        vertical-align: middle;\n",
       "    }\n",
       "\n",
       "    .dataframe tbody tr th {\n",
       "        vertical-align: top;\n",
       "    }\n",
       "\n",
       "    .dataframe thead th {\n",
       "        text-align: right;\n",
       "    }\n",
       "</style>\n",
       "<table border=\"1\" class=\"dataframe\">\n",
       "  <thead>\n",
       "    <tr style=\"text-align: right;\">\n",
       "      <th></th>\n",
       "      <th>name</th>\n",
       "      <th>link</th>\n",
       "      <th>ratings</th>\n",
       "      <th>n_beers</th>\n",
       "      <th>address</th>\n",
       "      <th>telephone</th>\n",
       "    </tr>\n",
       "  </thead>\n",
       "  <tbody>\n",
       "    <tr>\n",
       "      <th>0</th>\n",
       "      <td>4655 Brewing Company</td>\n",
       "      <td>https://www.beeradvocate.com/beer/profile/41488/</td>\n",
       "      <td>NaN</td>\n",
       "      <td>4</td>\n",
       "      <td>Stüsslingen, 4655\\nSwitzerland</td>\n",
       "      <td></td>\n",
       "    </tr>\n",
       "    <tr>\n",
       "      <th>1</th>\n",
       "      <td>523</td>\n",
       "      <td>https://www.beeradvocate.com/beer/profile/44206/</td>\n",
       "      <td>3.79</td>\n",
       "      <td>2</td>\n",
       "      <td>Sonnenweg 30\\nKöniz, 3098\\nSwitzerland</td>\n",
       "      <td>+41 77 450 7655</td>\n",
       "    </tr>\n",
       "    <tr>\n",
       "      <th>2</th>\n",
       "      <td>7Peaks Brasserie</td>\n",
       "      <td>https://www.beeradvocate.com/beer/profile/39040/</td>\n",
       "      <td>2.72</td>\n",
       "      <td>9</td>\n",
       "      <td>Route de la Patinoire 15a\\nMorgins, 1875\\nSwit...</td>\n",
       "      <td>+41 78 797 1875</td>\n",
       "    </tr>\n",
       "    <tr>\n",
       "      <th>3</th>\n",
       "      <td>À tue-tête</td>\n",
       "      <td>https://www.beeradvocate.com/beer/profile/52843/</td>\n",
       "      <td>4.14</td>\n",
       "      <td>9</td>\n",
       "      <td>Chemin de la Biole 10\\nAigle, 1860\\nSwitzerland</td>\n",
       "      <td>+41 79 235 56 49</td>\n",
       "    </tr>\n",
       "    <tr>\n",
       "      <th>4</th>\n",
       "      <td>Ahoi Bier</td>\n",
       "      <td>https://www.beeradvocate.com/beer/profile/42305/</td>\n",
       "      <td>3.67</td>\n",
       "      <td>4</td>\n",
       "      <td>Schlieren, 8952,Switzerland</td>\n",
       "      <td></td>\n",
       "    </tr>\n",
       "    <tr>\n",
       "      <th>...</th>\n",
       "      <td>...</td>\n",
       "      <td>...</td>\n",
       "      <td>...</td>\n",
       "      <td>...</td>\n",
       "      <td>...</td>\n",
       "      <td>...</td>\n",
       "    </tr>\n",
       "    <tr>\n",
       "      <th>135</th>\n",
       "      <td>Volta Bräu</td>\n",
       "      <td>https://www.beeradvocate.com/beer/profile/39036/</td>\n",
       "      <td>NaN</td>\n",
       "      <td>2</td>\n",
       "      <td>Voltastrasse 30\\nBasel, 4056\\nSwitzerland</td>\n",
       "      <td>+41 61 690 91 29</td>\n",
       "    </tr>\n",
       "    <tr>\n",
       "      <th>136</th>\n",
       "      <td>Wadi-Brau-Huss AG</td>\n",
       "      <td>https://www.beeradvocate.com/beer/profile/9378/</td>\n",
       "      <td>NaN</td>\n",
       "      <td>0</td>\n",
       "      <td>Florhofstrasse 13\\nWadenswill, 8820\\nSwitzerland</td>\n",
       "      <td>01 783 9392</td>\n",
       "    </tr>\n",
       "    <tr>\n",
       "      <th>137</th>\n",
       "      <td>Wartauer Seegal Bräu</td>\n",
       "      <td>https://www.beeradvocate.com/beer/profile/39074/</td>\n",
       "      <td>NaN</td>\n",
       "      <td>8</td>\n",
       "      <td>Hauptstrasse 33/35\\nTrübbach, 9477\\nSwitzerland</td>\n",
       "      <td>+41 78 878 19 52</td>\n",
       "    </tr>\n",
       "    <tr>\n",
       "      <th>138</th>\n",
       "      <td>Weedbeer</td>\n",
       "      <td>https://www.beeradvocate.com/beer/profile/32639/</td>\n",
       "      <td>3.00</td>\n",
       "      <td>1</td>\n",
       "      <td>Chemin de l'Etraz 14\\nOrbe, 1350\\nSwitzerland</td>\n",
       "      <td>+41 21 312 68 21</td>\n",
       "    </tr>\n",
       "    <tr>\n",
       "      <th>139</th>\n",
       "      <td>WhiteFrontier Brewery</td>\n",
       "      <td>https://www.beeradvocate.com/beer/profile/38648/</td>\n",
       "      <td>3.79</td>\n",
       "      <td>10</td>\n",
       "      <td>Route des Creux 1\\nBagnes, 1936\\nSwitzerland</td>\n",
       "      <td>+41 79 939 11 73</td>\n",
       "    </tr>\n",
       "  </tbody>\n",
       "</table>\n",
       "<p>140 rows × 6 columns</p>\n",
       "</div>"
      ],
      "text/plain": [
       "                      name                                              link  \\\n",
       "0     4655 Brewing Company  https://www.beeradvocate.com/beer/profile/41488/   \n",
       "1                      523  https://www.beeradvocate.com/beer/profile/44206/   \n",
       "2         7Peaks Brasserie  https://www.beeradvocate.com/beer/profile/39040/   \n",
       "3               À tue-tête  https://www.beeradvocate.com/beer/profile/52843/   \n",
       "4                Ahoi Bier  https://www.beeradvocate.com/beer/profile/42305/   \n",
       "..                     ...                                               ...   \n",
       "135             Volta Bräu  https://www.beeradvocate.com/beer/profile/39036/   \n",
       "136      Wadi-Brau-Huss AG   https://www.beeradvocate.com/beer/profile/9378/   \n",
       "137   Wartauer Seegal Bräu  https://www.beeradvocate.com/beer/profile/39074/   \n",
       "138               Weedbeer  https://www.beeradvocate.com/beer/profile/32639/   \n",
       "139  WhiteFrontier Brewery  https://www.beeradvocate.com/beer/profile/38648/   \n",
       "\n",
       "     ratings  n_beers                                            address  \\\n",
       "0        NaN        4                     Stüsslingen, 4655\\nSwitzerland   \n",
       "1       3.79        2             Sonnenweg 30\\nKöniz, 3098\\nSwitzerland   \n",
       "2       2.72        9  Route de la Patinoire 15a\\nMorgins, 1875\\nSwit...   \n",
       "3       4.14        9    Chemin de la Biole 10\\nAigle, 1860\\nSwitzerland   \n",
       "4       3.67        4                        Schlieren, 8952,Switzerland   \n",
       "..       ...      ...                                                ...   \n",
       "135      NaN        2          Voltastrasse 30\\nBasel, 4056\\nSwitzerland   \n",
       "136      NaN        0   Florhofstrasse 13\\nWadenswill, 8820\\nSwitzerland   \n",
       "137      NaN        8    Hauptstrasse 33/35\\nTrübbach, 9477\\nSwitzerland   \n",
       "138     3.00        1      Chemin de l'Etraz 14\\nOrbe, 1350\\nSwitzerland   \n",
       "139     3.79       10       Route des Creux 1\\nBagnes, 1936\\nSwitzerland   \n",
       "\n",
       "            telephone  \n",
       "0                      \n",
       "1     +41 77 450 7655  \n",
       "2     +41 78 797 1875  \n",
       "3    +41 79 235 56 49  \n",
       "4                      \n",
       "..                ...  \n",
       "135  +41 61 690 91 29  \n",
       "136       01 783 9392  \n",
       "137  +41 78 878 19 52  \n",
       "138  +41 21 312 68 21  \n",
       "139  +41 79 939 11 73  \n",
       "\n",
       "[140 rows x 6 columns]"
      ]
     },
     "execution_count": 305,
     "metadata": {},
     "output_type": "execute_result"
    }
   ],
   "source": [
    "breweries_ch_df"
   ]
  },
  {
   "cell_type": "markdown",
   "metadata": {},
   "source": [
    "## Attemps with Untappd"
   ]
  },
  {
   "cell_type": "code",
   "execution_count": 15,
   "metadata": {},
   "outputs": [],
   "source": [
    "# test untapped\n",
    "#cookies = {'uid': '232323', 'pass': '32323232323232323232323',\n",
    "#           '__cfduid': '2323232323adasdasdasdas78d6asdasjdgawi8d67as'}\n",
    "cookies = {'Name': 'untappd_user_v3_e', \n",
    "           'Value': 'cf983db65cd6570b3aa37c006adf1491321592df48ef861c4c75ad3c12a93d0c20890aba646fcc0d12a8102d34b655df916b54bee8927d0ed18daf7d1fac9880vdaSZ3BwBT8TUKJ14m29MMk8ztYNxJWrCsNgWTFrqXOjt0a6GddRjI2IPA3rXn0EbH0WlNXTT0WvdjeQjdFeZA%3D%3D',\n",
    "           }\n",
    "url_ut = 'https://untappd.com/w/brasserie-des-franches-montagnes-bfm/4719/beer'\n",
    "\n",
    "#page_ut = requests.get(url_ut, cookies=cookies)\n",
    "page_ut = requests.get(url_ut)\n",
    "#soup_ut = BeautifulSoup(page_ut, 'lxml')\n",
    "\n",
    "with open('test_untappd.html','bw') as f:\n",
    "    f.write(page_ut.content)"
   ]
  },
  {
   "cell_type": "code",
   "execution_count": 20,
   "metadata": {},
   "outputs": [],
   "source": [
    "#url_b = 'https://untappd.com/b/brasserie-des-franches-montagnes-bfm-225-saison/270389'\n",
    "url_b = 'https://untappd.com/home'\n",
    "page_ut = requests.get(url_b)\n",
    "\n",
    "with open('test_untappd.html','bw') as f:\n",
    "    f.write(page_ut.content)\n"
   ]
  },
  {
   "cell_type": "code",
   "execution_count": 21,
   "metadata": {},
   "outputs": [
    {
     "data": {
      "text/plain": [
       "b'Too Many Requests'"
      ]
     },
     "execution_count": 21,
     "metadata": {},
     "output_type": "execute_result"
    }
   ],
   "source": [
    "page_ut.content"
   ]
  },
  {
   "cell_type": "markdown",
   "metadata": {},
   "source": [
    "## Scrape data from  RateBeer"
   ]
  },
  {
   "cell_type": "markdown",
   "metadata": {},
   "source": [
    "### List of breweries "
   ]
  },
  {
   "cell_type": "code",
   "execution_count": 126,
   "metadata": {},
   "outputs": [],
   "source": [
    "# Grab list of breweries from RateBeer\n",
    "\n",
    "url_ch_breweries = 'https://www.ratebeer.com/breweries/switzerland/0/191/'\n",
    "page_rb_breweries = requests.get(url_ch_breweries)\n",
    "\n",
    "soup_rb_breweries = BeautifulSoup(page_rb_breweries.content)"
   ]
  },
  {
   "cell_type": "code",
   "execution_count": 155,
   "metadata": {},
   "outputs": [],
   "source": [
    "def treat_row_RB_breweries(row):\n",
    "    base_url = 'https://www.ratebeer.com' \n",
    "    brew, place = row[0].find_all('a')\n",
    "\n",
    "    place = place.text\n",
    "    link = base_url +  brew['href']\n",
    "    name = brew.text.strip()\n",
    "    #row[0]\n",
    "    brewer_type = row[1].text\n",
    "    beer_count = int(row[2].text)\n",
    "    established = int(row[4].text)\n",
    "    brewer= dict(\n",
    "        name=name, link=link,\n",
    "        location=place, brewer_typ=brewer_type,\n",
    "        beer_count=beer_count, established_year=established,\n",
    "    )\n",
    "    return brewer"
   ]
  },
  {
   "cell_type": "code",
   "execution_count": 194,
   "metadata": {},
   "outputs": [],
   "source": [
    "for row in soup_rb_breweries.find('table').find_all('tr'):\n",
    "    l = (len([el for el in row.children]))\n",
    "    if l != 5:\n",
    "        print(l)"
   ]
  },
  {
   "cell_type": "code",
   "execution_count": 199,
   "metadata": {},
   "outputs": [],
   "source": [
    "breweries = []\n",
    "for row in soup_rb_breweries.find('table').find_all('tr'):\n",
    "    row_els = row.find_all('td')\n",
    "    if len(row_els)>1:\n",
    "        breweries.append(treat_row_RB_breweries(row_els))\n"
   ]
  },
  {
   "cell_type": "code",
   "execution_count": 202,
   "metadata": {},
   "outputs": [],
   "source": [
    "breweries_ch_RB_df = pd.DataFrame(breweries)\n"
   ]
  },
  {
   "cell_type": "markdown",
   "metadata": {},
   "source": [
    "### Grabbing more brewery information from RateBeer"
   ]
  },
  {
   "cell_type": "code",
   "execution_count": 172,
   "metadata": {},
   "outputs": [],
   "source": [
    "from selenium import webdriver\n",
    "import time\n",
    "\n",
    "#my_url = breweries_ch_RB_df.loc[12,'link']\n",
    "search_string = 'Ahoi'\n",
    "my_url = breweries_ch_RB_df[breweries_ch_RB_df['name'].apply(lambda s: search_string in s)]['link'].values[0]\n",
    "\n",
    "\n",
    "driver = webdriver.PhantomJS()\n",
    "driver.set_window_position(0, 0)\n",
    "driver.set_window_size(1024, 768)\n",
    "driver.get(my_url)\n",
    "time.sleep(0.5)\n",
    "\n",
    "page_brewery = driver.page_source\n",
    "with open('test_RB.html','w') as f:\n",
    "    f.write(page_brewery)"
   ]
  },
  {
   "cell_type": "code",
   "execution_count": 173,
   "metadata": {},
   "outputs": [],
   "source": [
    "soup_brewery = BeautifulSoup(page_brewery)"
   ]
  },
  {
   "cell_type": "code",
   "execution_count": 169,
   "metadata": {},
   "outputs": [],
   "source": [
    "def treat_brewery_info_RB(soup_brewery, brewer_id):\n",
    "    brewery = {}\n",
    "    brewery['brewer_id'] = brewer_id\n",
    "    brewery['img_link'] = soup_brewery.find(src=lambda x: x and x.startswith(\"https://res.cloudinary.com/ratebeer/image/\"))['src']\n",
    "    brewery['address'] = soup_brewery.find(href=lambda x: x and x.startswith(\"http://maps.google.com/\")).text\n",
    "    brewery['telephone'] = soup_brewery.find(href=lambda x: x and x.startswith(\"tel:\")).text\n",
    "    brewery['website'] = soup_brewery.find(lambda tag:tag.name==\"a\" and \"Website\" in tag.text)['href']\n",
    "    return brewery\n",
    "    "
   ]
  },
  {
   "cell_type": "code",
   "execution_count": 108,
   "metadata": {},
   "outputs": [
    {
     "data": {
      "text/plain": [
       "([1, 100], 161)"
      ]
     },
     "execution_count": 108,
     "metadata": {},
     "output_type": "execute_result"
    }
   ],
   "source": [
    "beers_per_page = soup_brewery.find_all(class_='MuiTypography-root MuiTablePagination-caption MuiTypography-body2 MuiTypography-colorInherit')[1].text.split()\n",
    "tot_beers = int(beers_per_page[2])\n",
    "beers_at_page = list(map(int,beers_per_page[0].split('-')))\n",
    "beers_at_page, tot_beers"
   ]
  },
  {
   "cell_type": "code",
   "execution_count": 206,
   "metadata": {},
   "outputs": [],
   "source": [
    "def treat_RB_beer_row(row, brewer_id, debug=False):\n",
    "    list_els = []\n",
    "    for el in row.find_all(class_=lambda x: x and x.startswith('MuiTypography')):\n",
    "        list_els.append(el.text)\n",
    "    if len(list_els) < 9:\n",
    "        return None\n",
    "    active = True\n",
    "    if len(list_els) > 9:\n",
    "        if debug:\n",
    "            print(list_els)\n",
    "        if 'RETIRED' in list_els[1]:\n",
    "            active = False\n",
    "            list_els.pop(1)\n",
    "        too_many = len(list_els) - 9\n",
    "        list_els = [el for i, el in enumerate(list_els) \n",
    "                    if  not (i in list(range(2,2+too_many)))]\n",
    "    name = list_els[0]\n",
    "    style = list_els[1]\n",
    "    if list_els[3] == '':\n",
    "        list_els[3]= 'nan'\n",
    "    ratings_avg = float(list_els[3].replace('-', 'nan'))\n",
    "    score_overall = int(list_els[4].replace('-', '0'))\n",
    "    score_style = int(list_els[5].replace('-', '0'))\n",
    "    number_ratings = int(list_els[6].replace('-', '0'))\n",
    "    alcohol_perc = float(list_els[7].replace('-', 'nan'))\n",
    "    added_date = list_els[8]\n",
    "    \n",
    "    link = ('https://www.ratebeer.com' + \n",
    "        row.find(href=lambda x: x and x.startswith(\"/beer\"))['href'])\n",
    "    beer = dict(\n",
    "        name=name, link=link, style=style, active=active, \n",
    "        ratings_avg=ratings_avg, number_ratings=number_ratings,\n",
    "        score_overall=score_overall, score_style=score_style,\n",
    "        alcohol_perc=alcohol_perc, date_added=added_date,\n",
    "        brewer_id=brewer_id,\n",
    "        )\n",
    "    return beer\n",
    "    "
   ]
  },
  {
   "cell_type": "code",
   "execution_count": 184,
   "metadata": {
    "collapsed": true,
    "jupyter": {
     "outputs_hidden": true
    }
   },
   "outputs": [
    {
     "name": "stdout",
     "output_type": "stream",
     "text": [
      "['Ahoi Bier Mango Blonde', 'Flavored - Fruit', '-', '3.04', '-', '-', '1', '6.0', 'Sep 16, 2019']\n",
      "['Ahoi Bier Black Pale Ale', 'Flavored - Other', '-', '3.15', '-', '-', '1', '5.5', 'Dec 28, 2018']\n",
      "['Ahoi Bier Belgian Triple', 'Tripel', '-', '3.11', '-', '-', '1', '9.0', 'Dec 28, 2018']\n",
      "['Ahoi Bier Eukalyptic', 'Flavored - Other', '-', '', '-', '-', '1', '5.0', 'Nov 19, 2016']\n",
      "['Ahoi Bier Passion Fruit', 'Flavored - Fruit', '-', '3.19', '-', '-', '3', '5.6', 'Nov 8, 2016']\n",
      "['Ahoi Bier / Probier Böögzilla', 'Pale Ale - American / APA', '-', '2.89', '-', '-', '1', '4.9', 'Apr 18, 2016']\n",
      "['Ahoi Bier Smoky Pistolero', 'Smoked - Rauchbier', '-', '3.29', '-', '-', '4', '7.6', 'Apr 18, 2016']\n",
      "['Ahoi Bier Whiskey Bier', 'Smoked - Rauchbier', '-', '3.12', '-', '-', '3', '5.1', 'Mar 22, 2016']\n",
      "['Ahoi Bier Muscovado Lab Version', 'IIPA - Imperial / Double IPA', '-', '3.05', '-', '-', '2', '9.3', 'Jan 16, 2016']\n",
      "['Ahoi Bier Spruce Lee', 'Red Ale / Intl Amber Ale', '-', '3.09', '-', '-', '2', '6.2', 'Jan 16, 2016']\n",
      "['Ahoi Bier Belgian Blonde', 'Belgian Ale - Pale / Golden', '-', '3.03', '-', '-', '4', '6.0', 'Dec 22, 2015']\n",
      "['Ahoi Bier Sorachi Ace Lab Version', 'IPA', '-', '3.13', '-', '-', '1', '6.9', 'Dec 18, 2015']\n",
      "['Ahoi Bier Black Pearl IPA', 'IPA - Black/Brown/Cascadian Dark', '-', '2.90', '-', '-', '2', '7.2', 'Nov 20, 2015']\n",
      "['Ahoi Bier Bandits Finest IPA', 'IPA', '-', '3.23', '-', '-', '4', '6.9', 'Nov 20, 2015']\n",
      "['Ahoi Bier Hafenkran Helles', 'Helles / Dortmunder Export', '-', '2.98', '-', '-', '2', '5.3', 'Nov 14, 2015']\n",
      "['Ahoi Bier Barbarossa', 'Belgian Ale - Strong Pale', '-', '3.07', '-', '-', '4', '9.7', 'Oct 9, 2015']\n",
      "['Ahoi Bier Knock Stout', 'Stout', '-', '2.91', '-', '-', '2', '4.6', 'Sep 7, 2015']\n",
      "['Ahoi Bier Navigationsbier', 'Pale Ale - American / APA', '-', '3.30', '-', '-', '4', '5.4', 'Sep 7, 2015']\n"
     ]
    },
    {
     "data": {
      "text/plain": [
       "{'name': 'Ahoi Bier Belgian Triple',\n",
       " 'style': 'Tripel',\n",
       " 'active': True,\n",
       " 'ratings_avg': 3.11,\n",
       " 'number_ratings': 1,\n",
       " 'score_overall': 0,\n",
       " 'score_style': 0,\n",
       " 'alcohol_perc': 9.0,\n",
       " 'date_added': 'Dec 28, 2018',\n",
       " 'brewer_id': -1}"
      ]
     },
     "execution_count": 184,
     "metadata": {},
     "output_type": "execute_result"
    }
   ],
   "source": [
    "list_brews = []\n",
    "for row in soup_brewery.find_all('tr'):\n",
    "    r = []\n",
    "    #for el in row.find_all('td'):\n",
    "    #for el in row.find_all(class_=lambda x: x and x.startswith('MuiTypography')):\n",
    "    #    r.append(el.text)\n",
    "    #list_brews.append(r)\n",
    "    new_beer = treat_RB_beer_row(row, -1, debug=True)\n",
    "    if new_beer:\n",
    "        list_brews.append(new_beer)\n",
    "#list(map(len,list_brews))\n",
    "list_brews[2]\n"
   ]
  },
  {
   "cell_type": "code",
   "execution_count": 63,
   "metadata": {},
   "outputs": [],
   "source": [
    "# Click to access page 2\n",
    "\n",
    "#xpath = '/html/body/div[3]/div[2]/div[1]/div[2]/div[1]/div[2]/table/tfoot/tr/td/div/div[2]/div/div[3]/button[2]/html/body/div[3]/div[2]/div[1]/div[2]/div[1]/div[2]/table/tfoot/tr/td/div/div[2]/div/div[3]/button[2]/html/body/div[3]/div[2]/div[1]/div[2]/div[1]/div[2]/table/tfoot/tr/td/div/div[2]/div/div[3]/button[2]/html/body/div[3]/div[2]/div[1]/div[2]/div[1]/div[2]/table/tfoot/tr/td/div/div[2]/div/div[3]/button[2]/html/body/div[3]/div[2]/div[1]/div[2]/div[1]/div[2]/table/tfoot/tr/td/div/div[2]/div/div[3]/button[2]/html/body/div[3]/div[2]/div[1]/div[2]/div[1]/div[2]/table/tfoot/tr/td/div/div[2]/div/div[3]/button[2]/html/body/div[3]/div[2]/div[1]/div[2]/div[1]/div[2]/table/tfoot/tr/td/div/div[2]/div/div[3]/button[2]/html/body/div[3]/div[2]/div[1]/div[2]/div[1]/div[2]/table/tfoot/tr/td/div/div[2]/div/div[3]/button[2]/html/body/div[3]/div[2]/div[1]/div[2]/div[1]/div[2]/table/tfoot/tr/td/div/div[2]/div/div[3]/button[2]'\n",
    "xpath = \"//button[@class='MuiButtonBase-root MuiIconButton-root MuiIconButton-colorInherit']\"\n",
    "\n",
    "elem = driver.find_element_by_xpath(xpath)\n",
    "elem.click()\n",
    "page_brewery2 = driver.page_source\n",
    "with open('test_RB_2.html','w') as f:\n",
    "    f.write(page_brewery2)"
   ]
  },
  {
   "cell_type": "code",
   "execution_count": 171,
   "metadata": {},
   "outputs": [],
   "source": [
    "from selenium import webdriver\n",
    "from selenium.webdriver.support.ui import WebDriverWait\n",
    "from selenium.webdriver.support import expected_conditions as EC\n",
    "from selenium.webdriver.common.by import By\n",
    "from selenium.common.exceptions import TimeoutException\n",
    "import warnings\n",
    "import time\n",
    "\n",
    "def load_RB_page(url_brewer, debug=False):\n",
    "    warnings.filterwarnings('ignore')\n",
    "    driver = webdriver.PhantomJS()\n",
    "    driver.set_window_position(0, 0)\n",
    "    driver.set_window_size(1024, 768)\n",
    "    \n",
    "    failing = True \n",
    "    count = 0\n",
    "    while failing:\n",
    "        if debug:\n",
    "            print(count, end='')\n",
    "        try: \n",
    "            driver.get(url_brewer)\n",
    "            time.sleep(0.5)\n",
    "            treat_brewery_info_RB(BeautifulSoup(driver.page_source), -1)\n",
    "            return driver\n",
    "        except KeyboardInterrupt:\n",
    "            raise\n",
    "        except:\n",
    "            pass\n",
    "        count += 1\n",
    "        if count > 5:\n",
    "            break\n",
    "    \n",
    "    \n",
    "    #delay = 0.5 # seconds\n",
    "    #\n",
    "    #xpath = \"//button[@class='MuiButtonBase-root MuiIconButton-root MuiIconButton-colorInherit']\"\n",
    "    #try:\n",
    "    #    myElem = WebDriverWait(driver, delay).until(\n",
    "    #        #EC.presence_of_element_located((By.XPATH, xpath)))\n",
    "    #        EC.presence_of_element_located((By.ID, 'root')))\n",
    "    #    return driver\n",
    "    #except TimeoutException:\n",
    "    #    print(\"Loading took too much time!\")"
   ]
  },
  {
   "cell_type": "code",
   "execution_count": 210,
   "metadata": {},
   "outputs": [],
   "source": [
    "from selenium import webdriver\n",
    "import time\n",
    "\n",
    "def treat_brewery_page_RB(url_brewer, brewer_id, debug=False):\n",
    "    driver = load_RB_page(url_brewer, debug)\n",
    "    soup_brewery = BeautifulSoup(driver.page_source)\n",
    "    if debug:\n",
    "        with open('test_RB_debug_page1.html','w') as f:\n",
    "            f.write(driver.page_source)\n",
    "        \n",
    "    brewer_info = treat_brewery_info_RB(soup_brewery, brewer_id)\n",
    "    list_brews = []\n",
    "    for row in soup_brewery.find_all('tr'):\n",
    "        new_beer = treat_RB_beer_row(row, brewer_id)\n",
    "        if new_beer:\n",
    "            list_brews.append(new_beer)\n",
    "    \n",
    "    beers_per_page = soup_brewery.find_all(class_='MuiTypography-root MuiTablePagination-caption MuiTypography-body2 MuiTypography-colorInherit')[1].text.split()\n",
    "    tot_beers = int(beers_per_page[2])\n",
    "    if debug:\n",
    "        print(tot_beers)\n",
    "    if tot_beers > 100:\n",
    "        xpath = \"//button[@class='MuiButtonBase-root MuiIconButton-root MuiIconButton-colorInherit']\"\n",
    "        elem = driver.find_element_by_xpath(xpath)\n",
    "        elem.click()\n",
    "        time.sleep(1)\n",
    "        \n",
    "        soup_brewery2 = BeautifulSoup(driver.page_source)\n",
    "        if debug:\n",
    "            with open('test_RB_debug_page2.html','w') as f:\n",
    "                f.write(driver.page_source)\n",
    "        list_brews_2 = []\n",
    "        for row in soup_brewery2.find_all('tr'):\n",
    "            new_beer = treat_RB_beer_row(row, brewer_id)\n",
    "            if new_beer:\n",
    "                list_brews_2.append(new_beer)\n",
    "        if debug:\n",
    "            print(len(list_brews_2))\n",
    "        list_brews = list_brews + list_brews_2\n",
    "        \n",
    "    return brewer_info, list_brews\n",
    "    "
   ]
  },
  {
   "cell_type": "code",
   "execution_count": 213,
   "metadata": {
    "collapsed": true,
    "jupyter": {
     "outputs_hidden": true
    }
   },
   "outputs": [
    {
     "name": "stdout",
     "output_type": "stream",
     "text": [
      "Starting with brewer 1386 Das Sempacher Bier...'NoneType' object has no attribute 'page_source'\n",
      "'NoneType' object has no attribute 'page_source'\n",
      "list index out of range\n",
      "Done\n",
      "Starting with brewer 1936 Bière...Done\n",
      "Starting with brewer 3 Finger Joe...Done\n",
      "Starting with brewer 4655 Brewing Company...Done\n",
      "Starting with brewer 7Peaks Brasserie...Done\n",
      "Starting with brewer À Tue-Tête!...list index out of range\n",
      "list index out of range\n",
      "Done\n",
      "Starting with brewer aabachbier...list index out of range\n",
      "Done\n",
      "Starting with brewer Aare Bier...list index out of range\n",
      "list index out of range\n",
      "Done\n",
      "Starting with brewer Aathaler-Bräu...Done\n",
      "Starting with brewer Ackermann...list index out of range\n",
      "Done\n",
      "Starting with brewer Ademus...Done\n",
      "Starting with brewer Aemme...Done\n",
      "Starting with brewer Ahoi Bier...Done\n",
      "Starting with brewer Aigèbraij...Done\n",
      "Starting with brewer Alpenbrauerei GIRUN...Done\n",
      "Starting with brewer Altes Tramdepot...Done\n",
      "Starting with brewer Amboss...list index out of range\n",
      "Done\n",
      "Starting with brewer Amicale des Brasseurs de Vollèges...Done\n",
      "Starting with brewer Arlibrau...Done\n",
      "Starting with brewer Arosa Edel...Done\n",
      "Starting with brewer Arosabräu...Done\n",
      "Starting with brewer Augenbrauerei Biel...Done\n",
      "Starting with brewer B.U.G. (Brasserie Urbaine Genevoise)...Done\n",
      "Starting with brewer Baar...Done\n",
      "Starting with brewer Bachweg Brewing...Done\n",
      "Starting with brewer BadFish Brewery...list index out of range\n",
      "Done\n",
      "Starting with brewer BAF...Done\n",
      "Starting with brewer Bannwald...Done\n",
      "Starting with brewer Barbière...Done\n",
      "Starting with brewer Barfuss...Done\n",
      "Starting with brewer Bärg Bier (trinkbar)...Done\n",
      "Starting with brewer Barrel Brewing Interlaken...Done\n",
      "Starting with brewer Bartis...Done\n",
      "Starting with brewer Baselbieter Bier...Done\n",
      "Starting with brewer Bäsibräu...Done\n",
      "Starting with brewer Bäupbärger Bier...Done\n",
      "Starting with brewer Bear'n'Stein...Done\n",
      "Starting with brewer Benedix Klosterbräu...Done\n",
      "Starting with brewer Berlibus...Done\n",
      "Starting with brewer Bertbier...Done\n",
      "Starting with brewer BFM (Brasserie des Franches-Montagnes)...Done\n",
      "Starting with brewer Bier Factory Rapperswil...Done\n",
      "Starting with brewer Bier von Vier...Done\n",
      "Starting with brewer Biera Engiadinaisa...Done\n",
      "Starting with brewer Bière des Zähringen...Done\n",
      "Starting with brewer Bière du Lac...list index out of range\n",
      "Done\n",
      "Starting with brewer Bière du Pendule...list index out of range\n",
      "Done\n",
      "Starting with brewer Bières De Neuch...Done\n",
      "Starting with brewer Bières des Minibulles...Done\n",
      "Starting with brewer Bières du Niton...Done\n",
      "Starting with brewer Bières&Co...Done\n",
      "Starting with brewer biergarage.ch...Done\n",
      "Starting with brewer BierKlub...Done\n",
      "Starting with brewer Biervision Monstein...Done\n",
      "Starting with brewer Bierwerkstatt Eberhard...Done\n",
      "Starting with brewer Bierwerkstatt NordSud...Done\n",
      "Starting with brewer Bironsa...Done\n",
      "Starting with brewer Birra Bozz...Done\n",
      "Starting with brewer Birra Schmid...list index out of range\n",
      "Done\n",
      "Starting with brewer Birreria Pacific...Done\n",
      "Starting with brewer Birrificio del Pirata...Done\n",
      "Starting with brewer Birrificio di Preonzo...Done\n",
      "Starting with brewer Birrificio Due Fusti...Done\n",
      "Starting with brewer Birrificio Monte Lema...Done\n",
      "Starting with brewer Birrificio No Land...list index out of range\n",
      "Done\n",
      "Starting with brewer Birrificio Sottobisio...list index out of range\n",
      "Done\n",
      "Starting with brewer Birrificio Ticinese San Martino (Schützengarten)...Done\n",
      "Starting with brewer Birrificio Valle Maggia SA...Done\n",
      "Starting with brewer Bîrtel...list index out of range\n",
      "Done\n",
      "Starting with brewer Bisbino...Done\n",
      "Starting with brewer Bischoff...Done\n",
      "Starting with brewer BlackDot Brewery...Done\n",
      "Starting with brewer Blackwell Brewery...Done\n",
      "Starting with brewer Blanche Pierre...Done\n",
      "Starting with brewer Blaser Getränke...Done\n",
      "Starting with brewer BLZ Company...Done\n",
      "Starting with brewer Bodensee (Moosholz)...Done\n",
      "Starting with brewer Boss'Beer...Done\n",
      "Starting with brewer Boxer...list index out of range\n",
      "Done\n",
      "Starting with brewer Brädele Bräu...Done\n",
      "Starting with brewer Brasse-Mortier (formerly L'Enclave)...Done\n",
      "Starting with brewer Brasserie Artisanale Broyarde...Done\n",
      "Starting with brewer Brasserie Artisanale de Giez (b.a.g.)...Done\n",
      "Starting with brewer Brasserie Artisanale des Molettes...list index out of range\n",
      "Done\n",
      "Starting with brewer Brasserie BlackPig...Done\n",
      "Starting with brewer Brasserie de Champagne (A&F Kaess)...Done\n",
      "Starting with brewer Brasserie de Couvaloup...Done\n",
      "Starting with brewer Brasserie de l'atelier...Done\n",
      "Starting with brewer Brasserie de la Côte...list index out of range\n",
      "list index out of range\n",
      "Done\n",
      "Starting with brewer Brasserie de la Fontaine (formerly Café du Marché)...Done\n",
      "Starting with brewer Brasserie de La Meute...Done\n",
      "Starting with brewer Brasserie de La Mine...Done\n",
      "Starting with brewer Brasserie de l'ANNWN...Done\n",
      "Starting with brewer Brasserie des 3 Lacs...Done\n",
      "Starting with brewer Brasserie des Alpes...Done\n",
      "Starting with brewer Brasserie des Bains...Done\n",
      "Starting with brewer Brasserie des Cailloux (formerly la Brasserie du Trio)...Done\n",
      "Starting with brewer Brasserie des Celtes...Done\n",
      "Starting with brewer Brasserie des Condémines...Done\n",
      "Starting with brewer Brasserie des Coudres...Done\n",
      "Starting with brewer Brasserie des Gros...Done\n",
      "Starting with brewer Brasserie des Mines...Done\n",
      "Starting with brewer Brasserie des Tours...Done\n",
      "Starting with brewer Brasserie du Cerbère...Done\n",
      "Starting with brewer Brasserie du Château...Done\n",
      "Starting with brewer Brasserie du Dzô...Done\n",
      "Starting with brewer Brasserie du Haut-Lac...Done\n",
      "Starting with brewer Brasserie du Manoir...Done\n",
      "Starting with brewer Brasserie du Mât...Done\n",
      "Starting with brewer Brasserie du Singe...list index out of range\n",
      "Done\n",
      "Starting with brewer Brasserie du Temps...Done\n",
      "Starting with brewer Brasserie du Virage...list index out of range\n",
      "list index out of range\n",
      "Done\n",
      "Starting with brewer Brasserie Gonzo...Done\n",
      "Starting with brewer Brasserie la Collégiale...Done\n",
      "Starting with brewer Brasserie la Concorde...Done\n",
      "Starting with brewer Brasserie La P'tite Anglaise...Done\n",
      "Starting with brewer Brasserie Le Fou du Roi...Done\n",
      "Starting with brewer Brâthèrie di Yêrdza / Brasserie des Écureuils...Done\n",
      "Starting with brewer Brau AG Langenthal...list index out of range\n",
      "Done\n",
      "Starting with brewer Brau Bandi...Done\n",
      "Starting with brewer Brau Rebel...list index out of range\n",
      "list index out of range\n",
      "Done\n",
      "Starting with brewer Brauage du Garage à la Plage...Done\n",
      "Starting with brewer BrauArt Brenzikofen...Done\n",
      "Starting with brewer Braubär...Done\n",
      "Starting with brewer Braubude Basel...Done\n",
      "Starting with brewer Brauerei 8406...Done\n",
      "Starting with brewer Brauerei Adler AG...list index out of range\n",
      "Done\n",
      "Starting with brewer Brauerei Hoch & Jung...Done\n",
      "Starting with brewer Brauerei Kraftstoff...Done\n",
      "Starting with brewer Brauerei Maihof...Done\n",
      "Starting with brewer Brauerei Sutton...Done\n",
      "Starting with brewer Brauerei Thun...Done\n",
      "Starting with brewer Brauerei Uster (Braukultur AG)...Done\n",
      "Starting with brewer Brauerei.sh (formerly Hegaustross)...Done\n",
      "Starting with brewer BrauerTom...Done\n",
      "Starting with brewer Brauhaus Sternen...Done\n",
      "Starting with brewer Brauhuus 531...Done\n",
      "Starting with brewer Braukeller Mumi...Done\n",
      "Starting with brewer Braukunst Bern...list index out of range\n",
      "list index out of range\n",
      "Done\n",
      "Starting with brewer Braulabor...Done\n",
      "Starting with brewer Braumanufaktur Schlachthuus...Done\n",
      "Starting with brewer Braumanufaktur Sunneberg...Done\n",
      "Starting with brewer BrauStation Sursee...Done\n",
      "Starting with brewer Brausyndikat...Done\n",
      "Starting with brewer Brauverein Pfäffikon...Done\n",
      "Starting with brewer Brauwerk (Oberweningen)...Done\n",
      "Starting with brewer Brauwerkstatt Edelholz...Done\n",
      "Starting with brewer Brauwerkstatt Egghubel...list index out of range\n",
      "list index out of range\n",
      "list index out of range\n",
      "list index out of range\n",
      "Failed with brewer Brauwerkstatt Egghubel\n",
      "Done\n",
      "Starting with brewer Brauwerkstatt Jegenstorf...Done\n",
      "Starting with brewer Brauwerkstatt Kriens...Done\n",
      "Starting with brewer Brauwerkstatt van Maisenberg...Done\n",
      "Starting with brewer BrewBrothers...Done\n",
      "Starting with brewer Brewdaz...Done\n",
      "Starting with brewer Brisenbräu...Done\n",
      "Starting with brewer Bro's Bräu...Done\n",
      "Starting with brewer Broken City Brewing...Done\n",
      "Starting with brewer Brüll! Bier...Done\n",
      "Starting with brewer Brummbacher...Done\n",
      "Starting with brewer BrüW...list index out of range\n",
      "Done\n",
      "Starting with brewer Brygger Øl...Done\n",
      "Starting with brewer Büchler zu Mägenwil...list index out of range\n",
      "Done\n",
      "Starting with brewer Budken...list index out of range\n",
      "Done\n",
      "Starting with brewer Buechibärgerbier...Done\n",
      "Starting with brewer Büffelbier...list index out of range\n",
      "Done\n",
      "Starting with brewer Burg Braui...Done\n",
      "Starting with brewer Burgbier...Done\n",
      "Starting with brewer Burgdorfer Gasthausbrauerei...list index out of range\n",
      "Done\n",
      "Starting with brewer Burggütli-Bräu...list index out of range\n",
      "Done\n",
      "Starting with brewer BZW (Bierzunft Wehntal)...Done\n",
      "Starting with brewer canobeer...Done\n",
      "Starting with brewer Cap'taine Mousse...Done\n",
      "Starting with brewer Carambier...Done\n",
      "Starting with brewer Cathélaz...Done\n",
      "Starting with brewer Cave des Brasseurs (Brasserie Artisanale de Porrentruy)...Done\n",
      "Starting with brewer Cayon's Brewery...Done\n",
      "Starting with brewer Celestial...Done\n",
      "Starting with brewer Celsius (Brasserie Artisanale d'Ayent)...Done\n",
      "Starting with brewer Cercle des Brasseurs de Bure...Done\n",
      "Starting with brewer Chicco-Bräu...Done\n",
      "Starting with brewer Chien Bleu...Done\n",
      "Starting with brewer Chomer Braukunst (Abi & Abi)...Done\n",
      "Starting with brewer Churerbier...Done\n",
      "Starting with brewer Cinq 4000...Done\n",
      "Starting with brewer Cormano Vini...Done\n",
      "Starting with brewer CôteWest Brewing...Done\n",
      "Starting with brewer Courage Bier...Done\n",
      "Starting with brewer Cow Water...Done\n",
      "Starting with brewer Craftfeld...Done\n",
      "Starting with brewer Culina-Bräu...Done\n",
      "Starting with brewer CVL Brewers (Chen Van Loon)...list index out of range\n",
      "list index out of range\n",
      "Done\n",
      "Starting with brewer Damijo...list index out of range\n",
      "list index out of range\n",
      "list index out of range\n",
      "list index out of range\n",
      "list index out of range\n",
      "Failed with brewer Damijo\n",
      "Done\n",
      "Starting with brewer Damn Good Food & Beverages...Done\n",
      "Starting with brewer Danidrinks...Done\n",
      "Starting with brewer Davoser Craft Beer...Done\n",
      "Starting with brewer dear.beer...Done\n",
      "Starting with brewer Degenbier...Done\n",
      "Starting with brewer Deux Casseroles...Done\n",
      "Starting with brewer Deux Souris...Done\n",
      "Starting with brewer Diocèse de Lausanne, Genève et Fribourg...Done\n",
      "Starting with brewer Dive Bär...Done\n",
      "Starting with brewer Divus...Done\n",
      "Starting with brewer Docteur Gab's...Done\n",
      "Starting with brewer Domaines Rouvinez...Done\n",
      "Starting with brewer Doppelleu Brauwerkstatt...Done\n",
      "Starting with brewer Dr. Brauwolf...Done\n",
      "Starting with brewer Drachenbräu...list index out of range\n",
      "Done\n",
      "Starting with brewer Drei Tannen...Done\n",
      "Starting with brewer Dünnern...list index out of range\n",
      "Done\n",
      "Starting with brewer Dystopian Brewing...Done\n",
      "Starting with brewer Echec & Malt...Done\n",
      "Starting with brewer ECM Bräu...Done\n",
      "Starting with brewer Egger...Done\n",
      "Starting with brewer Eichhof (Heineken)...Done\n",
      "Starting with brewer Einhorn-Bräu...Done\n",
      "Starting with brewer Eisbock...list index out of range\n",
      "Done\n",
      "Starting with brewer El Caballero...Done\n",
      "Starting with brewer Ela Bier...Done\n",
      "Starting with brewer Element (formerly Gaggia Bräu)...Done\n",
      "Starting with brewer Elgger Nachbarbräu...Done\n",
      "Starting with brewer Em Basler sy Bier...Done\n",
      "Starting with brewer Emdbräu...Done\n",
      "Starting with brewer Endo-Bier...Done\n",
      "Starting with brewer Endstation...Done\n",
      "Starting with brewer Engadiner Bier...Done\n",
      "Starting with brewer Engelberger Klosterbräu...Done\n",
      "Starting with brewer Entlebucher Bier...Done\n",
      "Starting with brewer Erusbacher & Paul...Done\n",
      "Starting with brewer Euelbräu...Done\n",
      "Starting with brewer Extra-Muros...Done\n",
      "Starting with brewer Faberbräu...Done\n",
      "Starting with brewer Faex...Done\n",
      "Starting with brewer Fahrtwind (Mobile-Bräu)...Done\n",
      "Starting with brewer Falken...Done\n",
      "Starting with brewer Falkenbräu Baden...Done\n",
      "Starting with brewer Farnsburg...Done\n",
      "Starting with brewer Feldschlösschen (Carlsberg)...Done\n",
      "Starting with brewer Felsenau...Done\n",
      "Starting with brewer Fischerstube...Done\n",
      "Starting with brewer Fjord & Fjell...Done\n",
      "Starting with brewer Fläsche...Done\n",
      "Starting with brewer Fleisch & Brau (Seisler-Bier)...Done\n",
      "Starting with brewer Fleur de Lyss...Done\n",
      "Starting with brewer Flösserbräu...Done\n",
      "Starting with brewer FMR (Federation of Malted Republics)...Done\n",
      "Starting with brewer Föhrenbier Manufaktur...Done\n",
      "Starting with brewer Four Elements...Done\n",
      "Starting with brewer Freiburger Biermanufaktur...Done\n",
      "Starting with brewer Freihof...Done\n",
      "Starting with brewer Freistoff...Done\n",
      "Starting with brewer Frères Papinot...Done\n",
      "Starting with brewer Fresh Beer Club...Done\n",
      "Starting with brewer Fri-Mousse...Done\n",
      "Starting with brewer Full House Brewery...Done\n",
      "Starting with brewer G48...Done\n",
      "Starting with brewer Gässli-Bräu...Done\n",
      "Starting with brewer Genossenschaft Keimling...Done\n",
      "Starting with brewer Geronimo Bräu...Done\n",
      "Starting with brewer Getränke Lussi...Done\n",
      "Starting with brewer Getränke Wüthrich AG...Done\n",
      "Starting with brewer GibbonBräu...Done\n",
      "Starting with brewer Gili Bräu...Done\n",
      "Starting with brewer Gimlé...Done\n",
      "Starting with brewer Glattfelder...Done\n",
      "Starting with brewer Gleis 1 Bier...Done\n",
      "Starting with brewer Glouglou...Done\n",
      "Starting with brewer Gnädinger Bräu...Done\n",
      "Starting with brewer Gottardo...Done\n",
      "Starting with brewer Grain (Zürich)...Done\n",
      "Starting with brewer Granicum Grenchner-Bräu...Done\n",
      "Starting with brewer Grimm...list index out of range\n",
      "Done\n",
      "Starting with brewer Güegi-Quell...Done\n",
      "Starting with brewer Guldenbräu...list index out of range\n",
      "list index out of range\n",
      "Done\n",
      "Starting with brewer Guldentaler Bier...Done\n",
      "Starting with brewer Güschu 58...list index out of range\n",
      "Done\n",
      "Starting with brewer Gutknecht's Hammer-Bier...Done\n",
      "Starting with brewer Haarige Kuh...Done\n",
      "Starting with brewer Harbour House...Done\n",
      "Starting with brewer Hardeggerperle...Done\n",
      "Starting with brewer Hardwald...Done\n",
      "Starting with brewer Hasebärgbraui...Done\n",
      "Starting with brewer Haslital Bier (KronenAdler Braukultur)...Done\n",
      "Starting with brewer Haxli Schwändi Bräu...Done\n",
      "Starting with brewer Heaven distribution AG...Done\n",
      "Starting with brewer Hecht Bier...Done\n",
      "Starting with brewer Heerbrugger Bier...Done\n",
      "Starting with brewer Heineken Switzerland...Done\n",
      "Starting with brewer heitereBRÄU...Done\n",
      "Starting with brewer Hermann Bier...Done\n",
      "Starting with brewer Herzbräu...Done\n",
      "Starting with brewer High5...list index out of range\n",
      "Done\n",
      "Starting with brewer Hochdorfer Bier...Done\n",
      "Starting with brewer Hof-Braui...Done\n",
      "Starting with brewer Hohgant...Done\n",
      "Starting with brewer HOPe...Done\n",
      "Starting with brewer Hopfentropfen...list index out of range\n",
      "Done\n",
      "Starting with brewer Hopfetopf...Done\n",
      "Starting with brewer Hoppy Hour...Done\n",
      "Starting with brewer Hoppy People...Done\n",
      "Starting with brewer Hordeum...Done\n",
      "Starting with brewer Horseshoe Braui...Done\n",
      "Starting with brewer HuM (hopfenundmalz)...Done\n",
      "Starting with brewer Hundsbräu...list index out of range\n",
      "Done\n",
      "Starting with brewer Hüttenbräu...Done\n",
      "Starting with brewer Huus-Braui...Done\n",
      "Starting with brewer Ilanzer Bier...Done\n",
      "Starting with brewer Illauer Brauer...Done\n",
      "Starting with brewer im Berg...Done\n",
      "Starting with brewer Im Grindel 6...Done\n",
      "Starting with brewer Impulsion...Done\n",
      "Starting with brewer Innerthal (Aubrig Bier)...Done\n",
      "Starting with brewer JamesBRÄU...Done\n",
      "Starting with brewer Jolimont...Done\n",
      "Starting with brewer Joranbräu...Done\n",
      "Starting with brewer Jorat...Done\n",
      "Starting with brewer Jungfraubräu...list index out of range\n",
      "Done\n",
      "Starting with brewer Käppelijoch Bier...Done\n",
      "Starting with brewer Kehrmühle...Done\n",
      "Starting with brewer Kitchen Brew...Done\n",
      "Starting with brewer Kläf Kläf...Done\n",
      "Starting with brewer Kloster Fischingen...Done\n",
      "Starting with brewer Knüxx...Done\n",
      "Starting with brewer Komturei Tobel...Done\n",
      "Starting with brewer Kornhausbräu...list index out of range\n",
      "Done\n",
      "Starting with brewer Kreuzmühle...Done\n",
      "Starting with brewer KrügelBIER...Done\n",
      "Starting with brewer Kudibräu...Done\n",
      "Starting with brewer Kündig-Bräu...Done\n",
      "Starting with brewer L'apaisée...Done\n",
      "Starting with brewer l'Aroda...Done\n",
      "Starting with brewer La Bière de Posieux (le Pot des Cieux)...Done\n",
      "Starting with brewer la Brassée du Chevrier...Done\n",
      "Starting with brewer La Brasserie des cinq Communes...Done\n",
      "Starting with brewer la Challensoise...Done\n",
      "Starting with brewer la Comète...Done\n",
      "Starting with brewer la Courtysane...Done\n",
      "Starting with brewer la Drêche...Done\n",
      "Starting with brewer La Faougueuse...Done\n",
      "Starting with brewer La Ferme d'Ostende...Done\n",
      "Starting with brewer la Filature...Done\n",
      "Starting with brewer la Goille...Done\n",
      "Starting with brewer La Laiterie (les Amis de la Bière à l'Ancienne)...Done\n",
      "Starting with brewer la Mécanique des Fluides...Done\n",
      "Starting with brewer la Mule...Done\n",
      "Starting with brewer La Nébuleuse...Done\n",
      "Starting with brewer La Pièce...Done\n",
      "Starting with brewer La Sierrvoise...Done\n",
      "Starting with brewer la Source...Done\n",
      "Starting with brewer la Spirale...Done\n",
      "Starting with brewer la Vaudruzienne...Done\n",
      "Starting with brewer La Vouivre...Done\n",
      "Starting with brewer La:Marmotte...Done\n",
      "Starting with brewer LägereBräu...Done\n",
      "Starting with brewer Lance-Pierre...Done\n",
      "Starting with brewer Landskroner Bräu...Done\n",
      "Starting with brewer Lanzbier Stans...Done\n",
      "Starting with brewer Lausannoise...Done\n",
      "Starting with brewer Le Traquenard...Done\n",
      "Starting with brewer Lehner u. Rohde...Done\n",
      "Starting with brewer les Barbus...Done\n",
      "Starting with brewer Les Brasseurs Geneve...Done\n",
      "Starting with brewer Les Brasseurs Lausanne...Done\n",
      "Starting with brewer Les Brasseurs Neuchâtel...Done\n",
      "Starting with brewer Les Brasseurs Nyon...list index out of range\n",
      "list index out of range\n",
      "Done\n",
      "Starting with brewer les Fleurs du Malt...Done\n",
      "Starting with brewer les Garçons...Done\n",
      "Starting with brewer Les Gobelins...Done\n",
      "Starting with brewer l'Improbable...list index out of range\n",
      "Done\n",
      "Starting with brewer Linde-Oberstrass...Done\n",
      "Starting with brewer Locher Appenzeller Bier...Done\n",
      "Starting with brewer Loiwi Bräu...Done\n",
      "Starting with brewer Lola Bier...list index out of range\n",
      "Done\n",
      "Starting with brewer Lorraine Beer Project...Done\n",
      "Starting with brewer l'Ours...Done\n",
      "Starting with brewer L'Ultimo Bacio...Done\n",
      "Starting with brewer Luusbueb...Done\n",
      "Starting with brewer Luzern...Done\n",
      "Starting with brewer Luzerner Bier Brauer (LuBB)...Done\n",
      "Starting with brewer Lynx Movement...Done\n",
      "Starting with brewer Maca Macias Castaño...Done\n",
      "Starting with brewer Madl-Bräu...Done\n",
      "Starting with brewer Magie-Bräu...Done\n",
      "Starting with brewer Maitri...Done\n",
      "Starting with brewer Malternative...Done\n",
      "Starting with brewer Maltman's...Done\n",
      "Starting with brewer Malz Maul...Done\n",
      "Starting with brewer Marmot Cervisiam...Done\n",
      "Starting with brewer Matt & Elly...Done\n",
      "Starting with brewer McMax Brewery...Done\n",
      "Starting with brewer Mein Emmental...Done\n",
      "Starting with brewer Mein Teil...Done\n",
      "Starting with brewer Meyer Family Bierfreunde...Done\n",
      "Starting with brewer MICROBIRRIFICIO MóMò...Done\n",
      "Starting with brewer Minuscule...Done\n",
      "Starting with brewer MN Brew...Done\n",
      "Starting with brewer Molard...Done\n",
      "Starting with brewer mon oeil bräu...Done\n",
      "Starting with brewer Mondlinger Bräu...Done\n",
      "Starting with brewer Monsterbräu...Done\n",
      "Starting with brewer Montheysanne...Done\n",
      "Starting with brewer Mont-Noble...Done\n",
      "Starting with brewer Mountain Madness...Done\n",
      "Starting with brewer Mountain View...Done\n",
      "Starting with brewer Mousse de Thoune...Done\n",
      "Starting with brewer Mükon...Done\n",
      "Starting with brewer Müli Bräu...Done\n",
      "Starting with brewer Müller Bräu...Done\n",
      "Starting with brewer Murailles...Done\n",
      "Starting with brewer Murerbier...Done\n",
      "Starting with brewer Muschtibräu...Done\n",
      "Starting with brewer Mythen Bräu...Done\n",
      "Starting with brewer Napf...Done\n",
      "Starting with brewer Neufuhrbräu...Done\n",
      "Starting with brewer Nikson Brewery...Done\n",
      "Starting with brewer Nine Brothers...list index out of range\n",
      "list index out of range\n",
      "list index out of range\n",
      "Done\n",
      "Starting with brewer Nordwand Bräu...list index out of range\n",
      "Done\n",
      "Starting with brewer Nubiabrew...Done\n",
      "Starting with brewer O'Bled...Done\n",
      "Starting with brewer Oberdörfer Chäuerbräu...list index out of range\n",
      "list index out of range\n",
      "Done\n",
      "Starting with brewer Oberglatter Garaschbräu...Done\n",
      "Starting with brewer Obersee Brau Union...Done\n",
      "Starting with brewer Oberson (Chastelbach-Bier)...Done\n",
      "Starting with brewer Octopus-Bräu...Done\n",
      "Starting with brewer Oerlikon...Done\n",
      "Starting with brewer Officina della Birra...Done\n",
      "Starting with brewer Old Hill Brewery...Done\n",
      "Starting with brewer Old School Faulensee...Done\n",
      "Starting with brewer Öufi...Done\n",
      "Starting with brewer Over Board...Done\n",
      "Starting with brewer Patschiifig Bräu...Done\n",
      "Starting with brewer PD Beer...Done\n",
      "Starting with brewer Pentabier...Done\n",
      "Starting with brewer Père Jakob...Done\n",
      "Starting with brewer Père Porret...Done\n",
      "Starting with brewer Pfaffenbräu...Done\n",
      "Starting with brewer Pfauenbier...Done\n",
      "Starting with brewer Pilatusbräu...Done\n",
      "Starting with brewer Ponäly...Done\n",
      "Starting with brewer Post Tenebras...Done\n",
      "Starting with brewer Poyet...Done\n",
      "Starting with brewer Prévert...Done\n",
      "Starting with brewer ProMurten...Done\n",
      "Starting with brewer Quartierbier.ch...Done\n",
      "Starting with brewer Quartierbier.ch (Bierwerk Sulgenau)...Done\n",
      "Starting with brewer R. Kahn...Done\n",
      "Starting with brewer Raben Brau...Done\n",
      "Starting with brewer Ramseier Suisse (formerly Unidrink Getränke / Lupo)...Done\n",
      "Starting with brewer Rathaus Brauerei...Done\n",
      "Starting with brewer Reinacker Bier...Done\n",
      "Starting with brewer Reinecke Bräu...Done\n",
      "Starting with brewer Reist-Bier...Done\n",
      "Starting with brewer Reuss-Schlaufe...Done\n",
      "Starting with brewer Rieder-Bier...Done\n",
      "Starting with brewer Riethof...Done\n",
      "Starting with brewer Rigi Gold...Done\n",
      "Starting with brewer Riminy-Bräu...Done\n",
      "Starting with brewer Riot Act Brewing (formerly BRAUBAR)...Done\n",
      "Starting with brewer Robenhausen...Done\n",
      "Starting with brewer Rohrer...Done\n",
      "Starting with brewer Rokki...Done\n",
      "Starting with brewer Rolpibrau...list index out of range\n",
      "Done\n",
      "Starting with brewer Roscha-Bräu...Done\n",
      "Starting with brewer Rosengarten...Done\n",
      "Starting with brewer Rossgrind...Done\n",
      "Starting with brewer Rössli-Bier...Done\n",
      "Starting with brewer Rud Bir...Done\n",
      "Starting with brewer Ruecherei...Done\n",
      "Starting with brewer Rufibräu...Done\n",
      "Starting with brewer Rugenbräu...Done\n",
      "Starting with brewer Rütihöfler-Bräu...Done\n",
      "Starting with brewer S&A Brewing (Storm&Anchor)...Done\n",
      "Starting with brewer Saane Gutsch...Done\n",
      "Starting with brewer San Rocco...Done\n",
      "Starting with brewer Sankt Maria...Done\n",
      "Starting with brewer Sauhofbräu...Done\n",
      "Starting with brewer Schlossbräu Rued...Done\n",
      "Starting with brewer Schlossbraui Nürensdorf...Done\n",
      "Starting with brewer Schoggi...Done\n",
      "Starting with brewer Schori's Beer...Done\n",
      "Starting with brewer Schümberg-Bräu...Done\n",
      "Starting with brewer Schützengarten...list index out of range\n",
      "Done\n",
      "Starting with brewer Schützenhaus Burgdorf...list index out of range\n",
      "Done\n",
      "Starting with brewer Schuum...Done\n",
      "Starting with brewer Schwarzbuebe Bier...Done\n",
      "Starting with brewer Seegal-Bräu...Done\n",
      "Starting with brewer Seeland Bräu...Done\n",
      "Starting with brewer Seetal...Done\n",
      "Starting with brewer Sennbräu...Done\n",
      "Starting with brewer Sevibräu...Done\n",
      "Starting with brewer Simmentaler Bier...list index out of range\n",
      "Done\n",
      "Starting with brewer Sonnenbräu...Done\n",
      "Starting with brewer Sonnrain...Done\n",
      "Starting with brewer Soo. Soorser Bier...Done\n",
      "Starting with brewer St. Johann...list index out of range\n",
      "Done\n",
      "Starting with brewer St. Johannsbräu...Done\n",
      "Starting with brewer St. Laurentius...Done\n",
      "Starting with brewer Stadtbach...Done\n",
      "Starting with brewer Stadtbier Chur...Done\n",
      "Starting with brewer Stadtbrauerei Diessenhofen...Done\n",
      "Starting with brewer Stadtbühl...Done\n",
      "Starting with brewer Stadtguet...Done\n",
      "Starting with brewer Stadtmauer Brauer...Done\n",
      "Starting with brewer Stägi-Bräu...Done\n",
      "Starting with brewer Starrest...Done\n",
      "Starting with brewer Stedtli Bier Liestal...Done\n",
      "Starting with brewer Steinfels...Done\n",
      "Starting with brewer SternTHALer...Done\n",
      "Starting with brewer Stiär Biär...Done\n",
      "Starting with brewer Stirnebräu...Done\n",
      "Starting with brewer Stögu-Bier...Done\n",
      "Starting with brewer Stollo's Best...Done\n",
      "Starting with brewer Stozi-Bräu...list index out of range\n",
      "Done\n",
      "Starting with brewer Strättligen Bier...Done\n",
      "Starting with brewer Studer et Walker...Done\n",
      "Starting with brewer SUD51 - die Brauwerkstatt...Done\n",
      "Starting with brewer Sudwerk...Done\n",
      "Starting with brewer Sunnegg Brauhaus...Done\n",
      "Starting with brewer Sunnybräu...Done\n",
      "Starting with brewer Suonen Bräu...Done\n",
      "Starting with brewer Tannzapfenbräu...Done\n",
      "Starting with brewer Tardiv...Done\n",
      "Starting with brewer Terra Matta...Done\n",
      "Starting with brewer Terrasse...Done\n",
      "Starting with brewer Thaler Bier (Rietgassbräu)...Done\n",
      "Starting with brewer the Beer Guerrillas...Done\n",
      "Starting with brewer The Common Oak...Done\n",
      "Starting with brewer The Darkwolf Brewery...Done\n",
      "Starting with brewer Thurbobräu...Done\n",
      "Starting with brewer Thurtalbräu...Done\n",
      "Starting with brewer Tiboris...Done\n",
      "Starting with brewer Tiersteiner Bräu Stäuble...Done\n",
      "Starting with brewer Tonnebière...Done\n",
      "Starting with brewer Totally Beer...Done\n",
      "Starting with brewer Tres Hombres...Done\n",
      "Starting with brewer Trois Dames...Done\n",
      "Starting with brewer Trumpf...Done\n",
      "Starting with brewer Tschifeler...Done\n",
      "Starting with brewer Tucho Brew...Done\n",
      "Starting with brewer Turbinenbräu...Done\n",
      "Starting with brewer Turpä Bräu...Done\n",
      "Starting with brewer UG-Bräu...Done\n",
      "Starting with brewer UHB...Done\n",
      "Starting with brewer Unikum...list index out of range\n",
      "list index out of range\n",
      "list index out of range\n",
      "list index out of range\n",
      "list index out of range\n",
      "Failed with brewer Unikum\n",
      "Done\n",
      "Starting with brewer Unser Bier...Done\n",
      "Starting with brewer Unterbad...Done\n",
      "Starting with brewer Unterkuonimatt (Reib Bier)...list index out of range\n",
      "list index out of range\n",
      "Done\n",
      "Starting with brewer Unterländer Bräu...list index out of range\n",
      "Done\n",
      "Starting with brewer Valaisanne (Feldschlösschen)...Done\n",
      "Starting with brewer Valbeer's...Done\n",
      "Starting with brewer Varius Bier...list index out of range\n",
      "Done\n",
      "Starting with brewer VIB (Verein Interessierter Bierbrauer)...Done\n",
      "Starting with brewer VieriBräu...list index out of range\n",
      "Done\n",
      "Starting with brewer Vieux Chemin...Done\n",
      "Starting with brewer villa urPur...Done\n",
      "Starting with brewer vo Gränchä bi Gott...list index out of range\n",
      "Done\n",
      "Starting with brewer Volta Bräu...Done\n",
      "Starting with brewer von Gurbrü...Done\n",
      "Starting with brewer Wabräu...Done\n",
      "Starting with brewer Wädi-Brau-Huus...Done\n",
      "Starting with brewer Wagerswiler Bräu...Done\n",
      "Starting with brewer Walliseller Bier...Done\n",
      "Starting with brewer Wasserämter...Done\n",
      "Starting with brewer weidli& bier...Done\n",
      "Starting with brewer Wellsh Brewery...Done\n",
      "Starting with brewer Welteneis...Done\n",
      "Starting with brewer WhiteFrontier...Done\n",
      "Starting with brewer Wiggerli...Done\n",
      "Starting with brewer Winslow Brew...Done\n",
      "Starting with brewer Wipfli-Bräu...Done\n",
      "Starting with brewer Xlinger...Done\n",
      "Starting with brewer Zermatt Matterhorn...Done\n",
      "Starting with brewer Zipfelbier...Done\n",
      "Starting with brewer zur Grünen Amsel...Done\n",
      "Starting with brewer Zur Trotte...Done\n",
      "Starting with brewer Zurich Airport Beer (ZAB)...Done\n",
      "Starting with brewer Zweierlei...Done\n",
      "Starting with brewer Zwergenbräu...Done\n"
     ]
    }
   ],
   "source": [
    "breweries_info = []\n",
    "list_beers = []\n",
    "for brewer_i, brewer in  breweries_ch_RB_df.iterrows():\n",
    "    print('Starting with brewer {}...'.format(brewer['name']), end='')\n",
    "    fail = True\n",
    "    count = 0\n",
    "    while fail:\n",
    "        count +=1\n",
    "        try:\n",
    "            br_info, br_list_beers = treat_brewery_page_RB(brewer.link, brewer_i)\n",
    "            breweries_info.append(br_info)\n",
    "            list_beers.extend(br_list_beers)\n",
    "            fail=False\n",
    "        except KeyboardInterrupt:\n",
    "            raise\n",
    "        except Exception as e:\n",
    "            print(e)\n",
    "            pass\n",
    "        if count>4:\n",
    "            print(\"Failed with brewer {}\".format(brewer['name']))\n",
    "            break\n",
    "            \n",
    "    print('Done')\n",
    "    "
   ]
  },
  {
   "cell_type": "code",
   "execution_count": 214,
   "metadata": {},
   "outputs": [
    {
     "data": {
      "text/plain": [
       "{'brewer_id': 575,\n",
       " 'img_link': 'https://res.cloudinary.com/ratebeer/image/upload/w_150,c_limit,d_Default_Brewery_q4okin.png,f_auto/brew_12470.jpg',\n",
       " 'address': 'Eichenweg 4, Lüterkofen,  4571, Switzerland',\n",
       " 'telephone': '32 677 19 18',\n",
       " 'website': 'http://www.zwergenbraeu.ch/'}"
      ]
     },
     "execution_count": 214,
     "metadata": {},
     "output_type": "execute_result"
    }
   ],
   "source": [
    "breweries_info[-1]"
   ]
  },
  {
   "cell_type": "code",
   "execution_count": 223,
   "metadata": {},
   "outputs": [],
   "source": [
    "# Adding breweries that failed\n",
    "search_string = 'Unikum'\n",
    "brewer_link = breweries_ch_RB_df.loc[breweries_ch_RB_df['name'].apply(lambda s: search_string in s), 'link'].values[0]\n",
    "brewer_id = breweries_ch_RB_df.loc[breweries_ch_RB_df['name'].apply(lambda s: search_string in s), 'brewer_id'].values[0]\n",
    "\n",
    "br_info, br_list_beers = treat_brewery_page_RB(brewer_link, brewer_id)\n",
    "\n",
    "#breweries_info.append(br_info)\n",
    "#list_beers.extend(br_list_beers)"
   ]
  },
  {
   "cell_type": "code",
   "execution_count": 224,
   "metadata": {},
   "outputs": [],
   "source": [
    "#breweries_info.append(br_info)\n",
    "#list_beers.extend(br_list_beers)"
   ]
  },
  {
   "cell_type": "code",
   "execution_count": 27,
   "metadata": {},
   "outputs": [],
   "source": [
    "#brewers_info_df = pd.DataFrame(breweries_info)"
   ]
  },
  {
   "cell_type": "code",
   "execution_count": 225,
   "metadata": {},
   "outputs": [],
   "source": [
    "beers_rb_df = pd.DataFrame(list_beers)"
   ]
  },
  {
   "cell_type": "code",
   "execution_count": 193,
   "metadata": {},
   "outputs": [],
   "source": [
    "#search_string = 'Augenbrauerei Biel'\n",
    "#search_string = 'BFM'\n",
    "#search_string = '1936 Bière'\n",
    "search_string = 'Ackermann'\n",
    "brewer_link = breweries_ch_RB_df.loc[breweries_ch_RB_df['name'].apply(lambda s: search_string in s), 'link'].values[0]\n",
    "\n",
    "driver = load_RB_page(brewer_link, debug=False)\n",
    "soup_brewery = BeautifulSoup(driver.page_source)"
   ]
  },
  {
   "cell_type": "code",
   "execution_count": 209,
   "metadata": {},
   "outputs": [],
   "source": [
    "# Testing treat_RB_beer_row\n",
    "list_brews = []\n",
    "for row in soup_brewery.find_all('tr'):\n",
    "    new_beer = treat_RB_beer_row(row, -1, debug=False)\n",
    "    if new_beer:\n",
    "        list_brews.append(new_beer)\n",
    "#list_brews"
   ]
  },
  {
   "cell_type": "code",
   "execution_count": 36,
   "metadata": {},
   "outputs": [],
   "source": [
    "# Add brewery info\n",
    "\n",
    "breweries_ch_RB_df = breweries_ch_RB_df.merge(brewers_info_df, left_index=True, right_on='brewer_id')\n"
   ]
  },
  {
   "cell_type": "code",
   "execution_count": 58,
   "metadata": {},
   "outputs": [],
   "source": [
    "# Adding average beer ratings as new column for breweries\n",
    "\n",
    "breweries_ch_RB_df = breweries_ch_RB_df.merge(beers_rb_df.groupby('brewer_id')['ratings_avg'].mean(),\n",
    "                        on='brewer_id')"
   ]
  },
  {
   "cell_type": "markdown",
   "metadata": {},
   "source": [
    "# Find geographical coordinates of breweries"
   ]
  },
  {
   "cell_type": "code",
   "execution_count": 41,
   "metadata": {},
   "outputs": [],
   "source": [
    "from  geopy.geocoders import Nominatim\n",
    "from geopy.extra.rate_limiter import RateLimiter\n",
    "\n",
    "geolocator = Nominatim(user_agent='beer-scraper')\n",
    "geocode = RateLimiter(geolocator.geocode, min_delay_seconds=0.5)\n",
    "\n",
    "def address_to_coordinates(ad):\n",
    "    ad_com = ad.replace('\\n',', ')\n",
    "    loc = geocode(ad_com)\n",
    "    if loc is None:\n",
    "        partial_ad = ', '.join(ad.split('\\n')[1:])\n",
    "        loc = geocode(partial_ad)\n",
    "        if loc is None:\n",
    "            return float('nan'), float('nan')\n",
    "    return loc.latitude, loc.longitude"
   ]
  },
  {
   "cell_type": "code",
   "execution_count": 330,
   "metadata": {
    "collapsed": true,
    "jupyter": {
     "outputs_hidden": true
    }
   },
   "outputs": [
    {
     "name": "stderr",
     "output_type": "stream",
     "text": [
      "/usr/local/lib/python3.7/site-packages/ipykernel_launcher.py:2: DeprecationWarning: Using Nominatim with the default \"geopy/1.20.0\" `user_agent` is strongly discouraged, as it violates Nominatim's ToS https://operations.osmfoundation.org/policies/nominatim/ and may possibly cause 403 and 429 HTTP errors. Please specify a custom `user_agent` with `Nominatim(user_agent=\"my-application\")` or by overriding the default `user_agent`: `geopy.geocoders.options.default_user_agent = \"my-application\"`. In geopy 2.0 this will become an exception.\n",
      "  \n"
     ]
    }
   ],
   "source": [
    "from  geopy.geocoders import Nominatim\n",
    "geolocator = Nominatim()\n",
    "loc = geolocator.geocode(address)\n",
    "#print(\"latitude is :-\" ,loc.latitude,\"\\nlongtitude is:-\" ,loc.longitude)"
   ]
  },
  {
   "cell_type": "code",
   "execution_count": 38,
   "metadata": {
    "collapsed": true,
    "jupyter": {
     "outputs_hidden": true
    }
   },
   "outputs": [],
   "source": [
    "breweries_ch_df[\"latitude\"], breweries_ch_df[\"longitude\"] = zip(\n",
    "    *breweries_ch_df[\"address\"].map(address_to_coordinates))"
   ]
  },
  {
   "cell_type": "code",
   "execution_count": 30,
   "metadata": {
    "collapsed": true,
    "jupyter": {
     "outputs_hidden": true
    }
   },
   "outputs": [
    {
     "ename": "ConfigurationError",
     "evalue": "OpenMapQuest requires an API key",
     "output_type": "error",
     "traceback": [
      "\u001b[0;31m---------------------------------------------------------------------------\u001b[0m",
      "\u001b[0;31mConfigurationError\u001b[0m                        Traceback (most recent call last)",
      "\u001b[0;32m<ipython-input-30-dd0737a5369b>\u001b[0m in \u001b[0;36m<module>\u001b[0;34m\u001b[0m\n\u001b[1;32m      2\u001b[0m \u001b[0;32mimport\u001b[0m \u001b[0mgeopy\u001b[0m\u001b[0;34m.\u001b[0m\u001b[0mgeocoders\u001b[0m \u001b[0;32mas\u001b[0m \u001b[0mgeocoders\u001b[0m\u001b[0;34m\u001b[0m\u001b[0;34m\u001b[0m\u001b[0m\n\u001b[1;32m      3\u001b[0m \u001b[0;31m#geolocator = Nominatim(user_agent='beer-scraper')\u001b[0m\u001b[0;34m\u001b[0m\u001b[0;34m\u001b[0m\u001b[0;34m\u001b[0m\u001b[0m\n\u001b[0;32m----> 4\u001b[0;31m \u001b[0mgeolocator\u001b[0m \u001b[0;34m=\u001b[0m \u001b[0mgeocoders\u001b[0m\u001b[0;34m.\u001b[0m\u001b[0mOpenMapQuest\u001b[0m\u001b[0;34m(\u001b[0m\u001b[0muser_agent\u001b[0m\u001b[0;34m=\u001b[0m\u001b[0;34m'beer-scraper'\u001b[0m\u001b[0;34m)\u001b[0m\u001b[0;34m\u001b[0m\u001b[0;34m\u001b[0m\u001b[0m\n\u001b[0m\u001b[1;32m      5\u001b[0m \u001b[0;34m\u001b[0m\u001b[0m\n\u001b[1;32m      6\u001b[0m \u001b[0mloc\u001b[0m \u001b[0;34m=\u001b[0m \u001b[0mgeolocator\u001b[0m\u001b[0;34m.\u001b[0m\u001b[0mgeocode\u001b[0m\u001b[0;34m(\u001b[0m\u001b[0;34m'Route de Bas-Vièze 83, 1875 Morgins, Switzerland'\u001b[0m\u001b[0;34m,\u001b[0m \u001b[0mtimeout\u001b[0m\u001b[0;34m=\u001b[0m\u001b[0;36m5\u001b[0m\u001b[0;34m)\u001b[0m\u001b[0;34m\u001b[0m\u001b[0;34m\u001b[0m\u001b[0m\n",
      "\u001b[0;32m/usr/local/lib/python3.7/site-packages/geopy/geocoders/openmapquest.py\u001b[0m in \u001b[0;36m__init__\u001b[0;34m(self, api_key, format_string, view_box, bounded, country_bias, timeout, proxies, domain, scheme, user_agent, ssl_context)\u001b[0m\n\u001b[1;32m    112\u001b[0m         )\n\u001b[1;32m    113\u001b[0m         \u001b[0;32mif\u001b[0m \u001b[0;32mnot\u001b[0m \u001b[0mapi_key\u001b[0m\u001b[0;34m:\u001b[0m\u001b[0;34m\u001b[0m\u001b[0;34m\u001b[0m\u001b[0m\n\u001b[0;32m--> 114\u001b[0;31m             \u001b[0;32mraise\u001b[0m \u001b[0mConfigurationError\u001b[0m\u001b[0;34m(\u001b[0m\u001b[0;34m'OpenMapQuest requires an API key'\u001b[0m\u001b[0;34m)\u001b[0m\u001b[0;34m\u001b[0m\u001b[0;34m\u001b[0m\u001b[0m\n\u001b[0m\u001b[1;32m    115\u001b[0m         \u001b[0mself\u001b[0m\u001b[0;34m.\u001b[0m\u001b[0mapi_key\u001b[0m \u001b[0;34m=\u001b[0m \u001b[0mapi_key\u001b[0m\u001b[0;34m\u001b[0m\u001b[0;34m\u001b[0m\u001b[0m\n\u001b[1;32m    116\u001b[0m \u001b[0;34m\u001b[0m\u001b[0m\n",
      "\u001b[0;31mConfigurationError\u001b[0m: OpenMapQuest requires an API key"
     ]
    }
   ],
   "source": [
    "# Try other geocoders\n",
    "import geopy.geocoders as geocoders\n",
    "#geolocator = Nominatim(user_agent='beer-scraper')\n",
    "geolocator = geocoders.OpenMapQuest(user_agent='beer-scraper')\n",
    "\n",
    "loc = geolocator.geocode('Route de Bas-Vièze 83, 1875 Morgins, Switzerland', timeout=5)\n",
    "#loc = geolocator.geocode('Morgins, Switzerland', timeout=5)\n",
    "loc"
   ]
  },
  {
   "cell_type": "code",
   "execution_count": 31,
   "metadata": {
    "collapsed": true,
    "jupyter": {
     "outputs_hidden": true
    }
   },
   "outputs": [
    {
     "name": "stderr",
     "output_type": "stream",
     "text": [
      "/usr/local/lib/python3.7/site-packages/ipykernel_launcher.py:2: UserWarning: Since July 2018 Google requires each request to have an API key. Pass a valid `api_key` to GoogleV3 geocoder to hide this warning. See https://developers.google.com/maps/documentation/geocoding/usage-and-billing\n",
      "  \n"
     ]
    },
    {
     "ename": "GeocoderQueryError",
     "evalue": "Your request was denied.",
     "output_type": "error",
     "traceback": [
      "\u001b[0;31m---------------------------------------------------------------------------\u001b[0m",
      "\u001b[0;31mGeocoderQueryError\u001b[0m                        Traceback (most recent call last)",
      "\u001b[0;32m<ipython-input-31-04745dd680d1>\u001b[0m in \u001b[0;36m<module>\u001b[0;34m\u001b[0m\n\u001b[1;32m      1\u001b[0m \u001b[0;32mfrom\u001b[0m \u001b[0mgeopy\u001b[0m\u001b[0;34m.\u001b[0m\u001b[0mgeocoders\u001b[0m \u001b[0;32mimport\u001b[0m \u001b[0mGoogleV3\u001b[0m\u001b[0;34m\u001b[0m\u001b[0;34m\u001b[0m\u001b[0m\n\u001b[1;32m      2\u001b[0m \u001b[0mgeolocator\u001b[0m \u001b[0;34m=\u001b[0m \u001b[0mGoogleV3\u001b[0m\u001b[0;34m(\u001b[0m\u001b[0;34m)\u001b[0m\u001b[0;34m\u001b[0m\u001b[0;34m\u001b[0m\u001b[0m\n\u001b[0;32m----> 3\u001b[0;31m \u001b[0maddress\u001b[0m\u001b[0;34m,\u001b[0m \u001b[0;34m(\u001b[0m\u001b[0mlatitude\u001b[0m\u001b[0;34m,\u001b[0m \u001b[0mlongitude\u001b[0m\u001b[0;34m)\u001b[0m \u001b[0;34m=\u001b[0m \u001b[0mgeolocator\u001b[0m\u001b[0;34m.\u001b[0m\u001b[0mgeocode\u001b[0m\u001b[0;34m(\u001b[0m\u001b[0;34m\"175 5th Avenue NYC\"\u001b[0m\u001b[0;34m)\u001b[0m\u001b[0;34m\u001b[0m\u001b[0;34m\u001b[0m\u001b[0m\n\u001b[0m",
      "\u001b[0;32m/usr/local/lib/python3.7/site-packages/geopy/geocoders/googlev3.py\u001b[0m in \u001b[0;36mgeocode\u001b[0;34m(self, query, exactly_one, timeout, bounds, region, components, place_id, language, sensor)\u001b[0m\n\u001b[1;32m    271\u001b[0m         \u001b[0mlogger\u001b[0m\u001b[0;34m.\u001b[0m\u001b[0mdebug\u001b[0m\u001b[0;34m(\u001b[0m\u001b[0;34m\"%s.geocode: %s\"\u001b[0m\u001b[0;34m,\u001b[0m \u001b[0mself\u001b[0m\u001b[0;34m.\u001b[0m\u001b[0m__class__\u001b[0m\u001b[0;34m.\u001b[0m\u001b[0m__name__\u001b[0m\u001b[0;34m,\u001b[0m \u001b[0murl\u001b[0m\u001b[0;34m)\u001b[0m\u001b[0;34m\u001b[0m\u001b[0;34m\u001b[0m\u001b[0m\n\u001b[1;32m    272\u001b[0m         return self._parse_json(\n\u001b[0;32m--> 273\u001b[0;31m             \u001b[0mself\u001b[0m\u001b[0;34m.\u001b[0m\u001b[0m_call_geocoder\u001b[0m\u001b[0;34m(\u001b[0m\u001b[0murl\u001b[0m\u001b[0;34m,\u001b[0m \u001b[0mtimeout\u001b[0m\u001b[0;34m=\u001b[0m\u001b[0mtimeout\u001b[0m\u001b[0;34m)\u001b[0m\u001b[0;34m,\u001b[0m \u001b[0mexactly_one\u001b[0m\u001b[0;34m\u001b[0m\u001b[0;34m\u001b[0m\u001b[0m\n\u001b[0m\u001b[1;32m    274\u001b[0m         )\n\u001b[1;32m    275\u001b[0m \u001b[0;34m\u001b[0m\u001b[0m\n",
      "\u001b[0;32m/usr/local/lib/python3.7/site-packages/geopy/geocoders/googlev3.py\u001b[0m in \u001b[0;36m_parse_json\u001b[0;34m(self, page, exactly_one)\u001b[0m\n\u001b[1;32m    478\u001b[0m         \u001b[0mplaces\u001b[0m \u001b[0;34m=\u001b[0m \u001b[0mpage\u001b[0m\u001b[0;34m.\u001b[0m\u001b[0mget\u001b[0m\u001b[0;34m(\u001b[0m\u001b[0;34m'results'\u001b[0m\u001b[0;34m,\u001b[0m \u001b[0;34m[\u001b[0m\u001b[0;34m]\u001b[0m\u001b[0;34m)\u001b[0m\u001b[0;34m\u001b[0m\u001b[0;34m\u001b[0m\u001b[0m\n\u001b[1;32m    479\u001b[0m         \u001b[0;32mif\u001b[0m \u001b[0;32mnot\u001b[0m \u001b[0mlen\u001b[0m\u001b[0;34m(\u001b[0m\u001b[0mplaces\u001b[0m\u001b[0;34m)\u001b[0m\u001b[0;34m:\u001b[0m\u001b[0;34m\u001b[0m\u001b[0;34m\u001b[0m\u001b[0m\n\u001b[0;32m--> 480\u001b[0;31m             \u001b[0mself\u001b[0m\u001b[0;34m.\u001b[0m\u001b[0m_check_status\u001b[0m\u001b[0;34m(\u001b[0m\u001b[0mpage\u001b[0m\u001b[0;34m.\u001b[0m\u001b[0mget\u001b[0m\u001b[0;34m(\u001b[0m\u001b[0;34m'status'\u001b[0m\u001b[0;34m)\u001b[0m\u001b[0;34m)\u001b[0m\u001b[0;34m\u001b[0m\u001b[0;34m\u001b[0m\u001b[0m\n\u001b[0m\u001b[1;32m    481\u001b[0m             \u001b[0;32mreturn\u001b[0m \u001b[0;32mNone\u001b[0m\u001b[0;34m\u001b[0m\u001b[0;34m\u001b[0m\u001b[0m\n\u001b[1;32m    482\u001b[0m \u001b[0;34m\u001b[0m\u001b[0m\n",
      "\u001b[0;32m/usr/local/lib/python3.7/site-packages/geopy/geocoders/googlev3.py\u001b[0m in \u001b[0;36m_check_status\u001b[0;34m(status)\u001b[0m\n\u001b[1;32m    509\u001b[0m         \u001b[0;32melif\u001b[0m \u001b[0mstatus\u001b[0m \u001b[0;34m==\u001b[0m \u001b[0;34m'REQUEST_DENIED'\u001b[0m\u001b[0;34m:\u001b[0m\u001b[0;34m\u001b[0m\u001b[0;34m\u001b[0m\u001b[0m\n\u001b[1;32m    510\u001b[0m             raise GeocoderQueryError(\n\u001b[0;32m--> 511\u001b[0;31m                 \u001b[0;34m'Your request was denied.'\u001b[0m\u001b[0;34m\u001b[0m\u001b[0;34m\u001b[0m\u001b[0m\n\u001b[0m\u001b[1;32m    512\u001b[0m             )\n\u001b[1;32m    513\u001b[0m         \u001b[0;32melif\u001b[0m \u001b[0mstatus\u001b[0m \u001b[0;34m==\u001b[0m \u001b[0;34m'INVALID_REQUEST'\u001b[0m\u001b[0;34m:\u001b[0m\u001b[0;34m\u001b[0m\u001b[0;34m\u001b[0m\u001b[0m\n",
      "\u001b[0;31mGeocoderQueryError\u001b[0m: Your request was denied."
     ]
    }
   ],
   "source": [
    "from geopy.geocoders import GoogleV3\n",
    "geolocator = GoogleV3()\n",
    "address, (latitude, longitude) = geolocator.geocode(\"175 5th Avenue NYC\")"
   ]
  },
  {
   "cell_type": "code",
   "execution_count": 62,
   "metadata": {
    "collapsed": true,
    "jupyter": {
     "outputs_hidden": true
    }
   },
   "outputs": [
    {
     "data": {
      "text/html": [
       "<div>\n",
       "<style scoped>\n",
       "    .dataframe tbody tr th:only-of-type {\n",
       "        vertical-align: middle;\n",
       "    }\n",
       "\n",
       "    .dataframe tbody tr th {\n",
       "        vertical-align: top;\n",
       "    }\n",
       "\n",
       "    .dataframe thead th {\n",
       "        text-align: right;\n",
       "    }\n",
       "</style>\n",
       "<table border=\"1\" class=\"dataframe\">\n",
       "  <thead>\n",
       "    <tr style=\"text-align: right;\">\n",
       "      <th></th>\n",
       "      <th>name</th>\n",
       "      <th>link</th>\n",
       "      <th>ratings</th>\n",
       "      <th>n_beers</th>\n",
       "      <th>address</th>\n",
       "      <th>telephone</th>\n",
       "      <th>latitude</th>\n",
       "      <th>longitude</th>\n",
       "    </tr>\n",
       "  </thead>\n",
       "  <tbody>\n",
       "    <tr>\n",
       "      <th>95</th>\n",
       "      <td>Il Fermento</td>\n",
       "      <td>https://www.beeradvocate.com/beer/profile/58104/</td>\n",
       "      <td>NaN</td>\n",
       "      <td>0</td>\n",
       "      <td>Via Marconi 2\\nPalazzi Gargantini\\nLugano, 690...</td>\n",
       "      <td>+41 (0) 91 923 45 45</td>\n",
       "      <td>NaN</td>\n",
       "      <td>NaN</td>\n",
       "    </tr>\n",
       "    <tr>\n",
       "      <th>126</th>\n",
       "      <td>Steinfels</td>\n",
       "      <td>https://www.beeradvocate.com/beer/profile/21242/</td>\n",
       "      <td>3.17</td>\n",
       "      <td>4</td>\n",
       "      <td>Heinrichstrasse 267\\nEcher Wyss Platz\\nZürich,...</td>\n",
       "      <td>41 (0)44 271 10 30</td>\n",
       "      <td>NaN</td>\n",
       "      <td>NaN</td>\n",
       "    </tr>\n",
       "    <tr>\n",
       "      <th>136</th>\n",
       "      <td>Wadi-Brau-Huss AG</td>\n",
       "      <td>https://www.beeradvocate.com/beer/profile/9378/</td>\n",
       "      <td>NaN</td>\n",
       "      <td>0</td>\n",
       "      <td>Florhofstrasse 13\\nWadenswill, 8820\\nSwitzerland</td>\n",
       "      <td>01 783 9392</td>\n",
       "      <td>NaN</td>\n",
       "      <td>NaN</td>\n",
       "    </tr>\n",
       "  </tbody>\n",
       "</table>\n",
       "</div>"
      ],
      "text/plain": [
       "                  name                                              link  \\\n",
       "95         Il Fermento  https://www.beeradvocate.com/beer/profile/58104/   \n",
       "126          Steinfels  https://www.beeradvocate.com/beer/profile/21242/   \n",
       "136  Wadi-Brau-Huss AG   https://www.beeradvocate.com/beer/profile/9378/   \n",
       "\n",
       "     ratings  n_beers                                            address  \\\n",
       "95       NaN        0  Via Marconi 2\\nPalazzi Gargantini\\nLugano, 690...   \n",
       "126     3.17        4  Heinrichstrasse 267\\nEcher Wyss Platz\\nZürich,...   \n",
       "136      NaN        0   Florhofstrasse 13\\nWadenswill, 8820\\nSwitzerland   \n",
       "\n",
       "                telephone  latitude  longitude  \n",
       "95   +41 (0) 91 923 45 45       NaN        NaN  \n",
       "126    41 (0)44 271 10 30       NaN        NaN  \n",
       "136           01 783 9392       NaN        NaN  "
      ]
     },
     "execution_count": 62,
     "metadata": {},
     "output_type": "execute_result"
    }
   ],
   "source": [
    "# Fixing missing coordinates by hand\n",
    "breweries_ch_df[breweries_ch_df['latitude'].isna()]"
   ]
  },
  {
   "cell_type": "code",
   "execution_count": 73,
   "metadata": {
    "collapsed": true,
    "jupyter": {
     "outputs_hidden": true
    }
   },
   "outputs": [
    {
     "data": {
      "text/plain": [
       "'Florhofstrasse 13\\nWadenswill, 8820\\nSwitzerland'"
      ]
     },
     "execution_count": 73,
     "metadata": {},
     "output_type": "execute_result"
    }
   ],
   "source": [
    "breweries_ch_df.loc[136]['address']"
   ]
  },
  {
   "cell_type": "code",
   "execution_count": 78,
   "metadata": {
    "collapsed": true,
    "jupyter": {
     "outputs_hidden": true
    }
   },
   "outputs": [
    {
     "data": {
      "text/plain": [
       "(47.2308218, 8.6695479)"
      ]
     },
     "execution_count": 78,
     "metadata": {},
     "output_type": "execute_result"
    }
   ],
   "source": [
    "loc = address_to_coordinates('Florhofstrasse 9, 8820 Wädenswil')\n",
    "loc"
   ]
  },
  {
   "cell_type": "code",
   "execution_count": 80,
   "metadata": {
    "collapsed": true,
    "jupyter": {
     "outputs_hidden": true
    }
   },
   "outputs": [],
   "source": [
    "ind = 136\n",
    "#breweries_ch_df.loc[ind,'latitude'], breweries_ch_df.loc[ind, 'longitude'] = loc"
   ]
  },
  {
   "cell_type": "markdown",
   "metadata": {},
   "source": [
    "## Adding coordinates to RateBeer Breweries data"
   ]
  },
  {
   "cell_type": "code",
   "execution_count": 16,
   "metadata": {},
   "outputs": [],
   "source": [
    "from  geopy.geocoders import Nominatim\n",
    "from geopy.extra.rate_limiter import RateLimiter\n",
    "\n",
    "geolocator = Nominatim(user_agent='beer-scraper')\n",
    "geocode = RateLimiter(geolocator.geocode, min_delay_seconds=0.5)\n",
    "\n",
    "def address_to_coordinates(ad):\n",
    "    loc = geocode(ad)\n",
    "    if loc is None:\n",
    "        partial_ad = ', '.join(ad.split(',')[1:])\n",
    "        loc = geocode(partial_ad)\n",
    "        if loc is None:\n",
    "            return float('nan'), float('nan')\n",
    "    return loc.latitude, loc.longitude"
   ]
  },
  {
   "cell_type": "code",
   "execution_count": 49,
   "metadata": {
    "collapsed": true,
    "jupyter": {
     "outputs_hidden": true
    }
   },
   "outputs": [
    {
     "name": "stderr",
     "output_type": "stream",
     "text": [
      "RateLimiter caught an error, retrying (0/2 tries). Called with (*('Arosa,  7050, Switzerland',), **{}).\n",
      "Traceback (most recent call last):\n",
      "  File \"/usr/local/Cellar/python/3.7.5/Frameworks/Python.framework/Versions/3.7/lib/python3.7/urllib/request.py\", line 1317, in do_open\n",
      "    encode_chunked=req.has_header('Transfer-encoding'))\n",
      "  File \"/usr/local/Cellar/python/3.7.5/Frameworks/Python.framework/Versions/3.7/lib/python3.7/http/client.py\", line 1252, in request\n",
      "    self._send_request(method, url, body, headers, encode_chunked)\n",
      "  File \"/usr/local/Cellar/python/3.7.5/Frameworks/Python.framework/Versions/3.7/lib/python3.7/http/client.py\", line 1298, in _send_request\n",
      "    self.endheaders(body, encode_chunked=encode_chunked)\n",
      "  File \"/usr/local/Cellar/python/3.7.5/Frameworks/Python.framework/Versions/3.7/lib/python3.7/http/client.py\", line 1247, in endheaders\n",
      "    self._send_output(message_body, encode_chunked=encode_chunked)\n",
      "  File \"/usr/local/Cellar/python/3.7.5/Frameworks/Python.framework/Versions/3.7/lib/python3.7/http/client.py\", line 1026, in _send_output\n",
      "    self.send(msg)\n",
      "  File \"/usr/local/Cellar/python/3.7.5/Frameworks/Python.framework/Versions/3.7/lib/python3.7/http/client.py\", line 966, in send\n",
      "    self.connect()\n",
      "  File \"/usr/local/Cellar/python/3.7.5/Frameworks/Python.framework/Versions/3.7/lib/python3.7/http/client.py\", line 1414, in connect\n",
      "    super().connect()\n",
      "  File \"/usr/local/Cellar/python/3.7.5/Frameworks/Python.framework/Versions/3.7/lib/python3.7/http/client.py\", line 938, in connect\n",
      "    (self.host,self.port), self.timeout, self.source_address)\n",
      "  File \"/usr/local/Cellar/python/3.7.5/Frameworks/Python.framework/Versions/3.7/lib/python3.7/socket.py\", line 727, in create_connection\n",
      "    raise err\n",
      "  File \"/usr/local/Cellar/python/3.7.5/Frameworks/Python.framework/Versions/3.7/lib/python3.7/socket.py\", line 716, in create_connection\n",
      "    sock.connect(sa)\n",
      "socket.timeout: timed out\n",
      "\n",
      "During handling of the above exception, another exception occurred:\n",
      "\n",
      "Traceback (most recent call last):\n",
      "  File \"/usr/local/lib/python3.7/site-packages/geopy/geocoders/base.py\", line 355, in _call_geocoder\n",
      "    page = requester(req, timeout=timeout, **kwargs)\n",
      "  File \"/usr/local/Cellar/python/3.7.5/Frameworks/Python.framework/Versions/3.7/lib/python3.7/urllib/request.py\", line 525, in open\n",
      "    response = self._open(req, data)\n",
      "  File \"/usr/local/Cellar/python/3.7.5/Frameworks/Python.framework/Versions/3.7/lib/python3.7/urllib/request.py\", line 543, in _open\n",
      "    '_open', req)\n",
      "  File \"/usr/local/Cellar/python/3.7.5/Frameworks/Python.framework/Versions/3.7/lib/python3.7/urllib/request.py\", line 503, in _call_chain\n",
      "    result = func(*args)\n",
      "  File \"/usr/local/Cellar/python/3.7.5/Frameworks/Python.framework/Versions/3.7/lib/python3.7/urllib/request.py\", line 1360, in https_open\n",
      "    context=self._context, check_hostname=self._check_hostname)\n",
      "  File \"/usr/local/Cellar/python/3.7.5/Frameworks/Python.framework/Versions/3.7/lib/python3.7/urllib/request.py\", line 1319, in do_open\n",
      "    raise URLError(err)\n",
      "urllib.error.URLError: <urlopen error timed out>\n",
      "\n",
      "During handling of the above exception, another exception occurred:\n",
      "\n",
      "Traceback (most recent call last):\n",
      "  File \"/usr/local/lib/python3.7/site-packages/geopy/extra/rate_limiter.py\", line 126, in __call__\n",
      "    return self.func(*args, **kwargs)\n",
      "  File \"/usr/local/lib/python3.7/site-packages/geopy/geocoders/osm.py\", line 387, in geocode\n",
      "    self._call_geocoder(url, timeout=timeout), exactly_one\n",
      "  File \"/usr/local/lib/python3.7/site-packages/geopy/geocoders/base.py\", line 378, in _call_geocoder\n",
      "    raise GeocoderTimedOut('Service timed out')\n",
      "geopy.exc.GeocoderTimedOut: Service timed out\n",
      "RateLimiter caught an error, retrying (0/2 tries). Called with (*('B. Rechbergerstrasse 1, Biel-Bienne,  2502, Switzerland',), **{}).\n",
      "Traceback (most recent call last):\n",
      "  File \"/usr/local/lib/python3.7/site-packages/geopy/geocoders/base.py\", line 355, in _call_geocoder\n",
      "    page = requester(req, timeout=timeout, **kwargs)\n",
      "  File \"/usr/local/Cellar/python/3.7.5/Frameworks/Python.framework/Versions/3.7/lib/python3.7/urllib/request.py\", line 525, in open\n",
      "    response = self._open(req, data)\n",
      "  File \"/usr/local/Cellar/python/3.7.5/Frameworks/Python.framework/Versions/3.7/lib/python3.7/urllib/request.py\", line 543, in _open\n",
      "    '_open', req)\n",
      "  File \"/usr/local/Cellar/python/3.7.5/Frameworks/Python.framework/Versions/3.7/lib/python3.7/urllib/request.py\", line 503, in _call_chain\n",
      "    result = func(*args)\n",
      "  File \"/usr/local/Cellar/python/3.7.5/Frameworks/Python.framework/Versions/3.7/lib/python3.7/urllib/request.py\", line 1360, in https_open\n",
      "    context=self._context, check_hostname=self._check_hostname)\n",
      "  File \"/usr/local/Cellar/python/3.7.5/Frameworks/Python.framework/Versions/3.7/lib/python3.7/urllib/request.py\", line 1320, in do_open\n",
      "    r = h.getresponse()\n",
      "  File \"/usr/local/Cellar/python/3.7.5/Frameworks/Python.framework/Versions/3.7/lib/python3.7/http/client.py\", line 1344, in getresponse\n",
      "    response.begin()\n",
      "  File \"/usr/local/Cellar/python/3.7.5/Frameworks/Python.framework/Versions/3.7/lib/python3.7/http/client.py\", line 306, in begin\n",
      "    version, status, reason = self._read_status()\n",
      "  File \"/usr/local/Cellar/python/3.7.5/Frameworks/Python.framework/Versions/3.7/lib/python3.7/http/client.py\", line 267, in _read_status\n",
      "    line = str(self.fp.readline(_MAXLINE + 1), \"iso-8859-1\")\n",
      "  File \"/usr/local/Cellar/python/3.7.5/Frameworks/Python.framework/Versions/3.7/lib/python3.7/socket.py\", line 589, in readinto\n",
      "    return self._sock.recv_into(b)\n",
      "  File \"/usr/local/Cellar/python/3.7.5/Frameworks/Python.framework/Versions/3.7/lib/python3.7/ssl.py\", line 1071, in recv_into\n",
      "    return self.read(nbytes, buffer)\n",
      "  File \"/usr/local/Cellar/python/3.7.5/Frameworks/Python.framework/Versions/3.7/lib/python3.7/ssl.py\", line 929, in read\n",
      "    return self._sslobj.read(len, buffer)\n",
      "socket.timeout: The read operation timed out\n",
      "\n",
      "During handling of the above exception, another exception occurred:\n",
      "\n",
      "Traceback (most recent call last):\n",
      "  File \"/usr/local/lib/python3.7/site-packages/geopy/extra/rate_limiter.py\", line 126, in __call__\n",
      "    return self.func(*args, **kwargs)\n",
      "  File \"/usr/local/lib/python3.7/site-packages/geopy/geocoders/osm.py\", line 387, in geocode\n",
      "    self._call_geocoder(url, timeout=timeout), exactly_one\n",
      "  File \"/usr/local/lib/python3.7/site-packages/geopy/geocoders/base.py\", line 382, in _call_geocoder\n",
      "    raise GeocoderTimedOut('Service timed out')\n",
      "geopy.exc.GeocoderTimedOut: Service timed out\n",
      "RateLimiter caught an error, retrying (0/2 tries). Called with (*(' La Sarraz,   1315,  Switzerland',), **{}).\n",
      "Traceback (most recent call last):\n",
      "  File \"/usr/local/Cellar/python/3.7.5/Frameworks/Python.framework/Versions/3.7/lib/python3.7/urllib/request.py\", line 1317, in do_open\n",
      "    encode_chunked=req.has_header('Transfer-encoding'))\n",
      "  File \"/usr/local/Cellar/python/3.7.5/Frameworks/Python.framework/Versions/3.7/lib/python3.7/http/client.py\", line 1252, in request\n",
      "    self._send_request(method, url, body, headers, encode_chunked)\n",
      "  File \"/usr/local/Cellar/python/3.7.5/Frameworks/Python.framework/Versions/3.7/lib/python3.7/http/client.py\", line 1298, in _send_request\n",
      "    self.endheaders(body, encode_chunked=encode_chunked)\n",
      "  File \"/usr/local/Cellar/python/3.7.5/Frameworks/Python.framework/Versions/3.7/lib/python3.7/http/client.py\", line 1247, in endheaders\n",
      "    self._send_output(message_body, encode_chunked=encode_chunked)\n",
      "  File \"/usr/local/Cellar/python/3.7.5/Frameworks/Python.framework/Versions/3.7/lib/python3.7/http/client.py\", line 1026, in _send_output\n",
      "    self.send(msg)\n",
      "  File \"/usr/local/Cellar/python/3.7.5/Frameworks/Python.framework/Versions/3.7/lib/python3.7/http/client.py\", line 966, in send\n",
      "    self.connect()\n",
      "  File \"/usr/local/Cellar/python/3.7.5/Frameworks/Python.framework/Versions/3.7/lib/python3.7/http/client.py\", line 1422, in connect\n",
      "    server_hostname=server_hostname)\n",
      "  File \"/usr/local/Cellar/python/3.7.5/Frameworks/Python.framework/Versions/3.7/lib/python3.7/ssl.py\", line 423, in wrap_socket\n",
      "    session=session\n",
      "  File \"/usr/local/Cellar/python/3.7.5/Frameworks/Python.framework/Versions/3.7/lib/python3.7/ssl.py\", line 870, in _create\n",
      "    self.do_handshake()\n",
      "  File \"/usr/local/Cellar/python/3.7.5/Frameworks/Python.framework/Versions/3.7/lib/python3.7/ssl.py\", line 1139, in do_handshake\n",
      "    self._sslobj.do_handshake()\n",
      "socket.timeout: _ssl.c:1059: The handshake operation timed out\n",
      "\n",
      "During handling of the above exception, another exception occurred:\n",
      "\n",
      "Traceback (most recent call last):\n",
      "  File \"/usr/local/lib/python3.7/site-packages/geopy/geocoders/base.py\", line 355, in _call_geocoder\n",
      "    page = requester(req, timeout=timeout, **kwargs)\n",
      "  File \"/usr/local/Cellar/python/3.7.5/Frameworks/Python.framework/Versions/3.7/lib/python3.7/urllib/request.py\", line 525, in open\n",
      "    response = self._open(req, data)\n",
      "  File \"/usr/local/Cellar/python/3.7.5/Frameworks/Python.framework/Versions/3.7/lib/python3.7/urllib/request.py\", line 543, in _open\n",
      "    '_open', req)\n",
      "  File \"/usr/local/Cellar/python/3.7.5/Frameworks/Python.framework/Versions/3.7/lib/python3.7/urllib/request.py\", line 503, in _call_chain\n",
      "    result = func(*args)\n",
      "  File \"/usr/local/Cellar/python/3.7.5/Frameworks/Python.framework/Versions/3.7/lib/python3.7/urllib/request.py\", line 1360, in https_open\n",
      "    context=self._context, check_hostname=self._check_hostname)\n",
      "  File \"/usr/local/Cellar/python/3.7.5/Frameworks/Python.framework/Versions/3.7/lib/python3.7/urllib/request.py\", line 1319, in do_open\n",
      "    raise URLError(err)\n",
      "urllib.error.URLError: <urlopen error _ssl.c:1059: The handshake operation timed out>\n",
      "\n",
      "During handling of the above exception, another exception occurred:\n",
      "\n",
      "Traceback (most recent call last):\n",
      "  File \"/usr/local/lib/python3.7/site-packages/geopy/extra/rate_limiter.py\", line 126, in __call__\n",
      "    return self.func(*args, **kwargs)\n",
      "  File \"/usr/local/lib/python3.7/site-packages/geopy/geocoders/osm.py\", line 387, in geocode\n",
      "    self._call_geocoder(url, timeout=timeout), exactly_one\n",
      "  File \"/usr/local/lib/python3.7/site-packages/geopy/geocoders/base.py\", line 378, in _call_geocoder\n",
      "    raise GeocoderTimedOut('Service timed out')\n",
      "geopy.exc.GeocoderTimedOut: Service timed out\n",
      "RateLimiter caught an error, retrying (0/2 tries). Called with (*('route d’Estavayer le Lac 26, Treytorrens (Payerne),  1538, Switzerland',), **{}).\n",
      "Traceback (most recent call last):\n",
      "  File \"/usr/local/Cellar/python/3.7.5/Frameworks/Python.framework/Versions/3.7/lib/python3.7/urllib/request.py\", line 1317, in do_open\n",
      "    encode_chunked=req.has_header('Transfer-encoding'))\n",
      "  File \"/usr/local/Cellar/python/3.7.5/Frameworks/Python.framework/Versions/3.7/lib/python3.7/http/client.py\", line 1252, in request\n",
      "    self._send_request(method, url, body, headers, encode_chunked)\n",
      "  File \"/usr/local/Cellar/python/3.7.5/Frameworks/Python.framework/Versions/3.7/lib/python3.7/http/client.py\", line 1298, in _send_request\n",
      "    self.endheaders(body, encode_chunked=encode_chunked)\n",
      "  File \"/usr/local/Cellar/python/3.7.5/Frameworks/Python.framework/Versions/3.7/lib/python3.7/http/client.py\", line 1247, in endheaders\n",
      "    self._send_output(message_body, encode_chunked=encode_chunked)\n",
      "  File \"/usr/local/Cellar/python/3.7.5/Frameworks/Python.framework/Versions/3.7/lib/python3.7/http/client.py\", line 1026, in _send_output\n",
      "    self.send(msg)\n",
      "  File \"/usr/local/Cellar/python/3.7.5/Frameworks/Python.framework/Versions/3.7/lib/python3.7/http/client.py\", line 966, in send\n",
      "    self.connect()\n",
      "  File \"/usr/local/Cellar/python/3.7.5/Frameworks/Python.framework/Versions/3.7/lib/python3.7/http/client.py\", line 1414, in connect\n",
      "    super().connect()\n",
      "  File \"/usr/local/Cellar/python/3.7.5/Frameworks/Python.framework/Versions/3.7/lib/python3.7/http/client.py\", line 938, in connect\n",
      "    (self.host,self.port), self.timeout, self.source_address)\n",
      "  File \"/usr/local/Cellar/python/3.7.5/Frameworks/Python.framework/Versions/3.7/lib/python3.7/socket.py\", line 727, in create_connection\n",
      "    raise err\n",
      "  File \"/usr/local/Cellar/python/3.7.5/Frameworks/Python.framework/Versions/3.7/lib/python3.7/socket.py\", line 716, in create_connection\n",
      "    sock.connect(sa)\n",
      "socket.timeout: timed out\n",
      "\n",
      "During handling of the above exception, another exception occurred:\n",
      "\n",
      "Traceback (most recent call last):\n",
      "  File \"/usr/local/lib/python3.7/site-packages/geopy/geocoders/base.py\", line 355, in _call_geocoder\n",
      "    page = requester(req, timeout=timeout, **kwargs)\n",
      "  File \"/usr/local/Cellar/python/3.7.5/Frameworks/Python.framework/Versions/3.7/lib/python3.7/urllib/request.py\", line 525, in open\n",
      "    response = self._open(req, data)\n",
      "  File \"/usr/local/Cellar/python/3.7.5/Frameworks/Python.framework/Versions/3.7/lib/python3.7/urllib/request.py\", line 543, in _open\n",
      "    '_open', req)\n",
      "  File \"/usr/local/Cellar/python/3.7.5/Frameworks/Python.framework/Versions/3.7/lib/python3.7/urllib/request.py\", line 503, in _call_chain\n",
      "    result = func(*args)\n",
      "  File \"/usr/local/Cellar/python/3.7.5/Frameworks/Python.framework/Versions/3.7/lib/python3.7/urllib/request.py\", line 1360, in https_open\n",
      "    context=self._context, check_hostname=self._check_hostname)\n",
      "  File \"/usr/local/Cellar/python/3.7.5/Frameworks/Python.framework/Versions/3.7/lib/python3.7/urllib/request.py\", line 1319, in do_open\n",
      "    raise URLError(err)\n",
      "urllib.error.URLError: <urlopen error timed out>\n",
      "\n",
      "During handling of the above exception, another exception occurred:\n",
      "\n",
      "Traceback (most recent call last):\n",
      "  File \"/usr/local/lib/python3.7/site-packages/geopy/extra/rate_limiter.py\", line 126, in __call__\n",
      "    return self.func(*args, **kwargs)\n",
      "  File \"/usr/local/lib/python3.7/site-packages/geopy/geocoders/osm.py\", line 387, in geocode\n",
      "    self._call_geocoder(url, timeout=timeout), exactly_one\n",
      "  File \"/usr/local/lib/python3.7/site-packages/geopy/geocoders/base.py\", line 378, in _call_geocoder\n",
      "    raise GeocoderTimedOut('Service timed out')\n",
      "geopy.exc.GeocoderTimedOut: Service timed out\n",
      "RateLimiter caught an error, retrying (0/2 tries). Called with (*('Mattenweg 64, Kleindöttingen,  5314, Switzerland',), **{}).\n",
      "Traceback (most recent call last):\n",
      "  File \"/usr/local/Cellar/python/3.7.5/Frameworks/Python.framework/Versions/3.7/lib/python3.7/urllib/request.py\", line 1317, in do_open\n",
      "    encode_chunked=req.has_header('Transfer-encoding'))\n",
      "  File \"/usr/local/Cellar/python/3.7.5/Frameworks/Python.framework/Versions/3.7/lib/python3.7/http/client.py\", line 1252, in request\n",
      "    self._send_request(method, url, body, headers, encode_chunked)\n",
      "  File \"/usr/local/Cellar/python/3.7.5/Frameworks/Python.framework/Versions/3.7/lib/python3.7/http/client.py\", line 1298, in _send_request\n",
      "    self.endheaders(body, encode_chunked=encode_chunked)\n",
      "  File \"/usr/local/Cellar/python/3.7.5/Frameworks/Python.framework/Versions/3.7/lib/python3.7/http/client.py\", line 1247, in endheaders\n",
      "    self._send_output(message_body, encode_chunked=encode_chunked)\n",
      "  File \"/usr/local/Cellar/python/3.7.5/Frameworks/Python.framework/Versions/3.7/lib/python3.7/http/client.py\", line 1026, in _send_output\n",
      "    self.send(msg)\n",
      "  File \"/usr/local/Cellar/python/3.7.5/Frameworks/Python.framework/Versions/3.7/lib/python3.7/http/client.py\", line 966, in send\n",
      "    self.connect()\n",
      "  File \"/usr/local/Cellar/python/3.7.5/Frameworks/Python.framework/Versions/3.7/lib/python3.7/http/client.py\", line 1414, in connect\n",
      "    super().connect()\n",
      "  File \"/usr/local/Cellar/python/3.7.5/Frameworks/Python.framework/Versions/3.7/lib/python3.7/http/client.py\", line 938, in connect\n",
      "    (self.host,self.port), self.timeout, self.source_address)\n",
      "  File \"/usr/local/Cellar/python/3.7.5/Frameworks/Python.framework/Versions/3.7/lib/python3.7/socket.py\", line 727, in create_connection\n",
      "    raise err\n",
      "  File \"/usr/local/Cellar/python/3.7.5/Frameworks/Python.framework/Versions/3.7/lib/python3.7/socket.py\", line 716, in create_connection\n",
      "    sock.connect(sa)\n",
      "socket.timeout: timed out\n",
      "\n",
      "During handling of the above exception, another exception occurred:\n",
      "\n",
      "Traceback (most recent call last):\n",
      "  File \"/usr/local/lib/python3.7/site-packages/geopy/geocoders/base.py\", line 355, in _call_geocoder\n",
      "    page = requester(req, timeout=timeout, **kwargs)\n",
      "  File \"/usr/local/Cellar/python/3.7.5/Frameworks/Python.framework/Versions/3.7/lib/python3.7/urllib/request.py\", line 525, in open\n",
      "    response = self._open(req, data)\n",
      "  File \"/usr/local/Cellar/python/3.7.5/Frameworks/Python.framework/Versions/3.7/lib/python3.7/urllib/request.py\", line 543, in _open\n",
      "    '_open', req)\n",
      "  File \"/usr/local/Cellar/python/3.7.5/Frameworks/Python.framework/Versions/3.7/lib/python3.7/urllib/request.py\", line 503, in _call_chain\n",
      "    result = func(*args)\n",
      "  File \"/usr/local/Cellar/python/3.7.5/Frameworks/Python.framework/Versions/3.7/lib/python3.7/urllib/request.py\", line 1360, in https_open\n",
      "    context=self._context, check_hostname=self._check_hostname)\n",
      "  File \"/usr/local/Cellar/python/3.7.5/Frameworks/Python.framework/Versions/3.7/lib/python3.7/urllib/request.py\", line 1319, in do_open\n",
      "    raise URLError(err)\n",
      "urllib.error.URLError: <urlopen error timed out>\n",
      "\n",
      "During handling of the above exception, another exception occurred:\n",
      "\n",
      "Traceback (most recent call last):\n",
      "  File \"/usr/local/lib/python3.7/site-packages/geopy/extra/rate_limiter.py\", line 126, in __call__\n",
      "    return self.func(*args, **kwargs)\n",
      "  File \"/usr/local/lib/python3.7/site-packages/geopy/geocoders/osm.py\", line 387, in geocode\n",
      "    self._call_geocoder(url, timeout=timeout), exactly_one\n",
      "  File \"/usr/local/lib/python3.7/site-packages/geopy/geocoders/base.py\", line 378, in _call_geocoder\n",
      "    raise GeocoderTimedOut('Service timed out')\n",
      "geopy.exc.GeocoderTimedOut: Service timed out\n",
      "RateLimiter caught an error, retrying (1/2 tries). Called with (*('Mattenweg 64, Kleindöttingen,  5314, Switzerland',), **{}).\n",
      "Traceback (most recent call last):\n",
      "  File \"/usr/local/Cellar/python/3.7.5/Frameworks/Python.framework/Versions/3.7/lib/python3.7/urllib/request.py\", line 1317, in do_open\n",
      "    encode_chunked=req.has_header('Transfer-encoding'))\n",
      "  File \"/usr/local/Cellar/python/3.7.5/Frameworks/Python.framework/Versions/3.7/lib/python3.7/http/client.py\", line 1252, in request\n",
      "    self._send_request(method, url, body, headers, encode_chunked)\n",
      "  File \"/usr/local/Cellar/python/3.7.5/Frameworks/Python.framework/Versions/3.7/lib/python3.7/http/client.py\", line 1298, in _send_request\n",
      "    self.endheaders(body, encode_chunked=encode_chunked)\n",
      "  File \"/usr/local/Cellar/python/3.7.5/Frameworks/Python.framework/Versions/3.7/lib/python3.7/http/client.py\", line 1247, in endheaders\n",
      "    self._send_output(message_body, encode_chunked=encode_chunked)\n",
      "  File \"/usr/local/Cellar/python/3.7.5/Frameworks/Python.framework/Versions/3.7/lib/python3.7/http/client.py\", line 1026, in _send_output\n",
      "    self.send(msg)\n",
      "  File \"/usr/local/Cellar/python/3.7.5/Frameworks/Python.framework/Versions/3.7/lib/python3.7/http/client.py\", line 966, in send\n",
      "    self.connect()\n",
      "  File \"/usr/local/Cellar/python/3.7.5/Frameworks/Python.framework/Versions/3.7/lib/python3.7/http/client.py\", line 1414, in connect\n",
      "    super().connect()\n",
      "  File \"/usr/local/Cellar/python/3.7.5/Frameworks/Python.framework/Versions/3.7/lib/python3.7/http/client.py\", line 938, in connect\n",
      "    (self.host,self.port), self.timeout, self.source_address)\n",
      "  File \"/usr/local/Cellar/python/3.7.5/Frameworks/Python.framework/Versions/3.7/lib/python3.7/socket.py\", line 727, in create_connection\n",
      "    raise err\n",
      "  File \"/usr/local/Cellar/python/3.7.5/Frameworks/Python.framework/Versions/3.7/lib/python3.7/socket.py\", line 716, in create_connection\n",
      "    sock.connect(sa)\n",
      "socket.timeout: timed out\n",
      "\n",
      "During handling of the above exception, another exception occurred:\n",
      "\n",
      "Traceback (most recent call last):\n",
      "  File \"/usr/local/lib/python3.7/site-packages/geopy/geocoders/base.py\", line 355, in _call_geocoder\n",
      "    page = requester(req, timeout=timeout, **kwargs)\n",
      "  File \"/usr/local/Cellar/python/3.7.5/Frameworks/Python.framework/Versions/3.7/lib/python3.7/urllib/request.py\", line 525, in open\n",
      "    response = self._open(req, data)\n",
      "  File \"/usr/local/Cellar/python/3.7.5/Frameworks/Python.framework/Versions/3.7/lib/python3.7/urllib/request.py\", line 543, in _open\n",
      "    '_open', req)\n",
      "  File \"/usr/local/Cellar/python/3.7.5/Frameworks/Python.framework/Versions/3.7/lib/python3.7/urllib/request.py\", line 503, in _call_chain\n",
      "    result = func(*args)\n",
      "  File \"/usr/local/Cellar/python/3.7.5/Frameworks/Python.framework/Versions/3.7/lib/python3.7/urllib/request.py\", line 1360, in https_open\n",
      "    context=self._context, check_hostname=self._check_hostname)\n",
      "  File \"/usr/local/Cellar/python/3.7.5/Frameworks/Python.framework/Versions/3.7/lib/python3.7/urllib/request.py\", line 1319, in do_open\n",
      "    raise URLError(err)\n",
      "urllib.error.URLError: <urlopen error timed out>\n",
      "\n",
      "During handling of the above exception, another exception occurred:\n",
      "\n",
      "Traceback (most recent call last):\n",
      "  File \"/usr/local/lib/python3.7/site-packages/geopy/extra/rate_limiter.py\", line 126, in __call__\n",
      "    return self.func(*args, **kwargs)\n",
      "  File \"/usr/local/lib/python3.7/site-packages/geopy/geocoders/osm.py\", line 387, in geocode\n",
      "    self._call_geocoder(url, timeout=timeout), exactly_one\n",
      "  File \"/usr/local/lib/python3.7/site-packages/geopy/geocoders/base.py\", line 378, in _call_geocoder\n",
      "    raise GeocoderTimedOut('Service timed out')\n",
      "geopy.exc.GeocoderTimedOut: Service timed out\n",
      "RateLimiter swallowed an error after 2 retries. Called with (*('Mattenweg 64, Kleindöttingen,  5314, Switzerland',), **{}).\n",
      "Traceback (most recent call last):\n",
      "  File \"/usr/local/Cellar/python/3.7.5/Frameworks/Python.framework/Versions/3.7/lib/python3.7/urllib/request.py\", line 1317, in do_open\n",
      "    encode_chunked=req.has_header('Transfer-encoding'))\n",
      "  File \"/usr/local/Cellar/python/3.7.5/Frameworks/Python.framework/Versions/3.7/lib/python3.7/http/client.py\", line 1252, in request\n",
      "    self._send_request(method, url, body, headers, encode_chunked)\n",
      "  File \"/usr/local/Cellar/python/3.7.5/Frameworks/Python.framework/Versions/3.7/lib/python3.7/http/client.py\", line 1298, in _send_request\n",
      "    self.endheaders(body, encode_chunked=encode_chunked)\n",
      "  File \"/usr/local/Cellar/python/3.7.5/Frameworks/Python.framework/Versions/3.7/lib/python3.7/http/client.py\", line 1247, in endheaders\n",
      "    self._send_output(message_body, encode_chunked=encode_chunked)\n",
      "  File \"/usr/local/Cellar/python/3.7.5/Frameworks/Python.framework/Versions/3.7/lib/python3.7/http/client.py\", line 1026, in _send_output\n",
      "    self.send(msg)\n",
      "  File \"/usr/local/Cellar/python/3.7.5/Frameworks/Python.framework/Versions/3.7/lib/python3.7/http/client.py\", line 966, in send\n",
      "    self.connect()\n",
      "  File \"/usr/local/Cellar/python/3.7.5/Frameworks/Python.framework/Versions/3.7/lib/python3.7/http/client.py\", line 1414, in connect\n",
      "    super().connect()\n",
      "  File \"/usr/local/Cellar/python/3.7.5/Frameworks/Python.framework/Versions/3.7/lib/python3.7/http/client.py\", line 938, in connect\n",
      "    (self.host,self.port), self.timeout, self.source_address)\n",
      "  File \"/usr/local/Cellar/python/3.7.5/Frameworks/Python.framework/Versions/3.7/lib/python3.7/socket.py\", line 727, in create_connection\n",
      "    raise err\n",
      "  File \"/usr/local/Cellar/python/3.7.5/Frameworks/Python.framework/Versions/3.7/lib/python3.7/socket.py\", line 716, in create_connection\n",
      "    sock.connect(sa)\n",
      "socket.timeout: timed out\n",
      "\n",
      "During handling of the above exception, another exception occurred:\n",
      "\n",
      "Traceback (most recent call last):\n",
      "  File \"/usr/local/lib/python3.7/site-packages/geopy/geocoders/base.py\", line 355, in _call_geocoder\n",
      "    page = requester(req, timeout=timeout, **kwargs)\n",
      "  File \"/usr/local/Cellar/python/3.7.5/Frameworks/Python.framework/Versions/3.7/lib/python3.7/urllib/request.py\", line 525, in open\n",
      "    response = self._open(req, data)\n",
      "  File \"/usr/local/Cellar/python/3.7.5/Frameworks/Python.framework/Versions/3.7/lib/python3.7/urllib/request.py\", line 543, in _open\n",
      "    '_open', req)\n",
      "  File \"/usr/local/Cellar/python/3.7.5/Frameworks/Python.framework/Versions/3.7/lib/python3.7/urllib/request.py\", line 503, in _call_chain\n",
      "    result = func(*args)\n",
      "  File \"/usr/local/Cellar/python/3.7.5/Frameworks/Python.framework/Versions/3.7/lib/python3.7/urllib/request.py\", line 1360, in https_open\n",
      "    context=self._context, check_hostname=self._check_hostname)\n",
      "  File \"/usr/local/Cellar/python/3.7.5/Frameworks/Python.framework/Versions/3.7/lib/python3.7/urllib/request.py\", line 1319, in do_open\n",
      "    raise URLError(err)\n",
      "urllib.error.URLError: <urlopen error timed out>\n",
      "\n",
      "During handling of the above exception, another exception occurred:\n",
      "\n",
      "Traceback (most recent call last):\n",
      "  File \"/usr/local/lib/python3.7/site-packages/geopy/extra/rate_limiter.py\", line 126, in __call__\n",
      "    return self.func(*args, **kwargs)\n",
      "  File \"/usr/local/lib/python3.7/site-packages/geopy/geocoders/osm.py\", line 387, in geocode\n",
      "    self._call_geocoder(url, timeout=timeout), exactly_one\n",
      "  File \"/usr/local/lib/python3.7/site-packages/geopy/geocoders/base.py\", line 378, in _call_geocoder\n",
      "    raise GeocoderTimedOut('Service timed out')\n",
      "geopy.exc.GeocoderTimedOut: Service timed out\n",
      "RateLimiter caught an error, retrying (0/2 tries). Called with (*('rue du Closel 53, Essertines-sur-Rolles,  1186, Switzerland',), **{}).\n",
      "Traceback (most recent call last):\n",
      "  File \"/usr/local/Cellar/python/3.7.5/Frameworks/Python.framework/Versions/3.7/lib/python3.7/urllib/request.py\", line 1317, in do_open\n",
      "    encode_chunked=req.has_header('Transfer-encoding'))\n",
      "  File \"/usr/local/Cellar/python/3.7.5/Frameworks/Python.framework/Versions/3.7/lib/python3.7/http/client.py\", line 1252, in request\n",
      "    self._send_request(method, url, body, headers, encode_chunked)\n",
      "  File \"/usr/local/Cellar/python/3.7.5/Frameworks/Python.framework/Versions/3.7/lib/python3.7/http/client.py\", line 1298, in _send_request\n",
      "    self.endheaders(body, encode_chunked=encode_chunked)\n",
      "  File \"/usr/local/Cellar/python/3.7.5/Frameworks/Python.framework/Versions/3.7/lib/python3.7/http/client.py\", line 1247, in endheaders\n",
      "    self._send_output(message_body, encode_chunked=encode_chunked)\n",
      "  File \"/usr/local/Cellar/python/3.7.5/Frameworks/Python.framework/Versions/3.7/lib/python3.7/http/client.py\", line 1026, in _send_output\n",
      "    self.send(msg)\n",
      "  File \"/usr/local/Cellar/python/3.7.5/Frameworks/Python.framework/Versions/3.7/lib/python3.7/http/client.py\", line 966, in send\n",
      "    self.connect()\n",
      "  File \"/usr/local/Cellar/python/3.7.5/Frameworks/Python.framework/Versions/3.7/lib/python3.7/http/client.py\", line 1422, in connect\n",
      "    server_hostname=server_hostname)\n",
      "  File \"/usr/local/Cellar/python/3.7.5/Frameworks/Python.framework/Versions/3.7/lib/python3.7/ssl.py\", line 423, in wrap_socket\n",
      "    session=session\n",
      "  File \"/usr/local/Cellar/python/3.7.5/Frameworks/Python.framework/Versions/3.7/lib/python3.7/ssl.py\", line 870, in _create\n",
      "    self.do_handshake()\n",
      "  File \"/usr/local/Cellar/python/3.7.5/Frameworks/Python.framework/Versions/3.7/lib/python3.7/ssl.py\", line 1139, in do_handshake\n",
      "    self._sslobj.do_handshake()\n",
      "socket.timeout: _ssl.c:1059: The handshake operation timed out\n",
      "\n",
      "During handling of the above exception, another exception occurred:\n",
      "\n",
      "Traceback (most recent call last):\n",
      "  File \"/usr/local/lib/python3.7/site-packages/geopy/geocoders/base.py\", line 355, in _call_geocoder\n",
      "    page = requester(req, timeout=timeout, **kwargs)\n",
      "  File \"/usr/local/Cellar/python/3.7.5/Frameworks/Python.framework/Versions/3.7/lib/python3.7/urllib/request.py\", line 525, in open\n",
      "    response = self._open(req, data)\n",
      "  File \"/usr/local/Cellar/python/3.7.5/Frameworks/Python.framework/Versions/3.7/lib/python3.7/urllib/request.py\", line 543, in _open\n",
      "    '_open', req)\n",
      "  File \"/usr/local/Cellar/python/3.7.5/Frameworks/Python.framework/Versions/3.7/lib/python3.7/urllib/request.py\", line 503, in _call_chain\n",
      "    result = func(*args)\n",
      "  File \"/usr/local/Cellar/python/3.7.5/Frameworks/Python.framework/Versions/3.7/lib/python3.7/urllib/request.py\", line 1360, in https_open\n",
      "    context=self._context, check_hostname=self._check_hostname)\n",
      "  File \"/usr/local/Cellar/python/3.7.5/Frameworks/Python.framework/Versions/3.7/lib/python3.7/urllib/request.py\", line 1319, in do_open\n",
      "    raise URLError(err)\n",
      "urllib.error.URLError: <urlopen error _ssl.c:1059: The handshake operation timed out>\n",
      "\n",
      "During handling of the above exception, another exception occurred:\n",
      "\n",
      "Traceback (most recent call last):\n",
      "  File \"/usr/local/lib/python3.7/site-packages/geopy/extra/rate_limiter.py\", line 126, in __call__\n",
      "    return self.func(*args, **kwargs)\n",
      "  File \"/usr/local/lib/python3.7/site-packages/geopy/geocoders/osm.py\", line 387, in geocode\n",
      "    self._call_geocoder(url, timeout=timeout), exactly_one\n",
      "  File \"/usr/local/lib/python3.7/site-packages/geopy/geocoders/base.py\", line 378, in _call_geocoder\n",
      "    raise GeocoderTimedOut('Service timed out')\n",
      "geopy.exc.GeocoderTimedOut: Service timed out\n",
      "RateLimiter caught an error, retrying (0/2 tries). Called with (*('Cham,  6330, Switzerland',), **{}).\n",
      "Traceback (most recent call last):\n",
      "  File \"/usr/local/lib/python3.7/site-packages/geopy/geocoders/base.py\", line 355, in _call_geocoder\n",
      "    page = requester(req, timeout=timeout, **kwargs)\n",
      "  File \"/usr/local/Cellar/python/3.7.5/Frameworks/Python.framework/Versions/3.7/lib/python3.7/urllib/request.py\", line 525, in open\n",
      "    response = self._open(req, data)\n",
      "  File \"/usr/local/Cellar/python/3.7.5/Frameworks/Python.framework/Versions/3.7/lib/python3.7/urllib/request.py\", line 543, in _open\n",
      "    '_open', req)\n",
      "  File \"/usr/local/Cellar/python/3.7.5/Frameworks/Python.framework/Versions/3.7/lib/python3.7/urllib/request.py\", line 503, in _call_chain\n",
      "    result = func(*args)\n",
      "  File \"/usr/local/Cellar/python/3.7.5/Frameworks/Python.framework/Versions/3.7/lib/python3.7/urllib/request.py\", line 1360, in https_open\n",
      "    context=self._context, check_hostname=self._check_hostname)\n",
      "  File \"/usr/local/Cellar/python/3.7.5/Frameworks/Python.framework/Versions/3.7/lib/python3.7/urllib/request.py\", line 1320, in do_open\n",
      "    r = h.getresponse()\n",
      "  File \"/usr/local/Cellar/python/3.7.5/Frameworks/Python.framework/Versions/3.7/lib/python3.7/http/client.py\", line 1344, in getresponse\n",
      "    response.begin()\n",
      "  File \"/usr/local/Cellar/python/3.7.5/Frameworks/Python.framework/Versions/3.7/lib/python3.7/http/client.py\", line 306, in begin\n",
      "    version, status, reason = self._read_status()\n",
      "  File \"/usr/local/Cellar/python/3.7.5/Frameworks/Python.framework/Versions/3.7/lib/python3.7/http/client.py\", line 267, in _read_status\n",
      "    line = str(self.fp.readline(_MAXLINE + 1), \"iso-8859-1\")\n",
      "  File \"/usr/local/Cellar/python/3.7.5/Frameworks/Python.framework/Versions/3.7/lib/python3.7/socket.py\", line 589, in readinto\n",
      "    return self._sock.recv_into(b)\n",
      "  File \"/usr/local/Cellar/python/3.7.5/Frameworks/Python.framework/Versions/3.7/lib/python3.7/ssl.py\", line 1071, in recv_into\n",
      "    return self.read(nbytes, buffer)\n",
      "  File \"/usr/local/Cellar/python/3.7.5/Frameworks/Python.framework/Versions/3.7/lib/python3.7/ssl.py\", line 929, in read\n",
      "    return self._sslobj.read(len, buffer)\n",
      "socket.timeout: The read operation timed out\n",
      "\n",
      "During handling of the above exception, another exception occurred:\n",
      "\n",
      "Traceback (most recent call last):\n",
      "  File \"/usr/local/lib/python3.7/site-packages/geopy/extra/rate_limiter.py\", line 126, in __call__\n",
      "    return self.func(*args, **kwargs)\n",
      "  File \"/usr/local/lib/python3.7/site-packages/geopy/geocoders/osm.py\", line 387, in geocode\n",
      "    self._call_geocoder(url, timeout=timeout), exactly_one\n",
      "  File \"/usr/local/lib/python3.7/site-packages/geopy/geocoders/base.py\", line 382, in _call_geocoder\n",
      "    raise GeocoderTimedOut('Service timed out')\n",
      "geopy.exc.GeocoderTimedOut: Service timed out\n",
      "RateLimiter caught an error, retrying (0/2 tries). Called with (*('Derfliplatz 17, Brienz,  3855, Switzerland',), **{}).\n",
      "Traceback (most recent call last):\n",
      "  File \"/usr/local/Cellar/python/3.7.5/Frameworks/Python.framework/Versions/3.7/lib/python3.7/urllib/request.py\", line 1317, in do_open\n",
      "    encode_chunked=req.has_header('Transfer-encoding'))\n",
      "  File \"/usr/local/Cellar/python/3.7.5/Frameworks/Python.framework/Versions/3.7/lib/python3.7/http/client.py\", line 1252, in request\n",
      "    self._send_request(method, url, body, headers, encode_chunked)\n",
      "  File \"/usr/local/Cellar/python/3.7.5/Frameworks/Python.framework/Versions/3.7/lib/python3.7/http/client.py\", line 1298, in _send_request\n",
      "    self.endheaders(body, encode_chunked=encode_chunked)\n",
      "  File \"/usr/local/Cellar/python/3.7.5/Frameworks/Python.framework/Versions/3.7/lib/python3.7/http/client.py\", line 1247, in endheaders\n",
      "    self._send_output(message_body, encode_chunked=encode_chunked)\n",
      "  File \"/usr/local/Cellar/python/3.7.5/Frameworks/Python.framework/Versions/3.7/lib/python3.7/http/client.py\", line 1026, in _send_output\n",
      "    self.send(msg)\n",
      "  File \"/usr/local/Cellar/python/3.7.5/Frameworks/Python.framework/Versions/3.7/lib/python3.7/http/client.py\", line 966, in send\n",
      "    self.connect()\n",
      "  File \"/usr/local/Cellar/python/3.7.5/Frameworks/Python.framework/Versions/3.7/lib/python3.7/http/client.py\", line 1422, in connect\n",
      "    server_hostname=server_hostname)\n",
      "  File \"/usr/local/Cellar/python/3.7.5/Frameworks/Python.framework/Versions/3.7/lib/python3.7/ssl.py\", line 423, in wrap_socket\n",
      "    session=session\n",
      "  File \"/usr/local/Cellar/python/3.7.5/Frameworks/Python.framework/Versions/3.7/lib/python3.7/ssl.py\", line 870, in _create\n",
      "    self.do_handshake()\n",
      "  File \"/usr/local/Cellar/python/3.7.5/Frameworks/Python.framework/Versions/3.7/lib/python3.7/ssl.py\", line 1139, in do_handshake\n",
      "    self._sslobj.do_handshake()\n",
      "socket.timeout: _ssl.c:1059: The handshake operation timed out\n",
      "\n",
      "During handling of the above exception, another exception occurred:\n",
      "\n",
      "Traceback (most recent call last):\n",
      "  File \"/usr/local/lib/python3.7/site-packages/geopy/geocoders/base.py\", line 355, in _call_geocoder\n",
      "    page = requester(req, timeout=timeout, **kwargs)\n",
      "  File \"/usr/local/Cellar/python/3.7.5/Frameworks/Python.framework/Versions/3.7/lib/python3.7/urllib/request.py\", line 525, in open\n",
      "    response = self._open(req, data)\n",
      "  File \"/usr/local/Cellar/python/3.7.5/Frameworks/Python.framework/Versions/3.7/lib/python3.7/urllib/request.py\", line 543, in _open\n",
      "    '_open', req)\n",
      "  File \"/usr/local/Cellar/python/3.7.5/Frameworks/Python.framework/Versions/3.7/lib/python3.7/urllib/request.py\", line 503, in _call_chain\n",
      "    result = func(*args)\n",
      "  File \"/usr/local/Cellar/python/3.7.5/Frameworks/Python.framework/Versions/3.7/lib/python3.7/urllib/request.py\", line 1360, in https_open\n",
      "    context=self._context, check_hostname=self._check_hostname)\n",
      "  File \"/usr/local/Cellar/python/3.7.5/Frameworks/Python.framework/Versions/3.7/lib/python3.7/urllib/request.py\", line 1319, in do_open\n",
      "    raise URLError(err)\n",
      "urllib.error.URLError: <urlopen error _ssl.c:1059: The handshake operation timed out>\n",
      "\n",
      "During handling of the above exception, another exception occurred:\n",
      "\n",
      "Traceback (most recent call last):\n",
      "  File \"/usr/local/lib/python3.7/site-packages/geopy/extra/rate_limiter.py\", line 126, in __call__\n",
      "    return self.func(*args, **kwargs)\n",
      "  File \"/usr/local/lib/python3.7/site-packages/geopy/geocoders/osm.py\", line 387, in geocode\n",
      "    self._call_geocoder(url, timeout=timeout), exactly_one\n",
      "  File \"/usr/local/lib/python3.7/site-packages/geopy/geocoders/base.py\", line 378, in _call_geocoder\n",
      "    raise GeocoderTimedOut('Service timed out')\n",
      "geopy.exc.GeocoderTimedOut: Service timed out\n",
      "RateLimiter caught an error, retrying (0/2 tries). Called with (*('im Kloster, Fischingen,  8376, Switzerland',), **{}).\n",
      "Traceback (most recent call last):\n",
      "  File \"/usr/local/Cellar/python/3.7.5/Frameworks/Python.framework/Versions/3.7/lib/python3.7/urllib/request.py\", line 1317, in do_open\n",
      "    encode_chunked=req.has_header('Transfer-encoding'))\n",
      "  File \"/usr/local/Cellar/python/3.7.5/Frameworks/Python.framework/Versions/3.7/lib/python3.7/http/client.py\", line 1252, in request\n",
      "    self._send_request(method, url, body, headers, encode_chunked)\n",
      "  File \"/usr/local/Cellar/python/3.7.5/Frameworks/Python.framework/Versions/3.7/lib/python3.7/http/client.py\", line 1298, in _send_request\n",
      "    self.endheaders(body, encode_chunked=encode_chunked)\n",
      "  File \"/usr/local/Cellar/python/3.7.5/Frameworks/Python.framework/Versions/3.7/lib/python3.7/http/client.py\", line 1247, in endheaders\n",
      "    self._send_output(message_body, encode_chunked=encode_chunked)\n",
      "  File \"/usr/local/Cellar/python/3.7.5/Frameworks/Python.framework/Versions/3.7/lib/python3.7/http/client.py\", line 1026, in _send_output\n",
      "    self.send(msg)\n",
      "  File \"/usr/local/Cellar/python/3.7.5/Frameworks/Python.framework/Versions/3.7/lib/python3.7/http/client.py\", line 966, in send\n",
      "    self.connect()\n",
      "  File \"/usr/local/Cellar/python/3.7.5/Frameworks/Python.framework/Versions/3.7/lib/python3.7/http/client.py\", line 1414, in connect\n",
      "    super().connect()\n",
      "  File \"/usr/local/Cellar/python/3.7.5/Frameworks/Python.framework/Versions/3.7/lib/python3.7/http/client.py\", line 938, in connect\n",
      "    (self.host,self.port), self.timeout, self.source_address)\n",
      "  File \"/usr/local/Cellar/python/3.7.5/Frameworks/Python.framework/Versions/3.7/lib/python3.7/socket.py\", line 727, in create_connection\n",
      "    raise err\n",
      "  File \"/usr/local/Cellar/python/3.7.5/Frameworks/Python.framework/Versions/3.7/lib/python3.7/socket.py\", line 716, in create_connection\n",
      "    sock.connect(sa)\n",
      "socket.timeout: timed out\n",
      "\n",
      "During handling of the above exception, another exception occurred:\n",
      "\n",
      "Traceback (most recent call last):\n",
      "  File \"/usr/local/lib/python3.7/site-packages/geopy/geocoders/base.py\", line 355, in _call_geocoder\n",
      "    page = requester(req, timeout=timeout, **kwargs)\n",
      "  File \"/usr/local/Cellar/python/3.7.5/Frameworks/Python.framework/Versions/3.7/lib/python3.7/urllib/request.py\", line 525, in open\n",
      "    response = self._open(req, data)\n",
      "  File \"/usr/local/Cellar/python/3.7.5/Frameworks/Python.framework/Versions/3.7/lib/python3.7/urllib/request.py\", line 543, in _open\n",
      "    '_open', req)\n",
      "  File \"/usr/local/Cellar/python/3.7.5/Frameworks/Python.framework/Versions/3.7/lib/python3.7/urllib/request.py\", line 503, in _call_chain\n",
      "    result = func(*args)\n",
      "  File \"/usr/local/Cellar/python/3.7.5/Frameworks/Python.framework/Versions/3.7/lib/python3.7/urllib/request.py\", line 1360, in https_open\n",
      "    context=self._context, check_hostname=self._check_hostname)\n",
      "  File \"/usr/local/Cellar/python/3.7.5/Frameworks/Python.framework/Versions/3.7/lib/python3.7/urllib/request.py\", line 1319, in do_open\n",
      "    raise URLError(err)\n",
      "urllib.error.URLError: <urlopen error timed out>\n",
      "\n",
      "During handling of the above exception, another exception occurred:\n",
      "\n",
      "Traceback (most recent call last):\n",
      "  File \"/usr/local/lib/python3.7/site-packages/geopy/extra/rate_limiter.py\", line 126, in __call__\n",
      "    return self.func(*args, **kwargs)\n",
      "  File \"/usr/local/lib/python3.7/site-packages/geopy/geocoders/osm.py\", line 387, in geocode\n",
      "    self._call_geocoder(url, timeout=timeout), exactly_one\n",
      "  File \"/usr/local/lib/python3.7/site-packages/geopy/geocoders/base.py\", line 378, in _call_geocoder\n",
      "    raise GeocoderTimedOut('Service timed out')\n",
      "geopy.exc.GeocoderTimedOut: Service timed out\n",
      "RateLimiter caught an error, retrying (0/2 tries). Called with (*('Kerns,  6064, Switzerland',), **{}).\n",
      "Traceback (most recent call last):\n",
      "  File \"/usr/local/Cellar/python/3.7.5/Frameworks/Python.framework/Versions/3.7/lib/python3.7/urllib/request.py\", line 1317, in do_open\n",
      "    encode_chunked=req.has_header('Transfer-encoding'))\n",
      "  File \"/usr/local/Cellar/python/3.7.5/Frameworks/Python.framework/Versions/3.7/lib/python3.7/http/client.py\", line 1252, in request\n",
      "    self._send_request(method, url, body, headers, encode_chunked)\n",
      "  File \"/usr/local/Cellar/python/3.7.5/Frameworks/Python.framework/Versions/3.7/lib/python3.7/http/client.py\", line 1298, in _send_request\n",
      "    self.endheaders(body, encode_chunked=encode_chunked)\n",
      "  File \"/usr/local/Cellar/python/3.7.5/Frameworks/Python.framework/Versions/3.7/lib/python3.7/http/client.py\", line 1247, in endheaders\n",
      "    self._send_output(message_body, encode_chunked=encode_chunked)\n",
      "  File \"/usr/local/Cellar/python/3.7.5/Frameworks/Python.framework/Versions/3.7/lib/python3.7/http/client.py\", line 1026, in _send_output\n",
      "    self.send(msg)\n",
      "  File \"/usr/local/Cellar/python/3.7.5/Frameworks/Python.framework/Versions/3.7/lib/python3.7/http/client.py\", line 966, in send\n",
      "    self.connect()\n",
      "  File \"/usr/local/Cellar/python/3.7.5/Frameworks/Python.framework/Versions/3.7/lib/python3.7/http/client.py\", line 1414, in connect\n",
      "    super().connect()\n",
      "  File \"/usr/local/Cellar/python/3.7.5/Frameworks/Python.framework/Versions/3.7/lib/python3.7/http/client.py\", line 938, in connect\n",
      "    (self.host,self.port), self.timeout, self.source_address)\n",
      "  File \"/usr/local/Cellar/python/3.7.5/Frameworks/Python.framework/Versions/3.7/lib/python3.7/socket.py\", line 727, in create_connection\n",
      "    raise err\n",
      "  File \"/usr/local/Cellar/python/3.7.5/Frameworks/Python.framework/Versions/3.7/lib/python3.7/socket.py\", line 716, in create_connection\n",
      "    sock.connect(sa)\n",
      "socket.timeout: timed out\n",
      "\n",
      "During handling of the above exception, another exception occurred:\n",
      "\n",
      "Traceback (most recent call last):\n",
      "  File \"/usr/local/lib/python3.7/site-packages/geopy/geocoders/base.py\", line 355, in _call_geocoder\n",
      "    page = requester(req, timeout=timeout, **kwargs)\n",
      "  File \"/usr/local/Cellar/python/3.7.5/Frameworks/Python.framework/Versions/3.7/lib/python3.7/urllib/request.py\", line 525, in open\n",
      "    response = self._open(req, data)\n",
      "  File \"/usr/local/Cellar/python/3.7.5/Frameworks/Python.framework/Versions/3.7/lib/python3.7/urllib/request.py\", line 543, in _open\n",
      "    '_open', req)\n",
      "  File \"/usr/local/Cellar/python/3.7.5/Frameworks/Python.framework/Versions/3.7/lib/python3.7/urllib/request.py\", line 503, in _call_chain\n",
      "    result = func(*args)\n",
      "  File \"/usr/local/Cellar/python/3.7.5/Frameworks/Python.framework/Versions/3.7/lib/python3.7/urllib/request.py\", line 1360, in https_open\n",
      "    context=self._context, check_hostname=self._check_hostname)\n",
      "  File \"/usr/local/Cellar/python/3.7.5/Frameworks/Python.framework/Versions/3.7/lib/python3.7/urllib/request.py\", line 1319, in do_open\n",
      "    raise URLError(err)\n",
      "urllib.error.URLError: <urlopen error timed out>\n",
      "\n",
      "During handling of the above exception, another exception occurred:\n",
      "\n",
      "Traceback (most recent call last):\n",
      "  File \"/usr/local/lib/python3.7/site-packages/geopy/extra/rate_limiter.py\", line 126, in __call__\n",
      "    return self.func(*args, **kwargs)\n",
      "  File \"/usr/local/lib/python3.7/site-packages/geopy/geocoders/osm.py\", line 387, in geocode\n",
      "    self._call_geocoder(url, timeout=timeout), exactly_one\n",
      "  File \"/usr/local/lib/python3.7/site-packages/geopy/geocoders/base.py\", line 378, in _call_geocoder\n",
      "    raise GeocoderTimedOut('Service timed out')\n",
      "geopy.exc.GeocoderTimedOut: Service timed out\n",
      "RateLimiter caught an error, retrying (0/2 tries). Called with (*('Widengasse 35e, Frick,  5070, Switzerland',), **{}).\n",
      "Traceback (most recent call last):\n",
      "  File \"/usr/local/Cellar/python/3.7.5/Frameworks/Python.framework/Versions/3.7/lib/python3.7/urllib/request.py\", line 1317, in do_open\n",
      "    encode_chunked=req.has_header('Transfer-encoding'))\n",
      "  File \"/usr/local/Cellar/python/3.7.5/Frameworks/Python.framework/Versions/3.7/lib/python3.7/http/client.py\", line 1252, in request\n",
      "    self._send_request(method, url, body, headers, encode_chunked)\n",
      "  File \"/usr/local/Cellar/python/3.7.5/Frameworks/Python.framework/Versions/3.7/lib/python3.7/http/client.py\", line 1298, in _send_request\n",
      "    self.endheaders(body, encode_chunked=encode_chunked)\n",
      "  File \"/usr/local/Cellar/python/3.7.5/Frameworks/Python.framework/Versions/3.7/lib/python3.7/http/client.py\", line 1247, in endheaders\n",
      "    self._send_output(message_body, encode_chunked=encode_chunked)\n",
      "  File \"/usr/local/Cellar/python/3.7.5/Frameworks/Python.framework/Versions/3.7/lib/python3.7/http/client.py\", line 1026, in _send_output\n",
      "    self.send(msg)\n",
      "  File \"/usr/local/Cellar/python/3.7.5/Frameworks/Python.framework/Versions/3.7/lib/python3.7/http/client.py\", line 966, in send\n",
      "    self.connect()\n",
      "  File \"/usr/local/Cellar/python/3.7.5/Frameworks/Python.framework/Versions/3.7/lib/python3.7/http/client.py\", line 1422, in connect\n",
      "    server_hostname=server_hostname)\n",
      "  File \"/usr/local/Cellar/python/3.7.5/Frameworks/Python.framework/Versions/3.7/lib/python3.7/ssl.py\", line 423, in wrap_socket\n",
      "    session=session\n",
      "  File \"/usr/local/Cellar/python/3.7.5/Frameworks/Python.framework/Versions/3.7/lib/python3.7/ssl.py\", line 870, in _create\n",
      "    self.do_handshake()\n",
      "  File \"/usr/local/Cellar/python/3.7.5/Frameworks/Python.framework/Versions/3.7/lib/python3.7/ssl.py\", line 1139, in do_handshake\n",
      "    self._sslobj.do_handshake()\n",
      "socket.timeout: _ssl.c:1059: The handshake operation timed out\n",
      "\n",
      "During handling of the above exception, another exception occurred:\n",
      "\n",
      "Traceback (most recent call last):\n",
      "  File \"/usr/local/lib/python3.7/site-packages/geopy/geocoders/base.py\", line 355, in _call_geocoder\n",
      "    page = requester(req, timeout=timeout, **kwargs)\n",
      "  File \"/usr/local/Cellar/python/3.7.5/Frameworks/Python.framework/Versions/3.7/lib/python3.7/urllib/request.py\", line 525, in open\n",
      "    response = self._open(req, data)\n",
      "  File \"/usr/local/Cellar/python/3.7.5/Frameworks/Python.framework/Versions/3.7/lib/python3.7/urllib/request.py\", line 543, in _open\n",
      "    '_open', req)\n",
      "  File \"/usr/local/Cellar/python/3.7.5/Frameworks/Python.framework/Versions/3.7/lib/python3.7/urllib/request.py\", line 503, in _call_chain\n",
      "    result = func(*args)\n",
      "  File \"/usr/local/Cellar/python/3.7.5/Frameworks/Python.framework/Versions/3.7/lib/python3.7/urllib/request.py\", line 1360, in https_open\n",
      "    context=self._context, check_hostname=self._check_hostname)\n",
      "  File \"/usr/local/Cellar/python/3.7.5/Frameworks/Python.framework/Versions/3.7/lib/python3.7/urllib/request.py\", line 1319, in do_open\n",
      "    raise URLError(err)\n",
      "urllib.error.URLError: <urlopen error _ssl.c:1059: The handshake operation timed out>\n",
      "\n",
      "During handling of the above exception, another exception occurred:\n",
      "\n",
      "Traceback (most recent call last):\n",
      "  File \"/usr/local/lib/python3.7/site-packages/geopy/extra/rate_limiter.py\", line 126, in __call__\n",
      "    return self.func(*args, **kwargs)\n",
      "  File \"/usr/local/lib/python3.7/site-packages/geopy/geocoders/osm.py\", line 387, in geocode\n",
      "    self._call_geocoder(url, timeout=timeout), exactly_one\n",
      "  File \"/usr/local/lib/python3.7/site-packages/geopy/geocoders/base.py\", line 378, in _call_geocoder\n",
      "    raise GeocoderTimedOut('Service timed out')\n",
      "geopy.exc.GeocoderTimedOut: Service timed out\n",
      "RateLimiter caught an error, retrying (0/2 tries). Called with (*('Obere Hofackerstrasse 21, Füllinsdorf,  4414, Switzerland',), **{}).\n",
      "Traceback (most recent call last):\n",
      "  File \"/usr/local/Cellar/python/3.7.5/Frameworks/Python.framework/Versions/3.7/lib/python3.7/urllib/request.py\", line 1317, in do_open\n",
      "    encode_chunked=req.has_header('Transfer-encoding'))\n",
      "  File \"/usr/local/Cellar/python/3.7.5/Frameworks/Python.framework/Versions/3.7/lib/python3.7/http/client.py\", line 1252, in request\n",
      "    self._send_request(method, url, body, headers, encode_chunked)\n",
      "  File \"/usr/local/Cellar/python/3.7.5/Frameworks/Python.framework/Versions/3.7/lib/python3.7/http/client.py\", line 1298, in _send_request\n",
      "    self.endheaders(body, encode_chunked=encode_chunked)\n",
      "  File \"/usr/local/Cellar/python/3.7.5/Frameworks/Python.framework/Versions/3.7/lib/python3.7/http/client.py\", line 1247, in endheaders\n",
      "    self._send_output(message_body, encode_chunked=encode_chunked)\n",
      "  File \"/usr/local/Cellar/python/3.7.5/Frameworks/Python.framework/Versions/3.7/lib/python3.7/http/client.py\", line 1026, in _send_output\n",
      "    self.send(msg)\n",
      "  File \"/usr/local/Cellar/python/3.7.5/Frameworks/Python.framework/Versions/3.7/lib/python3.7/http/client.py\", line 966, in send\n",
      "    self.connect()\n",
      "  File \"/usr/local/Cellar/python/3.7.5/Frameworks/Python.framework/Versions/3.7/lib/python3.7/http/client.py\", line 1422, in connect\n",
      "    server_hostname=server_hostname)\n",
      "  File \"/usr/local/Cellar/python/3.7.5/Frameworks/Python.framework/Versions/3.7/lib/python3.7/ssl.py\", line 423, in wrap_socket\n",
      "    session=session\n",
      "  File \"/usr/local/Cellar/python/3.7.5/Frameworks/Python.framework/Versions/3.7/lib/python3.7/ssl.py\", line 870, in _create\n",
      "    self.do_handshake()\n",
      "  File \"/usr/local/Cellar/python/3.7.5/Frameworks/Python.framework/Versions/3.7/lib/python3.7/ssl.py\", line 1139, in do_handshake\n",
      "    self._sslobj.do_handshake()\n",
      "socket.timeout: _ssl.c:1059: The handshake operation timed out\n",
      "\n",
      "During handling of the above exception, another exception occurred:\n",
      "\n",
      "Traceback (most recent call last):\n",
      "  File \"/usr/local/lib/python3.7/site-packages/geopy/geocoders/base.py\", line 355, in _call_geocoder\n",
      "    page = requester(req, timeout=timeout, **kwargs)\n",
      "  File \"/usr/local/Cellar/python/3.7.5/Frameworks/Python.framework/Versions/3.7/lib/python3.7/urllib/request.py\", line 525, in open\n",
      "    response = self._open(req, data)\n",
      "  File \"/usr/local/Cellar/python/3.7.5/Frameworks/Python.framework/Versions/3.7/lib/python3.7/urllib/request.py\", line 543, in _open\n",
      "    '_open', req)\n",
      "  File \"/usr/local/Cellar/python/3.7.5/Frameworks/Python.framework/Versions/3.7/lib/python3.7/urllib/request.py\", line 503, in _call_chain\n",
      "    result = func(*args)\n",
      "  File \"/usr/local/Cellar/python/3.7.5/Frameworks/Python.framework/Versions/3.7/lib/python3.7/urllib/request.py\", line 1360, in https_open\n",
      "    context=self._context, check_hostname=self._check_hostname)\n",
      "  File \"/usr/local/Cellar/python/3.7.5/Frameworks/Python.framework/Versions/3.7/lib/python3.7/urllib/request.py\", line 1319, in do_open\n",
      "    raise URLError(err)\n",
      "urllib.error.URLError: <urlopen error _ssl.c:1059: The handshake operation timed out>\n",
      "\n",
      "During handling of the above exception, another exception occurred:\n",
      "\n",
      "Traceback (most recent call last):\n",
      "  File \"/usr/local/lib/python3.7/site-packages/geopy/extra/rate_limiter.py\", line 126, in __call__\n",
      "    return self.func(*args, **kwargs)\n",
      "  File \"/usr/local/lib/python3.7/site-packages/geopy/geocoders/osm.py\", line 387, in geocode\n",
      "    self._call_geocoder(url, timeout=timeout), exactly_one\n",
      "  File \"/usr/local/lib/python3.7/site-packages/geopy/geocoders/base.py\", line 378, in _call_geocoder\n",
      "    raise GeocoderTimedOut('Service timed out')\n",
      "geopy.exc.GeocoderTimedOut: Service timed out\n",
      "RateLimiter caught an error, retrying (0/2 tries). Called with (*('Chriesiweg 1, Immensee,  6405, Switzerland',), **{}).\n",
      "Traceback (most recent call last):\n",
      "  File \"/usr/local/Cellar/python/3.7.5/Frameworks/Python.framework/Versions/3.7/lib/python3.7/urllib/request.py\", line 1317, in do_open\n",
      "    encode_chunked=req.has_header('Transfer-encoding'))\n",
      "  File \"/usr/local/Cellar/python/3.7.5/Frameworks/Python.framework/Versions/3.7/lib/python3.7/http/client.py\", line 1252, in request\n",
      "    self._send_request(method, url, body, headers, encode_chunked)\n",
      "  File \"/usr/local/Cellar/python/3.7.5/Frameworks/Python.framework/Versions/3.7/lib/python3.7/http/client.py\", line 1298, in _send_request\n",
      "    self.endheaders(body, encode_chunked=encode_chunked)\n",
      "  File \"/usr/local/Cellar/python/3.7.5/Frameworks/Python.framework/Versions/3.7/lib/python3.7/http/client.py\", line 1247, in endheaders\n",
      "    self._send_output(message_body, encode_chunked=encode_chunked)\n",
      "  File \"/usr/local/Cellar/python/3.7.5/Frameworks/Python.framework/Versions/3.7/lib/python3.7/http/client.py\", line 1026, in _send_output\n",
      "    self.send(msg)\n",
      "  File \"/usr/local/Cellar/python/3.7.5/Frameworks/Python.framework/Versions/3.7/lib/python3.7/http/client.py\", line 966, in send\n",
      "    self.connect()\n",
      "  File \"/usr/local/Cellar/python/3.7.5/Frameworks/Python.framework/Versions/3.7/lib/python3.7/http/client.py\", line 1414, in connect\n",
      "    super().connect()\n",
      "  File \"/usr/local/Cellar/python/3.7.5/Frameworks/Python.framework/Versions/3.7/lib/python3.7/http/client.py\", line 938, in connect\n",
      "    (self.host,self.port), self.timeout, self.source_address)\n",
      "  File \"/usr/local/Cellar/python/3.7.5/Frameworks/Python.framework/Versions/3.7/lib/python3.7/socket.py\", line 727, in create_connection\n",
      "    raise err\n",
      "  File \"/usr/local/Cellar/python/3.7.5/Frameworks/Python.framework/Versions/3.7/lib/python3.7/socket.py\", line 716, in create_connection\n",
      "    sock.connect(sa)\n",
      "socket.timeout: timed out\n",
      "\n",
      "During handling of the above exception, another exception occurred:\n",
      "\n",
      "Traceback (most recent call last):\n",
      "  File \"/usr/local/lib/python3.7/site-packages/geopy/geocoders/base.py\", line 355, in _call_geocoder\n",
      "    page = requester(req, timeout=timeout, **kwargs)\n",
      "  File \"/usr/local/Cellar/python/3.7.5/Frameworks/Python.framework/Versions/3.7/lib/python3.7/urllib/request.py\", line 525, in open\n",
      "    response = self._open(req, data)\n",
      "  File \"/usr/local/Cellar/python/3.7.5/Frameworks/Python.framework/Versions/3.7/lib/python3.7/urllib/request.py\", line 543, in _open\n",
      "    '_open', req)\n",
      "  File \"/usr/local/Cellar/python/3.7.5/Frameworks/Python.framework/Versions/3.7/lib/python3.7/urllib/request.py\", line 503, in _call_chain\n",
      "    result = func(*args)\n",
      "  File \"/usr/local/Cellar/python/3.7.5/Frameworks/Python.framework/Versions/3.7/lib/python3.7/urllib/request.py\", line 1360, in https_open\n",
      "    context=self._context, check_hostname=self._check_hostname)\n",
      "  File \"/usr/local/Cellar/python/3.7.5/Frameworks/Python.framework/Versions/3.7/lib/python3.7/urllib/request.py\", line 1319, in do_open\n",
      "    raise URLError(err)\n",
      "urllib.error.URLError: <urlopen error timed out>\n",
      "\n",
      "During handling of the above exception, another exception occurred:\n",
      "\n",
      "Traceback (most recent call last):\n",
      "  File \"/usr/local/lib/python3.7/site-packages/geopy/extra/rate_limiter.py\", line 126, in __call__\n",
      "    return self.func(*args, **kwargs)\n",
      "  File \"/usr/local/lib/python3.7/site-packages/geopy/geocoders/osm.py\", line 387, in geocode\n",
      "    self._call_geocoder(url, timeout=timeout), exactly_one\n",
      "  File \"/usr/local/lib/python3.7/site-packages/geopy/geocoders/base.py\", line 378, in _call_geocoder\n",
      "    raise GeocoderTimedOut('Service timed out')\n",
      "geopy.exc.GeocoderTimedOut: Service timed out\n",
      "RateLimiter caught an error, retrying (0/2 tries). Called with (*('Operation Center 4, Zürich Flughafen,  8058, Switzerland',), **{}).\n",
      "Traceback (most recent call last):\n",
      "  File \"/usr/local/Cellar/python/3.7.5/Frameworks/Python.framework/Versions/3.7/lib/python3.7/urllib/request.py\", line 1317, in do_open\n",
      "    encode_chunked=req.has_header('Transfer-encoding'))\n",
      "  File \"/usr/local/Cellar/python/3.7.5/Frameworks/Python.framework/Versions/3.7/lib/python3.7/http/client.py\", line 1252, in request\n",
      "    self._send_request(method, url, body, headers, encode_chunked)\n",
      "  File \"/usr/local/Cellar/python/3.7.5/Frameworks/Python.framework/Versions/3.7/lib/python3.7/http/client.py\", line 1298, in _send_request\n",
      "    self.endheaders(body, encode_chunked=encode_chunked)\n",
      "  File \"/usr/local/Cellar/python/3.7.5/Frameworks/Python.framework/Versions/3.7/lib/python3.7/http/client.py\", line 1247, in endheaders\n",
      "    self._send_output(message_body, encode_chunked=encode_chunked)\n",
      "  File \"/usr/local/Cellar/python/3.7.5/Frameworks/Python.framework/Versions/3.7/lib/python3.7/http/client.py\", line 1026, in _send_output\n",
      "    self.send(msg)\n",
      "  File \"/usr/local/Cellar/python/3.7.5/Frameworks/Python.framework/Versions/3.7/lib/python3.7/http/client.py\", line 966, in send\n",
      "    self.connect()\n",
      "  File \"/usr/local/Cellar/python/3.7.5/Frameworks/Python.framework/Versions/3.7/lib/python3.7/http/client.py\", line 1414, in connect\n",
      "    super().connect()\n",
      "  File \"/usr/local/Cellar/python/3.7.5/Frameworks/Python.framework/Versions/3.7/lib/python3.7/http/client.py\", line 938, in connect\n",
      "    (self.host,self.port), self.timeout, self.source_address)\n",
      "  File \"/usr/local/Cellar/python/3.7.5/Frameworks/Python.framework/Versions/3.7/lib/python3.7/socket.py\", line 727, in create_connection\n",
      "    raise err\n",
      "  File \"/usr/local/Cellar/python/3.7.5/Frameworks/Python.framework/Versions/3.7/lib/python3.7/socket.py\", line 716, in create_connection\n",
      "    sock.connect(sa)\n",
      "socket.timeout: timed out\n",
      "\n",
      "During handling of the above exception, another exception occurred:\n",
      "\n",
      "Traceback (most recent call last):\n",
      "  File \"/usr/local/lib/python3.7/site-packages/geopy/geocoders/base.py\", line 355, in _call_geocoder\n",
      "    page = requester(req, timeout=timeout, **kwargs)\n",
      "  File \"/usr/local/Cellar/python/3.7.5/Frameworks/Python.framework/Versions/3.7/lib/python3.7/urllib/request.py\", line 525, in open\n",
      "    response = self._open(req, data)\n",
      "  File \"/usr/local/Cellar/python/3.7.5/Frameworks/Python.framework/Versions/3.7/lib/python3.7/urllib/request.py\", line 543, in _open\n",
      "    '_open', req)\n",
      "  File \"/usr/local/Cellar/python/3.7.5/Frameworks/Python.framework/Versions/3.7/lib/python3.7/urllib/request.py\", line 503, in _call_chain\n",
      "    result = func(*args)\n",
      "  File \"/usr/local/Cellar/python/3.7.5/Frameworks/Python.framework/Versions/3.7/lib/python3.7/urllib/request.py\", line 1360, in https_open\n",
      "    context=self._context, check_hostname=self._check_hostname)\n",
      "  File \"/usr/local/Cellar/python/3.7.5/Frameworks/Python.framework/Versions/3.7/lib/python3.7/urllib/request.py\", line 1319, in do_open\n",
      "    raise URLError(err)\n",
      "urllib.error.URLError: <urlopen error timed out>\n",
      "\n",
      "During handling of the above exception, another exception occurred:\n",
      "\n",
      "Traceback (most recent call last):\n",
      "  File \"/usr/local/lib/python3.7/site-packages/geopy/extra/rate_limiter.py\", line 126, in __call__\n",
      "    return self.func(*args, **kwargs)\n",
      "  File \"/usr/local/lib/python3.7/site-packages/geopy/geocoders/osm.py\", line 387, in geocode\n",
      "    self._call_geocoder(url, timeout=timeout), exactly_one\n",
      "  File \"/usr/local/lib/python3.7/site-packages/geopy/geocoders/base.py\", line 378, in _call_geocoder\n",
      "    raise GeocoderTimedOut('Service timed out')\n",
      "geopy.exc.GeocoderTimedOut: Service timed out\n"
     ]
    }
   ],
   "source": [
    "breweries_ch_RB_df[\"latitude\"], breweries_ch_RB_df[\"longitude\"] = zip(\n",
    "    *breweries_ch_RB_df[\"address\"].map(address_to_coordinates))"
   ]
  },
  {
   "cell_type": "code",
   "execution_count": 50,
   "metadata": {},
   "outputs": [],
   "source": [
    "# Missing coordinates\n",
    "missing_inds = breweries_ch_RB_df['longitude'].isna()\n",
    "\n",
    "breweries_ch_RB_df.loc[missing_inds, \"latitude\"], breweries_ch_RB_df.loc[missing_inds,\"longitude\"] = zip(\n",
    "    *breweries_ch_RB_df.loc[missing_inds,\"address\"].map(address_to_coordinates))"
   ]
  },
  {
   "cell_type": "code",
   "execution_count": 49,
   "metadata": {},
   "outputs": [],
   "source": [
    "# Change addresses to ones that are easier to locate\n",
    "\n",
    "breweries_ch_RB_df.loc[4, 'address'] = 'Route de la Patinoire 15, Morgins, Switzerland'\n",
    "breweries_ch_RB_df.loc[105, 'address'] = 'Tintébin, Vuisternens-devant-Romont, Switzerland'\n",
    "breweries_ch_RB_df.loc[201, 'address'] = 'Verney, Puidoux, Suisse'\n",
    "breweries_ch_RB_df.loc[243, 'address'] = 'Rue du Port 5, Rolle, Suisse'\n",
    "breweries_ch_RB_df.loc[313, 'address'] = 'Route du Village 20, 1085 Vulliens, Switzerland'\n",
    "breweries_ch_RB_df.loc[393, 'address'] = 'Flecken 3, Rothenburg, Luzern, Switzerland'\n",
    "breweries_ch_RB_df.loc[429, 'address'] = 'Santa Maria in Calanca,  Switzerland'"
   ]
  },
  {
   "cell_type": "code",
   "execution_count": 53,
   "metadata": {},
   "outputs": [
    {
     "data": {
      "text/html": [
       "<div>\n",
       "<style scoped>\n",
       "    .dataframe tbody tr th:only-of-type {\n",
       "        vertical-align: middle;\n",
       "    }\n",
       "\n",
       "    .dataframe tbody tr th {\n",
       "        vertical-align: top;\n",
       "    }\n",
       "\n",
       "    .dataframe thead th {\n",
       "        text-align: right;\n",
       "    }\n",
       "</style>\n",
       "<table border=\"1\" class=\"dataframe\">\n",
       "  <thead>\n",
       "    <tr style=\"text-align: right;\">\n",
       "      <th></th>\n",
       "      <th>name</th>\n",
       "      <th>link</th>\n",
       "      <th>location</th>\n",
       "      <th>brewer_typ</th>\n",
       "      <th>beer_count</th>\n",
       "      <th>established_year</th>\n",
       "      <th>brewer_id</th>\n",
       "      <th>img_link</th>\n",
       "      <th>address</th>\n",
       "      <th>telephone</th>\n",
       "      <th>website</th>\n",
       "      <th>latitude</th>\n",
       "      <th>longitude</th>\n",
       "    </tr>\n",
       "  </thead>\n",
       "  <tbody>\n",
       "  </tbody>\n",
       "</table>\n",
       "</div>"
      ],
      "text/plain": [
       "Empty DataFrame\n",
       "Columns: [name, link, location, brewer_typ, beer_count, established_year, brewer_id, img_link, address, telephone, website, latitude, longitude]\n",
       "Index: []"
      ]
     },
     "execution_count": 53,
     "metadata": {},
     "output_type": "execute_result"
    }
   ],
   "source": [
    "breweries_ch_RB_df[breweries_ch_RB_df['longitude'].isna()]"
   ]
  },
  {
   "cell_type": "code",
   "execution_count": 4,
   "metadata": {},
   "outputs": [],
   "source": [
    "# Adds small random number to breweries at same exact location\n",
    "\n",
    "def add_small_offset(coordinate):\n",
    "    jump = 1e-4\n",
    "    return coordinate + jump * np.random.normal()\n",
    "\n",
    "inds_same_coordinates = breweries_ch_RB_df.duplicated(subset=('latitude', 'longitude'), keep=False)\n",
    "breweries_ch_RB_df.loc[inds_same_coordinates,'longitude'] = breweries_ch_RB_df.loc[inds_same_coordinates,'longitude'].apply(add_small_offset)\n",
    "breweries_ch_RB_df.loc[inds_same_coordinates,'latitude'] = breweries_ch_RB_df.loc[inds_same_coordinates,'latitude'].apply(add_small_offset)"
   ]
  },
  {
   "cell_type": "code",
   "execution_count": 5,
   "metadata": {},
   "outputs": [
    {
     "data": {
      "text/html": [
       "<div>\n",
       "<style scoped>\n",
       "    .dataframe tbody tr th:only-of-type {\n",
       "        vertical-align: middle;\n",
       "    }\n",
       "\n",
       "    .dataframe tbody tr th {\n",
       "        vertical-align: top;\n",
       "    }\n",
       "\n",
       "    .dataframe thead th {\n",
       "        text-align: right;\n",
       "    }\n",
       "</style>\n",
       "<table border=\"1\" class=\"dataframe\">\n",
       "  <thead>\n",
       "    <tr style=\"text-align: right;\">\n",
       "      <th></th>\n",
       "      <th>name</th>\n",
       "      <th>link</th>\n",
       "      <th>location</th>\n",
       "      <th>brewer_typ</th>\n",
       "      <th>beer_count</th>\n",
       "      <th>established_year</th>\n",
       "      <th>brewer_id</th>\n",
       "      <th>img_link</th>\n",
       "      <th>address</th>\n",
       "      <th>telephone</th>\n",
       "      <th>website</th>\n",
       "      <th>latitude</th>\n",
       "      <th>longitude</th>\n",
       "    </tr>\n",
       "  </thead>\n",
       "  <tbody>\n",
       "    <tr>\n",
       "      <th>4</th>\n",
       "      <td>7Peaks Brasserie</td>\n",
       "      <td>https://www.ratebeer.com/brewers/7peaks-brasse...</td>\n",
       "      <td>Morgins, Vaud</td>\n",
       "      <td>Microbrewery</td>\n",
       "      <td>20</td>\n",
       "      <td>2014</td>\n",
       "      <td>4</td>\n",
       "      <td>https://res.cloudinary.com/ratebeer/image/uplo...</td>\n",
       "      <td>Route de la Patinoire 15, Morgins, Vaud,  1875...</td>\n",
       "      <td>41 78 797 18 75</td>\n",
       "      <td>http://www.7peaksbrasserie.ch</td>\n",
       "      <td>NaN</td>\n",
       "      <td>NaN</td>\n",
       "    </tr>\n",
       "    <tr>\n",
       "      <th>105</th>\n",
       "      <td>Brasserie du Dzô</td>\n",
       "      <td>https://www.ratebeer.com/brewers/brasserie-du-...</td>\n",
       "      <td>Vuisternens-dvt-Romont</td>\n",
       "      <td>Microbrewery</td>\n",
       "      <td>6</td>\n",
       "      <td>2018</td>\n",
       "      <td>105</td>\n",
       "      <td>https://res.cloudinary.com/ratebeer/image/uplo...</td>\n",
       "      <td>Tintébin 12, Vuisternens-dvt-Romont,  1687, Sw...</td>\n",
       "      <td>79 506 88 00</td>\n",
       "      <td>http://www.brasseriedudzo.ch/</td>\n",
       "      <td>NaN</td>\n",
       "      <td>NaN</td>\n",
       "    </tr>\n",
       "    <tr>\n",
       "      <th>201</th>\n",
       "      <td>Docteur Gab's</td>\n",
       "      <td>https://www.ratebeer.com/brewers/docteur-gabs/...</td>\n",
       "      <td>Savigny</td>\n",
       "      <td>Microbrewery</td>\n",
       "      <td>26</td>\n",
       "      <td>2001</td>\n",
       "      <td>201</td>\n",
       "      <td>https://res.cloudinary.com/ratebeer/image/uplo...</td>\n",
       "      <td>Ch. de Geffry 7, Halle 57, Savigny,  1073, Swi...</td>\n",
       "      <td></td>\n",
       "      <td>http://www.docteurgabs.ch/</td>\n",
       "      <td>NaN</td>\n",
       "      <td>NaN</td>\n",
       "    </tr>\n",
       "    <tr>\n",
       "      <th>243</th>\n",
       "      <td>FMR (Federation of Malted Republics)</td>\n",
       "      <td>https://www.ratebeer.com/brewers/fmr-federatio...</td>\n",
       "      <td>Essertines-sur-Rolles</td>\n",
       "      <td>Microbrewery</td>\n",
       "      <td>10</td>\n",
       "      <td>2016</td>\n",
       "      <td>243</td>\n",
       "      <td>https://res.cloudinary.com/ratebeer/image/uplo...</td>\n",
       "      <td>rue du Closel 53, Essertines-sur-Rolles,  1186...</td>\n",
       "      <td>79 608 01 49</td>\n",
       "      <td>http://www.fmr.beer/</td>\n",
       "      <td>NaN</td>\n",
       "      <td>NaN</td>\n",
       "    </tr>\n",
       "    <tr>\n",
       "      <th>313</th>\n",
       "      <td>Jorat</td>\n",
       "      <td>https://www.ratebeer.com/brewers/jorat/6557/</td>\n",
       "      <td>Vuillens</td>\n",
       "      <td>Microbrewery</td>\n",
       "      <td>13</td>\n",
       "      <td>2006</td>\n",
       "      <td>313</td>\n",
       "      <td>https://res.cloudinary.com/ratebeer/image/uplo...</td>\n",
       "      <td>Route du Village 20, Vuillens,  1085, Switzerland</td>\n",
       "      <td>21 903 40 92</td>\n",
       "      <td>http://www.brasseriedujorat.ch/</td>\n",
       "      <td>NaN</td>\n",
       "      <td>NaN</td>\n",
       "    </tr>\n",
       "    <tr>\n",
       "      <th>393</th>\n",
       "      <td>MN Brew</td>\n",
       "      <td>https://www.ratebeer.com/brewers/mn-brew/37726/</td>\n",
       "      <td>Rotheburg</td>\n",
       "      <td>Microbrewery</td>\n",
       "      <td>5</td>\n",
       "      <td>2018</td>\n",
       "      <td>393</td>\n",
       "      <td>https://res.cloudinary.com/ratebeer/image/uplo...</td>\n",
       "      <td>Flecken 3, Rotheburg,  6023, Switzerland</td>\n",
       "      <td>78 753 40 21</td>\n",
       "      <td>http://www.mnbrew.ch/</td>\n",
       "      <td>NaN</td>\n",
       "      <td>NaN</td>\n",
       "    </tr>\n",
       "    <tr>\n",
       "      <th>429</th>\n",
       "      <td>PD Beer</td>\n",
       "      <td>https://www.ratebeer.com/brewers/pd-beer/35312/</td>\n",
       "      <td>Santa Maria (Calanca)</td>\n",
       "      <td>Microbrewery</td>\n",
       "      <td>1</td>\n",
       "      <td>2017</td>\n",
       "      <td>429</td>\n",
       "      <td>https://res.cloudinary.com/ratebeer/image/uplo...</td>\n",
       "      <td>via Doga 29, Santa Maria (Calanca),  6541, Swi...</td>\n",
       "      <td></td>\n",
       "      <td>//lamolesta.ch</td>\n",
       "      <td>NaN</td>\n",
       "      <td>NaN</td>\n",
       "    </tr>\n",
       "  </tbody>\n",
       "</table>\n",
       "</div>"
      ],
      "text/plain": [
       "                                     name  \\\n",
       "4                        7Peaks Brasserie   \n",
       "105                      Brasserie du Dzô   \n",
       "201                         Docteur Gab's   \n",
       "243  FMR (Federation of Malted Republics)   \n",
       "313                                 Jorat   \n",
       "393                               MN Brew   \n",
       "429                               PD Beer   \n",
       "\n",
       "                                                  link  \\\n",
       "4    https://www.ratebeer.com/brewers/7peaks-brasse...   \n",
       "105  https://www.ratebeer.com/brewers/brasserie-du-...   \n",
       "201  https://www.ratebeer.com/brewers/docteur-gabs/...   \n",
       "243  https://www.ratebeer.com/brewers/fmr-federatio...   \n",
       "313       https://www.ratebeer.com/brewers/jorat/6557/   \n",
       "393    https://www.ratebeer.com/brewers/mn-brew/37726/   \n",
       "429    https://www.ratebeer.com/brewers/pd-beer/35312/   \n",
       "\n",
       "                   location    brewer_typ  beer_count  established_year  \\\n",
       "4             Morgins, Vaud  Microbrewery          20              2014   \n",
       "105  Vuisternens-dvt-Romont  Microbrewery           6              2018   \n",
       "201                 Savigny  Microbrewery          26              2001   \n",
       "243   Essertines-sur-Rolles  Microbrewery          10              2016   \n",
       "313                Vuillens  Microbrewery          13              2006   \n",
       "393               Rotheburg  Microbrewery           5              2018   \n",
       "429   Santa Maria (Calanca)  Microbrewery           1              2017   \n",
       "\n",
       "     brewer_id                                           img_link  \\\n",
       "4            4  https://res.cloudinary.com/ratebeer/image/uplo...   \n",
       "105        105  https://res.cloudinary.com/ratebeer/image/uplo...   \n",
       "201        201  https://res.cloudinary.com/ratebeer/image/uplo...   \n",
       "243        243  https://res.cloudinary.com/ratebeer/image/uplo...   \n",
       "313        313  https://res.cloudinary.com/ratebeer/image/uplo...   \n",
       "393        393  https://res.cloudinary.com/ratebeer/image/uplo...   \n",
       "429        429  https://res.cloudinary.com/ratebeer/image/uplo...   \n",
       "\n",
       "                                               address        telephone  \\\n",
       "4    Route de la Patinoire 15, Morgins, Vaud,  1875...  41 78 797 18 75   \n",
       "105  Tintébin 12, Vuisternens-dvt-Romont,  1687, Sw...     79 506 88 00   \n",
       "201  Ch. de Geffry 7, Halle 57, Savigny,  1073, Swi...                    \n",
       "243  rue du Closel 53, Essertines-sur-Rolles,  1186...     79 608 01 49   \n",
       "313  Route du Village 20, Vuillens,  1085, Switzerland     21 903 40 92   \n",
       "393           Flecken 3, Rotheburg,  6023, Switzerland     78 753 40 21   \n",
       "429  via Doga 29, Santa Maria (Calanca),  6541, Swi...                    \n",
       "\n",
       "                             website  latitude  longitude  \n",
       "4      http://www.7peaksbrasserie.ch       NaN        NaN  \n",
       "105    http://www.brasseriedudzo.ch/       NaN        NaN  \n",
       "201       http://www.docteurgabs.ch/       NaN        NaN  \n",
       "243             http://www.fmr.beer/       NaN        NaN  \n",
       "313  http://www.brasseriedujorat.ch/       NaN        NaN  \n",
       "393            http://www.mnbrew.ch/       NaN        NaN  \n",
       "429                   //lamolesta.ch       NaN        NaN  "
      ]
     },
     "execution_count": 5,
     "metadata": {},
     "output_type": "execute_result"
    }
   ],
   "source": [
    "breweries_ch_RB_df[breweries_ch_RB_df.duplicated(subset=('latitude', 'longitude'), keep=False)]"
   ]
  },
  {
   "cell_type": "markdown",
   "metadata": {},
   "source": [
    "# Save Breweries dataframe"
   ]
  },
  {
   "cell_type": "markdown",
   "metadata": {},
   "source": [
    "## BeerAdvocate Data"
   ]
  },
  {
   "cell_type": "code",
   "execution_count": 83,
   "metadata": {},
   "outputs": [],
   "source": [
    "breweries_ch_df.to_pickle('breweries_ch_pickled')"
   ]
  },
  {
   "cell_type": "code",
   "execution_count": 2,
   "metadata": {},
   "outputs": [],
   "source": [
    "# read pickle\n",
    "\n",
    "breweries_ch_df = pd.read_pickle('breweries_ch_pickled')"
   ]
  },
  {
   "cell_type": "markdown",
   "metadata": {},
   "source": [
    "## RateBeer Breweries and beers data"
   ]
  },
  {
   "cell_type": "code",
   "execution_count": 227,
   "metadata": {},
   "outputs": [],
   "source": [
    "breweries_ch_RB_df.to_pickle('breweries_ch_RB_pickled')\n",
    "beers_rb_df.to_pickle('beers_ch_RB_pickled')"
   ]
  },
  {
   "cell_type": "code",
   "execution_count": 2,
   "metadata": {},
   "outputs": [],
   "source": [
    "# read pickles\n",
    "\n",
    "breweries_ch_RB_df = pd.read_pickle('breweries_ch_RB_pickled')\n",
    "beers_rb_df = pd.read_pickle('beers_ch_RB_pickled')"
   ]
  },
  {
   "cell_type": "markdown",
   "metadata": {},
   "source": [
    "# Mapbox bubble map"
   ]
  },
  {
   "cell_type": "code",
   "execution_count": 31,
   "metadata": {},
   "outputs": [
    {
     "data": {
      "text/html": [
       "<div>\n",
       "<style scoped>\n",
       "    .dataframe tbody tr th:only-of-type {\n",
       "        vertical-align: middle;\n",
       "    }\n",
       "\n",
       "    .dataframe tbody tr th {\n",
       "        vertical-align: top;\n",
       "    }\n",
       "\n",
       "    .dataframe thead th {\n",
       "        text-align: right;\n",
       "    }\n",
       "</style>\n",
       "<table border=\"1\" class=\"dataframe\">\n",
       "  <thead>\n",
       "    <tr style=\"text-align: right;\">\n",
       "      <th></th>\n",
       "      <th>name</th>\n",
       "      <th>link</th>\n",
       "      <th>ratings</th>\n",
       "      <th>n_beers</th>\n",
       "      <th>address</th>\n",
       "      <th>telephone</th>\n",
       "      <th>latitude</th>\n",
       "      <th>longitude</th>\n",
       "    </tr>\n",
       "  </thead>\n",
       "  <tbody>\n",
       "    <tr>\n",
       "      <th>93</th>\n",
       "      <td>Hoppy People</td>\n",
       "      <td>https://www.beeradvocate.com/beer/profile/48536/</td>\n",
       "      <td>3.76</td>\n",
       "      <td>10</td>\n",
       "      <td>Route Des Sablons 11\\nSierre, 3960\\nSwitzerland</td>\n",
       "      <td>+41 (0)27 455-00 00</td>\n",
       "      <td>47.050545</td>\n",
       "      <td>8.305468</td>\n",
       "    </tr>\n",
       "  </tbody>\n",
       "</table>\n",
       "</div>"
      ],
      "text/plain": [
       "            name                                              link  ratings  \\\n",
       "93  Hoppy People  https://www.beeradvocate.com/beer/profile/48536/     3.76   \n",
       "\n",
       "    n_beers                                          address  \\\n",
       "93       10  Route Des Sablons 11\\nSierre, 3960\\nSwitzerland   \n",
       "\n",
       "              telephone   latitude  longitude  \n",
       "93  +41 (0)27 455-00 00  47.050545   8.305468  "
      ]
     },
     "execution_count": 31,
     "metadata": {},
     "output_type": "execute_result"
    }
   ],
   "source": [
    "breweries_ch_df[breweries_ch_df['name'].apply(lambda s: 'Hoppy' in s)]"
   ]
  },
  {
   "cell_type": "code",
   "execution_count": 32,
   "metadata": {},
   "outputs": [
    {
     "data": {
      "text/html": [
       "<div>\n",
       "<style scoped>\n",
       "    .dataframe tbody tr th:only-of-type {\n",
       "        vertical-align: middle;\n",
       "    }\n",
       "\n",
       "    .dataframe tbody tr th {\n",
       "        vertical-align: top;\n",
       "    }\n",
       "\n",
       "    .dataframe thead th {\n",
       "        text-align: right;\n",
       "    }\n",
       "</style>\n",
       "<table border=\"1\" class=\"dataframe\">\n",
       "  <thead>\n",
       "    <tr style=\"text-align: right;\">\n",
       "      <th></th>\n",
       "      <th>name</th>\n",
       "      <th>link</th>\n",
       "      <th>ratings</th>\n",
       "      <th>n_beers</th>\n",
       "      <th>address</th>\n",
       "      <th>telephone</th>\n",
       "      <th>latitude</th>\n",
       "      <th>longitude</th>\n",
       "    </tr>\n",
       "  </thead>\n",
       "  <tbody>\n",
       "    <tr>\n",
       "      <th>2</th>\n",
       "      <td>7Peaks Brasserie</td>\n",
       "      <td>https://www.beeradvocate.com/beer/profile/39040/</td>\n",
       "      <td>2.72</td>\n",
       "      <td>9</td>\n",
       "      <td>Route de la Patinoire 15a\\nMorgins, 1875\\nSwit...</td>\n",
       "      <td>+41 78 797 1875</td>\n",
       "      <td>47.050545</td>\n",
       "      <td>8.305468</td>\n",
       "    </tr>\n",
       "  </tbody>\n",
       "</table>\n",
       "</div>"
      ],
      "text/plain": [
       "               name                                              link  \\\n",
       "2  7Peaks Brasserie  https://www.beeradvocate.com/beer/profile/39040/   \n",
       "\n",
       "   ratings  n_beers                                            address  \\\n",
       "2     2.72        9  Route de la Patinoire 15a\\nMorgins, 1875\\nSwit...   \n",
       "\n",
       "         telephone   latitude  longitude  \n",
       "2  +41 78 797 1875  47.050545   8.305468  "
      ]
     },
     "execution_count": 32,
     "metadata": {},
     "output_type": "execute_result"
    }
   ],
   "source": [
    "breweries_ch_df[breweries_ch_df['name'].apply(lambda s: '7Peaks' in s)]"
   ]
  },
  {
   "cell_type": "code",
   "execution_count": 86,
   "metadata": {},
   "outputs": [
    {
     "data": {
      "text/plain": [
       "'swiss-breweries-map.html'"
      ]
     },
     "execution_count": 86,
     "metadata": {},
     "output_type": "execute_result"
    }
   ],
   "source": [
    "import plotly.express as px\n",
    "import plotly.offline as py\n",
    "px.set_mapbox_access_token(open(\".mapbox_token\").read())\n",
    "\n",
    "fig = px.scatter_mapbox(breweries_ch_df, \n",
    "                        lat=\"latitude\", lon=\"longitude\",     \n",
    "                        color=\"ratings\", size=\"n_beers\",\n",
    "                        text='name',\n",
    "                  color_continuous_scale=px.colors.sequential.Viridis, \n",
    "                        size_max=15, zoom=6)\n",
    "#fig.show()\n",
    "py.plot(fig, filename='swiss-breweries-map.html')"
   ]
  },
  {
   "cell_type": "code",
   "execution_count": 126,
   "metadata": {},
   "outputs": [
    {
     "data": {
      "text/plain": [
       "'swiss-breweries-map-RB.html'"
      ]
     },
     "execution_count": 126,
     "metadata": {},
     "output_type": "execute_result"
    }
   ],
   "source": [
    "import plotly.express as px\n",
    "import plotly.offline as py\n",
    "px.set_mapbox_access_token(open(\".mapbox_token\").read())\n",
    "\n",
    "fig = px.scatter_mapbox(\n",
    "    breweries_ch_RB_df, \n",
    "    lat=\"latitude\", lon=\"longitude\",     \n",
    "    color=\"ratings_avg\", size=\"beer_count\",\n",
    "    #color=\"beer_count\", \n",
    "    text='name',\n",
    "    hover_data = ['location'],\n",
    "    #mode='marker',\n",
    "    #marker=dict(sizemode ='area'),\n",
    "    #size_max=15, \n",
    "    color_continuous_scale=px.colors.sequential.Viridis, \n",
    "    zoom=6,)\n",
    "#fig.show()\n",
    "py.plot(fig, filename='swiss-breweries-map-RB.html')"
   ]
  },
  {
   "cell_type": "code",
   "execution_count": 129,
   "metadata": {},
   "outputs": [
    {
     "data": {
      "text/plain": [
       "'swiss-breweries-map-RB.html'"
      ]
     },
     "execution_count": 129,
     "metadata": {},
     "output_type": "execute_result"
    }
   ],
   "source": [
    "import plotly.graph_objects as go\n",
    "\n",
    "mapbox_access_token = open(\".mapbox_token\").read()\n",
    "\n",
    "fig = go.Figure()\n",
    "\n",
    "fig.add_trace(go.Scattermapbox(\n",
    "        lat=breweries_ch_RB_df.latitude,\n",
    "        lon=breweries_ch_RB_df.longitude,\n",
    "        mode='markers',\n",
    "        #marker=go.scattermapbox.Marker(\n",
    "        marker=dict(\n",
    "            size=breweries_ch_RB_df.beer_count,\n",
    "            color=breweries_ch_RB_df.ratings_avg,\n",
    "            opacity=0.6,\n",
    "            sizemode='area',\n",
    "            sizeref=0.2,\n",
    "            showscale=True,\n",
    "            colorscale='Viridis', \n",
    "            cmin = 2.5,\n",
    "            cmax = 3.5,\n",
    "            #colorscale='Hot', \n",
    "        ),\n",
    "        text=breweries_ch_RB_df.name,\n",
    "        #hoverinfo=['text', ],\n",
    "        hovertemplate=\n",
    "            \"<b>%{text}</b><br><br>\" +\n",
    "            \"Number of beers: %{marker.size}<br>\" +\n",
    "            \"Average ratings: %{marker.color:.2f}/5.0<br>\" +\n",
    "            \"<extra></extra>\",\n",
    "    ))\n",
    "\n",
    "\n",
    "fig.update_layout(\n",
    "    title='Map of Swiss Breweries',\n",
    "    autosize=True,\n",
    "    hovermode='closest',\n",
    "    showlegend=False,\n",
    "    mapbox=go.layout.Mapbox(\n",
    "        accesstoken=mapbox_access_token,\n",
    "        #bearing=0,\n",
    "        center=go.layout.mapbox.Center(\n",
    "            lat=breweries_ch_RB_df.latitude.mean(),\n",
    "            lon=breweries_ch_RB_df.longitude.mean(),\n",
    "        ),\n",
    "        #pitch=0,\n",
    "        zoom=6,\n",
    "        style='light'\n",
    "    ),\n",
    "    height=600,\n",
    ")\n",
    "\n",
    "#fig.show()\n",
    "py.plot(fig, filename='swiss-breweries-map-RB.html')"
   ]
  },
  {
   "cell_type": "markdown",
   "metadata": {},
   "source": [
    "## Selecting items on map"
   ]
  },
  {
   "cell_type": "code",
   "execution_count": 7,
   "metadata": {},
   "outputs": [
    {
     "data": {
      "application/vnd.jupyter.widget-view+json": {
       "model_id": "a5f0d84cdbe1425ca575adf43dd3d833",
       "version_major": 2,
       "version_minor": 0
      },
      "text/plain": [
       "VBox(children=(FigureWidget({\n",
       "    'data': [{'hoverlabel': {'namelength': 0},\n",
       "              'hovertemplate': ('…"
      ]
     },
     "metadata": {},
     "output_type": "display_data"
    }
   ],
   "source": [
    "import plotly.graph_objs as go\n",
    "from ipywidgets import Output, VBox\n",
    "import plotly.express as px\n",
    "\n",
    "\n",
    "map = px.scatter_mapbox(breweries_ch_df, \n",
    "                        lat=\"latitude\", lon=\"longitude\",     \n",
    "                        color=\"ratings\", size=\"n_beers\",\n",
    "                        text='name',\n",
    "                  color_continuous_scale=px.colors.sequential.Viridis, \n",
    "                        size_max=15, zoom=6)\n",
    "fig = go.FigureWidget(map)\n",
    "\n",
    "out = Output()\n",
    "@out.capture(clear_output=True)\n",
    "def handle_click(trace, points, state):\n",
    "    print(points.point_inds)\n",
    "\n",
    "#pie.on_click(handle_click)\n",
    "fig.data[0].on_click(handle_click)\n",
    "\n",
    "VBox([fig, out])"
   ]
  },
  {
   "cell_type": "markdown",
   "metadata": {},
   "source": [
    "# Plotting beers"
   ]
  },
  {
   "cell_type": "code",
   "execution_count": 226,
   "metadata": {},
   "outputs": [
    {
     "data": {
      "text/plain": [
       "array(['Altbier / Sticke Alt', 'Amber Lager - Intl / Vienna',\n",
       "       'Apple Cider', 'BarleyWine / WheatWine / RyeWine',\n",
       "       'Belgian Ale - Dark / Amber', 'Belgian Ale - Pale / Golden',\n",
       "       'Belgian Ale - Strong Dark', 'Belgian Ale - Strong Pale',\n",
       "       'Berliner Weisse', 'Berliner Weisse - Flavored',\n",
       "       'Bitter - Ordinary / Best', 'Bitter - Premium / Strong / ESB',\n",
       "       'Bière de Garde / de Mars', 'Blonde Ale / Golden Ale',\n",
       "       'Bock - Doppelbock', 'Bock - Dunkler Bock', 'Bock - Eisbock',\n",
       "       'Bock - Weizenbock', 'Bock- Heller Bock / Maibock', 'Brown Ale',\n",
       "       'Brown Ale - Imperial', 'California Common / Steam Beer',\n",
       "       'Cream Ale', 'Dark Lager - Dunkel / Tmavý', 'Dubbel',\n",
       "       'Flavored - Fruit', 'Flavored - Other',\n",
       "       'Flavored - Pumpkin / Vegetables', 'Gose', 'Gose - Flavored',\n",
       "       'Gotlandsdricke/ Koduõlu/ Sahti',\n",
       "       'Grodziskie/Grätzer/Lichtenhainer', 'Gruit',\n",
       "       'Helles / Dortmunder Export', 'IIPA - Imperial / Double IPA',\n",
       "       'IIPA - Imperial Hazy / NEIPA', 'IPA', 'IPA - Belgian',\n",
       "       'IPA - Black/Brown/Cascadian Dark', 'IPA - Brut', 'IPA - English',\n",
       "       'IPA - Flavored', 'IPA - Hazy / NEIPA', 'IPA - Milkshake',\n",
       "       'IPA - Red', 'IPA - Rye', 'IPA - Sour / Wild', 'IPA - White',\n",
       "       'ISA - Session IPA', 'Kölsch / Kölsch-Style',\n",
       "       'Lambic -  Unblended Jonge / Oude', 'Lambic - Fruited',\n",
       "       'Low / No Alcohol Beer', 'Low Alcohol - Wheat', 'Malt Liquor',\n",
       "       'Mead', 'Mild Ale', 'Märzen / Oktoberfest Bier', 'Old Ale',\n",
       "       'Pale Ale', 'Pale Ale - American / APA',\n",
       "       'Pale Ale - Australia / NZ', 'Pale Ale - English',\n",
       "       'Pale Ale - Flavored', 'Pale Lager - India / Hoppy',\n",
       "       'Pale Lager - Intl / Premium', 'Pale Lager - North Am. / Light',\n",
       "       'Pilsener - Czech / Svetlý', 'Pilsener - Imperial',\n",
       "       'Pilsener / Pils / Pilsner', 'Porter', 'Porter - Baltic',\n",
       "       'Porter - Flavored', 'Porter - Imperial', 'Porter - Smoked',\n",
       "       'Quadrupel / Abt', 'Radler / Shandy', 'Red Ale - Irish',\n",
       "       'Red Ale / Intl Amber Ale', 'Saison / Farmhouse - Dark',\n",
       "       'Saison / Farmhouse / Grisette', 'Saison/Farmhouse - Flavored',\n",
       "       'Saké - Daiginjo', 'Saké - Ginjo', 'Saké - Junmai',\n",
       "       'Schwarzbier / Black Lager', 'Scotch Ale / Wee Heavy',\n",
       "       'Scottish Ale', 'Smoked - Rauchbier',\n",
       "       'Sour - Flanders Red / Bruin', 'Sour / Wild Beer',\n",
       "       'Sour / Wild Beer - Flavored', 'Sour/Wild - Dark',\n",
       "       'Specialty Grain - Other', 'Specialty Grain-Rye/Roggenbier',\n",
       "       'Stout', 'Stout - Dry', 'Stout - Extra / Foreign',\n",
       "       'Stout - Flavored', 'Stout - Imperial',\n",
       "       'Stout - Imperial Flavored', 'Stout - Milk / Sweet',\n",
       "       'Strong Ale - American', 'Strong Ale - English',\n",
       "       'Traditional Ale - Other', 'Tripel', 'Weissbier - Dunkelweizen',\n",
       "       'Weissbier - Hefeweizen', 'Weissbier - Kristallweizen',\n",
       "       'Wheat Ale', 'Wheat Ale - India / Hopfenweisse',\n",
       "       'Witbier / Belgian White Ale', 'Zwickelbier/Kellerbier/Landbier'],\n",
       "      dtype=object)"
      ]
     },
     "execution_count": 226,
     "metadata": {},
     "output_type": "execute_result"
    }
   ],
   "source": [
    "styles = beers_rb_df['style'].unique()\n",
    "styles.sort()\n",
    "styles"
   ]
  },
  {
   "cell_type": "code",
   "execution_count": 359,
   "metadata": {},
   "outputs": [],
   "source": [
    "def categorize_beers(style):\n",
    "    if 'IPA' in style:\n",
    "        return 'IPA'\n",
    "    elif 'red' in style.lower():\n",
    "        return 'Red'\n",
    "    elif 'Porter' in style:\n",
    "        return 'Porter'\n",
    "    elif 'Stout' in style or 'Black' in style or 'Schwartz' in style:\n",
    "        return 'Black'\n",
    "    elif 'Brown' in style or 'Scot' in style or 'Smoked' in style:\n",
    "        return 'Brown'\n",
    "    elif 'Golden' in style:\n",
    "        return 'Golden'\n",
    "    elif 'Pale' in style or 'Hell' in style:\n",
    "        return 'Pale'\n",
    "    elif 'Dark' in style or 'Dunk' in style:\n",
    "        return 'Dark'\n",
    "    elif 'Strong' in style or 'Dubbel' in style or 'Tripel' in style or 'Quad' in style or 'Eisbock' in style or 'Liquor' in style or 'Wine' in style:\n",
    "        return 'Strong'\n",
    "    elif 'Fruited' in style:\n",
    "        return 'Fruited'\n",
    "    elif 'Specialty' in style:\n",
    "        return 'SpecialGrain'\n",
    "    elif 'Lambic' in style or 'Sour' in style or 'Gose' in style or 'Saison' in style:\n",
    "        return 'Sour'\n",
    "    elif 'Weiss' in style or 'Wheat' in style or 'Wit' in style or 'Weiz' in style:\n",
    "        return 'Weiss'\n",
    "    elif 'Pils' in style or 'Lager' in style or 'Kölsch' in style or 'Radler' in style or 'Doppelbock' in style:\n",
    "        return 'Lager'\n",
    "    elif 'Ale' in style or 'Alt' in style or 'Bitter' in style:\n",
    "        return 'Ale'\n",
    "    elif 'bier' in style.lower() or 'bière' in style.lower() or 'beer' in style.lower():\n",
    "        return 'OtherBeer'\n",
    "    else:\n",
    "        #return style\n",
    "        return 'Other'\n"
   ]
  },
  {
   "cell_type": "code",
   "execution_count": 360,
   "metadata": {},
   "outputs": [
    {
     "data": {
      "text/plain": [
       "(['Red',\n",
       "  'OtherBeer',\n",
       "  'Porter',\n",
       "  'Black',\n",
       "  'Dark',\n",
       "  'Pale',\n",
       "  'Lager',\n",
       "  'Ale',\n",
       "  'Brown',\n",
       "  'Fruited',\n",
       "  'Sour',\n",
       "  'SpecialGrain',\n",
       "  'IPA',\n",
       "  'Weiss',\n",
       "  'Golden',\n",
       "  'Other',\n",
       "  'Strong'],\n",
       " 17)"
      ]
     },
     "execution_count": 360,
     "metadata": {},
     "output_type": "execute_result"
    }
   ],
   "source": [
    "list_styles = list(set((map(categorize_beers,styles))))\n",
    "list_styles, len(list_styles)\n"
   ]
  },
  {
   "cell_type": "code",
   "execution_count": 362,
   "metadata": {},
   "outputs": [
    {
     "data": {
      "text/plain": [
       "['#A63E00',\n",
       " '#FFCA5A',\n",
       " '#821E00',\n",
       " '#520907',\n",
       " '#701400',\n",
       " '#FFBF42',\n",
       " '#F3F993',\n",
       " '#FBB123',\n",
       " '#A63E00',\n",
       " '#cf0234',\n",
       " '#D77200',\n",
       " '#C35900',\n",
       " '#FFBF42',\n",
       " '#F5DEB3',\n",
       " '#FFCA5A',\n",
       " 'gray',\n",
       " '#9B3200']"
      ]
     },
     "execution_count": 362,
     "metadata": {},
     "output_type": "execute_result"
    }
   ],
   "source": [
    "list(map(beer_category_color, list_styles))"
   ]
  },
  {
   "cell_type": "code",
   "execution_count": 364,
   "metadata": {},
   "outputs": [],
   "source": [
    "def beer_category_color(cat):\n",
    "    if cat == 'Weiss':\n",
    "        return '#F5DEB3'\n",
    "    elif cat == 'Ale':\n",
    "        return '#FBB123'\n",
    "    elif cat == 'Brown':\n",
    "        return '#A63E00'\n",
    "    elif cat == 'Dark':\n",
    "        return '#701400'\n",
    "    elif cat == 'Fruited':\n",
    "        return '#cf0234'\n",
    "    elif cat == 'Sour':\n",
    "        return '#D77200'\n",
    "    elif cat == 'Golden':\n",
    "        return '#FFCA5A'\n",
    "    elif cat == 'IPA':\n",
    "        return '#FFBF42'\n",
    "    elif cat == 'Lager':\n",
    "        return '#F3F993'\n",
    "    elif cat == 'Other':\n",
    "        return 'lightgray'\n",
    "    elif cat == 'OtherBeer':\n",
    "        return '#FFCA5A'\n",
    "    elif cat == 'Pale':\n",
    "        return '#FFBF42'\n",
    "    elif cat == 'Porter':\n",
    "        return '#821E00'\n",
    "    elif cat == 'Red':\n",
    "        return '#A63E00'\n",
    "    elif cat == 'SpecialGrain':\n",
    "        return '#C35900'\n",
    "    elif cat == 'Black':\n",
    "        return '#520907'\n",
    "    elif cat == 'Strong':\n",
    "        return '#9B3200'"
   ]
  },
  {
   "cell_type": "code",
   "execution_count": 302,
   "metadata": {},
   "outputs": [
    {
     "data": {
      "text/html": [
       "<div>\n",
       "<style scoped>\n",
       "    .dataframe tbody tr th:only-of-type {\n",
       "        vertical-align: middle;\n",
       "    }\n",
       "\n",
       "    .dataframe tbody tr th {\n",
       "        vertical-align: top;\n",
       "    }\n",
       "\n",
       "    .dataframe thead th {\n",
       "        text-align: right;\n",
       "    }\n",
       "</style>\n",
       "<table border=\"1\" class=\"dataframe\">\n",
       "  <thead>\n",
       "    <tr style=\"text-align: right;\">\n",
       "      <th></th>\n",
       "      <th>ratings_avg</th>\n",
       "      <th>number_ratings</th>\n",
       "      <th>score_overall</th>\n",
       "      <th>score_style</th>\n",
       "      <th>alcohol_perc</th>\n",
       "      <th>brewer_id</th>\n",
       "    </tr>\n",
       "  </thead>\n",
       "  <tbody>\n",
       "    <tr>\n",
       "      <th>count</th>\n",
       "      <td>5960.000000</td>\n",
       "      <td>6087.000000</td>\n",
       "      <td>6087.000000</td>\n",
       "      <td>6087.000000</td>\n",
       "      <td>5825.000000</td>\n",
       "      <td>6087.000000</td>\n",
       "    </tr>\n",
       "    <tr>\n",
       "      <th>mean</th>\n",
       "      <td>2.989836</td>\n",
       "      <td>5.574832</td>\n",
       "      <td>5.739116</td>\n",
       "      <td>6.184163</td>\n",
       "      <td>5.893854</td>\n",
       "      <td>285.444225</td>\n",
       "    </tr>\n",
       "    <tr>\n",
       "      <th>std</th>\n",
       "      <td>0.238261</td>\n",
       "      <td>18.625641</td>\n",
       "      <td>18.574838</td>\n",
       "      <td>19.228005</td>\n",
       "      <td>1.708550</td>\n",
       "      <td>174.677400</td>\n",
       "    </tr>\n",
       "    <tr>\n",
       "      <th>min</th>\n",
       "      <td>1.480000</td>\n",
       "      <td>0.000000</td>\n",
       "      <td>0.000000</td>\n",
       "      <td>0.000000</td>\n",
       "      <td>0.000000</td>\n",
       "      <td>0.000000</td>\n",
       "    </tr>\n",
       "    <tr>\n",
       "      <th>25%</th>\n",
       "      <td>2.860000</td>\n",
       "      <td>1.000000</td>\n",
       "      <td>0.000000</td>\n",
       "      <td>0.000000</td>\n",
       "      <td>5.000000</td>\n",
       "      <td>140.000000</td>\n",
       "    </tr>\n",
       "    <tr>\n",
       "      <th>50%</th>\n",
       "      <td>3.000000</td>\n",
       "      <td>1.000000</td>\n",
       "      <td>0.000000</td>\n",
       "      <td>0.000000</td>\n",
       "      <td>5.500000</td>\n",
       "      <td>274.000000</td>\n",
       "    </tr>\n",
       "    <tr>\n",
       "      <th>75%</th>\n",
       "      <td>3.130000</td>\n",
       "      <td>3.000000</td>\n",
       "      <td>0.000000</td>\n",
       "      <td>0.000000</td>\n",
       "      <td>6.500000</td>\n",
       "      <td>448.000000</td>\n",
       "    </tr>\n",
       "    <tr>\n",
       "      <th>max</th>\n",
       "      <td>3.960000</td>\n",
       "      <td>521.000000</td>\n",
       "      <td>99.000000</td>\n",
       "      <td>99.000000</td>\n",
       "      <td>23.600000</td>\n",
       "      <td>575.000000</td>\n",
       "    </tr>\n",
       "  </tbody>\n",
       "</table>\n",
       "</div>"
      ],
      "text/plain": [
       "       ratings_avg  number_ratings  score_overall  score_style  alcohol_perc  \\\n",
       "count  5960.000000     6087.000000    6087.000000  6087.000000   5825.000000   \n",
       "mean      2.989836        5.574832       5.739116     6.184163      5.893854   \n",
       "std       0.238261       18.625641      18.574838    19.228005      1.708550   \n",
       "min       1.480000        0.000000       0.000000     0.000000      0.000000   \n",
       "25%       2.860000        1.000000       0.000000     0.000000      5.000000   \n",
       "50%       3.000000        1.000000       0.000000     0.000000      5.500000   \n",
       "75%       3.130000        3.000000       0.000000     0.000000      6.500000   \n",
       "max       3.960000      521.000000      99.000000    99.000000     23.600000   \n",
       "\n",
       "         brewer_id  \n",
       "count  6087.000000  \n",
       "mean    285.444225  \n",
       "std     174.677400  \n",
       "min       0.000000  \n",
       "25%     140.000000  \n",
       "50%     274.000000  \n",
       "75%     448.000000  \n",
       "max     575.000000  "
      ]
     },
     "execution_count": 302,
     "metadata": {},
     "output_type": "execute_result"
    }
   ],
   "source": [
    "beers_rb_df.describe()"
   ]
  },
  {
   "cell_type": "code",
   "execution_count": 368,
   "metadata": {},
   "outputs": [
    {
     "data": {
      "text/plain": [
       "'swiss-beers.html'"
      ]
     },
     "execution_count": 368,
     "metadata": {},
     "output_type": "execute_result"
    }
   ],
   "source": [
    "import plotly.graph_objects as go\n",
    "\n",
    "fig = go.Figure()\n",
    "\n",
    "beer_colors = beers_rb_df['style'].apply(lambda s: beer_category_color(categorize_beers(s)) )\n",
    "\n",
    "# Add traces\n",
    "fig.add_trace(go.Scatter(\n",
    "    x=beers_rb_df['ratings_avg'], y=beers_rb_df['alcohol_perc'],\n",
    "    mode='markers',\n",
    "    marker_color=beer_colors,\n",
    "    text=beers_rb_df['name'],\n",
    "    hovertemplate=\n",
    "    \"<b>%{text}</b><br><br>\" +\n",
    "    \"Average ratings: %{x:.2f}/5.0<br>\" +\n",
    "    \"Alcohol content: %{y}<br>\" +\n",
    "    \"Style: %{customdata}<br>\" +\n",
    "    \"<extra></extra>\", \n",
    "    customdata = beers_rb_df['style'],\n",
    "))\n",
    "\n",
    "fig.update_layout(\n",
    "    title=\"Beers of Switzerland\",\n",
    "    xaxis_title=\"Ratings average\",\n",
    "    yaxis_title=\"Alcohol Content (perc.)\",\n",
    "    height=600,\n",
    ")\n",
    "fig.update_yaxes(range=[0, 25])\n",
    "\n",
    "#fig.show()\n",
    "py.plot(fig, filename='swiss-beers.html')"
   ]
  },
  {
   "cell_type": "code",
   "execution_count": 323,
   "metadata": {},
   "outputs": [],
   "source": [
    "colors_list = '''#FFE699\n",
    "#FFD878\n",
    "#FFCA5A\n",
    "#FFBF42\n",
    "#FBB123\n",
    "#F8A600\n",
    "#F39C00\n",
    "#EA8F00\n",
    "#E58500\n",
    "#DE7C00\n",
    "#D77200\n",
    "#CF6900\n",
    "#CB6200\n",
    "#C35900\n",
    "#BB5100\n",
    "#B54C00\n",
    "#B04500\n",
    "#A63E00\n",
    "#A13700\n",
    "#9B3200\n",
    "#952D00\n",
    "#8E2900\n",
    "#882300\n",
    "#821E00\n",
    "#7B1A00\n",
    "#771900\n",
    "#701400\n",
    "#6A0E00\n",
    "#660D00\n",
    "#5E0B00\n",
    "#5A0A02\n",
    "#600903\n",
    "#520907\n",
    "#4C0505\n",
    "#470606\n",
    "#440607\n",
    "#3F0708\n",
    "#3B0607\n",
    "#3A070B\n",
    "#36080A'''.split('\\n')\n",
    "\n",
    "colors_list_2 = '''#F3F993\n",
    "#F5F75C\n",
    "#F6F513\n",
    "#EAE615\n",
    "#E0D01B\n",
    "#D5BC26\n",
    "#CDAA37\n",
    "#C1963C\n",
    "#BE8C3A\n",
    "#BE823A\n",
    "#C17A37\n",
    "#BF7138\n",
    "#BC6733\n",
    "#B26033\n",
    "#A85839\n",
    "#985336\n",
    "#8D4C32\n",
    "#7C452D\n",
    "#6B3A1E\n",
    "#5D341A\n",
    "#4E2A0C\n",
    "#4A2727\n",
    "#361F1B\n",
    "#261716\n",
    "#231716\n",
    "#19100F\n",
    "#16100F\n",
    "#120D0C\n",
    "#100B0A\n",
    "#050B0A'''.split('\\n')"
   ]
  },
  {
   "cell_type": "code",
   "execution_count": 365,
   "metadata": {},
   "outputs": [
    {
     "data": {
      "application/vnd.plotly.v1+json": {
       "config": {
        "plotlyServerURL": "https://plot.ly"
       },
       "data": [
        {
         "marker": {
          "color": [
           "#FFE699",
           "#FFD878",
           "#FFCA5A",
           "#FFBF42",
           "#FBB123",
           "#F8A600",
           "#F39C00",
           "#EA8F00",
           "#E58500",
           "#DE7C00",
           "#D77200",
           "#CF6900",
           "#CB6200",
           "#C35900",
           "#BB5100",
           "#B54C00",
           "#B04500",
           "#A63E00",
           "#A13700",
           "#9B3200",
           "#952D00",
           "#8E2900",
           "#882300",
           "#821E00",
           "#7B1A00",
           "#771900",
           "#701400",
           "#6A0E00",
           "#660D00",
           "#5E0B00",
           "#5A0A02",
           "#600903",
           "#520907",
           "#4C0505",
           "#470606",
           "#440607",
           "#3F0708",
           "#3B0607",
           "#3A070B",
           "#36080A"
          ],
          "size": 20
         },
         "mode": "markers",
         "name": "markers",
         "text": [
          "#FFE699",
          "#FFD878",
          "#FFCA5A",
          "#FFBF42",
          "#FBB123",
          "#F8A600",
          "#F39C00",
          "#EA8F00",
          "#E58500",
          "#DE7C00",
          "#D77200",
          "#CF6900",
          "#CB6200",
          "#C35900",
          "#BB5100",
          "#B54C00",
          "#B04500",
          "#A63E00",
          "#A13700",
          "#9B3200",
          "#952D00",
          "#8E2900",
          "#882300",
          "#821E00",
          "#7B1A00",
          "#771900",
          "#701400",
          "#6A0E00",
          "#660D00",
          "#5E0B00",
          "#5A0A02",
          "#600903",
          "#520907",
          "#4C0505",
          "#470606",
          "#440607",
          "#3F0708",
          "#3B0607",
          "#3A070B",
          "#36080A"
         ],
         "type": "scatter",
         "x": [
          0,
          1,
          2,
          3,
          4,
          5,
          6,
          7,
          8,
          9,
          10,
          11,
          12,
          13,
          14,
          15,
          16,
          17,
          18,
          19,
          20,
          21,
          22,
          23,
          24,
          25,
          26,
          27,
          28,
          29,
          30,
          31,
          32,
          33,
          34,
          35,
          36,
          37,
          38,
          39
         ],
         "y": [
          0,
          0,
          0,
          0,
          0,
          0,
          0,
          0,
          0,
          0,
          0,
          0,
          0,
          0,
          0,
          0,
          0,
          0,
          0,
          0,
          0,
          0,
          0,
          0,
          0,
          0,
          0,
          0,
          0,
          0,
          0,
          0,
          0,
          0,
          0,
          0,
          0,
          0,
          0,
          0
         ]
        },
        {
         "marker": {
          "color": [
           "#F3F993",
           "#F5F75C",
           "#F6F513",
           "#EAE615",
           "#E0D01B",
           "#D5BC26",
           "#CDAA37",
           "#C1963C",
           "#BE8C3A",
           "#BE823A",
           "#C17A37",
           "#BF7138",
           "#BC6733",
           "#B26033",
           "#A85839",
           "#985336",
           "#8D4C32",
           "#7C452D",
           "#6B3A1E",
           "#5D341A",
           "#4E2A0C",
           "#4A2727",
           "#361F1B",
           "#261716",
           "#231716",
           "#19100F",
           "#16100F",
           "#120D0C",
           "#100B0A",
           "#050B0A"
          ],
          "size": 20
         },
         "mode": "markers",
         "name": "markers",
         "text": [
          "#F3F993",
          "#F5F75C",
          "#F6F513",
          "#EAE615",
          "#E0D01B",
          "#D5BC26",
          "#CDAA37",
          "#C1963C",
          "#BE8C3A",
          "#BE823A",
          "#C17A37",
          "#BF7138",
          "#BC6733",
          "#B26033",
          "#A85839",
          "#985336",
          "#8D4C32",
          "#7C452D",
          "#6B3A1E",
          "#5D341A",
          "#4E2A0C",
          "#4A2727",
          "#361F1B",
          "#261716",
          "#231716",
          "#19100F",
          "#16100F",
          "#120D0C",
          "#100B0A",
          "#050B0A"
         ],
         "type": "scatter",
         "x": [
          0,
          1,
          2,
          3,
          4,
          5,
          6,
          7,
          8,
          9,
          10,
          11,
          12,
          13,
          14,
          15,
          16,
          17,
          18,
          19,
          20,
          21,
          22,
          23,
          24,
          25,
          26,
          27,
          28,
          29,
          30,
          31,
          32,
          33,
          34,
          35,
          36,
          37,
          38,
          39
         ],
         "y": [
          2,
          2,
          2,
          2,
          2,
          2,
          2,
          2,
          2,
          2,
          2,
          2,
          2,
          2,
          2,
          2,
          2,
          2,
          2,
          2,
          2,
          2,
          2,
          2,
          2,
          2,
          2,
          2,
          2,
          2,
          2,
          2,
          2,
          2,
          2,
          2,
          2,
          2,
          2,
          2
         ]
        },
        {
         "marker": {
          "color": [
           "#A63E00",
           "#FFCA5A",
           "#821E00",
           "#520907",
           "#701400",
           "#FFBF42",
           "#F3F993",
           "#FBB123",
           "#A63E00",
           "#cf0234",
           "#D77200",
           "#C35900",
           "#FFBF42",
           "#F5DEB3",
           "#FFCA5A",
           "lightgray",
           "#9B3200"
          ],
          "size": 20
         },
         "mode": "markers",
         "name": "markers",
         "text": [
          "Red",
          "OtherBeer",
          "Porter",
          "Black",
          "Dark",
          "Pale",
          "Lager",
          "Ale",
          "Brown",
          "Fruited",
          "Sour",
          "SpecialGrain",
          "IPA",
          "Weiss",
          "Golden",
          "Other",
          "Strong"
         ],
         "type": "scatter",
         "x": [
          0,
          2,
          4,
          6,
          8,
          10,
          12,
          14,
          16,
          18,
          20,
          22,
          24,
          26,
          28,
          30,
          32
         ],
         "y": [
          3,
          3,
          3,
          3,
          3,
          3,
          3,
          3,
          3,
          3,
          3,
          3,
          3,
          3,
          3,
          3,
          3
         ]
        }
       ],
       "layout": {
        "autosize": true,
        "template": {
         "data": {
          "bar": [
           {
            "error_x": {
             "color": "#2a3f5f"
            },
            "error_y": {
             "color": "#2a3f5f"
            },
            "marker": {
             "line": {
              "color": "#E5ECF6",
              "width": 0.5
             }
            },
            "type": "bar"
           }
          ],
          "barpolar": [
           {
            "marker": {
             "line": {
              "color": "#E5ECF6",
              "width": 0.5
             }
            },
            "type": "barpolar"
           }
          ],
          "carpet": [
           {
            "aaxis": {
             "endlinecolor": "#2a3f5f",
             "gridcolor": "white",
             "linecolor": "white",
             "minorgridcolor": "white",
             "startlinecolor": "#2a3f5f"
            },
            "baxis": {
             "endlinecolor": "#2a3f5f",
             "gridcolor": "white",
             "linecolor": "white",
             "minorgridcolor": "white",
             "startlinecolor": "#2a3f5f"
            },
            "type": "carpet"
           }
          ],
          "choropleth": [
           {
            "colorbar": {
             "outlinewidth": 0,
             "ticks": ""
            },
            "type": "choropleth"
           }
          ],
          "contour": [
           {
            "colorbar": {
             "outlinewidth": 0,
             "ticks": ""
            },
            "colorscale": [
             [
              0,
              "#0d0887"
             ],
             [
              0.1111111111111111,
              "#46039f"
             ],
             [
              0.2222222222222222,
              "#7201a8"
             ],
             [
              0.3333333333333333,
              "#9c179e"
             ],
             [
              0.4444444444444444,
              "#bd3786"
             ],
             [
              0.5555555555555556,
              "#d8576b"
             ],
             [
              0.6666666666666666,
              "#ed7953"
             ],
             [
              0.7777777777777778,
              "#fb9f3a"
             ],
             [
              0.8888888888888888,
              "#fdca26"
             ],
             [
              1,
              "#f0f921"
             ]
            ],
            "type": "contour"
           }
          ],
          "contourcarpet": [
           {
            "colorbar": {
             "outlinewidth": 0,
             "ticks": ""
            },
            "type": "contourcarpet"
           }
          ],
          "heatmap": [
           {
            "colorbar": {
             "outlinewidth": 0,
             "ticks": ""
            },
            "colorscale": [
             [
              0,
              "#0d0887"
             ],
             [
              0.1111111111111111,
              "#46039f"
             ],
             [
              0.2222222222222222,
              "#7201a8"
             ],
             [
              0.3333333333333333,
              "#9c179e"
             ],
             [
              0.4444444444444444,
              "#bd3786"
             ],
             [
              0.5555555555555556,
              "#d8576b"
             ],
             [
              0.6666666666666666,
              "#ed7953"
             ],
             [
              0.7777777777777778,
              "#fb9f3a"
             ],
             [
              0.8888888888888888,
              "#fdca26"
             ],
             [
              1,
              "#f0f921"
             ]
            ],
            "type": "heatmap"
           }
          ],
          "heatmapgl": [
           {
            "colorbar": {
             "outlinewidth": 0,
             "ticks": ""
            },
            "colorscale": [
             [
              0,
              "#0d0887"
             ],
             [
              0.1111111111111111,
              "#46039f"
             ],
             [
              0.2222222222222222,
              "#7201a8"
             ],
             [
              0.3333333333333333,
              "#9c179e"
             ],
             [
              0.4444444444444444,
              "#bd3786"
             ],
             [
              0.5555555555555556,
              "#d8576b"
             ],
             [
              0.6666666666666666,
              "#ed7953"
             ],
             [
              0.7777777777777778,
              "#fb9f3a"
             ],
             [
              0.8888888888888888,
              "#fdca26"
             ],
             [
              1,
              "#f0f921"
             ]
            ],
            "type": "heatmapgl"
           }
          ],
          "histogram": [
           {
            "marker": {
             "colorbar": {
              "outlinewidth": 0,
              "ticks": ""
             }
            },
            "type": "histogram"
           }
          ],
          "histogram2d": [
           {
            "colorbar": {
             "outlinewidth": 0,
             "ticks": ""
            },
            "colorscale": [
             [
              0,
              "#0d0887"
             ],
             [
              0.1111111111111111,
              "#46039f"
             ],
             [
              0.2222222222222222,
              "#7201a8"
             ],
             [
              0.3333333333333333,
              "#9c179e"
             ],
             [
              0.4444444444444444,
              "#bd3786"
             ],
             [
              0.5555555555555556,
              "#d8576b"
             ],
             [
              0.6666666666666666,
              "#ed7953"
             ],
             [
              0.7777777777777778,
              "#fb9f3a"
             ],
             [
              0.8888888888888888,
              "#fdca26"
             ],
             [
              1,
              "#f0f921"
             ]
            ],
            "type": "histogram2d"
           }
          ],
          "histogram2dcontour": [
           {
            "colorbar": {
             "outlinewidth": 0,
             "ticks": ""
            },
            "colorscale": [
             [
              0,
              "#0d0887"
             ],
             [
              0.1111111111111111,
              "#46039f"
             ],
             [
              0.2222222222222222,
              "#7201a8"
             ],
             [
              0.3333333333333333,
              "#9c179e"
             ],
             [
              0.4444444444444444,
              "#bd3786"
             ],
             [
              0.5555555555555556,
              "#d8576b"
             ],
             [
              0.6666666666666666,
              "#ed7953"
             ],
             [
              0.7777777777777778,
              "#fb9f3a"
             ],
             [
              0.8888888888888888,
              "#fdca26"
             ],
             [
              1,
              "#f0f921"
             ]
            ],
            "type": "histogram2dcontour"
           }
          ],
          "mesh3d": [
           {
            "colorbar": {
             "outlinewidth": 0,
             "ticks": ""
            },
            "type": "mesh3d"
           }
          ],
          "parcoords": [
           {
            "line": {
             "colorbar": {
              "outlinewidth": 0,
              "ticks": ""
             }
            },
            "type": "parcoords"
           }
          ],
          "pie": [
           {
            "automargin": true,
            "type": "pie"
           }
          ],
          "scatter": [
           {
            "marker": {
             "colorbar": {
              "outlinewidth": 0,
              "ticks": ""
             }
            },
            "type": "scatter"
           }
          ],
          "scatter3d": [
           {
            "line": {
             "colorbar": {
              "outlinewidth": 0,
              "ticks": ""
             }
            },
            "marker": {
             "colorbar": {
              "outlinewidth": 0,
              "ticks": ""
             }
            },
            "type": "scatter3d"
           }
          ],
          "scattercarpet": [
           {
            "marker": {
             "colorbar": {
              "outlinewidth": 0,
              "ticks": ""
             }
            },
            "type": "scattercarpet"
           }
          ],
          "scattergeo": [
           {
            "marker": {
             "colorbar": {
              "outlinewidth": 0,
              "ticks": ""
             }
            },
            "type": "scattergeo"
           }
          ],
          "scattergl": [
           {
            "marker": {
             "colorbar": {
              "outlinewidth": 0,
              "ticks": ""
             }
            },
            "type": "scattergl"
           }
          ],
          "scattermapbox": [
           {
            "marker": {
             "colorbar": {
              "outlinewidth": 0,
              "ticks": ""
             }
            },
            "type": "scattermapbox"
           }
          ],
          "scatterpolar": [
           {
            "marker": {
             "colorbar": {
              "outlinewidth": 0,
              "ticks": ""
             }
            },
            "type": "scatterpolar"
           }
          ],
          "scatterpolargl": [
           {
            "marker": {
             "colorbar": {
              "outlinewidth": 0,
              "ticks": ""
             }
            },
            "type": "scatterpolargl"
           }
          ],
          "scatterternary": [
           {
            "marker": {
             "colorbar": {
              "outlinewidth": 0,
              "ticks": ""
             }
            },
            "type": "scatterternary"
           }
          ],
          "surface": [
           {
            "colorbar": {
             "outlinewidth": 0,
             "ticks": ""
            },
            "colorscale": [
             [
              0,
              "#0d0887"
             ],
             [
              0.1111111111111111,
              "#46039f"
             ],
             [
              0.2222222222222222,
              "#7201a8"
             ],
             [
              0.3333333333333333,
              "#9c179e"
             ],
             [
              0.4444444444444444,
              "#bd3786"
             ],
             [
              0.5555555555555556,
              "#d8576b"
             ],
             [
              0.6666666666666666,
              "#ed7953"
             ],
             [
              0.7777777777777778,
              "#fb9f3a"
             ],
             [
              0.8888888888888888,
              "#fdca26"
             ],
             [
              1,
              "#f0f921"
             ]
            ],
            "type": "surface"
           }
          ],
          "table": [
           {
            "cells": {
             "fill": {
              "color": "#EBF0F8"
             },
             "line": {
              "color": "white"
             }
            },
            "header": {
             "fill": {
              "color": "#C8D4E3"
             },
             "line": {
              "color": "white"
             }
            },
            "type": "table"
           }
          ]
         },
         "layout": {
          "annotationdefaults": {
           "arrowcolor": "#2a3f5f",
           "arrowhead": 0,
           "arrowwidth": 1
          },
          "coloraxis": {
           "colorbar": {
            "outlinewidth": 0,
            "ticks": ""
           }
          },
          "colorscale": {
           "diverging": [
            [
             0,
             "#8e0152"
            ],
            [
             0.1,
             "#c51b7d"
            ],
            [
             0.2,
             "#de77ae"
            ],
            [
             0.3,
             "#f1b6da"
            ],
            [
             0.4,
             "#fde0ef"
            ],
            [
             0.5,
             "#f7f7f7"
            ],
            [
             0.6,
             "#e6f5d0"
            ],
            [
             0.7,
             "#b8e186"
            ],
            [
             0.8,
             "#7fbc41"
            ],
            [
             0.9,
             "#4d9221"
            ],
            [
             1,
             "#276419"
            ]
           ],
           "sequential": [
            [
             0,
             "#0d0887"
            ],
            [
             0.1111111111111111,
             "#46039f"
            ],
            [
             0.2222222222222222,
             "#7201a8"
            ],
            [
             0.3333333333333333,
             "#9c179e"
            ],
            [
             0.4444444444444444,
             "#bd3786"
            ],
            [
             0.5555555555555556,
             "#d8576b"
            ],
            [
             0.6666666666666666,
             "#ed7953"
            ],
            [
             0.7777777777777778,
             "#fb9f3a"
            ],
            [
             0.8888888888888888,
             "#fdca26"
            ],
            [
             1,
             "#f0f921"
            ]
           ],
           "sequentialminus": [
            [
             0,
             "#0d0887"
            ],
            [
             0.1111111111111111,
             "#46039f"
            ],
            [
             0.2222222222222222,
             "#7201a8"
            ],
            [
             0.3333333333333333,
             "#9c179e"
            ],
            [
             0.4444444444444444,
             "#bd3786"
            ],
            [
             0.5555555555555556,
             "#d8576b"
            ],
            [
             0.6666666666666666,
             "#ed7953"
            ],
            [
             0.7777777777777778,
             "#fb9f3a"
            ],
            [
             0.8888888888888888,
             "#fdca26"
            ],
            [
             1,
             "#f0f921"
            ]
           ]
          },
          "colorway": [
           "#636efa",
           "#EF553B",
           "#00cc96",
           "#ab63fa",
           "#FFA15A",
           "#19d3f3",
           "#FF6692",
           "#B6E880",
           "#FF97FF",
           "#FECB52"
          ],
          "font": {
           "color": "#2a3f5f"
          },
          "geo": {
           "bgcolor": "white",
           "lakecolor": "white",
           "landcolor": "#E5ECF6",
           "showlakes": true,
           "showland": true,
           "subunitcolor": "white"
          },
          "hoverlabel": {
           "align": "left"
          },
          "hovermode": "closest",
          "mapbox": {
           "style": "light"
          },
          "paper_bgcolor": "white",
          "plot_bgcolor": "#E5ECF6",
          "polar": {
           "angularaxis": {
            "gridcolor": "white",
            "linecolor": "white",
            "ticks": ""
           },
           "bgcolor": "#E5ECF6",
           "radialaxis": {
            "gridcolor": "white",
            "linecolor": "white",
            "ticks": ""
           }
          },
          "scene": {
           "xaxis": {
            "backgroundcolor": "#E5ECF6",
            "gridcolor": "white",
            "gridwidth": 2,
            "linecolor": "white",
            "showbackground": true,
            "ticks": "",
            "zerolinecolor": "white"
           },
           "yaxis": {
            "backgroundcolor": "#E5ECF6",
            "gridcolor": "white",
            "gridwidth": 2,
            "linecolor": "white",
            "showbackground": true,
            "ticks": "",
            "zerolinecolor": "white"
           },
           "zaxis": {
            "backgroundcolor": "#E5ECF6",
            "gridcolor": "white",
            "gridwidth": 2,
            "linecolor": "white",
            "showbackground": true,
            "ticks": "",
            "zerolinecolor": "white"
           }
          },
          "shapedefaults": {
           "line": {
            "color": "#2a3f5f"
           }
          },
          "ternary": {
           "aaxis": {
            "gridcolor": "white",
            "linecolor": "white",
            "ticks": ""
           },
           "baxis": {
            "gridcolor": "white",
            "linecolor": "white",
            "ticks": ""
           },
           "bgcolor": "#E5ECF6",
           "caxis": {
            "gridcolor": "white",
            "linecolor": "white",
            "ticks": ""
           }
          },
          "title": {
           "x": 0.05
          },
          "xaxis": {
           "automargin": true,
           "gridcolor": "white",
           "linecolor": "white",
           "ticks": "",
           "title": {
            "standoff": 15
           },
           "zerolinecolor": "white",
           "zerolinewidth": 2
          },
          "yaxis": {
           "automargin": true,
           "gridcolor": "white",
           "linecolor": "white",
           "ticks": "",
           "title": {
            "standoff": 15
           },
           "zerolinecolor": "white",
           "zerolinewidth": 2
          }
         }
        },
        "xaxis": {
         "autorange": true,
         "range": [
          -3.705055381993752,
          42.70505538199375
         ],
         "type": "linear"
        },
        "yaxis": {
         "autorange": true,
         "range": [
          -0.3577981651376147,
          3.3577981651376145
         ],
         "type": "linear"
        }
       }
      },
      "image/png": "[encoded data removed]",
      "text/html": [
       "<div>\n",
       "        \n",
       "        \n",
       "            <div id=\"a3d63539-ca20-4934-a7bb-67a6bf4fef2e\" class=\"plotly-graph-div\" style=\"height:525px; width:100%;\"></div>\n",
       "            <script type=\"text/javascript\">\n",
       "                require([\"plotly\"], function(Plotly) {\n",
       "                    window.PLOTLYENV=window.PLOTLYENV || {};\n",
       "                    \n",
       "                if (document.getElementById(\"a3d63539-ca20-4934-a7bb-67a6bf4fef2e\")) {\n",
       "                    Plotly.newPlot(\n",
       "                        'a3d63539-ca20-4934-a7bb-67a6bf4fef2e',\n",
       "                        [{\"marker\": {\"color\": [\"#FFE699\", \"#FFD878\", \"#FFCA5A\", \"#FFBF42\", \"#FBB123\", \"#F8A600\", \"#F39C00\", \"#EA8F00\", \"#E58500\", \"#DE7C00\", \"#D77200\", \"#CF6900\", \"#CB6200\", \"#C35900\", \"#BB5100\", \"#B54C00\", \"#B04500\", \"#A63E00\", \"#A13700\", \"#9B3200\", \"#952D00\", \"#8E2900\", \"#882300\", \"#821E00\", \"#7B1A00\", \"#771900\", \"#701400\", \"#6A0E00\", \"#660D00\", \"#5E0B00\", \"#5A0A02\", \"#600903\", \"#520907\", \"#4C0505\", \"#470606\", \"#440607\", \"#3F0708\", \"#3B0607\", \"#3A070B\", \"#36080A\"], \"size\": 20}, \"mode\": \"markers\", \"name\": \"markers\", \"text\": [\"#FFE699\", \"#FFD878\", \"#FFCA5A\", \"#FFBF42\", \"#FBB123\", \"#F8A600\", \"#F39C00\", \"#EA8F00\", \"#E58500\", \"#DE7C00\", \"#D77200\", \"#CF6900\", \"#CB6200\", \"#C35900\", \"#BB5100\", \"#B54C00\", \"#B04500\", \"#A63E00\", \"#A13700\", \"#9B3200\", \"#952D00\", \"#8E2900\", \"#882300\", \"#821E00\", \"#7B1A00\", \"#771900\", \"#701400\", \"#6A0E00\", \"#660D00\", \"#5E0B00\", \"#5A0A02\", \"#600903\", \"#520907\", \"#4C0505\", \"#470606\", \"#440607\", \"#3F0708\", \"#3B0607\", \"#3A070B\", \"#36080A\"], \"type\": \"scatter\", \"x\": [0, 1, 2, 3, 4, 5, 6, 7, 8, 9, 10, 11, 12, 13, 14, 15, 16, 17, 18, 19, 20, 21, 22, 23, 24, 25, 26, 27, 28, 29, 30, 31, 32, 33, 34, 35, 36, 37, 38, 39], \"y\": [0, 0, 0, 0, 0, 0, 0, 0, 0, 0, 0, 0, 0, 0, 0, 0, 0, 0, 0, 0, 0, 0, 0, 0, 0, 0, 0, 0, 0, 0, 0, 0, 0, 0, 0, 0, 0, 0, 0, 0]}, {\"marker\": {\"color\": [\"#F3F993\", \"#F5F75C\", \"#F6F513\", \"#EAE615\", \"#E0D01B\", \"#D5BC26\", \"#CDAA37\", \"#C1963C\", \"#BE8C3A\", \"#BE823A\", \"#C17A37\", \"#BF7138\", \"#BC6733\", \"#B26033\", \"#A85839\", \"#985336\", \"#8D4C32\", \"#7C452D\", \"#6B3A1E\", \"#5D341A\", \"#4E2A0C\", \"#4A2727\", \"#361F1B\", \"#261716\", \"#231716\", \"#19100F\", \"#16100F\", \"#120D0C\", \"#100B0A\", \"#050B0A\"], \"size\": 20}, \"mode\": \"markers\", \"name\": \"markers\", \"text\": [\"#F3F993\", \"#F5F75C\", \"#F6F513\", \"#EAE615\", \"#E0D01B\", \"#D5BC26\", \"#CDAA37\", \"#C1963C\", \"#BE8C3A\", \"#BE823A\", \"#C17A37\", \"#BF7138\", \"#BC6733\", \"#B26033\", \"#A85839\", \"#985336\", \"#8D4C32\", \"#7C452D\", \"#6B3A1E\", \"#5D341A\", \"#4E2A0C\", \"#4A2727\", \"#361F1B\", \"#261716\", \"#231716\", \"#19100F\", \"#16100F\", \"#120D0C\", \"#100B0A\", \"#050B0A\"], \"type\": \"scatter\", \"x\": [0, 1, 2, 3, 4, 5, 6, 7, 8, 9, 10, 11, 12, 13, 14, 15, 16, 17, 18, 19, 20, 21, 22, 23, 24, 25, 26, 27, 28, 29, 30, 31, 32, 33, 34, 35, 36, 37, 38, 39], \"y\": [2, 2, 2, 2, 2, 2, 2, 2, 2, 2, 2, 2, 2, 2, 2, 2, 2, 2, 2, 2, 2, 2, 2, 2, 2, 2, 2, 2, 2, 2, 2, 2, 2, 2, 2, 2, 2, 2, 2, 2]}, {\"marker\": {\"color\": [\"#A63E00\", \"#FFCA5A\", \"#821E00\", \"#520907\", \"#701400\", \"#FFBF42\", \"#F3F993\", \"#FBB123\", \"#A63E00\", \"#cf0234\", \"#D77200\", \"#C35900\", \"#FFBF42\", \"#F5DEB3\", \"#FFCA5A\", \"lightgray\", \"#9B3200\"], \"size\": 20}, \"mode\": \"markers\", \"name\": \"markers\", \"text\": [\"Red\", \"OtherBeer\", \"Porter\", \"Black\", \"Dark\", \"Pale\", \"Lager\", \"Ale\", \"Brown\", \"Fruited\", \"Sour\", \"SpecialGrain\", \"IPA\", \"Weiss\", \"Golden\", \"Other\", \"Strong\"], \"type\": \"scatter\", \"x\": [0, 2, 4, 6, 8, 10, 12, 14, 16, 18, 20, 22, 24, 26, 28, 30, 32], \"y\": [3, 3, 3, 3, 3, 3, 3, 3, 3, 3, 3, 3, 3, 3, 3, 3, 3]}],\n",
       "                        {\"template\": {\"data\": {\"bar\": [{\"error_x\": {\"color\": \"#2a3f5f\"}, \"error_y\": {\"color\": \"#2a3f5f\"}, \"marker\": {\"line\": {\"color\": \"#E5ECF6\", \"width\": 0.5}}, \"type\": \"bar\"}], \"barpolar\": [{\"marker\": {\"line\": {\"color\": \"#E5ECF6\", \"width\": 0.5}}, \"type\": \"barpolar\"}], \"carpet\": [{\"aaxis\": {\"endlinecolor\": \"#2a3f5f\", \"gridcolor\": \"white\", \"linecolor\": \"white\", \"minorgridcolor\": \"white\", \"startlinecolor\": \"#2a3f5f\"}, \"baxis\": {\"endlinecolor\": \"#2a3f5f\", \"gridcolor\": \"white\", \"linecolor\": \"white\", \"minorgridcolor\": \"white\", \"startlinecolor\": \"#2a3f5f\"}, \"type\": \"carpet\"}], \"choropleth\": [{\"colorbar\": {\"outlinewidth\": 0, \"ticks\": \"\"}, \"type\": \"choropleth\"}], \"contour\": [{\"colorbar\": {\"outlinewidth\": 0, \"ticks\": \"\"}, \"colorscale\": [[0.0, \"#0d0887\"], [0.1111111111111111, \"#46039f\"], [0.2222222222222222, \"#7201a8\"], [0.3333333333333333, \"#9c179e\"], [0.4444444444444444, \"#bd3786\"], [0.5555555555555556, \"#d8576b\"], [0.6666666666666666, \"#ed7953\"], [0.7777777777777778, \"#fb9f3a\"], [0.8888888888888888, \"#fdca26\"], [1.0, \"#f0f921\"]], \"type\": \"contour\"}], \"contourcarpet\": [{\"colorbar\": {\"outlinewidth\": 0, \"ticks\": \"\"}, \"type\": \"contourcarpet\"}], \"heatmap\": [{\"colorbar\": {\"outlinewidth\": 0, \"ticks\": \"\"}, \"colorscale\": [[0.0, \"#0d0887\"], [0.1111111111111111, \"#46039f\"], [0.2222222222222222, \"#7201a8\"], [0.3333333333333333, \"#9c179e\"], [0.4444444444444444, \"#bd3786\"], [0.5555555555555556, \"#d8576b\"], [0.6666666666666666, \"#ed7953\"], [0.7777777777777778, \"#fb9f3a\"], [0.8888888888888888, \"#fdca26\"], [1.0, \"#f0f921\"]], \"type\": \"heatmap\"}], \"heatmapgl\": [{\"colorbar\": {\"outlinewidth\": 0, \"ticks\": \"\"}, \"colorscale\": [[0.0, \"#0d0887\"], [0.1111111111111111, \"#46039f\"], [0.2222222222222222, \"#7201a8\"], [0.3333333333333333, \"#9c179e\"], [0.4444444444444444, \"#bd3786\"], [0.5555555555555556, \"#d8576b\"], [0.6666666666666666, \"#ed7953\"], [0.7777777777777778, \"#fb9f3a\"], [0.8888888888888888, \"#fdca26\"], [1.0, \"#f0f921\"]], \"type\": \"heatmapgl\"}], \"histogram\": [{\"marker\": {\"colorbar\": {\"outlinewidth\": 0, \"ticks\": \"\"}}, \"type\": \"histogram\"}], \"histogram2d\": [{\"colorbar\": {\"outlinewidth\": 0, \"ticks\": \"\"}, \"colorscale\": [[0.0, \"#0d0887\"], [0.1111111111111111, \"#46039f\"], [0.2222222222222222, \"#7201a8\"], [0.3333333333333333, \"#9c179e\"], [0.4444444444444444, \"#bd3786\"], [0.5555555555555556, \"#d8576b\"], [0.6666666666666666, \"#ed7953\"], [0.7777777777777778, \"#fb9f3a\"], [0.8888888888888888, \"#fdca26\"], [1.0, \"#f0f921\"]], \"type\": \"histogram2d\"}], \"histogram2dcontour\": [{\"colorbar\": {\"outlinewidth\": 0, \"ticks\": \"\"}, \"colorscale\": [[0.0, \"#0d0887\"], [0.1111111111111111, \"#46039f\"], [0.2222222222222222, \"#7201a8\"], [0.3333333333333333, \"#9c179e\"], [0.4444444444444444, \"#bd3786\"], [0.5555555555555556, \"#d8576b\"], [0.6666666666666666, \"#ed7953\"], [0.7777777777777778, \"#fb9f3a\"], [0.8888888888888888, \"#fdca26\"], [1.0, \"#f0f921\"]], \"type\": \"histogram2dcontour\"}], \"mesh3d\": [{\"colorbar\": {\"outlinewidth\": 0, \"ticks\": \"\"}, \"type\": \"mesh3d\"}], \"parcoords\": [{\"line\": {\"colorbar\": {\"outlinewidth\": 0, \"ticks\": \"\"}}, \"type\": \"parcoords\"}], \"pie\": [{\"automargin\": true, \"type\": \"pie\"}], \"scatter\": [{\"marker\": {\"colorbar\": {\"outlinewidth\": 0, \"ticks\": \"\"}}, \"type\": \"scatter\"}], \"scatter3d\": [{\"line\": {\"colorbar\": {\"outlinewidth\": 0, \"ticks\": \"\"}}, \"marker\": {\"colorbar\": {\"outlinewidth\": 0, \"ticks\": \"\"}}, \"type\": \"scatter3d\"}], \"scattercarpet\": [{\"marker\": {\"colorbar\": {\"outlinewidth\": 0, \"ticks\": \"\"}}, \"type\": \"scattercarpet\"}], \"scattergeo\": [{\"marker\": {\"colorbar\": {\"outlinewidth\": 0, \"ticks\": \"\"}}, \"type\": \"scattergeo\"}], \"scattergl\": [{\"marker\": {\"colorbar\": {\"outlinewidth\": 0, \"ticks\": \"\"}}, \"type\": \"scattergl\"}], \"scattermapbox\": [{\"marker\": {\"colorbar\": {\"outlinewidth\": 0, \"ticks\": \"\"}}, \"type\": \"scattermapbox\"}], \"scatterpolar\": [{\"marker\": {\"colorbar\": {\"outlinewidth\": 0, \"ticks\": \"\"}}, \"type\": \"scatterpolar\"}], \"scatterpolargl\": [{\"marker\": {\"colorbar\": {\"outlinewidth\": 0, \"ticks\": \"\"}}, \"type\": \"scatterpolargl\"}], \"scatterternary\": [{\"marker\": {\"colorbar\": {\"outlinewidth\": 0, \"ticks\": \"\"}}, \"type\": \"scatterternary\"}], \"surface\": [{\"colorbar\": {\"outlinewidth\": 0, \"ticks\": \"\"}, \"colorscale\": [[0.0, \"#0d0887\"], [0.1111111111111111, \"#46039f\"], [0.2222222222222222, \"#7201a8\"], [0.3333333333333333, \"#9c179e\"], [0.4444444444444444, \"#bd3786\"], [0.5555555555555556, \"#d8576b\"], [0.6666666666666666, \"#ed7953\"], [0.7777777777777778, \"#fb9f3a\"], [0.8888888888888888, \"#fdca26\"], [1.0, \"#f0f921\"]], \"type\": \"surface\"}], \"table\": [{\"cells\": {\"fill\": {\"color\": \"#EBF0F8\"}, \"line\": {\"color\": \"white\"}}, \"header\": {\"fill\": {\"color\": \"#C8D4E3\"}, \"line\": {\"color\": \"white\"}}, \"type\": \"table\"}]}, \"layout\": {\"annotationdefaults\": {\"arrowcolor\": \"#2a3f5f\", \"arrowhead\": 0, \"arrowwidth\": 1}, \"coloraxis\": {\"colorbar\": {\"outlinewidth\": 0, \"ticks\": \"\"}}, \"colorscale\": {\"diverging\": [[0, \"#8e0152\"], [0.1, \"#c51b7d\"], [0.2, \"#de77ae\"], [0.3, \"#f1b6da\"], [0.4, \"#fde0ef\"], [0.5, \"#f7f7f7\"], [0.6, \"#e6f5d0\"], [0.7, \"#b8e186\"], [0.8, \"#7fbc41\"], [0.9, \"#4d9221\"], [1, \"#276419\"]], \"sequential\": [[0.0, \"#0d0887\"], [0.1111111111111111, \"#46039f\"], [0.2222222222222222, \"#7201a8\"], [0.3333333333333333, \"#9c179e\"], [0.4444444444444444, \"#bd3786\"], [0.5555555555555556, \"#d8576b\"], [0.6666666666666666, \"#ed7953\"], [0.7777777777777778, \"#fb9f3a\"], [0.8888888888888888, \"#fdca26\"], [1.0, \"#f0f921\"]], \"sequentialminus\": [[0.0, \"#0d0887\"], [0.1111111111111111, \"#46039f\"], [0.2222222222222222, \"#7201a8\"], [0.3333333333333333, \"#9c179e\"], [0.4444444444444444, \"#bd3786\"], [0.5555555555555556, \"#d8576b\"], [0.6666666666666666, \"#ed7953\"], [0.7777777777777778, \"#fb9f3a\"], [0.8888888888888888, \"#fdca26\"], [1.0, \"#f0f921\"]]}, \"colorway\": [\"#636efa\", \"#EF553B\", \"#00cc96\", \"#ab63fa\", \"#FFA15A\", \"#19d3f3\", \"#FF6692\", \"#B6E880\", \"#FF97FF\", \"#FECB52\"], \"font\": {\"color\": \"#2a3f5f\"}, \"geo\": {\"bgcolor\": \"white\", \"lakecolor\": \"white\", \"landcolor\": \"#E5ECF6\", \"showlakes\": true, \"showland\": true, \"subunitcolor\": \"white\"}, \"hoverlabel\": {\"align\": \"left\"}, \"hovermode\": \"closest\", \"mapbox\": {\"style\": \"light\"}, \"paper_bgcolor\": \"white\", \"plot_bgcolor\": \"#E5ECF6\", \"polar\": {\"angularaxis\": {\"gridcolor\": \"white\", \"linecolor\": \"white\", \"ticks\": \"\"}, \"bgcolor\": \"#E5ECF6\", \"radialaxis\": {\"gridcolor\": \"white\", \"linecolor\": \"white\", \"ticks\": \"\"}}, \"scene\": {\"xaxis\": {\"backgroundcolor\": \"#E5ECF6\", \"gridcolor\": \"white\", \"gridwidth\": 2, \"linecolor\": \"white\", \"showbackground\": true, \"ticks\": \"\", \"zerolinecolor\": \"white\"}, \"yaxis\": {\"backgroundcolor\": \"#E5ECF6\", \"gridcolor\": \"white\", \"gridwidth\": 2, \"linecolor\": \"white\", \"showbackground\": true, \"ticks\": \"\", \"zerolinecolor\": \"white\"}, \"zaxis\": {\"backgroundcolor\": \"#E5ECF6\", \"gridcolor\": \"white\", \"gridwidth\": 2, \"linecolor\": \"white\", \"showbackground\": true, \"ticks\": \"\", \"zerolinecolor\": \"white\"}}, \"shapedefaults\": {\"line\": {\"color\": \"#2a3f5f\"}}, \"ternary\": {\"aaxis\": {\"gridcolor\": \"white\", \"linecolor\": \"white\", \"ticks\": \"\"}, \"baxis\": {\"gridcolor\": \"white\", \"linecolor\": \"white\", \"ticks\": \"\"}, \"bgcolor\": \"#E5ECF6\", \"caxis\": {\"gridcolor\": \"white\", \"linecolor\": \"white\", \"ticks\": \"\"}}, \"title\": {\"x\": 0.05}, \"xaxis\": {\"automargin\": true, \"gridcolor\": \"white\", \"linecolor\": \"white\", \"ticks\": \"\", \"title\": {\"standoff\": 15}, \"zerolinecolor\": \"white\", \"zerolinewidth\": 2}, \"yaxis\": {\"automargin\": true, \"gridcolor\": \"white\", \"linecolor\": \"white\", \"ticks\": \"\", \"title\": {\"standoff\": 15}, \"zerolinecolor\": \"white\", \"zerolinewidth\": 2}}}},\n",
       "                        {\"responsive\": true}\n",
       "                    ).then(function(){\n",
       "                            \n",
       "var gd = document.getElementById('a3d63539-ca20-4934-a7bb-67a6bf4fef2e');\n",
       "var x = new MutationObserver(function (mutations, observer) {{\n",
       "        var display = window.getComputedStyle(gd).display;\n",
       "        if (!display || display === 'none') {{\n",
       "            console.log([gd, 'removed!']);\n",
       "            Plotly.purge(gd);\n",
       "            observer.disconnect();\n",
       "        }}\n",
       "}});\n",
       "\n",
       "// Listen for the removal of the full notebook cells\n",
       "var notebookContainer = gd.closest('#notebook-container');\n",
       "if (notebookContainer) {{\n",
       "    x.observe(notebookContainer, {childList: true});\n",
       "}}\n",
       "\n",
       "// Listen for the clearing of the current output cell\n",
       "var outputEl = gd.closest('.output');\n",
       "if (outputEl) {{\n",
       "    x.observe(outputEl, {childList: true});\n",
       "}}\n",
       "\n",
       "                        })\n",
       "                };\n",
       "                });\n",
       "            </script>\n",
       "        </div>"
      ]
     },
     "metadata": {},
     "output_type": "display_data"
    }
   ],
   "source": [
    "import plotly.graph_objects as go\n",
    "\n",
    "fig = go.Figure()\n",
    "\n",
    "# Add traces\n",
    "fig.add_trace(go.Scatter(\n",
    "    x=[i for i in range(40)], y=[0]*40,\n",
    "    mode='markers',\n",
    "    name='markers',\n",
    "    marker_size=20,\n",
    "    marker_color=colors_list,\n",
    "    text=colors_list,\n",
    "))\n",
    "fig.add_trace(go.Scatter(\n",
    "    x=[i for i in range(40)], y=[2]*40,\n",
    "    mode='markers',\n",
    "    name='markers',\n",
    "    marker_size=20,\n",
    "    marker_color=colors_list_2,\n",
    "    text=colors_list_2,\n",
    "))\n",
    "\n",
    "fig.add_trace(go.Scatter(\n",
    "    x=[2*i for i in range(17)], y=[3]*17,\n",
    "    mode='markers',\n",
    "    name='markers',\n",
    "    marker_size=20,\n",
    "    marker_color=list(map(beer_category_color, list_styles)),\n",
    "    text=list_styles,\n",
    "))\n",
    "\n",
    "\n",
    "\n",
    "fig.show() "
   ]
  },
  {
   "cell_type": "markdown",
   "metadata": {},
   "source": [
    "# Data exploration"
   ]
  },
  {
   "cell_type": "code",
   "execution_count": 60,
   "metadata": {},
   "outputs": [
    {
     "data": {
      "text/html": [
       "<div>\n",
       "<style scoped>\n",
       "    .dataframe tbody tr th:only-of-type {\n",
       "        vertical-align: middle;\n",
       "    }\n",
       "\n",
       "    .dataframe tbody tr th {\n",
       "        vertical-align: top;\n",
       "    }\n",
       "\n",
       "    .dataframe thead th {\n",
       "        text-align: right;\n",
       "    }\n",
       "</style>\n",
       "<table border=\"1\" class=\"dataframe\">\n",
       "  <thead>\n",
       "    <tr style=\"text-align: right;\">\n",
       "      <th></th>\n",
       "      <th>name</th>\n",
       "      <th>link</th>\n",
       "      <th>location</th>\n",
       "      <th>brewer_typ</th>\n",
       "      <th>beer_count</th>\n",
       "      <th>established_year</th>\n",
       "      <th>brewer_id</th>\n",
       "      <th>img_link</th>\n",
       "      <th>address</th>\n",
       "      <th>telephone</th>\n",
       "      <th>website</th>\n",
       "      <th>latitude</th>\n",
       "      <th>longitude</th>\n",
       "      <th>ratings_avg</th>\n",
       "    </tr>\n",
       "  </thead>\n",
       "  <tbody>\n",
       "    <tr>\n",
       "      <th>0</th>\n",
       "      <td>1386 Das Sempacher Bier</td>\n",
       "      <td>https://www.ratebeer.com/brewers/1386-das-semp...</td>\n",
       "      <td>Sempach</td>\n",
       "      <td>Microbrewery</td>\n",
       "      <td>2</td>\n",
       "      <td>2015</td>\n",
       "      <td>0</td>\n",
       "      <td>https://res.cloudinary.com/ratebeer/image/uplo...</td>\n",
       "      <td>Weihermatte 5, Sempach,  6204, Switzerland</td>\n",
       "      <td></td>\n",
       "      <td>http://www.1386.ch/</td>\n",
       "      <td>47.137141</td>\n",
       "      <td>8.193073</td>\n",
       "      <td>3.010</td>\n",
       "    </tr>\n",
       "    <tr>\n",
       "      <th>1</th>\n",
       "      <td>1936 Bière</td>\n",
       "      <td>https://www.ratebeer.com/brewers/1936-biere/14...</td>\n",
       "      <td>Verbier</td>\n",
       "      <td>Client Brewer</td>\n",
       "      <td>1</td>\n",
       "      <td>2012</td>\n",
       "      <td>1</td>\n",
       "      <td>https://res.cloudinary.com/ratebeer/image/uplo...</td>\n",
       "      <td>Chemin des Luis 20, Verbier,  1936, Switzerland</td>\n",
       "      <td>44 7500001936</td>\n",
       "      <td>http://www.1936biere.com</td>\n",
       "      <td>46.104502</td>\n",
       "      <td>7.224338</td>\n",
       "      <td>2.650</td>\n",
       "    </tr>\n",
       "    <tr>\n",
       "      <th>2</th>\n",
       "      <td>3 Finger Joe</td>\n",
       "      <td>https://www.ratebeer.com/brewers/3-finger-joe/...</td>\n",
       "      <td>Sachseln</td>\n",
       "      <td>Microbrewery</td>\n",
       "      <td>3</td>\n",
       "      <td>2018</td>\n",
       "      <td>2</td>\n",
       "      <td>https://res.cloudinary.com/ratebeer/image/uplo...</td>\n",
       "      <td>Haltenmatte 2, Sachseln,  6072, Switzerland</td>\n",
       "      <td>79 106 15 13</td>\n",
       "      <td>https://www.facebook.com/3-Finger-Joe-43032415...</td>\n",
       "      <td>46.868885</td>\n",
       "      <td>8.239202</td>\n",
       "      <td>3.020</td>\n",
       "    </tr>\n",
       "    <tr>\n",
       "      <th>3</th>\n",
       "      <td>4655 Brewing Company</td>\n",
       "      <td>https://www.ratebeer.com/brewers/4655-brewing-...</td>\n",
       "      <td>Stüsslingen</td>\n",
       "      <td>Microbrewery</td>\n",
       "      <td>5</td>\n",
       "      <td>2015</td>\n",
       "      <td>3</td>\n",
       "      <td>https://res.cloudinary.com/ratebeer/image/uplo...</td>\n",
       "      <td>Stüsslingen,  4655, Switzerland</td>\n",
       "      <td></td>\n",
       "      <td>//4655brew.co</td>\n",
       "      <td>47.392886</td>\n",
       "      <td>7.971289</td>\n",
       "      <td>3.088</td>\n",
       "    </tr>\n",
       "    <tr>\n",
       "      <th>4</th>\n",
       "      <td>7Peaks Brasserie</td>\n",
       "      <td>https://www.ratebeer.com/brewers/7peaks-brasse...</td>\n",
       "      <td>Morgins, Vaud</td>\n",
       "      <td>Microbrewery</td>\n",
       "      <td>20</td>\n",
       "      <td>2014</td>\n",
       "      <td>4</td>\n",
       "      <td>https://res.cloudinary.com/ratebeer/image/uplo...</td>\n",
       "      <td>Route de la Patinoire 15, Morgins, Switzerland</td>\n",
       "      <td>41 78 797 18 75</td>\n",
       "      <td>http://www.7peaksbrasserie.ch</td>\n",
       "      <td>46.237659</td>\n",
       "      <td>6.858102</td>\n",
       "      <td>3.064</td>\n",
       "    </tr>\n",
       "    <tr>\n",
       "      <th>...</th>\n",
       "      <td>...</td>\n",
       "      <td>...</td>\n",
       "      <td>...</td>\n",
       "      <td>...</td>\n",
       "      <td>...</td>\n",
       "      <td>...</td>\n",
       "      <td>...</td>\n",
       "      <td>...</td>\n",
       "      <td>...</td>\n",
       "      <td>...</td>\n",
       "      <td>...</td>\n",
       "      <td>...</td>\n",
       "      <td>...</td>\n",
       "      <td>...</td>\n",
       "    </tr>\n",
       "    <tr>\n",
       "      <th>571</th>\n",
       "      <td>zur Grünen Amsel</td>\n",
       "      <td>https://www.ratebeer.com/brewers/zur-grunen-am...</td>\n",
       "      <td>Riehen</td>\n",
       "      <td>Microbrewery</td>\n",
       "      <td>20</td>\n",
       "      <td>2010</td>\n",
       "      <td>571</td>\n",
       "      <td>https://res.cloudinary.com/ratebeer/image/uplo...</td>\n",
       "      <td>Schmiedgasse 30, Riehen,  4125, Switzerland</td>\n",
       "      <td>79 534 30 10</td>\n",
       "      <td>http://www.s30.ch/</td>\n",
       "      <td>47.584695</td>\n",
       "      <td>7.651748</td>\n",
       "      <td>2.863</td>\n",
       "    </tr>\n",
       "    <tr>\n",
       "      <th>572</th>\n",
       "      <td>Zur Trotte</td>\n",
       "      <td>https://www.ratebeer.com/brewers/zur-trotte/11...</td>\n",
       "      <td>Berg am Irchel</td>\n",
       "      <td>Brewpub</td>\n",
       "      <td>1</td>\n",
       "      <td>2009</td>\n",
       "      <td>572</td>\n",
       "      <td>https://res.cloudinary.com/ratebeer/image/uplo...</td>\n",
       "      <td>Dorfstrasse 2, Berg am Irchel,  8415, Switzerland</td>\n",
       "      <td>52 318 11 32</td>\n",
       "      <td>//www.zur-trotte.ch</td>\n",
       "      <td>47.569884</td>\n",
       "      <td>8.597786</td>\n",
       "      <td>2.770</td>\n",
       "    </tr>\n",
       "    <tr>\n",
       "      <th>573</th>\n",
       "      <td>Zurich Airport Beer (ZAB)</td>\n",
       "      <td>https://www.ratebeer.com/brewers/zurich-airpor...</td>\n",
       "      <td>Zürich Flughafen</td>\n",
       "      <td>Client Brewer</td>\n",
       "      <td>2</td>\n",
       "      <td>2011</td>\n",
       "      <td>573</td>\n",
       "      <td>https://res.cloudinary.com/ratebeer/image/uplo...</td>\n",
       "      <td>Operation Center 4, Zürich Flughafen,  8058, S...</td>\n",
       "      <td>43 8127948</td>\n",
       "      <td>http://www.flughafenbier.ch/</td>\n",
       "      <td>47.450295</td>\n",
       "      <td>8.562231</td>\n",
       "      <td>2.780</td>\n",
       "    </tr>\n",
       "    <tr>\n",
       "      <th>574</th>\n",
       "      <td>Zweierlei</td>\n",
       "      <td>https://www.ratebeer.com/brewers/zweierlei/29046/</td>\n",
       "      <td>Stans</td>\n",
       "      <td>Microbrewery</td>\n",
       "      <td>3</td>\n",
       "      <td>2016</td>\n",
       "      <td>574</td>\n",
       "      <td>https://res.cloudinary.com/ratebeer/image/uplo...</td>\n",
       "      <td>Stans,  6370, Switzerland</td>\n",
       "      <td></td>\n",
       "      <td>http://www.brauerei-zweierlei.ch/</td>\n",
       "      <td>46.957059</td>\n",
       "      <td>8.366129</td>\n",
       "      <td>2.880</td>\n",
       "    </tr>\n",
       "    <tr>\n",
       "      <th>575</th>\n",
       "      <td>Zwergenbräu</td>\n",
       "      <td>https://www.ratebeer.com/brewers/zwergenbrau/1...</td>\n",
       "      <td>Lüterkofen</td>\n",
       "      <td>Microbrewery</td>\n",
       "      <td>10</td>\n",
       "      <td>2011</td>\n",
       "      <td>575</td>\n",
       "      <td>https://res.cloudinary.com/ratebeer/image/uplo...</td>\n",
       "      <td>Eichenweg 4, Lüterkofen,  4571, Switzerland</td>\n",
       "      <td>32 677 19 18</td>\n",
       "      <td>http://www.zwergenbraeu.ch/</td>\n",
       "      <td>47.162935</td>\n",
       "      <td>7.512933</td>\n",
       "      <td>2.815</td>\n",
       "    </tr>\n",
       "  </tbody>\n",
       "</table>\n",
       "<p>576 rows × 14 columns</p>\n",
       "</div>"
      ],
      "text/plain": [
       "                          name  \\\n",
       "0      1386 Das Sempacher Bier   \n",
       "1                   1936 Bière   \n",
       "2                 3 Finger Joe   \n",
       "3         4655 Brewing Company   \n",
       "4             7Peaks Brasserie   \n",
       "..                         ...   \n",
       "571           zur Grünen Amsel   \n",
       "572                 Zur Trotte   \n",
       "573  Zurich Airport Beer (ZAB)   \n",
       "574                  Zweierlei   \n",
       "575                Zwergenbräu   \n",
       "\n",
       "                                                  link          location  \\\n",
       "0    https://www.ratebeer.com/brewers/1386-das-semp...           Sempach   \n",
       "1    https://www.ratebeer.com/brewers/1936-biere/14...           Verbier   \n",
       "2    https://www.ratebeer.com/brewers/3-finger-joe/...          Sachseln   \n",
       "3    https://www.ratebeer.com/brewers/4655-brewing-...       Stüsslingen   \n",
       "4    https://www.ratebeer.com/brewers/7peaks-brasse...     Morgins, Vaud   \n",
       "..                                                 ...               ...   \n",
       "571  https://www.ratebeer.com/brewers/zur-grunen-am...            Riehen   \n",
       "572  https://www.ratebeer.com/brewers/zur-trotte/11...    Berg am Irchel   \n",
       "573  https://www.ratebeer.com/brewers/zurich-airpor...  Zürich Flughafen   \n",
       "574  https://www.ratebeer.com/brewers/zweierlei/29046/             Stans   \n",
       "575  https://www.ratebeer.com/brewers/zwergenbrau/1...        Lüterkofen   \n",
       "\n",
       "        brewer_typ  beer_count  established_year  brewer_id  \\\n",
       "0     Microbrewery           2              2015          0   \n",
       "1    Client Brewer           1              2012          1   \n",
       "2     Microbrewery           3              2018          2   \n",
       "3     Microbrewery           5              2015          3   \n",
       "4     Microbrewery          20              2014          4   \n",
       "..             ...         ...               ...        ...   \n",
       "571   Microbrewery          20              2010        571   \n",
       "572        Brewpub           1              2009        572   \n",
       "573  Client Brewer           2              2011        573   \n",
       "574   Microbrewery           3              2016        574   \n",
       "575   Microbrewery          10              2011        575   \n",
       "\n",
       "                                              img_link  \\\n",
       "0    https://res.cloudinary.com/ratebeer/image/uplo...   \n",
       "1    https://res.cloudinary.com/ratebeer/image/uplo...   \n",
       "2    https://res.cloudinary.com/ratebeer/image/uplo...   \n",
       "3    https://res.cloudinary.com/ratebeer/image/uplo...   \n",
       "4    https://res.cloudinary.com/ratebeer/image/uplo...   \n",
       "..                                                 ...   \n",
       "571  https://res.cloudinary.com/ratebeer/image/uplo...   \n",
       "572  https://res.cloudinary.com/ratebeer/image/uplo...   \n",
       "573  https://res.cloudinary.com/ratebeer/image/uplo...   \n",
       "574  https://res.cloudinary.com/ratebeer/image/uplo...   \n",
       "575  https://res.cloudinary.com/ratebeer/image/uplo...   \n",
       "\n",
       "                                               address        telephone  \\\n",
       "0           Weihermatte 5, Sempach,  6204, Switzerland                    \n",
       "1      Chemin des Luis 20, Verbier,  1936, Switzerland    44 7500001936   \n",
       "2          Haltenmatte 2, Sachseln,  6072, Switzerland     79 106 15 13   \n",
       "3                      Stüsslingen,  4655, Switzerland                    \n",
       "4       Route de la Patinoire 15, Morgins, Switzerland  41 78 797 18 75   \n",
       "..                                                 ...              ...   \n",
       "571        Schmiedgasse 30, Riehen,  4125, Switzerland     79 534 30 10   \n",
       "572  Dorfstrasse 2, Berg am Irchel,  8415, Switzerland     52 318 11 32   \n",
       "573  Operation Center 4, Zürich Flughafen,  8058, S...       43 8127948   \n",
       "574                          Stans,  6370, Switzerland                    \n",
       "575        Eichenweg 4, Lüterkofen,  4571, Switzerland     32 677 19 18   \n",
       "\n",
       "                                               website   latitude  longitude  \\\n",
       "0                                  http://www.1386.ch/  47.137141   8.193073   \n",
       "1                             http://www.1936biere.com  46.104502   7.224338   \n",
       "2    https://www.facebook.com/3-Finger-Joe-43032415...  46.868885   8.239202   \n",
       "3                                        //4655brew.co  47.392886   7.971289   \n",
       "4                        http://www.7peaksbrasserie.ch  46.237659   6.858102   \n",
       "..                                                 ...        ...        ...   \n",
       "571                                 http://www.s30.ch/  47.584695   7.651748   \n",
       "572                                //www.zur-trotte.ch  47.569884   8.597786   \n",
       "573                       http://www.flughafenbier.ch/  47.450295   8.562231   \n",
       "574                  http://www.brauerei-zweierlei.ch/  46.957059   8.366129   \n",
       "575                        http://www.zwergenbraeu.ch/  47.162935   7.512933   \n",
       "\n",
       "     ratings_avg  \n",
       "0          3.010  \n",
       "1          2.650  \n",
       "2          3.020  \n",
       "3          3.088  \n",
       "4          3.064  \n",
       "..           ...  \n",
       "571        2.863  \n",
       "572        2.770  \n",
       "573        2.780  \n",
       "574        2.880  \n",
       "575        2.815  \n",
       "\n",
       "[576 rows x 14 columns]"
      ]
     },
     "execution_count": 60,
     "metadata": {},
     "output_type": "execute_result"
    }
   ],
   "source": [
    "breweries_ch_RB_df"
   ]
  },
  {
   "cell_type": "code",
   "execution_count": 209,
   "metadata": {},
   "outputs": [
    {
     "data": {
      "image/png": "[encoded data removed]",
      "text/plain": [
       "<Figure size 432x288 with 1 Axes>"
      ]
     },
     "metadata": {
      "needs_background": "light"
     },
     "output_type": "display_data"
    }
   ],
   "source": [
    "hist = breweries_ch_RB_df['established_year'].hist(bins=100)"
   ]
  },
  {
   "cell_type": "code",
   "execution_count": 13,
   "metadata": {},
   "outputs": [
    {
     "data": {
      "text/plain": [
       "<matplotlib.axes._subplots.AxesSubplot at 0x1184e5bd0>"
      ]
     },
     "execution_count": 13,
     "metadata": {},
     "output_type": "execute_result"
    },
    {
     "data": {
      "image/png": "[encoded data removed]",
      "text/plain": [
       "<Figure size 432x288 with 1 Axes>"
      ]
     },
     "metadata": {
      "needs_background": "light"
     },
     "output_type": "display_data"
    }
   ],
   "source": [
    "beers_rb_df.groupby('brewer_id')['ratings_avg'].mean().hist(bins=100)"
   ]
  },
  {
   "cell_type": "code",
   "execution_count": 15,
   "metadata": {},
   "outputs": [],
   "source": [
    "breweries_ch_RB_df = breweries_ch_RB_df.merge(beers_rb_df.groupby('brewer_id')['ratings_avg'].mean(), on='brewer_id')"
   ]
  },
  {
   "cell_type": "code",
   "execution_count": 10,
   "metadata": {},
   "outputs": [
    {
     "data": {
      "text/plain": [
       "<matplotlib.axes._subplots.AxesSubplot at 0x1187177d0>"
      ]
     },
     "execution_count": 10,
     "metadata": {},
     "output_type": "execute_result"
    },
    {
     "data": {
      "image/png": "[encoded data removed]",
      "text/plain": [
       "<Figure size 432x288 with 1 Axes>"
      ]
     },
     "metadata": {
      "needs_background": "light"
     },
     "output_type": "display_data"
    }
   ],
   "source": [
    "beers_rb_df['alcohol_perc'].hist(bins=100)"
   ]
  },
  {
   "cell_type": "code",
   "execution_count": null,
   "metadata": {},
   "outputs": [],
   "source": []
  }
 ],
 "metadata": {
  "kernelspec": {
   "display_name": "Python 3",
   "language": "python",
   "name": "python3"
  },
  "language_info": {
   "codemirror_mode": {
    "name": "ipython",
    "version": 3
   },
   "file_extension": ".py",
   "mimetype": "text/x-python",
   "name": "python",
   "nbconvert_exporter": "python",
   "pygments_lexer": "ipython3",
   "version": "3.7.5"
  }
 },
 "nbformat": 4,
 "nbformat_minor": 4
}
