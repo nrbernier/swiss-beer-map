{
 "cells": [
  {
   "cell_type": "code",
   "execution_count": 288,
   "metadata": {},
   "outputs": [],
   "source": [
    "import requests\n",
    "from bs4 import BeautifulSoup\n",
    "import numpy as np\n",
    "import timeit\n",
    "\n",
    "import pandas as pd"
   ]
  },
  {
   "cell_type": "markdown",
   "metadata": {},
   "source": [
    "# Scrape online data"
   ]
  },
  {
   "cell_type": "code",
   "execution_count": 3,
   "metadata": {},
   "outputs": [],
   "source": [
    "URL = 'https://www.beeradvocate.com/beer/profile/2958/87869/'\n",
    "page = requests.get(URL)\n",
    "\n",
    "soup = BeautifulSoup(page.content, 'html.parser')\n"
   ]
  },
  {
   "cell_type": "code",
   "execution_count": 50,
   "metadata": {},
   "outputs": [],
   "source": [
    "res = soup.find(id='info_box')"
   ]
  },
  {
   "cell_type": "code",
   "execution_count": 16,
   "metadata": {},
   "outputs": [],
   "source": [
    "beerstats = soup.find_all(class_='beerstats')"
   ]
  },
  {
   "cell_type": "code",
   "execution_count": 32,
   "metadata": {},
   "outputs": [],
   "source": [
    "bold = res.find_all('b')"
   ]
  },
  {
   "cell_type": "code",
   "execution_count": 33,
   "metadata": {},
   "outputs": [
    {
     "data": {
      "text/plain": [
       "[<b>Beer Geek Stats:</b>,\n",
       " <b>Style:</b>,\n",
       " <b>Belgian Saison</b>,\n",
       " <b>ABV:</b>,\n",
       " <b>5%</b>,\n",
       " <b>Score:</b>,\n",
       " <b>94</b>]"
      ]
     },
     "execution_count": 33,
     "metadata": {},
     "output_type": "execute_result"
    }
   ],
   "source": [
    "bold"
   ]
  },
  {
   "cell_type": "code",
   "execution_count": 57,
   "metadata": {},
   "outputs": [
    {
     "data": {
      "text/plain": [
       "'Belgian Saison'"
      ]
     },
     "execution_count": 57,
     "metadata": {},
     "output_type": "execute_result"
    }
   ],
   "source": [
    "soup.find(title=\"Learn more about this style.\").find('b').text"
   ]
  },
  {
   "cell_type": "code",
   "execution_count": 65,
   "metadata": {},
   "outputs": [
    {
     "data": {
      "text/plain": [
       "'5'"
      ]
     },
     "execution_count": 65,
     "metadata": {},
     "output_type": "execute_result"
    }
   ],
   "source": [
    "soup.find_all(title=\"Percentage of alcohol by volume.\")[-1].find('b').text[:-1]"
   ]
  },
  {
   "cell_type": "code",
   "execution_count": 55,
   "metadata": {},
   "outputs": [
    {
     "data": {
      "text/plain": [
       "'94'"
      ]
     },
     "execution_count": 55,
     "metadata": {},
     "output_type": "execute_result"
    }
   ],
   "source": [
    "soup.find(class_=\"ba-score Tooltip\").text"
   ]
  },
  {
   "cell_type": "code",
   "execution_count": 54,
   "metadata": {},
   "outputs": [
    {
     "data": {
      "text/plain": [
       "'4.26'"
      ]
     },
     "execution_count": 54,
     "metadata": {},
     "output_type": "execute_result"
    }
   ],
   "source": [
    "soup.find(class_=\"ba-ravg Tooltip\").text"
   ]
  },
  {
   "cell_type": "code",
   "execution_count": 60,
   "metadata": {},
   "outputs": [
    {
     "data": {
      "text/plain": [
       "'BFM (Brasserie des Franches-Montagnes)'"
      ]
     },
     "execution_count": 60,
     "metadata": {},
     "output_type": "execute_result"
    }
   ],
   "source": [
    "soup.find(title=\"View more beers and info from this brewery.\").text"
   ]
  },
  {
   "cell_type": "code",
   "execution_count": 64,
   "metadata": {},
   "outputs": [
    {
     "data": {
      "text/plain": [
       "'Switzerland'"
      ]
     },
     "execution_count": 64,
     "metadata": {},
     "output_type": "execute_result"
    }
   ],
   "source": [
    "soup.find_all(href=lambda x: x and x.startswith('/place/directory/'))[-1].text"
   ]
  },
  {
   "cell_type": "code",
   "execution_count": 75,
   "metadata": {},
   "outputs": [
    {
     "data": {
      "text/plain": [
       "<div class=\"titleBar\">\n",
       "<h1>XV (√225 Saison)<br/><span style=\"color:#999999; font-size:0.75em;\">BFM (Brasserie des Franches-Montagnes)</span></h1>\n",
       "</div>"
      ]
     },
     "execution_count": 75,
     "metadata": {},
     "output_type": "execute_result"
    }
   ],
   "source": [
    "soup.find(class_=\"titleBar\")"
   ]
  },
  {
   "cell_type": "code",
   "execution_count": 81,
   "metadata": {},
   "outputs": [
    {
     "data": {
      "text/plain": [
       "'XV (√225 Saison)'"
      ]
     },
     "execution_count": 81,
     "metadata": {},
     "output_type": "execute_result"
    }
   ],
   "source": [
    "soup.find('title').text.split('|')[0].strip()"
   ]
  },
  {
   "cell_type": "code",
   "execution_count": 94,
   "metadata": {},
   "outputs": [],
   "source": [
    "def parse_beer_page(url):\n",
    "    page = requests.get(url)\n",
    "    soup = BeautifulSoup(page.content, 'html.parser')\n",
    "    \n",
    "    name = soup.find('title').text.split('|')[0].strip()\n",
    "    style = soup.find(title=\"Learn more about this style.\").find('b').text\n",
    "    alc_perc = float(soup.find_all(title=\"Percentage of alcohol by volume.\")[-1].find('b').text[:-1])\n",
    "    \n",
    "    score_temp = soup.find(class_=\"ba-score Tooltip\")\n",
    "    if score_temp is not None:\n",
    "        score = float(score_temp.text)\n",
    "    else: score = np.NaN\n",
    "    rating = float(soup.find(class_=\"ba-ravg Tooltip\").text)\n",
    "    brewery = soup.find(title=\"View more beers and info from this brewery.\").text\n",
    "    country = soup.find_all(href=lambda x: x and x.startswith('/place/directory/'))[-1].text\n",
    "    \n",
    "    return dict(name=name, style=style, alc_perc=alc_perc, \n",
    "                score=score, rating=rating, brewery=brewery, country=country)\n",
    "    "
   ]
  },
  {
   "cell_type": "code",
   "execution_count": 165,
   "metadata": {},
   "outputs": [],
   "source": [
    "def get_beer_country(url, session=requests):\n",
    "    try:\n",
    "        page = session.get(url)\n",
    "        soup = BeautifulSoup(page.content, 'html.parser')\n",
    "        country = soup.find_all(href=lambda x: x and x.startswith('/place/directory/'))[-1].text\n",
    "    except:\n",
    "        country = ''\n",
    "    return country"
   ]
  },
  {
   "cell_type": "code",
   "execution_count": 99,
   "metadata": {},
   "outputs": [
    {
     "data": {
      "text/plain": [
       "{'name': 'Dark Ale',\n",
       " 'style': 'American Brown Ale',\n",
       " 'alc_perc': 4.0,\n",
       " 'score': nan,\n",
       " 'rating': 3.44,\n",
       " 'brewery': 'Black Duck Brewery',\n",
       " 'country': 'Australia'}"
      ]
     },
     "execution_count": 99,
     "metadata": {},
     "output_type": "execute_result"
    }
   ],
   "source": [
    "parse_beer_page('https://www.beeradvocate.com/beer/profile/2385/87878/')"
   ]
  },
  {
   "cell_type": "code",
   "execution_count": 106,
   "metadata": {},
   "outputs": [
    {
     "data": {
      "text/plain": [
       "'United States'"
      ]
     },
     "execution_count": 106,
     "metadata": {},
     "output_type": "execute_result"
    }
   ],
   "source": [
    "get_beer_country('https://www.beeradvocate.com/beer/profile/2/3/')"
   ]
  },
  {
   "cell_type": "code",
   "execution_count": 109,
   "metadata": {},
   "outputs": [
    {
     "name": "stdout",
     "output_type": "stream",
     "text": [
      "1\n",
      "2\n",
      "22\n",
      "25\n",
      "53\n",
      "57\n",
      "60\n",
      "64\n",
      "70\n",
      "77\n",
      "91\n",
      "98\n"
     ]
    }
   ],
   "source": [
    "countries = []\n",
    "url = 'https://www.beeradvocate.com/beer/profile/2/{}/'\n",
    "for i in range(100):\n",
    "    try:\n",
    "        countries.append(get_beer_country(url.format(i)))\n",
    "    except:\n",
    "        print(i)\n",
    "    "
   ]
  },
  {
   "cell_type": "code",
   "execution_count": 110,
   "metadata": {},
   "outputs": [
    {
     "data": {
      "text/plain": [
       "['United States',\n",
       " 'United States',\n",
       " 'United States',\n",
       " 'United States',\n",
       " 'United States',\n",
       " 'United States',\n",
       " 'United States',\n",
       " 'United States',\n",
       " 'United States',\n",
       " 'United States',\n",
       " 'United States',\n",
       " 'United States',\n",
       " 'Belgium',\n",
       " 'United States',\n",
       " 'United States',\n",
       " 'United States',\n",
       " 'United States',\n",
       " 'United Kingdom',\n",
       " 'United Kingdom',\n",
       " 'United Kingdom',\n",
       " 'United States',\n",
       " 'United States',\n",
       " 'United States',\n",
       " 'United States',\n",
       " 'United States',\n",
       " 'Netherlands',\n",
       " 'Canada',\n",
       " 'Canada',\n",
       " 'Canada',\n",
       " 'Canada',\n",
       " 'Canada',\n",
       " 'United States',\n",
       " 'United Kingdom',\n",
       " 'United Kingdom',\n",
       " 'United States',\n",
       " 'United States',\n",
       " 'United States',\n",
       " 'Canada',\n",
       " 'Canada',\n",
       " 'Canada',\n",
       " 'Canada',\n",
       " 'Canada',\n",
       " 'Canada',\n",
       " 'United States',\n",
       " 'United States',\n",
       " 'United States',\n",
       " 'United States',\n",
       " 'United States',\n",
       " 'United Kingdom',\n",
       " 'United States',\n",
       " 'United States',\n",
       " 'United Kingdom',\n",
       " 'United States',\n",
       " 'United States',\n",
       " 'United States',\n",
       " 'United States',\n",
       " 'United States',\n",
       " 'United States',\n",
       " 'United States',\n",
       " 'United States',\n",
       " 'United States',\n",
       " 'United States',\n",
       " 'United States',\n",
       " 'United States',\n",
       " 'United Kingdom',\n",
       " 'United States',\n",
       " 'United States',\n",
       " 'United States',\n",
       " 'Belgium',\n",
       " 'United Kingdom',\n",
       " 'Germany',\n",
       " 'Germany',\n",
       " 'Germany',\n",
       " 'Germany',\n",
       " 'United States',\n",
       " 'United States',\n",
       " 'United States',\n",
       " 'United States',\n",
       " 'United States',\n",
       " 'United States',\n",
       " 'United States',\n",
       " 'United States',\n",
       " 'United States',\n",
       " 'United States',\n",
       " 'United States',\n",
       " 'United States',\n",
       " 'United States',\n",
       " 'Germany']"
      ]
     },
     "execution_count": 110,
     "metadata": {},
     "output_type": "execute_result"
    }
   ],
   "source": [
    "countries"
   ]
  },
  {
   "cell_type": "code",
   "execution_count": 167,
   "metadata": {},
   "outputs": [
    {
     "data": {
      "text/plain": [
       "3.777793766999821"
      ]
     },
     "execution_count": 167,
     "metadata": {},
     "output_type": "execute_result"
    }
   ],
   "source": [
    "s = requests.Session()\n",
    "timeit.timeit(lambda: get_beer_country(url.format(15002),s), number=5)"
   ]
  },
  {
   "cell_type": "code",
   "execution_count": 146,
   "metadata": {},
   "outputs": [
    {
     "data": {
      "text/plain": [
       "0.8501878259994555"
      ]
     },
     "execution_count": 146,
     "metadata": {},
     "output_type": "execute_result"
    }
   ],
   "source": [
    "timeit.timeit(lambda: requests.head(url.format(19)), number=1)"
   ]
  },
  {
   "cell_type": "code",
   "execution_count": 147,
   "metadata": {},
   "outputs": [
    {
     "data": {
      "text/plain": [
       "<Response [301]>"
      ]
     },
     "execution_count": 147,
     "metadata": {},
     "output_type": "execute_result"
    }
   ],
   "source": [
    "requests.head(url.format(19))"
   ]
  },
  {
   "cell_type": "code",
   "execution_count": 149,
   "metadata": {},
   "outputs": [
    {
     "data": {
      "text/plain": [
       "41.666666666666664"
      ]
     },
     "execution_count": 149,
     "metadata": {},
     "output_type": "execute_result"
    }
   ],
   "source": [
    "1.5* 100000 / 3600"
   ]
  },
  {
   "cell_type": "markdown",
   "metadata": {},
   "source": [
    "## Check parallel requests"
   ]
  },
  {
   "cell_type": "code",
   "execution_count": 160,
   "metadata": {},
   "outputs": [
    {
     "name": "stdout",
     "output_type": "stream",
     "text": [
      "one is done\n",
      "one is done\n",
      "one is done\n",
      "one is done\n",
      "one is done\n",
      "one is done\n",
      "one is done\n",
      "one is done\n",
      "one is done\n",
      "one is done\n",
      "one is done\n",
      "one is done\n",
      "one is done\n",
      "one is done\n",
      "one is done\n",
      "one is done\n",
      "one is done\n",
      "one is done\n",
      "one is done\n",
      "one is done\n",
      "one is done\n",
      "one is done\n",
      "one is done\n",
      "one is done\n",
      "one is done\n",
      "one is done\n",
      "one is done\n",
      "one is done\n",
      "one is done\n",
      "one is done\n",
      "one is done\n",
      "one is done\n",
      "one is done\n",
      "one is done\n",
      "one is done\n",
      "one is done\n",
      "one is done\n",
      "one is done\n",
      "one is done\n",
      "one is done\n",
      "one is done\n",
      "one is done\n",
      "one is done\n",
      "one is done\n",
      "one is done\n",
      "one is done\n",
      "one is done\n",
      "one is done\n",
      "one is done\n",
      "one is done\n"
     ]
    },
    {
     "data": {
      "text/plain": [
       "60.20601609700043"
      ]
     },
     "execution_count": 160,
     "metadata": {},
     "output_type": "execute_result"
    }
   ],
   "source": [
    "import eventlet\n",
    "\n",
    "urls = [url.format(i) for i in range(50)]\n",
    "pool = eventlet.GreenPool(50)\n",
    "\n",
    "countries = []\n",
    "def pool_work():\n",
    "    for country in pool.imap(get_beer_country, urls):\n",
    "        countries.append(country)\n",
    "        print('one is done')\n",
    "\n",
    "timeit.timeit(pool_work, number=1)"
   ]
  },
  {
   "cell_type": "code",
   "execution_count": 154,
   "metadata": {},
   "outputs": [
    {
     "data": {
      "text/plain": [
       "['https://www.beeradvocate.com/beer/profile/2/3/',\n",
       " 'https://www.beeradvocate.com/beer/profile/2/4/',\n",
       " 'https://www.beeradvocate.com/beer/profile/2/5/',\n",
       " 'https://www.beeradvocate.com/beer/profile/2/6/',\n",
       " 'https://www.beeradvocate.com/beer/profile/2/7/',\n",
       " 'https://www.beeradvocate.com/beer/profile/2/8/',\n",
       " 'https://www.beeradvocate.com/beer/profile/2/9/',\n",
       " 'https://www.beeradvocate.com/beer/profile/2/10/',\n",
       " 'https://www.beeradvocate.com/beer/profile/2/11/',\n",
       " 'https://www.beeradvocate.com/beer/profile/2/12/',\n",
       " 'https://www.beeradvocate.com/beer/profile/2/13/',\n",
       " 'https://www.beeradvocate.com/beer/profile/2/14/',\n",
       " 'https://www.beeradvocate.com/beer/profile/2/15/',\n",
       " 'https://www.beeradvocate.com/beer/profile/2/16/',\n",
       " 'https://www.beeradvocate.com/beer/profile/2/17/',\n",
       " 'https://www.beeradvocate.com/beer/profile/2/18/',\n",
       " 'https://www.beeradvocate.com/beer/profile/2/19/',\n",
       " 'https://www.beeradvocate.com/beer/profile/2/20/',\n",
       " 'https://www.beeradvocate.com/beer/profile/2/21/',\n",
       " 'https://www.beeradvocate.com/beer/profile/2/22/',\n",
       " 'https://www.beeradvocate.com/beer/profile/2/23/',\n",
       " 'https://www.beeradvocate.com/beer/profile/2/24/',\n",
       " 'https://www.beeradvocate.com/beer/profile/2/25/',\n",
       " 'https://www.beeradvocate.com/beer/profile/2/26/',\n",
       " 'https://www.beeradvocate.com/beer/profile/2/27/',\n",
       " 'https://www.beeradvocate.com/beer/profile/2/28/',\n",
       " 'https://www.beeradvocate.com/beer/profile/2/29/',\n",
       " 'https://www.beeradvocate.com/beer/profile/2/30/',\n",
       " 'https://www.beeradvocate.com/beer/profile/2/31/',\n",
       " 'https://www.beeradvocate.com/beer/profile/2/32/',\n",
       " 'https://www.beeradvocate.com/beer/profile/2/33/',\n",
       " 'https://www.beeradvocate.com/beer/profile/2/34/',\n",
       " 'https://www.beeradvocate.com/beer/profile/2/35/',\n",
       " 'https://www.beeradvocate.com/beer/profile/2/36/',\n",
       " 'https://www.beeradvocate.com/beer/profile/2/37/',\n",
       " 'https://www.beeradvocate.com/beer/profile/2/38/',\n",
       " 'https://www.beeradvocate.com/beer/profile/2/39/',\n",
       " 'https://www.beeradvocate.com/beer/profile/2/40/',\n",
       " 'https://www.beeradvocate.com/beer/profile/2/41/',\n",
       " 'https://www.beeradvocate.com/beer/profile/2/42/',\n",
       " 'https://www.beeradvocate.com/beer/profile/2/43/',\n",
       " 'https://www.beeradvocate.com/beer/profile/2/44/',\n",
       " 'https://www.beeradvocate.com/beer/profile/2/45/',\n",
       " 'https://www.beeradvocate.com/beer/profile/2/46/',\n",
       " 'https://www.beeradvocate.com/beer/profile/2/47/',\n",
       " 'https://www.beeradvocate.com/beer/profile/2/48/',\n",
       " 'https://www.beeradvocate.com/beer/profile/2/49/']"
      ]
     },
     "execution_count": 154,
     "metadata": {},
     "output_type": "execute_result"
    }
   ],
   "source": [
    "urls"
   ]
  },
  {
   "cell_type": "code",
   "execution_count": 169,
   "metadata": {},
   "outputs": [
    {
     "data": {
      "text/plain": [
       "0.007156055999985256"
      ]
     },
     "execution_count": 169,
     "metadata": {},
     "output_type": "execute_result"
    }
   ],
   "source": [
    "from concurrent.futures import ThreadPoolExecutor\n",
    "from requests_futures.sessions import FuturesSession\n",
    "\n",
    "session = FuturesSession(max_workers=5)\n",
    "cs = []\n",
    "timeit.timeit(lambda: cs.append(get_beer_country(url.format(15002),session)), number=5)"
   ]
  },
  {
   "cell_type": "code",
   "execution_count": 172,
   "metadata": {},
   "outputs": [
    {
     "data": {
      "text/plain": [
       "['', '', '', '', '']"
      ]
     },
     "execution_count": 172,
     "metadata": {},
     "output_type": "execute_result"
    }
   ],
   "source": [
    "cs"
   ]
  },
  {
   "cell_type": "code",
   "execution_count": 175,
   "metadata": {},
   "outputs": [],
   "source": [
    "from concurrent.futures import as_completed\n",
    "from requests_futures.sessions import FuturesSession\n",
    "\n",
    "def get_beer_countries_parall(urls):\n",
    "    countries = []\n",
    "    session = FuturesSession(max_workers=5)\n",
    "    \n",
    "    futures = [session.get(url) for url in urls]\n",
    "    for future in as_completed(futures):\n",
    "        try:\n",
    "            resp = future.result()\n",
    "            soup = BeautifulSoup(resp.content, 'html.parser')\n",
    "            country = soup.find_all(href=lambda x: x and x.startswith('/place/directory/'))[-1].text\n",
    "            countries.append(country)\n",
    "        except:\n",
    "            pass\n",
    "    \n",
    "    return countries"
   ]
  },
  {
   "cell_type": "code",
   "execution_count": 187,
   "metadata": {},
   "outputs": [],
   "source": [
    "def get_swiss_beers_parall(urls):\n",
    "    swissbeers = []\n",
    "    session = FuturesSession(max_workers=5)\n",
    "    \n",
    "    futures = [session.get(url) for url in urls]\n",
    "    for future in as_completed(futures):\n",
    "        try:\n",
    "            resp = future.result()\n",
    "            soup = BeautifulSoup(resp.content, 'html.parser')\n",
    "            country = soup.find_all(href=lambda x: x and x.startswith('/place/directory/'))[-1].text\n",
    "            if country == 'Switzerland':\n",
    "                swissbeers.append(resp.url)\n",
    "        except:\n",
    "            pass\n",
    "    \n",
    "    return swissbeers"
   ]
  },
  {
   "cell_type": "code",
   "execution_count": 176,
   "metadata": {},
   "outputs": [
    {
     "data": {
      "text/plain": [
       "6.967507653000212"
      ]
     },
     "execution_count": 176,
     "metadata": {},
     "output_type": "execute_result"
    }
   ],
   "source": [
    "urls = [url.format(i) for i in range(50)]\n",
    "\n",
    "timeit.timeit(lambda: get_beer_countries_parall(urls), number=1)"
   ]
  },
  {
   "cell_type": "code",
   "execution_count": 184,
   "metadata": {},
   "outputs": [],
   "source": [
    "session = FuturesSession(max_workers=5)\n",
    "\n",
    "future = session.get(url.format(19))"
   ]
  },
  {
   "cell_type": "code",
   "execution_count": 185,
   "metadata": {},
   "outputs": [],
   "source": [
    "resp = future.result()"
   ]
  },
  {
   "cell_type": "code",
   "execution_count": 186,
   "metadata": {},
   "outputs": [
    {
     "data": {
      "text/plain": [
       "'https://www.beeradvocate.com/beer/profile/9/19/'"
      ]
     },
     "execution_count": 186,
     "metadata": {},
     "output_type": "execute_result"
    }
   ],
   "source": [
    "resp.url"
   ]
  },
  {
   "cell_type": "code",
   "execution_count": 188,
   "metadata": {},
   "outputs": [],
   "source": [
    "swiss_beers_urls = get_swiss_beers_parall([url.format(i) for i in range(1000)])"
   ]
  },
  {
   "cell_type": "code",
   "execution_count": 189,
   "metadata": {},
   "outputs": [
    {
     "data": {
      "text/plain": [
       "[]"
      ]
     },
     "execution_count": 189,
     "metadata": {},
     "output_type": "execute_result"
    }
   ],
   "source": [
    "swiss_beers_urls"
   ]
  },
  {
   "cell_type": "code",
   "execution_count": 191,
   "metadata": {},
   "outputs": [
    {
     "data": {
      "text/plain": [
       "64400.00000000001"
      ]
     },
     "execution_count": 191,
     "metadata": {},
     "output_type": "execute_result"
    }
   ],
   "source": [
    "460000 * (7/50)"
   ]
  },
  {
   "cell_type": "code",
   "execution_count": 194,
   "metadata": {},
   "outputs": [
    {
     "data": {
      "text/plain": [
       "12857.142857142855"
      ]
     },
     "execution_count": 194,
     "metadata": {},
     "output_type": "execute_result"
    }
   ],
   "source": [
    "30*60/(7/50)"
   ]
  },
  {
   "cell_type": "code",
   "execution_count": 195,
   "metadata": {},
   "outputs": [
    {
     "ename": "KeyboardInterrupt",
     "evalue": "",
     "output_type": "error",
     "traceback": [
      "\u001b[0;31m---------------------------------------------------------------------------\u001b[0m",
      "\u001b[0;31mKeyboardInterrupt\u001b[0m                         Traceback (most recent call last)",
      "\u001b[0;32m<ipython-input-195-c3fe206295df>\u001b[0m in \u001b[0;36m<module>\u001b[0;34m\u001b[0m\n\u001b[0;32m----> 1\u001b[0;31m \u001b[0mswiss_beers_urls_to12k\u001b[0m \u001b[0;34m=\u001b[0m \u001b[0mget_swiss_beers_parall\u001b[0m\u001b[0;34m(\u001b[0m\u001b[0;34m[\u001b[0m\u001b[0murl\u001b[0m\u001b[0;34m.\u001b[0m\u001b[0mformat\u001b[0m\u001b[0;34m(\u001b[0m\u001b[0mi\u001b[0m\u001b[0;34m)\u001b[0m \u001b[0;32mfor\u001b[0m \u001b[0mi\u001b[0m \u001b[0;32min\u001b[0m \u001b[0mrange\u001b[0m\u001b[0;34m(\u001b[0m\u001b[0;36m12000\u001b[0m\u001b[0;34m)\u001b[0m\u001b[0;34m]\u001b[0m\u001b[0;34m)\u001b[0m\u001b[0;34m\u001b[0m\u001b[0;34m\u001b[0m\u001b[0m\n\u001b[0m",
      "\u001b[0;32m<ipython-input-187-a1643d79ffb1>\u001b[0m in \u001b[0;36mget_swiss_beers_parall\u001b[0;34m(urls)\u001b[0m\n\u001b[1;32m      4\u001b[0m \u001b[0;34m\u001b[0m\u001b[0m\n\u001b[1;32m      5\u001b[0m     \u001b[0mfutures\u001b[0m \u001b[0;34m=\u001b[0m \u001b[0;34m[\u001b[0m\u001b[0msession\u001b[0m\u001b[0;34m.\u001b[0m\u001b[0mget\u001b[0m\u001b[0;34m(\u001b[0m\u001b[0murl\u001b[0m\u001b[0;34m)\u001b[0m \u001b[0;32mfor\u001b[0m \u001b[0murl\u001b[0m \u001b[0;32min\u001b[0m \u001b[0murls\u001b[0m\u001b[0;34m]\u001b[0m\u001b[0;34m\u001b[0m\u001b[0;34m\u001b[0m\u001b[0m\n\u001b[0;32m----> 6\u001b[0;31m     \u001b[0;32mfor\u001b[0m \u001b[0mfuture\u001b[0m \u001b[0;32min\u001b[0m \u001b[0mas_completed\u001b[0m\u001b[0;34m(\u001b[0m\u001b[0mfutures\u001b[0m\u001b[0;34m)\u001b[0m\u001b[0;34m:\u001b[0m\u001b[0;34m\u001b[0m\u001b[0;34m\u001b[0m\u001b[0m\n\u001b[0m\u001b[1;32m      7\u001b[0m         \u001b[0;32mtry\u001b[0m\u001b[0;34m:\u001b[0m\u001b[0;34m\u001b[0m\u001b[0;34m\u001b[0m\u001b[0m\n\u001b[1;32m      8\u001b[0m             \u001b[0mresp\u001b[0m \u001b[0;34m=\u001b[0m \u001b[0mfuture\u001b[0m\u001b[0;34m.\u001b[0m\u001b[0mresult\u001b[0m\u001b[0;34m(\u001b[0m\u001b[0;34m)\u001b[0m\u001b[0;34m\u001b[0m\u001b[0;34m\u001b[0m\u001b[0m\n",
      "\u001b[0;32m/usr/local/Cellar/python/3.7.5/Frameworks/Python.framework/Versions/3.7/lib/python3.7/concurrent/futures/_base.py\u001b[0m in \u001b[0;36mas_completed\u001b[0;34m(fs, timeout)\u001b[0m\n\u001b[1;32m    238\u001b[0m                             len(pending), total_futures))\n\u001b[1;32m    239\u001b[0m \u001b[0;34m\u001b[0m\u001b[0m\n\u001b[0;32m--> 240\u001b[0;31m             \u001b[0mwaiter\u001b[0m\u001b[0;34m.\u001b[0m\u001b[0mevent\u001b[0m\u001b[0;34m.\u001b[0m\u001b[0mwait\u001b[0m\u001b[0;34m(\u001b[0m\u001b[0mwait_timeout\u001b[0m\u001b[0;34m)\u001b[0m\u001b[0;34m\u001b[0m\u001b[0;34m\u001b[0m\u001b[0m\n\u001b[0m\u001b[1;32m    241\u001b[0m \u001b[0;34m\u001b[0m\u001b[0m\n\u001b[1;32m    242\u001b[0m             \u001b[0;32mwith\u001b[0m \u001b[0mwaiter\u001b[0m\u001b[0;34m.\u001b[0m\u001b[0mlock\u001b[0m\u001b[0;34m:\u001b[0m\u001b[0;34m\u001b[0m\u001b[0;34m\u001b[0m\u001b[0m\n",
      "\u001b[0;32m/usr/local/Cellar/python/3.7.5/Frameworks/Python.framework/Versions/3.7/lib/python3.7/threading.py\u001b[0m in \u001b[0;36mwait\u001b[0;34m(self, timeout)\u001b[0m\n\u001b[1;32m    550\u001b[0m             \u001b[0msignaled\u001b[0m \u001b[0;34m=\u001b[0m \u001b[0mself\u001b[0m\u001b[0;34m.\u001b[0m\u001b[0m_flag\u001b[0m\u001b[0;34m\u001b[0m\u001b[0;34m\u001b[0m\u001b[0m\n\u001b[1;32m    551\u001b[0m             \u001b[0;32mif\u001b[0m \u001b[0;32mnot\u001b[0m \u001b[0msignaled\u001b[0m\u001b[0;34m:\u001b[0m\u001b[0;34m\u001b[0m\u001b[0;34m\u001b[0m\u001b[0m\n\u001b[0;32m--> 552\u001b[0;31m                 \u001b[0msignaled\u001b[0m \u001b[0;34m=\u001b[0m \u001b[0mself\u001b[0m\u001b[0;34m.\u001b[0m\u001b[0m_cond\u001b[0m\u001b[0;34m.\u001b[0m\u001b[0mwait\u001b[0m\u001b[0;34m(\u001b[0m\u001b[0mtimeout\u001b[0m\u001b[0;34m)\u001b[0m\u001b[0;34m\u001b[0m\u001b[0;34m\u001b[0m\u001b[0m\n\u001b[0m\u001b[1;32m    553\u001b[0m             \u001b[0;32mreturn\u001b[0m \u001b[0msignaled\u001b[0m\u001b[0;34m\u001b[0m\u001b[0;34m\u001b[0m\u001b[0m\n\u001b[1;32m    554\u001b[0m \u001b[0;34m\u001b[0m\u001b[0m\n",
      "\u001b[0;32m/usr/local/Cellar/python/3.7.5/Frameworks/Python.framework/Versions/3.7/lib/python3.7/threading.py\u001b[0m in \u001b[0;36mwait\u001b[0;34m(self, timeout)\u001b[0m\n\u001b[1;32m    294\u001b[0m         \u001b[0;32mtry\u001b[0m\u001b[0;34m:\u001b[0m    \u001b[0;31m# restore state no matter what (e.g., KeyboardInterrupt)\u001b[0m\u001b[0;34m\u001b[0m\u001b[0;34m\u001b[0m\u001b[0m\n\u001b[1;32m    295\u001b[0m             \u001b[0;32mif\u001b[0m \u001b[0mtimeout\u001b[0m \u001b[0;32mis\u001b[0m \u001b[0;32mNone\u001b[0m\u001b[0;34m:\u001b[0m\u001b[0;34m\u001b[0m\u001b[0;34m\u001b[0m\u001b[0m\n\u001b[0;32m--> 296\u001b[0;31m                 \u001b[0mwaiter\u001b[0m\u001b[0;34m.\u001b[0m\u001b[0macquire\u001b[0m\u001b[0;34m(\u001b[0m\u001b[0;34m)\u001b[0m\u001b[0;34m\u001b[0m\u001b[0;34m\u001b[0m\u001b[0m\n\u001b[0m\u001b[1;32m    297\u001b[0m                 \u001b[0mgotit\u001b[0m \u001b[0;34m=\u001b[0m \u001b[0;32mTrue\u001b[0m\u001b[0;34m\u001b[0m\u001b[0;34m\u001b[0m\u001b[0m\n\u001b[1;32m    298\u001b[0m             \u001b[0;32melse\u001b[0m\u001b[0;34m:\u001b[0m\u001b[0;34m\u001b[0m\u001b[0;34m\u001b[0m\u001b[0m\n",
      "\u001b[0;31mKeyboardInterrupt\u001b[0m: "
     ]
    }
   ],
   "source": [
    "swiss_beers_urls_to12k = get_swiss_beers_parall([url.format(i) for i in range(12000)])"
   ]
  },
  {
   "cell_type": "markdown",
   "metadata": {},
   "source": [
    "## Login to BeerAdvocate"
   ]
  },
  {
   "cell_type": "code",
   "execution_count": 275,
   "metadata": {},
   "outputs": [],
   "source": [
    "s = requests.Session()\n",
    "url_login = 'https://www.beeradvocate.com/community/login/login'\n",
    "with open('ba_credentials','r') as f:\n",
    "    login, password = f.read().splitlines()"
   ]
  },
  {
   "cell_type": "code",
   "execution_count": 276,
   "metadata": {},
   "outputs": [],
   "source": [
    " \n",
    "payload = {'login': login, 'password': password}\n",
    "page = s.post(url_login, data=payload)"
   ]
  },
  {
   "cell_type": "code",
   "execution_count": 277,
   "metadata": {},
   "outputs": [],
   "source": [
    "with open('test.html','bw') as f:\n",
    "    f.write(page.content)"
   ]
  },
  {
   "cell_type": "code",
   "execution_count": 10,
   "metadata": {},
   "outputs": [],
   "source": [
    "url_ch = 'https://www.beeradvocate.com/place/list/?c_id=CH&s_id=0&brewery=Y'\n",
    "url_ch2 = 'https://www.beeradvocate.com/place/list/?start=20&&c_id=CH&brewery=Y&sort=name'\n",
    "ch_page1 = s.get(url_ch)"
   ]
  },
  {
   "cell_type": "code",
   "execution_count": 278,
   "metadata": {},
   "outputs": [],
   "source": [
    "url_ch_gen = 'https://www.beeradvocate.com/place/list/?start={}&&c_id=CH&brewery=Y&sort=name'"
   ]
  },
  {
   "cell_type": "code",
   "execution_count": 281,
   "metadata": {},
   "outputs": [
    {
     "data": {
      "text/plain": [
       "[]"
      ]
     },
     "execution_count": 281,
     "metadata": {},
     "output_type": "execute_result"
    }
   ],
   "source": [
    "ch_end = s.get(url_ch_gen.format(140))\n",
    "soup_ch_end = BeautifulSoup(ch_end.content)\n",
    "list_ch_end = soup_ch_end.find_all(href=lambda x: x and x.startswith('/beer/profile/'))\n",
    "list_ch_end"
   ]
  },
  {
   "cell_type": "code",
   "execution_count": 274,
   "metadata": {},
   "outputs": [],
   "source": [
    "with open('test2.html','bw') as f:\n",
    "    f.write(ch_end.content)"
   ]
  },
  {
   "cell_type": "code",
   "execution_count": 258,
   "metadata": {},
   "outputs": [
    {
     "data": {
      "text/plain": [
       "0"
      ]
     },
     "execution_count": 258,
     "metadata": {},
     "output_type": "execute_result"
    }
   ],
   "source": [
    "len(list_ch_end)"
   ]
  },
  {
   "cell_type": "markdown",
   "metadata": {},
   "source": [
    "## List all CH breweries"
   ]
  },
  {
   "cell_type": "code",
   "execution_count": 298,
   "metadata": {},
   "outputs": [],
   "source": [
    "base_url = 'https://www.beeradvocate.com'\n",
    "def brewery_extract(row):\n",
    "    cols = row.find_all('td')\n",
    "    first_el = cols[0].find('a')\n",
    "    link = base_url +first_el['href']\n",
    "    brewery_name = first_el.text\n",
    "    def treat_dash(text):\n",
    "        if text=='-':\n",
    "            return 'nan'\n",
    "        else:\n",
    "            return text\n",
    "    ratings, nbeers = [treat_dash(x.text) for x in cols[-2:]]\n",
    "    ratings = float(ratings)\n",
    "    nbeers = int(nbeers)\n",
    "    dic = dict(\n",
    "        name = brewery_name, link = link,\n",
    "        ratings = ratings, n_beers = nbeers\n",
    "        )\n",
    "    return dic\n",
    "    "
   ]
  },
  {
   "cell_type": "code",
   "execution_count": 299,
   "metadata": {},
   "outputs": [],
   "source": [
    "def treat_address(list_ad):\n",
    "    ad = ''\n",
    "    for el in list_ad:\n",
    "        if el.name == 'br':\n",
    "            ad += '\\n'\n",
    "        elif el.name == 'a':\n",
    "            ad += el.get_text()\n",
    "        else:\n",
    "            ad += str(el).strip()\n",
    "    ad = ad.split('\\n\\n')\n",
    "    ad = list(map(lambda x: x.strip(), ad))\n",
    "    if len(ad) == 2:\n",
    "        address, tel = ad\n",
    "    else:\n",
    "        address = ad[0]\n",
    "        tel = ''\n",
    "    return dict(address=address, telephone=tel)"
   ]
  },
  {
   "cell_type": "code",
   "execution_count": 302,
   "metadata": {},
   "outputs": [],
   "source": [
    "def breweries_from_page(page):\n",
    "    table_rows = iter(page.find('table').find_all('tr'))\n",
    "    breweries = []\n",
    "    for row in table_rows:\n",
    "        #columns = row.find_all('td')\n",
    "        #table.append([el.text.rstrip() for el in columns])\n",
    "        if row.find(href=lambda x: x and x.startswith('/beer/profile/')):\n",
    "            brew_dic = brewery_extract(row)\n",
    "            address_row = next(table_rows).find('td')\n",
    "            list_ad = list(address_row.children)\n",
    "            brew_dic.update(treat_address(list_ad))\n",
    "            breweries.append(brew_dic)\n",
    "    return breweries"
   ]
  },
  {
   "cell_type": "code",
   "execution_count": 303,
   "metadata": {},
   "outputs": [
    {
     "name": "stdout",
     "output_type": "stream",
     "text": [
      "20\n",
      "40\n",
      "60\n",
      "80\n",
      "100\n",
      "120\n",
      "140\n",
      "160\n"
     ]
    }
   ],
   "source": [
    "s = requests.Session()\n",
    "url_login = 'https://www.beeradvocate.com/community/login/login'\n",
    "\n",
    "with open('ba_credentials','r') as f:\n",
    "    login, password = f.read().splitlines() \n",
    "payload = {'login': login, 'password': password}\n",
    "page = s.post(url_login, data=payload)\n",
    "\n",
    "url_ch_gen = 'https://www.beeradvocate.com/place/list/?start={}&&c_id=CH&brewery=Y&sort=name'\n",
    "start_n = 0\n",
    "search = True\n",
    "breweries_ch = []\n",
    "while search:\n",
    "    brew_page = BeautifulSoup(s.get(url_ch_gen.format(start_n)).content)\n",
    "    more_breweries = brew_page.find_all(href=lambda x: x and x.startswith('/beer/profile/'))\n",
    "    if len(more_breweries) >0 :\n",
    "        breweries_ch += breweries_from_page(brew_page)\n",
    "    else:\n",
    "        search=False\n",
    "    \n",
    "    start_n += 20\n",
    "    print(start_n)\n",
    "    \n"
   ]
  },
  {
   "cell_type": "code",
   "execution_count": 304,
   "metadata": {},
   "outputs": [],
   "source": [
    "breweries_ch_df = pd.DataFrame(breweries_ch)"
   ]
  },
  {
   "cell_type": "code",
   "execution_count": 305,
   "metadata": {},
   "outputs": [
    {
     "data": {
      "text/html": [
       "<div>\n",
       "<style scoped>\n",
       "    .dataframe tbody tr th:only-of-type {\n",
       "        vertical-align: middle;\n",
       "    }\n",
       "\n",
       "    .dataframe tbody tr th {\n",
       "        vertical-align: top;\n",
       "    }\n",
       "\n",
       "    .dataframe thead th {\n",
       "        text-align: right;\n",
       "    }\n",
       "</style>\n",
       "<table border=\"1\" class=\"dataframe\">\n",
       "  <thead>\n",
       "    <tr style=\"text-align: right;\">\n",
       "      <th></th>\n",
       "      <th>name</th>\n",
       "      <th>link</th>\n",
       "      <th>ratings</th>\n",
       "      <th>n_beers</th>\n",
       "      <th>address</th>\n",
       "      <th>telephone</th>\n",
       "    </tr>\n",
       "  </thead>\n",
       "  <tbody>\n",
       "    <tr>\n",
       "      <th>0</th>\n",
       "      <td>4655 Brewing Company</td>\n",
       "      <td>https://www.beeradvocate.com/beer/profile/41488/</td>\n",
       "      <td>NaN</td>\n",
       "      <td>4</td>\n",
       "      <td>Stüsslingen, 4655\\nSwitzerland</td>\n",
       "      <td></td>\n",
       "    </tr>\n",
       "    <tr>\n",
       "      <th>1</th>\n",
       "      <td>523</td>\n",
       "      <td>https://www.beeradvocate.com/beer/profile/44206/</td>\n",
       "      <td>3.79</td>\n",
       "      <td>2</td>\n",
       "      <td>Sonnenweg 30\\nKöniz, 3098\\nSwitzerland</td>\n",
       "      <td>+41 77 450 7655</td>\n",
       "    </tr>\n",
       "    <tr>\n",
       "      <th>2</th>\n",
       "      <td>7Peaks Brasserie</td>\n",
       "      <td>https://www.beeradvocate.com/beer/profile/39040/</td>\n",
       "      <td>2.72</td>\n",
       "      <td>9</td>\n",
       "      <td>Route de la Patinoire 15a\\nMorgins, 1875\\nSwit...</td>\n",
       "      <td>+41 78 797 1875</td>\n",
       "    </tr>\n",
       "    <tr>\n",
       "      <th>3</th>\n",
       "      <td>À tue-tête</td>\n",
       "      <td>https://www.beeradvocate.com/beer/profile/52843/</td>\n",
       "      <td>4.14</td>\n",
       "      <td>9</td>\n",
       "      <td>Chemin de la Biole 10\\nAigle, 1860\\nSwitzerland</td>\n",
       "      <td>+41 79 235 56 49</td>\n",
       "    </tr>\n",
       "    <tr>\n",
       "      <th>4</th>\n",
       "      <td>Ahoi Bier</td>\n",
       "      <td>https://www.beeradvocate.com/beer/profile/42305/</td>\n",
       "      <td>3.67</td>\n",
       "      <td>4</td>\n",
       "      <td>Schlieren, 8952,Switzerland</td>\n",
       "      <td></td>\n",
       "    </tr>\n",
       "    <tr>\n",
       "      <th>...</th>\n",
       "      <td>...</td>\n",
       "      <td>...</td>\n",
       "      <td>...</td>\n",
       "      <td>...</td>\n",
       "      <td>...</td>\n",
       "      <td>...</td>\n",
       "    </tr>\n",
       "    <tr>\n",
       "      <th>135</th>\n",
       "      <td>Volta Bräu</td>\n",
       "      <td>https://www.beeradvocate.com/beer/profile/39036/</td>\n",
       "      <td>NaN</td>\n",
       "      <td>2</td>\n",
       "      <td>Voltastrasse 30\\nBasel, 4056\\nSwitzerland</td>\n",
       "      <td>+41 61 690 91 29</td>\n",
       "    </tr>\n",
       "    <tr>\n",
       "      <th>136</th>\n",
       "      <td>Wadi-Brau-Huss AG</td>\n",
       "      <td>https://www.beeradvocate.com/beer/profile/9378/</td>\n",
       "      <td>NaN</td>\n",
       "      <td>0</td>\n",
       "      <td>Florhofstrasse 13\\nWadenswill, 8820\\nSwitzerland</td>\n",
       "      <td>01 783 9392</td>\n",
       "    </tr>\n",
       "    <tr>\n",
       "      <th>137</th>\n",
       "      <td>Wartauer Seegal Bräu</td>\n",
       "      <td>https://www.beeradvocate.com/beer/profile/39074/</td>\n",
       "      <td>NaN</td>\n",
       "      <td>8</td>\n",
       "      <td>Hauptstrasse 33/35\\nTrübbach, 9477\\nSwitzerland</td>\n",
       "      <td>+41 78 878 19 52</td>\n",
       "    </tr>\n",
       "    <tr>\n",
       "      <th>138</th>\n",
       "      <td>Weedbeer</td>\n",
       "      <td>https://www.beeradvocate.com/beer/profile/32639/</td>\n",
       "      <td>3.00</td>\n",
       "      <td>1</td>\n",
       "      <td>Chemin de l'Etraz 14\\nOrbe, 1350\\nSwitzerland</td>\n",
       "      <td>+41 21 312 68 21</td>\n",
       "    </tr>\n",
       "    <tr>\n",
       "      <th>139</th>\n",
       "      <td>WhiteFrontier Brewery</td>\n",
       "      <td>https://www.beeradvocate.com/beer/profile/38648/</td>\n",
       "      <td>3.79</td>\n",
       "      <td>10</td>\n",
       "      <td>Route des Creux 1\\nBagnes, 1936\\nSwitzerland</td>\n",
       "      <td>+41 79 939 11 73</td>\n",
       "    </tr>\n",
       "  </tbody>\n",
       "</table>\n",
       "<p>140 rows × 6 columns</p>\n",
       "</div>"
      ],
      "text/plain": [
       "                      name                                              link  \\\n",
       "0     4655 Brewing Company  https://www.beeradvocate.com/beer/profile/41488/   \n",
       "1                      523  https://www.beeradvocate.com/beer/profile/44206/   \n",
       "2         7Peaks Brasserie  https://www.beeradvocate.com/beer/profile/39040/   \n",
       "3               À tue-tête  https://www.beeradvocate.com/beer/profile/52843/   \n",
       "4                Ahoi Bier  https://www.beeradvocate.com/beer/profile/42305/   \n",
       "..                     ...                                               ...   \n",
       "135             Volta Bräu  https://www.beeradvocate.com/beer/profile/39036/   \n",
       "136      Wadi-Brau-Huss AG   https://www.beeradvocate.com/beer/profile/9378/   \n",
       "137   Wartauer Seegal Bräu  https://www.beeradvocate.com/beer/profile/39074/   \n",
       "138               Weedbeer  https://www.beeradvocate.com/beer/profile/32639/   \n",
       "139  WhiteFrontier Brewery  https://www.beeradvocate.com/beer/profile/38648/   \n",
       "\n",
       "     ratings  n_beers                                            address  \\\n",
       "0        NaN        4                     Stüsslingen, 4655\\nSwitzerland   \n",
       "1       3.79        2             Sonnenweg 30\\nKöniz, 3098\\nSwitzerland   \n",
       "2       2.72        9  Route de la Patinoire 15a\\nMorgins, 1875\\nSwit...   \n",
       "3       4.14        9    Chemin de la Biole 10\\nAigle, 1860\\nSwitzerland   \n",
       "4       3.67        4                        Schlieren, 8952,Switzerland   \n",
       "..       ...      ...                                                ...   \n",
       "135      NaN        2          Voltastrasse 30\\nBasel, 4056\\nSwitzerland   \n",
       "136      NaN        0   Florhofstrasse 13\\nWadenswill, 8820\\nSwitzerland   \n",
       "137      NaN        8    Hauptstrasse 33/35\\nTrübbach, 9477\\nSwitzerland   \n",
       "138     3.00        1      Chemin de l'Etraz 14\\nOrbe, 1350\\nSwitzerland   \n",
       "139     3.79       10       Route des Creux 1\\nBagnes, 1936\\nSwitzerland   \n",
       "\n",
       "            telephone  \n",
       "0                      \n",
       "1     +41 77 450 7655  \n",
       "2     +41 78 797 1875  \n",
       "3    +41 79 235 56 49  \n",
       "4                      \n",
       "..                ...  \n",
       "135  +41 61 690 91 29  \n",
       "136       01 783 9392  \n",
       "137  +41 78 878 19 52  \n",
       "138  +41 21 312 68 21  \n",
       "139  +41 79 939 11 73  \n",
       "\n",
       "[140 rows x 6 columns]"
      ]
     },
     "execution_count": 305,
     "metadata": {},
     "output_type": "execute_result"
    }
   ],
   "source": [
    "breweries_ch_df"
   ]
  },
  {
   "cell_type": "code",
   "execution_count": 241,
   "metadata": {},
   "outputs": [],
   "source": [
    "with open('test2.html','bw') as f:\n",
    "    f.write(ch_page1.content)"
   ]
  },
  {
   "cell_type": "code",
   "execution_count": 11,
   "metadata": {},
   "outputs": [],
   "source": [
    "soup_ch1 = BeautifulSoup(ch_page1.content)"
   ]
  },
  {
   "cell_type": "code",
   "execution_count": 12,
   "metadata": {},
   "outputs": [
    {
     "data": {
      "text/plain": [
       "'/beer/profile/41488/'"
      ]
     },
     "execution_count": 12,
     "metadata": {},
     "output_type": "execute_result"
    }
   ],
   "source": [
    "list_ch1 = soup_ch1.find_all(href=lambda x: x and x.startswith('/beer/profile/'))\n",
    "list_ch1[0]['href']"
   ]
  },
  {
   "cell_type": "code",
   "execution_count": 254,
   "metadata": {},
   "outputs": [
    {
     "data": {
      "text/plain": [
       "[{'name': '4655 Brewing Company',\n",
       "  'link': 'https://www.beeradvocate.com/beer/profile/41488/',\n",
       "  'ratings': 3.79,\n",
       "  'n_beers': 2,\n",
       "  'address': 'Stüsslingen, 4655\\nSwitzerland',\n",
       "  'telephone': ''},\n",
       " {'name': '523',\n",
       "  'link': 'https://www.beeradvocate.com/beer/profile/44206/',\n",
       "  'ratings': 3.79,\n",
       "  'n_beers': 2,\n",
       "  'address': 'Sonnenweg 30\\nKöniz, 3098\\nSwitzerland',\n",
       "  'telephone': '+41 77 450 7655'},\n",
       " {'name': '7Peaks Brasserie',\n",
       "  'link': 'https://www.beeradvocate.com/beer/profile/39040/',\n",
       "  'ratings': 3.79,\n",
       "  'n_beers': 2,\n",
       "  'address': 'Route de la Patinoire 15a\\nMorgins, 1875\\nSwitzerland',\n",
       "  'telephone': '+41 78 797 1875'},\n",
       " {'name': 'À tue-tête',\n",
       "  'link': 'https://www.beeradvocate.com/beer/profile/52843/',\n",
       "  'ratings': 3.79,\n",
       "  'n_beers': 2,\n",
       "  'address': 'Chemin de la Biole 10\\nAigle, 1860\\nSwitzerland',\n",
       "  'telephone': '+41 79 235 56 49'},\n",
       " {'name': 'Ahoi Bier',\n",
       "  'link': 'https://www.beeradvocate.com/beer/profile/42305/',\n",
       "  'ratings': 3.79,\n",
       "  'n_beers': 2,\n",
       "  'address': 'Schlieren, 8952,Switzerland',\n",
       "  'telephone': ''},\n",
       " {'name': 'Aktienbrauerei Flims Surselva AG',\n",
       "  'link': 'https://www.beeradvocate.com/beer/profile/20175/',\n",
       "  'ratings': 3.79,\n",
       "  'n_beers': 2,\n",
       "  'address': 'Waldhaus\\nFlims Waldhaus, 7018\\nSwitzerland',\n",
       "  'telephone': '41 81 928 14 00'},\n",
       " {'name': 'All Bar One',\n",
       "  'link': 'https://www.beeradvocate.com/beer/profile/32419/',\n",
       "  'ratings': 3.79,\n",
       "  'n_beers': 2,\n",
       "  'address': 'Steinenvorstadt 37\\nBasel, 4051\\nSwitzerland',\n",
       "  'telephone': '+41 61 281 87 00'},\n",
       " {'name': 'Altes Tramdepot',\n",
       "  'link': 'https://www.beeradvocate.com/beer/profile/4558/',\n",
       "  'ratings': 3.79,\n",
       "  'n_beers': 2,\n",
       "  'address': 'Grosser Muristalden 6\\nBern, 3006\\nSwitzerland',\n",
       "  'telephone': '+41 31 368 14 15'},\n",
       " {'name': 'Bachweg Brewing',\n",
       "  'link': 'https://www.beeradvocate.com/beer/profile/47793/',\n",
       "  'ratings': 3.79,\n",
       "  'n_beers': 2,\n",
       "  'address': 'Bachweg 3\\nMenzingen, 6313\\nSwitzerland',\n",
       "  'telephone': ''},\n",
       " {'name': 'Barbière',\n",
       "  'link': 'https://www.beeradvocate.com/beer/profile/39041/',\n",
       "  'ratings': 3.79,\n",
       "  'n_beers': 2,\n",
       "  'address': 'Breitenrainplatz 40\\nBern, 3014\\nSwitzerland',\n",
       "  'telephone': '+41 31 536 70 77'},\n",
       " {'name': 'Baselbieter Brauerei',\n",
       "  'link': 'https://www.beeradvocate.com/beer/profile/36668/',\n",
       "  'ratings': 3.79,\n",
       "  'n_beers': 2,\n",
       "  'address': 'Hauptstrasse 30a\\nZiefen, 4417\\nSwitzerland',\n",
       "  'telephone': '+41 61 931 12 66'},\n",
       " {'name': 'Benedix Klosterbräu',\n",
       "  'link': 'https://www.beeradvocate.com/beer/profile/39076/',\n",
       "  'ratings': 3.79,\n",
       "  'n_beers': 2,\n",
       "  'address': 'Stygstrasse 15\\nRheinau, 8462\\nSwitzerland',\n",
       "  'telephone': '+41 52 319 00 08'},\n",
       " {'name': 'BFM (Brasserie des Franches-Montagnes)',\n",
       "  'link': 'https://www.beeradvocate.com/beer/profile/2958/',\n",
       "  'ratings': 3.79,\n",
       "  'n_beers': 2,\n",
       "  'address': 'Chemin des Buissons 8\\nSaignelégier, 2350\\nSwitzerland',\n",
       "  'telephone': '+41 32 951 26 26'},\n",
       " {'name': 'Bier Factory Rapperswil AG',\n",
       "  'link': 'https://www.beeradvocate.com/beer/profile/31982/',\n",
       "  'ratings': 3.79,\n",
       "  'n_beers': 2,\n",
       "  'address': 'Schönbodenstrasse 3\\nRapperswil-Jona, 8640\\nSwitzerland',\n",
       "  'telephone': '+41 (0)55 210 9622'},\n",
       " {'name': 'Bière Buse',\n",
       "  'link': 'https://www.beeradvocate.com/beer/profile/30099/',\n",
       "  'ratings': 3.79,\n",
       "  'n_beers': 2,\n",
       "  'address': 'Croix-du-Péage 1\\nCentre New Adoc\\nVillars-Sainte-Croix, 1029\\nSwitzerland',\n",
       "  'telephone': '+41 (21) 634 90 80'},\n",
       " {'name': 'Bières&Co Brewery',\n",
       "  'link': 'https://www.beeradvocate.com/beer/profile/39042/',\n",
       "  'ratings': 3.79,\n",
       "  'n_beers': 2,\n",
       "  'address': 'Ch. du Ruisselet 1\\nCorgémont, 2606\\nSwitzerland',\n",
       "  'telephone': '+41 78 831 76 19'},\n",
       " {'name': 'Birra San Rocco',\n",
       "  'link': 'https://www.beeradvocate.com/beer/profile/39073/',\n",
       "  'ratings': 3.79,\n",
       "  'n_beers': 2,\n",
       "  'address': 'Salei\\nIsorno, 6661\\nSwitzerland',\n",
       "  'telephone': '+41 79 822 56 34'},\n",
       " {'name': 'Birrificio Sottobisio',\n",
       "  'link': 'https://www.beeradvocate.com/beer/profile/39058/',\n",
       "  'ratings': 3.79,\n",
       "  'n_beers': 2,\n",
       "  'address': 'Via Sotto Bisio 3A\\nBalerna, 6828\\nSwitzerland',\n",
       "  'telephone': '+41 91 682 12 35'},\n",
       " {'name': 'Birrificio Ticinese',\n",
       "  'link': 'https://www.beeradvocate.com/beer/profile/24571/',\n",
       "  'ratings': 3.79,\n",
       "  'n_beers': 2,\n",
       "  'address': 'Via Vite 5\\nStabio, 6855\\nSwitzerland',\n",
       "  'telephone': '+41 (0)91 695 41 90'},\n",
       " {'name': 'Bîrtel',\n",
       "  'link': 'https://www.beeradvocate.com/beer/profile/39047/',\n",
       "  'ratings': 3.79,\n",
       "  'n_beers': 2,\n",
       "  'address': 'Dornacherstrasse 307\\nBasel, 4053\\nSwitzerland',\n",
       "  'telephone': '+41 76 469 96 87'}]"
      ]
     },
     "execution_count": 254,
     "metadata": {},
     "output_type": "execute_result"
    }
   ],
   "source": [
    "breweries"
   ]
  },
  {
   "cell_type": "code",
   "execution_count": 167,
   "metadata": {},
   "outputs": [
    {
     "data": {
      "text/plain": [
       "'Sonnenweg 30\\nKöniz\\n, 3098\\nSwitzerland\\n+41 77 450 7655\\nBrewery'"
      ]
     },
     "execution_count": 167,
     "metadata": {},
     "output_type": "execute_result"
    }
   ],
   "source": [
    "table_rows[6].get_text(separator='\\n')"
   ]
  },
  {
   "cell_type": "code",
   "execution_count": 190,
   "metadata": {},
   "outputs": [
    {
     "data": {
      "text/plain": [
       "['\\xa0', 'Stüsslingen', ', 4655', 'Switzerland']"
      ]
     },
     "execution_count": 190,
     "metadata": {},
     "output_type": "execute_result"
    }
   ],
   "source": [
    "table_rows[6].find('td').get_text(separator='\\n').split('\\n')"
   ]
  },
  {
   "cell_type": "code",
   "execution_count": 112,
   "metadata": {},
   "outputs": [
    {
     "data": {
      "text/plain": [
       "('/beer/profile/41488/', '4655 Brewing Company')"
      ]
     },
     "execution_count": 112,
     "metadata": {},
     "output_type": "execute_result"
    }
   ],
   "source": [
    "brew_row = table_rows[3].find_all('td')\n",
    "brew = brew_row[0].find('a')\n",
    "link = brew['href']\n",
    "name = brew.text\n",
    "(link, name)"
   ]
  },
  {
   "cell_type": "code",
   "execution_count": 231,
   "metadata": {},
   "outputs": [
    {
     "data": {
      "text/plain": [
       "{'address': 'Chemin de la Biole 10\\nAigle, 1860\\nSwitzerland',\n",
       " 'telephone': '+41 79 235 56 49'}"
      ]
     },
     "execution_count": 231,
     "metadata": {},
     "output_type": "execute_result"
    }
   ],
   "source": [
    "from bs4 import NavigableString\n",
    "table_rows = soup_ch1.find('table').find_all('tr')\n",
    "\n",
    "\n",
    "address_row = table_rows[10].find('td')\n",
    "\n",
    "list_ad = list(address_row.children)\n",
    "treat_address(list_ad)\n"
   ]
  },
  {
   "cell_type": "code",
   "execution_count": 239,
   "metadata": {},
   "outputs": [
    {
     "data": {
      "text/plain": [
       "['3.79', '2']"
      ]
     },
     "execution_count": 239,
     "metadata": {},
     "output_type": "execute_result"
    }
   ],
   "source": [
    "[x.text for x in soup_ch1.find('table').find_all('tr')[5].find_all('td')[-2:]]"
   ]
  },
  {
   "cell_type": "code",
   "execution_count": 252,
   "metadata": {},
   "outputs": [
    {
     "data": {
      "text/plain": [
       "{'name': '523',\n",
       " 'link': 'https://www.beeradvocate.com/beer/profile/44206/',\n",
       " 'ratings': 3.79,\n",
       " 'n_beers': 2}"
      ]
     },
     "execution_count": 252,
     "metadata": {},
     "output_type": "execute_result"
    }
   ],
   "source": [
    "brewery_extract(soup_ch1.find('table').find_all('tr')[5])"
   ]
  },
  {
   "cell_type": "code",
   "execution_count": 246,
   "metadata": {},
   "outputs": [
    {
     "data": {
      "text/plain": [
       "<td align=\"left\" colspan=\"2\" valign=\"top\"><a href=\"/beer/profile/44206/\"><b>523</b></a></td>"
      ]
     },
     "execution_count": 246,
     "metadata": {},
     "output_type": "execute_result"
    }
   ],
   "source": [
    "soup_ch1.find('table').find_all('tr')[5].find_all('td')[0]"
   ]
  },
  {
   "cell_type": "code",
   "execution_count": 39,
   "metadata": {},
   "outputs": [
    {
     "data": {
      "text/plain": [
       "['523', '-', '-', '3.79', '2']"
      ]
     },
     "execution_count": 39,
     "metadata": {},
     "output_type": "execute_result"
    }
   ],
   "source": [
    "table[5]"
   ]
  },
  {
   "cell_type": "code",
   "execution_count": 257,
   "metadata": {},
   "outputs": [],
   "source": [
    "list_ch1_conv = list(map(brewery_extract, list_ch1))"
   ]
  },
  {
   "cell_type": "code",
   "execution_count": 260,
   "metadata": {},
   "outputs": [],
   "source": [
    "url_base = 'https://www.beeradvocate.com'\n",
    "link_brewery = url_base + list_ch1_conv[0][1]"
   ]
  },
  {
   "cell_type": "code",
   "execution_count": 263,
   "metadata": {},
   "outputs": [],
   "source": [
    "brew_1 = s.get(link_brewery)\n",
    "brew_1_s = BeautifulSoup(brew_1.content)"
   ]
  },
  {
   "cell_type": "code",
   "execution_count": 264,
   "metadata": {},
   "outputs": [],
   "source": [
    "list_beers_brew_1 = brew_1_s.find_all(href=lambda x: x and x.startswith('/beer/profile/'))"
   ]
  },
  {
   "cell_type": "code",
   "execution_count": 265,
   "metadata": {},
   "outputs": [
    {
     "data": {
      "text/plain": [
       "[<a href=\"/beer/profile/41488/?view=beers&amp;show=arc\">Archived (5)</a>,\n",
       " <a href=\"/beer/profile/41488/?view=beers&amp;show=all\">All</a>,\n",
       " <a href=\"/beer/profile/41488/?view=beers&amp;show=feed\">Feed</a>,\n",
       " <a href=\"/beer/profile/41488/219290/\"><b>Black Swan Coffee Stout</b></a>,\n",
       " <a href=\"/beer/profile/41488/183565/\"><b>Rain Drop Pale Ale</b></a>,\n",
       " <a href=\"/beer/profile/41488/196255/\"><b>Retired Bear Amber Ale</b></a>,\n",
       " <a href=\"/beer/profile/41488/187713/\"><b>White Swan Amarillo Wheat</b></a>,\n",
       " <a href=\"/beer/profile/41488/#XenForo\"><i class=\"uix_icon uix_icon-jumpToTop\"></i> <span class=\"uix_hide\">Top</span></a>]"
      ]
     },
     "execution_count": 265,
     "metadata": {},
     "output_type": "execute_result"
    }
   ],
   "source": [
    "list_beers_brew_1"
   ]
  },
  {
   "cell_type": "code",
   "execution_count": 297,
   "metadata": {},
   "outputs": [
    {
     "data": {
      "text/plain": [
       "nan"
      ]
     },
     "execution_count": 297,
     "metadata": {},
     "output_type": "execute_result"
    }
   ],
   "source": [
    "float('nan') + 3"
   ]
  },
  {
   "cell_type": "code",
   "execution_count": null,
   "metadata": {},
   "outputs": [],
   "source": []
  }
 ],
 "metadata": {
  "kernelspec": {
   "display_name": "Python 3",
   "language": "python",
   "name": "python3"
  },
  "language_info": {
   "codemirror_mode": {
    "name": "ipython",
    "version": 3
   },
   "file_extension": ".py",
   "mimetype": "text/x-python",
   "name": "python",
   "nbconvert_exporter": "python",
   "pygments_lexer": "ipython3",
   "version": "3.7.5"
  }
 },
 "nbformat": 4,
 "nbformat_minor": 4
}
