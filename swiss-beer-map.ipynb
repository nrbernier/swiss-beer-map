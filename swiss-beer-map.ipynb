{
 "cells": [
  {
   "cell_type": "code",
   "execution_count": 1,
   "metadata": {},
   "outputs": [],
   "source": [
    "import requests\n",
    "from bs4 import BeautifulSoup\n",
    "import numpy as np\n",
    "import timeit\n",
    "\n",
    "import pandas as pd\n",
    "import geopy"
   ]
  },
  {
   "cell_type": "markdown",
   "metadata": {},
   "source": [
    "# Scrape online data"
   ]
  },
  {
   "cell_type": "code",
   "execution_count": 3,
   "metadata": {},
   "outputs": [],
   "source": [
    "URL = 'https://www.beeradvocate.com/beer/profile/2958/87869/'\n",
    "page = requests.get(URL)\n",
    "\n",
    "soup = BeautifulSoup(page.content, 'html.parser')\n"
   ]
  },
  {
   "cell_type": "code",
   "execution_count": 50,
   "metadata": {},
   "outputs": [],
   "source": [
    "res = soup.find(id='info_box')"
   ]
  },
  {
   "cell_type": "code",
   "execution_count": 16,
   "metadata": {},
   "outputs": [],
   "source": [
    "beerstats = soup.find_all(class_='beerstats')"
   ]
  },
  {
   "cell_type": "code",
   "execution_count": 32,
   "metadata": {},
   "outputs": [],
   "source": [
    "bold = res.find_all('b')"
   ]
  },
  {
   "cell_type": "code",
   "execution_count": 33,
   "metadata": {},
   "outputs": [
    {
     "data": {
      "text/plain": [
       "[<b>Beer Geek Stats:</b>,\n",
       " <b>Style:</b>,\n",
       " <b>Belgian Saison</b>,\n",
       " <b>ABV:</b>,\n",
       " <b>5%</b>,\n",
       " <b>Score:</b>,\n",
       " <b>94</b>]"
      ]
     },
     "execution_count": 33,
     "metadata": {},
     "output_type": "execute_result"
    }
   ],
   "source": [
    "bold"
   ]
  },
  {
   "cell_type": "code",
   "execution_count": 57,
   "metadata": {},
   "outputs": [
    {
     "data": {
      "text/plain": [
       "'Belgian Saison'"
      ]
     },
     "execution_count": 57,
     "metadata": {},
     "output_type": "execute_result"
    }
   ],
   "source": [
    "soup.find(title=\"Learn more about this style.\").find('b').text"
   ]
  },
  {
   "cell_type": "code",
   "execution_count": 65,
   "metadata": {},
   "outputs": [
    {
     "data": {
      "text/plain": [
       "'5'"
      ]
     },
     "execution_count": 65,
     "metadata": {},
     "output_type": "execute_result"
    }
   ],
   "source": [
    "soup.find_all(title=\"Percentage of alcohol by volume.\")[-1].find('b').text[:-1]"
   ]
  },
  {
   "cell_type": "code",
   "execution_count": 55,
   "metadata": {},
   "outputs": [
    {
     "data": {
      "text/plain": [
       "'94'"
      ]
     },
     "execution_count": 55,
     "metadata": {},
     "output_type": "execute_result"
    }
   ],
   "source": [
    "soup.find(class_=\"ba-score Tooltip\").text"
   ]
  },
  {
   "cell_type": "code",
   "execution_count": 54,
   "metadata": {},
   "outputs": [
    {
     "data": {
      "text/plain": [
       "'4.26'"
      ]
     },
     "execution_count": 54,
     "metadata": {},
     "output_type": "execute_result"
    }
   ],
   "source": [
    "soup.find(class_=\"ba-ravg Tooltip\").text"
   ]
  },
  {
   "cell_type": "code",
   "execution_count": 60,
   "metadata": {},
   "outputs": [
    {
     "data": {
      "text/plain": [
       "'BFM (Brasserie des Franches-Montagnes)'"
      ]
     },
     "execution_count": 60,
     "metadata": {},
     "output_type": "execute_result"
    }
   ],
   "source": [
    "soup.find(title=\"View more beers and info from this brewery.\").text"
   ]
  },
  {
   "cell_type": "code",
   "execution_count": 64,
   "metadata": {},
   "outputs": [
    {
     "data": {
      "text/plain": [
       "'Switzerland'"
      ]
     },
     "execution_count": 64,
     "metadata": {},
     "output_type": "execute_result"
    }
   ],
   "source": [
    "soup.find_all(href=lambda x: x and x.startswith('/place/directory/'))[-1].text"
   ]
  },
  {
   "cell_type": "code",
   "execution_count": 75,
   "metadata": {},
   "outputs": [
    {
     "data": {
      "text/plain": [
       "<div class=\"titleBar\">\n",
       "<h1>XV (√225 Saison)<br/><span style=\"color:#999999; font-size:0.75em;\">BFM (Brasserie des Franches-Montagnes)</span></h1>\n",
       "</div>"
      ]
     },
     "execution_count": 75,
     "metadata": {},
     "output_type": "execute_result"
    }
   ],
   "source": [
    "soup.find(class_=\"titleBar\")"
   ]
  },
  {
   "cell_type": "code",
   "execution_count": 81,
   "metadata": {},
   "outputs": [
    {
     "data": {
      "text/plain": [
       "'XV (√225 Saison)'"
      ]
     },
     "execution_count": 81,
     "metadata": {},
     "output_type": "execute_result"
    }
   ],
   "source": [
    "soup.find('title').text.split('|')[0].strip()"
   ]
  },
  {
   "cell_type": "code",
   "execution_count": 94,
   "metadata": {},
   "outputs": [],
   "source": [
    "def parse_beer_page(url):\n",
    "    page = requests.get(url)\n",
    "    soup = BeautifulSoup(page.content, 'html.parser')\n",
    "    \n",
    "    name = soup.find('title').text.split('|')[0].strip()\n",
    "    style = soup.find(title=\"Learn more about this style.\").find('b').text\n",
    "    alc_perc = float(soup.find_all(title=\"Percentage of alcohol by volume.\")[-1].find('b').text[:-1])\n",
    "    \n",
    "    score_temp = soup.find(class_=\"ba-score Tooltip\")\n",
    "    if score_temp is not None:\n",
    "        score = float(score_temp.text)\n",
    "    else: score = np.NaN\n",
    "    rating = float(soup.find(class_=\"ba-ravg Tooltip\").text)\n",
    "    brewery = soup.find(title=\"View more beers and info from this brewery.\").text\n",
    "    country = soup.find_all(href=lambda x: x and x.startswith('/place/directory/'))[-1].text\n",
    "    \n",
    "    return dict(name=name, style=style, alc_perc=alc_perc, \n",
    "                score=score, rating=rating, brewery=brewery, country=country)\n",
    "    "
   ]
  },
  {
   "cell_type": "code",
   "execution_count": 165,
   "metadata": {},
   "outputs": [],
   "source": [
    "def get_beer_country(url, session=requests):\n",
    "    try:\n",
    "        page = session.get(url)\n",
    "        soup = BeautifulSoup(page.content, 'html.parser')\n",
    "        country = soup.find_all(href=lambda x: x and x.startswith('/place/directory/'))[-1].text\n",
    "    except:\n",
    "        country = ''\n",
    "    return country"
   ]
  },
  {
   "cell_type": "code",
   "execution_count": 99,
   "metadata": {},
   "outputs": [
    {
     "data": {
      "text/plain": [
       "{'name': 'Dark Ale',\n",
       " 'style': 'American Brown Ale',\n",
       " 'alc_perc': 4.0,\n",
       " 'score': nan,\n",
       " 'rating': 3.44,\n",
       " 'brewery': 'Black Duck Brewery',\n",
       " 'country': 'Australia'}"
      ]
     },
     "execution_count": 99,
     "metadata": {},
     "output_type": "execute_result"
    }
   ],
   "source": [
    "parse_beer_page('https://www.beeradvocate.com/beer/profile/2385/87878/')"
   ]
  },
  {
   "cell_type": "code",
   "execution_count": 106,
   "metadata": {},
   "outputs": [
    {
     "data": {
      "text/plain": [
       "'United States'"
      ]
     },
     "execution_count": 106,
     "metadata": {},
     "output_type": "execute_result"
    }
   ],
   "source": [
    "get_beer_country('https://www.beeradvocate.com/beer/profile/2/3/')"
   ]
  },
  {
   "cell_type": "code",
   "execution_count": 109,
   "metadata": {},
   "outputs": [
    {
     "name": "stdout",
     "output_type": "stream",
     "text": [
      "1\n",
      "2\n",
      "22\n",
      "25\n",
      "53\n",
      "57\n",
      "60\n",
      "64\n",
      "70\n",
      "77\n",
      "91\n",
      "98\n"
     ]
    }
   ],
   "source": [
    "countries = []\n",
    "url = 'https://www.beeradvocate.com/beer/profile/2/{}/'\n",
    "for i in range(100):\n",
    "    try:\n",
    "        countries.append(get_beer_country(url.format(i)))\n",
    "    except:\n",
    "        print(i)\n",
    "    "
   ]
  },
  {
   "cell_type": "code",
   "execution_count": 167,
   "metadata": {},
   "outputs": [
    {
     "data": {
      "text/plain": [
       "3.777793766999821"
      ]
     },
     "execution_count": 167,
     "metadata": {},
     "output_type": "execute_result"
    }
   ],
   "source": [
    "s = requests.Session()\n",
    "timeit.timeit(lambda: get_beer_country(url.format(15002),s), number=5)"
   ]
  },
  {
   "cell_type": "code",
   "execution_count": 146,
   "metadata": {},
   "outputs": [
    {
     "data": {
      "text/plain": [
       "0.8501878259994555"
      ]
     },
     "execution_count": 146,
     "metadata": {},
     "output_type": "execute_result"
    }
   ],
   "source": [
    "timeit.timeit(lambda: requests.head(url.format(19)), number=1)"
   ]
  },
  {
   "cell_type": "code",
   "execution_count": 147,
   "metadata": {},
   "outputs": [
    {
     "data": {
      "text/plain": [
       "<Response [301]>"
      ]
     },
     "execution_count": 147,
     "metadata": {},
     "output_type": "execute_result"
    }
   ],
   "source": [
    "requests.head(url.format(19))"
   ]
  },
  {
   "cell_type": "code",
   "execution_count": 149,
   "metadata": {},
   "outputs": [
    {
     "data": {
      "text/plain": [
       "41.666666666666664"
      ]
     },
     "execution_count": 149,
     "metadata": {},
     "output_type": "execute_result"
    }
   ],
   "source": [
    "1.5* 100000 / 3600"
   ]
  },
  {
   "cell_type": "markdown",
   "metadata": {},
   "source": [
    "## Check parallel requests"
   ]
  },
  {
   "cell_type": "code",
   "execution_count": 160,
   "metadata": {
    "collapsed": true,
    "jupyter": {
     "outputs_hidden": true
    }
   },
   "outputs": [
    {
     "name": "stdout",
     "output_type": "stream",
     "text": [
      "one is done\n",
      "one is done\n",
      "one is done\n",
      "one is done\n",
      "one is done\n",
      "one is done\n",
      "one is done\n",
      "one is done\n",
      "one is done\n",
      "one is done\n",
      "one is done\n",
      "one is done\n",
      "one is done\n",
      "one is done\n",
      "one is done\n",
      "one is done\n",
      "one is done\n",
      "one is done\n",
      "one is done\n",
      "one is done\n",
      "one is done\n",
      "one is done\n",
      "one is done\n",
      "one is done\n",
      "one is done\n",
      "one is done\n",
      "one is done\n",
      "one is done\n",
      "one is done\n",
      "one is done\n",
      "one is done\n",
      "one is done\n",
      "one is done\n",
      "one is done\n",
      "one is done\n",
      "one is done\n",
      "one is done\n",
      "one is done\n",
      "one is done\n",
      "one is done\n",
      "one is done\n",
      "one is done\n",
      "one is done\n",
      "one is done\n",
      "one is done\n",
      "one is done\n",
      "one is done\n",
      "one is done\n",
      "one is done\n",
      "one is done\n"
     ]
    },
    {
     "data": {
      "text/plain": [
       "60.20601609700043"
      ]
     },
     "execution_count": 160,
     "metadata": {},
     "output_type": "execute_result"
    }
   ],
   "source": [
    "import eventlet\n",
    "\n",
    "urls = [url.format(i) for i in range(50)]\n",
    "pool = eventlet.GreenPool(50)\n",
    "\n",
    "countries = []\n",
    "def pool_work():\n",
    "    for country in pool.imap(get_beer_country, urls):\n",
    "        countries.append(country)\n",
    "        print('one is done')\n",
    "\n",
    "timeit.timeit(pool_work, number=1)"
   ]
  },
  {
   "cell_type": "code",
   "execution_count": 154,
   "metadata": {
    "collapsed": true,
    "jupyter": {
     "outputs_hidden": true
    }
   },
   "outputs": [
    {
     "data": {
      "text/plain": [
       "['https://www.beeradvocate.com/beer/profile/2/3/',\n",
       " 'https://www.beeradvocate.com/beer/profile/2/4/',\n",
       " 'https://www.beeradvocate.com/beer/profile/2/5/',\n",
       " 'https://www.beeradvocate.com/beer/profile/2/6/',\n",
       " 'https://www.beeradvocate.com/beer/profile/2/7/',\n",
       " 'https://www.beeradvocate.com/beer/profile/2/8/',\n",
       " 'https://www.beeradvocate.com/beer/profile/2/9/',\n",
       " 'https://www.beeradvocate.com/beer/profile/2/10/',\n",
       " 'https://www.beeradvocate.com/beer/profile/2/11/',\n",
       " 'https://www.beeradvocate.com/beer/profile/2/12/',\n",
       " 'https://www.beeradvocate.com/beer/profile/2/13/',\n",
       " 'https://www.beeradvocate.com/beer/profile/2/14/',\n",
       " 'https://www.beeradvocate.com/beer/profile/2/15/',\n",
       " 'https://www.beeradvocate.com/beer/profile/2/16/',\n",
       " 'https://www.beeradvocate.com/beer/profile/2/17/',\n",
       " 'https://www.beeradvocate.com/beer/profile/2/18/',\n",
       " 'https://www.beeradvocate.com/beer/profile/2/19/',\n",
       " 'https://www.beeradvocate.com/beer/profile/2/20/',\n",
       " 'https://www.beeradvocate.com/beer/profile/2/21/',\n",
       " 'https://www.beeradvocate.com/beer/profile/2/22/',\n",
       " 'https://www.beeradvocate.com/beer/profile/2/23/',\n",
       " 'https://www.beeradvocate.com/beer/profile/2/24/',\n",
       " 'https://www.beeradvocate.com/beer/profile/2/25/',\n",
       " 'https://www.beeradvocate.com/beer/profile/2/26/',\n",
       " 'https://www.beeradvocate.com/beer/profile/2/27/',\n",
       " 'https://www.beeradvocate.com/beer/profile/2/28/',\n",
       " 'https://www.beeradvocate.com/beer/profile/2/29/',\n",
       " 'https://www.beeradvocate.com/beer/profile/2/30/',\n",
       " 'https://www.beeradvocate.com/beer/profile/2/31/',\n",
       " 'https://www.beeradvocate.com/beer/profile/2/32/',\n",
       " 'https://www.beeradvocate.com/beer/profile/2/33/',\n",
       " 'https://www.beeradvocate.com/beer/profile/2/34/',\n",
       " 'https://www.beeradvocate.com/beer/profile/2/35/',\n",
       " 'https://www.beeradvocate.com/beer/profile/2/36/',\n",
       " 'https://www.beeradvocate.com/beer/profile/2/37/',\n",
       " 'https://www.beeradvocate.com/beer/profile/2/38/',\n",
       " 'https://www.beeradvocate.com/beer/profile/2/39/',\n",
       " 'https://www.beeradvocate.com/beer/profile/2/40/',\n",
       " 'https://www.beeradvocate.com/beer/profile/2/41/',\n",
       " 'https://www.beeradvocate.com/beer/profile/2/42/',\n",
       " 'https://www.beeradvocate.com/beer/profile/2/43/',\n",
       " 'https://www.beeradvocate.com/beer/profile/2/44/',\n",
       " 'https://www.beeradvocate.com/beer/profile/2/45/',\n",
       " 'https://www.beeradvocate.com/beer/profile/2/46/',\n",
       " 'https://www.beeradvocate.com/beer/profile/2/47/',\n",
       " 'https://www.beeradvocate.com/beer/profile/2/48/',\n",
       " 'https://www.beeradvocate.com/beer/profile/2/49/']"
      ]
     },
     "execution_count": 154,
     "metadata": {},
     "output_type": "execute_result"
    }
   ],
   "source": [
    "urls"
   ]
  },
  {
   "cell_type": "code",
   "execution_count": 169,
   "metadata": {},
   "outputs": [
    {
     "data": {
      "text/plain": [
       "0.007156055999985256"
      ]
     },
     "execution_count": 169,
     "metadata": {},
     "output_type": "execute_result"
    }
   ],
   "source": [
    "from concurrent.futures import ThreadPoolExecutor\n",
    "from requests_futures.sessions import FuturesSession\n",
    "\n",
    "session = FuturesSession(max_workers=5)\n",
    "cs = []\n",
    "timeit.timeit(lambda: cs.append(get_beer_country(url.format(15002),session)), number=5)"
   ]
  },
  {
   "cell_type": "code",
   "execution_count": 172,
   "metadata": {},
   "outputs": [
    {
     "data": {
      "text/plain": [
       "['', '', '', '', '']"
      ]
     },
     "execution_count": 172,
     "metadata": {},
     "output_type": "execute_result"
    }
   ],
   "source": [
    "cs"
   ]
  },
  {
   "cell_type": "code",
   "execution_count": 175,
   "metadata": {},
   "outputs": [],
   "source": [
    "from concurrent.futures import as_completed\n",
    "from requests_futures.sessions import FuturesSession\n",
    "\n",
    "def get_beer_countries_parall(urls):\n",
    "    countries = []\n",
    "    session = FuturesSession(max_workers=5)\n",
    "    \n",
    "    futures = [session.get(url) for url in urls]\n",
    "    for future in as_completed(futures):\n",
    "        try:\n",
    "            resp = future.result()\n",
    "            soup = BeautifulSoup(resp.content, 'html.parser')\n",
    "            country = soup.find_all(href=lambda x: x and x.startswith('/place/directory/'))[-1].text\n",
    "            countries.append(country)\n",
    "        except:\n",
    "            pass\n",
    "    \n",
    "    return countries"
   ]
  },
  {
   "cell_type": "code",
   "execution_count": 187,
   "metadata": {},
   "outputs": [],
   "source": [
    "def get_swiss_beers_parall(urls):\n",
    "    swissbeers = []\n",
    "    session = FuturesSession(max_workers=5)\n",
    "    \n",
    "    futures = [session.get(url) for url in urls]\n",
    "    for future in as_completed(futures):\n",
    "        try:\n",
    "            resp = future.result()\n",
    "            soup = BeautifulSoup(resp.content, 'html.parser')\n",
    "            country = soup.find_all(href=lambda x: x and x.startswith('/place/directory/'))[-1].text\n",
    "            if country == 'Switzerland':\n",
    "                swissbeers.append(resp.url)\n",
    "        except:\n",
    "            pass\n",
    "    \n",
    "    return swissbeers"
   ]
  },
  {
   "cell_type": "code",
   "execution_count": 176,
   "metadata": {},
   "outputs": [
    {
     "data": {
      "text/plain": [
       "6.967507653000212"
      ]
     },
     "execution_count": 176,
     "metadata": {},
     "output_type": "execute_result"
    }
   ],
   "source": [
    "urls = [url.format(i) for i in range(50)]\n",
    "\n",
    "timeit.timeit(lambda: get_beer_countries_parall(urls), number=1)"
   ]
  },
  {
   "cell_type": "code",
   "execution_count": 184,
   "metadata": {},
   "outputs": [],
   "source": [
    "session = FuturesSession(max_workers=5)\n",
    "\n",
    "future = session.get(url.format(19))"
   ]
  },
  {
   "cell_type": "code",
   "execution_count": 185,
   "metadata": {},
   "outputs": [],
   "source": [
    "resp = future.result()"
   ]
  },
  {
   "cell_type": "code",
   "execution_count": 186,
   "metadata": {},
   "outputs": [
    {
     "data": {
      "text/plain": [
       "'https://www.beeradvocate.com/beer/profile/9/19/'"
      ]
     },
     "execution_count": 186,
     "metadata": {},
     "output_type": "execute_result"
    }
   ],
   "source": [
    "resp.url"
   ]
  },
  {
   "cell_type": "code",
   "execution_count": 188,
   "metadata": {},
   "outputs": [],
   "source": [
    "swiss_beers_urls = get_swiss_beers_parall([url.format(i) for i in range(1000)])"
   ]
  },
  {
   "cell_type": "code",
   "execution_count": 189,
   "metadata": {},
   "outputs": [
    {
     "data": {
      "text/plain": [
       "[]"
      ]
     },
     "execution_count": 189,
     "metadata": {},
     "output_type": "execute_result"
    }
   ],
   "source": [
    "swiss_beers_urls"
   ]
  },
  {
   "cell_type": "code",
   "execution_count": 191,
   "metadata": {},
   "outputs": [
    {
     "data": {
      "text/plain": [
       "64400.00000000001"
      ]
     },
     "execution_count": 191,
     "metadata": {},
     "output_type": "execute_result"
    }
   ],
   "source": [
    "460000 * (7/50)"
   ]
  },
  {
   "cell_type": "code",
   "execution_count": 194,
   "metadata": {},
   "outputs": [
    {
     "data": {
      "text/plain": [
       "12857.142857142855"
      ]
     },
     "execution_count": 194,
     "metadata": {},
     "output_type": "execute_result"
    }
   ],
   "source": [
    "30*60/(7/50)"
   ]
  },
  {
   "cell_type": "code",
   "execution_count": 195,
   "metadata": {
    "collapsed": true,
    "jupyter": {
     "outputs_hidden": true
    }
   },
   "outputs": [
    {
     "ename": "KeyboardInterrupt",
     "evalue": "",
     "output_type": "error",
     "traceback": [
      "\u001b[0;31m---------------------------------------------------------------------------\u001b[0m",
      "\u001b[0;31mKeyboardInterrupt\u001b[0m                         Traceback (most recent call last)",
      "\u001b[0;32m<ipython-input-195-c3fe206295df>\u001b[0m in \u001b[0;36m<module>\u001b[0;34m\u001b[0m\n\u001b[0;32m----> 1\u001b[0;31m \u001b[0mswiss_beers_urls_to12k\u001b[0m \u001b[0;34m=\u001b[0m \u001b[0mget_swiss_beers_parall\u001b[0m\u001b[0;34m(\u001b[0m\u001b[0;34m[\u001b[0m\u001b[0murl\u001b[0m\u001b[0;34m.\u001b[0m\u001b[0mformat\u001b[0m\u001b[0;34m(\u001b[0m\u001b[0mi\u001b[0m\u001b[0;34m)\u001b[0m \u001b[0;32mfor\u001b[0m \u001b[0mi\u001b[0m \u001b[0;32min\u001b[0m \u001b[0mrange\u001b[0m\u001b[0;34m(\u001b[0m\u001b[0;36m12000\u001b[0m\u001b[0;34m)\u001b[0m\u001b[0;34m]\u001b[0m\u001b[0;34m)\u001b[0m\u001b[0;34m\u001b[0m\u001b[0;34m\u001b[0m\u001b[0m\n\u001b[0m",
      "\u001b[0;32m<ipython-input-187-a1643d79ffb1>\u001b[0m in \u001b[0;36mget_swiss_beers_parall\u001b[0;34m(urls)\u001b[0m\n\u001b[1;32m      4\u001b[0m \u001b[0;34m\u001b[0m\u001b[0m\n\u001b[1;32m      5\u001b[0m     \u001b[0mfutures\u001b[0m \u001b[0;34m=\u001b[0m \u001b[0;34m[\u001b[0m\u001b[0msession\u001b[0m\u001b[0;34m.\u001b[0m\u001b[0mget\u001b[0m\u001b[0;34m(\u001b[0m\u001b[0murl\u001b[0m\u001b[0;34m)\u001b[0m \u001b[0;32mfor\u001b[0m \u001b[0murl\u001b[0m \u001b[0;32min\u001b[0m \u001b[0murls\u001b[0m\u001b[0;34m]\u001b[0m\u001b[0;34m\u001b[0m\u001b[0;34m\u001b[0m\u001b[0m\n\u001b[0;32m----> 6\u001b[0;31m     \u001b[0;32mfor\u001b[0m \u001b[0mfuture\u001b[0m \u001b[0;32min\u001b[0m \u001b[0mas_completed\u001b[0m\u001b[0;34m(\u001b[0m\u001b[0mfutures\u001b[0m\u001b[0;34m)\u001b[0m\u001b[0;34m:\u001b[0m\u001b[0;34m\u001b[0m\u001b[0;34m\u001b[0m\u001b[0m\n\u001b[0m\u001b[1;32m      7\u001b[0m         \u001b[0;32mtry\u001b[0m\u001b[0;34m:\u001b[0m\u001b[0;34m\u001b[0m\u001b[0;34m\u001b[0m\u001b[0m\n\u001b[1;32m      8\u001b[0m             \u001b[0mresp\u001b[0m \u001b[0;34m=\u001b[0m \u001b[0mfuture\u001b[0m\u001b[0;34m.\u001b[0m\u001b[0mresult\u001b[0m\u001b[0;34m(\u001b[0m\u001b[0;34m)\u001b[0m\u001b[0;34m\u001b[0m\u001b[0;34m\u001b[0m\u001b[0m\n",
      "\u001b[0;32m/usr/local/Cellar/python/3.7.5/Frameworks/Python.framework/Versions/3.7/lib/python3.7/concurrent/futures/_base.py\u001b[0m in \u001b[0;36mas_completed\u001b[0;34m(fs, timeout)\u001b[0m\n\u001b[1;32m    238\u001b[0m                             len(pending), total_futures))\n\u001b[1;32m    239\u001b[0m \u001b[0;34m\u001b[0m\u001b[0m\n\u001b[0;32m--> 240\u001b[0;31m             \u001b[0mwaiter\u001b[0m\u001b[0;34m.\u001b[0m\u001b[0mevent\u001b[0m\u001b[0;34m.\u001b[0m\u001b[0mwait\u001b[0m\u001b[0;34m(\u001b[0m\u001b[0mwait_timeout\u001b[0m\u001b[0;34m)\u001b[0m\u001b[0;34m\u001b[0m\u001b[0;34m\u001b[0m\u001b[0m\n\u001b[0m\u001b[1;32m    241\u001b[0m \u001b[0;34m\u001b[0m\u001b[0m\n\u001b[1;32m    242\u001b[0m             \u001b[0;32mwith\u001b[0m \u001b[0mwaiter\u001b[0m\u001b[0;34m.\u001b[0m\u001b[0mlock\u001b[0m\u001b[0;34m:\u001b[0m\u001b[0;34m\u001b[0m\u001b[0;34m\u001b[0m\u001b[0m\n",
      "\u001b[0;32m/usr/local/Cellar/python/3.7.5/Frameworks/Python.framework/Versions/3.7/lib/python3.7/threading.py\u001b[0m in \u001b[0;36mwait\u001b[0;34m(self, timeout)\u001b[0m\n\u001b[1;32m    550\u001b[0m             \u001b[0msignaled\u001b[0m \u001b[0;34m=\u001b[0m \u001b[0mself\u001b[0m\u001b[0;34m.\u001b[0m\u001b[0m_flag\u001b[0m\u001b[0;34m\u001b[0m\u001b[0;34m\u001b[0m\u001b[0m\n\u001b[1;32m    551\u001b[0m             \u001b[0;32mif\u001b[0m \u001b[0;32mnot\u001b[0m \u001b[0msignaled\u001b[0m\u001b[0;34m:\u001b[0m\u001b[0;34m\u001b[0m\u001b[0;34m\u001b[0m\u001b[0m\n\u001b[0;32m--> 552\u001b[0;31m                 \u001b[0msignaled\u001b[0m \u001b[0;34m=\u001b[0m \u001b[0mself\u001b[0m\u001b[0;34m.\u001b[0m\u001b[0m_cond\u001b[0m\u001b[0;34m.\u001b[0m\u001b[0mwait\u001b[0m\u001b[0;34m(\u001b[0m\u001b[0mtimeout\u001b[0m\u001b[0;34m)\u001b[0m\u001b[0;34m\u001b[0m\u001b[0;34m\u001b[0m\u001b[0m\n\u001b[0m\u001b[1;32m    553\u001b[0m             \u001b[0;32mreturn\u001b[0m \u001b[0msignaled\u001b[0m\u001b[0;34m\u001b[0m\u001b[0;34m\u001b[0m\u001b[0m\n\u001b[1;32m    554\u001b[0m \u001b[0;34m\u001b[0m\u001b[0m\n",
      "\u001b[0;32m/usr/local/Cellar/python/3.7.5/Frameworks/Python.framework/Versions/3.7/lib/python3.7/threading.py\u001b[0m in \u001b[0;36mwait\u001b[0;34m(self, timeout)\u001b[0m\n\u001b[1;32m    294\u001b[0m         \u001b[0;32mtry\u001b[0m\u001b[0;34m:\u001b[0m    \u001b[0;31m# restore state no matter what (e.g., KeyboardInterrupt)\u001b[0m\u001b[0;34m\u001b[0m\u001b[0;34m\u001b[0m\u001b[0m\n\u001b[1;32m    295\u001b[0m             \u001b[0;32mif\u001b[0m \u001b[0mtimeout\u001b[0m \u001b[0;32mis\u001b[0m \u001b[0;32mNone\u001b[0m\u001b[0;34m:\u001b[0m\u001b[0;34m\u001b[0m\u001b[0;34m\u001b[0m\u001b[0m\n\u001b[0;32m--> 296\u001b[0;31m                 \u001b[0mwaiter\u001b[0m\u001b[0;34m.\u001b[0m\u001b[0macquire\u001b[0m\u001b[0;34m(\u001b[0m\u001b[0;34m)\u001b[0m\u001b[0;34m\u001b[0m\u001b[0;34m\u001b[0m\u001b[0m\n\u001b[0m\u001b[1;32m    297\u001b[0m                 \u001b[0mgotit\u001b[0m \u001b[0;34m=\u001b[0m \u001b[0;32mTrue\u001b[0m\u001b[0;34m\u001b[0m\u001b[0;34m\u001b[0m\u001b[0m\n\u001b[1;32m    298\u001b[0m             \u001b[0;32melse\u001b[0m\u001b[0;34m:\u001b[0m\u001b[0;34m\u001b[0m\u001b[0;34m\u001b[0m\u001b[0m\n",
      "\u001b[0;31mKeyboardInterrupt\u001b[0m: "
     ]
    }
   ],
   "source": [
    "swiss_beers_urls_to12k = get_swiss_beers_parall([url.format(i) for i in range(12000)])"
   ]
  },
  {
   "cell_type": "markdown",
   "metadata": {},
   "source": [
    "## Login to BeerAdvocate"
   ]
  },
  {
   "cell_type": "code",
   "execution_count": 4,
   "metadata": {},
   "outputs": [],
   "source": [
    "s = requests.Session()\n",
    "url_login = 'https://www.beeradvocate.com/community/login/login'\n",
    "with open('ba_credentials','r') as f:\n",
    "    login, password = f.read().splitlines()"
   ]
  },
  {
   "cell_type": "code",
   "execution_count": 5,
   "metadata": {},
   "outputs": [],
   "source": [
    " \n",
    "payload = {'login': login, 'password': password}\n",
    "page = s.post(url_login, data=payload)"
   ]
  },
  {
   "cell_type": "code",
   "execution_count": 277,
   "metadata": {},
   "outputs": [],
   "source": [
    "with open('test.html','bw') as f:\n",
    "    f.write(page.content)"
   ]
  },
  {
   "cell_type": "code",
   "execution_count": 10,
   "metadata": {},
   "outputs": [],
   "source": [
    "url_ch = 'https://www.beeradvocate.com/place/list/?c_id=CH&s_id=0&brewery=Y'\n",
    "url_ch2 = 'https://www.beeradvocate.com/place/list/?start=20&&c_id=CH&brewery=Y&sort=name'\n",
    "ch_page1 = s.get(url_ch)"
   ]
  },
  {
   "cell_type": "code",
   "execution_count": 278,
   "metadata": {},
   "outputs": [],
   "source": [
    "url_ch_gen = 'https://www.beeradvocate.com/place/list/?start={}&&c_id=CH&brewery=Y&sort=name'"
   ]
  },
  {
   "cell_type": "code",
   "execution_count": 281,
   "metadata": {},
   "outputs": [
    {
     "data": {
      "text/plain": [
       "[]"
      ]
     },
     "execution_count": 281,
     "metadata": {},
     "output_type": "execute_result"
    }
   ],
   "source": [
    "ch_end = s.get(url_ch_gen.format(140))\n",
    "soup_ch_end = BeautifulSoup(ch_end.content)\n",
    "list_ch_end = soup_ch_end.find_all(href=lambda x: x and x.startswith('/beer/profile/'))\n",
    "list_ch_end"
   ]
  },
  {
   "cell_type": "code",
   "execution_count": 274,
   "metadata": {},
   "outputs": [],
   "source": [
    "with open('test2.html','bw') as f:\n",
    "    f.write(ch_end.content)"
   ]
  },
  {
   "cell_type": "code",
   "execution_count": 258,
   "metadata": {},
   "outputs": [
    {
     "data": {
      "text/plain": [
       "0"
      ]
     },
     "execution_count": 258,
     "metadata": {},
     "output_type": "execute_result"
    }
   ],
   "source": [
    "len(list_ch_end)"
   ]
  },
  {
   "cell_type": "markdown",
   "metadata": {},
   "source": [
    "## List all CH breweries"
   ]
  },
  {
   "cell_type": "code",
   "execution_count": 298,
   "metadata": {},
   "outputs": [],
   "source": [
    "base_url = 'https://www.beeradvocate.com'\n",
    "def brewery_extract(row):\n",
    "    cols = row.find_all('td')\n",
    "    first_el = cols[0].find('a')\n",
    "    link = base_url +first_el['href']\n",
    "    brewery_name = first_el.text\n",
    "    def treat_dash(text):\n",
    "        if text=='-':\n",
    "            return 'nan'\n",
    "        else:\n",
    "            return text\n",
    "    ratings, nbeers = [treat_dash(x.text) for x in cols[-2:]]\n",
    "    ratings = float(ratings)\n",
    "    nbeers = int(nbeers)\n",
    "    dic = dict(\n",
    "        name = brewery_name, link = link,\n",
    "        ratings = ratings, n_beers = nbeers\n",
    "        )\n",
    "    return dic\n",
    "    "
   ]
  },
  {
   "cell_type": "code",
   "execution_count": 299,
   "metadata": {},
   "outputs": [],
   "source": [
    "def treat_address(list_ad):\n",
    "    ad = ''\n",
    "    for el in list_ad:\n",
    "        if el.name == 'br':\n",
    "            ad += '\\n'\n",
    "        elif el.name == 'a':\n",
    "            ad += el.get_text()\n",
    "        else:\n",
    "            ad += str(el).strip()\n",
    "    ad = ad.split('\\n\\n')\n",
    "    ad = list(map(lambda x: x.strip(), ad))\n",
    "    if len(ad) == 2:\n",
    "        address, tel = ad\n",
    "    else:\n",
    "        address = ad[0]\n",
    "        tel = ''\n",
    "    return dict(address=address, telephone=tel)"
   ]
  },
  {
   "cell_type": "code",
   "execution_count": 302,
   "metadata": {},
   "outputs": [],
   "source": [
    "def breweries_from_page(page):\n",
    "    table_rows = iter(page.find('table').find_all('tr'))\n",
    "    breweries = []\n",
    "    for row in table_rows:\n",
    "        #columns = row.find_all('td')\n",
    "        #table.append([el.text.rstrip() for el in columns])\n",
    "        if row.find(href=lambda x: x and x.startswith('/beer/profile/')):\n",
    "            brew_dic = brewery_extract(row)\n",
    "            address_row = next(table_rows).find('td')\n",
    "            list_ad = list(address_row.children)\n",
    "            brew_dic.update(treat_address(list_ad))\n",
    "            breweries.append(brew_dic)\n",
    "    return breweries"
   ]
  },
  {
   "cell_type": "code",
   "execution_count": 303,
   "metadata": {},
   "outputs": [
    {
     "name": "stdout",
     "output_type": "stream",
     "text": [
      "20\n",
      "40\n",
      "60\n",
      "80\n",
      "100\n",
      "120\n",
      "140\n",
      "160\n"
     ]
    }
   ],
   "source": [
    "s = requests.Session()\n",
    "url_login = 'https://www.beeradvocate.com/community/login/login'\n",
    "\n",
    "with open('ba_credentials','r') as f:\n",
    "    login, password = f.read().splitlines() \n",
    "payload = {'login': login, 'password': password}\n",
    "page = s.post(url_login, data=payload)\n",
    "\n",
    "url_ch_gen = 'https://www.beeradvocate.com/place/list/?start={}&&c_id=CH&brewery=Y&sort=name'\n",
    "start_n = 0\n",
    "search = True\n",
    "breweries_ch = []\n",
    "while search:\n",
    "    brew_page = BeautifulSoup(s.get(url_ch_gen.format(start_n)).content)\n",
    "    more_breweries = brew_page.find_all(href=lambda x: x and x.startswith('/beer/profile/'))\n",
    "    if len(more_breweries) >0 :\n",
    "        breweries_ch += breweries_from_page(brew_page)\n",
    "    else:\n",
    "        search=False\n",
    "    \n",
    "    start_n += 20\n",
    "    print(start_n)\n",
    "    \n"
   ]
  },
  {
   "cell_type": "code",
   "execution_count": 304,
   "metadata": {},
   "outputs": [],
   "source": [
    "breweries_ch_df = pd.DataFrame(breweries_ch)"
   ]
  },
  {
   "cell_type": "code",
   "execution_count": 305,
   "metadata": {},
   "outputs": [
    {
     "data": {
      "text/html": [
       "<div>\n",
       "<style scoped>\n",
       "    .dataframe tbody tr th:only-of-type {\n",
       "        vertical-align: middle;\n",
       "    }\n",
       "\n",
       "    .dataframe tbody tr th {\n",
       "        vertical-align: top;\n",
       "    }\n",
       "\n",
       "    .dataframe thead th {\n",
       "        text-align: right;\n",
       "    }\n",
       "</style>\n",
       "<table border=\"1\" class=\"dataframe\">\n",
       "  <thead>\n",
       "    <tr style=\"text-align: right;\">\n",
       "      <th></th>\n",
       "      <th>name</th>\n",
       "      <th>link</th>\n",
       "      <th>ratings</th>\n",
       "      <th>n_beers</th>\n",
       "      <th>address</th>\n",
       "      <th>telephone</th>\n",
       "    </tr>\n",
       "  </thead>\n",
       "  <tbody>\n",
       "    <tr>\n",
       "      <th>0</th>\n",
       "      <td>4655 Brewing Company</td>\n",
       "      <td>https://www.beeradvocate.com/beer/profile/41488/</td>\n",
       "      <td>NaN</td>\n",
       "      <td>4</td>\n",
       "      <td>Stüsslingen, 4655\\nSwitzerland</td>\n",
       "      <td></td>\n",
       "    </tr>\n",
       "    <tr>\n",
       "      <th>1</th>\n",
       "      <td>523</td>\n",
       "      <td>https://www.beeradvocate.com/beer/profile/44206/</td>\n",
       "      <td>3.79</td>\n",
       "      <td>2</td>\n",
       "      <td>Sonnenweg 30\\nKöniz, 3098\\nSwitzerland</td>\n",
       "      <td>+41 77 450 7655</td>\n",
       "    </tr>\n",
       "    <tr>\n",
       "      <th>2</th>\n",
       "      <td>7Peaks Brasserie</td>\n",
       "      <td>https://www.beeradvocate.com/beer/profile/39040/</td>\n",
       "      <td>2.72</td>\n",
       "      <td>9</td>\n",
       "      <td>Route de la Patinoire 15a\\nMorgins, 1875\\nSwit...</td>\n",
       "      <td>+41 78 797 1875</td>\n",
       "    </tr>\n",
       "    <tr>\n",
       "      <th>3</th>\n",
       "      <td>À tue-tête</td>\n",
       "      <td>https://www.beeradvocate.com/beer/profile/52843/</td>\n",
       "      <td>4.14</td>\n",
       "      <td>9</td>\n",
       "      <td>Chemin de la Biole 10\\nAigle, 1860\\nSwitzerland</td>\n",
       "      <td>+41 79 235 56 49</td>\n",
       "    </tr>\n",
       "    <tr>\n",
       "      <th>4</th>\n",
       "      <td>Ahoi Bier</td>\n",
       "      <td>https://www.beeradvocate.com/beer/profile/42305/</td>\n",
       "      <td>3.67</td>\n",
       "      <td>4</td>\n",
       "      <td>Schlieren, 8952,Switzerland</td>\n",
       "      <td></td>\n",
       "    </tr>\n",
       "    <tr>\n",
       "      <th>...</th>\n",
       "      <td>...</td>\n",
       "      <td>...</td>\n",
       "      <td>...</td>\n",
       "      <td>...</td>\n",
       "      <td>...</td>\n",
       "      <td>...</td>\n",
       "    </tr>\n",
       "    <tr>\n",
       "      <th>135</th>\n",
       "      <td>Volta Bräu</td>\n",
       "      <td>https://www.beeradvocate.com/beer/profile/39036/</td>\n",
       "      <td>NaN</td>\n",
       "      <td>2</td>\n",
       "      <td>Voltastrasse 30\\nBasel, 4056\\nSwitzerland</td>\n",
       "      <td>+41 61 690 91 29</td>\n",
       "    </tr>\n",
       "    <tr>\n",
       "      <th>136</th>\n",
       "      <td>Wadi-Brau-Huss AG</td>\n",
       "      <td>https://www.beeradvocate.com/beer/profile/9378/</td>\n",
       "      <td>NaN</td>\n",
       "      <td>0</td>\n",
       "      <td>Florhofstrasse 13\\nWadenswill, 8820\\nSwitzerland</td>\n",
       "      <td>01 783 9392</td>\n",
       "    </tr>\n",
       "    <tr>\n",
       "      <th>137</th>\n",
       "      <td>Wartauer Seegal Bräu</td>\n",
       "      <td>https://www.beeradvocate.com/beer/profile/39074/</td>\n",
       "      <td>NaN</td>\n",
       "      <td>8</td>\n",
       "      <td>Hauptstrasse 33/35\\nTrübbach, 9477\\nSwitzerland</td>\n",
       "      <td>+41 78 878 19 52</td>\n",
       "    </tr>\n",
       "    <tr>\n",
       "      <th>138</th>\n",
       "      <td>Weedbeer</td>\n",
       "      <td>https://www.beeradvocate.com/beer/profile/32639/</td>\n",
       "      <td>3.00</td>\n",
       "      <td>1</td>\n",
       "      <td>Chemin de l'Etraz 14\\nOrbe, 1350\\nSwitzerland</td>\n",
       "      <td>+41 21 312 68 21</td>\n",
       "    </tr>\n",
       "    <tr>\n",
       "      <th>139</th>\n",
       "      <td>WhiteFrontier Brewery</td>\n",
       "      <td>https://www.beeradvocate.com/beer/profile/38648/</td>\n",
       "      <td>3.79</td>\n",
       "      <td>10</td>\n",
       "      <td>Route des Creux 1\\nBagnes, 1936\\nSwitzerland</td>\n",
       "      <td>+41 79 939 11 73</td>\n",
       "    </tr>\n",
       "  </tbody>\n",
       "</table>\n",
       "<p>140 rows × 6 columns</p>\n",
       "</div>"
      ],
      "text/plain": [
       "                      name                                              link  \\\n",
       "0     4655 Brewing Company  https://www.beeradvocate.com/beer/profile/41488/   \n",
       "1                      523  https://www.beeradvocate.com/beer/profile/44206/   \n",
       "2         7Peaks Brasserie  https://www.beeradvocate.com/beer/profile/39040/   \n",
       "3               À tue-tête  https://www.beeradvocate.com/beer/profile/52843/   \n",
       "4                Ahoi Bier  https://www.beeradvocate.com/beer/profile/42305/   \n",
       "..                     ...                                               ...   \n",
       "135             Volta Bräu  https://www.beeradvocate.com/beer/profile/39036/   \n",
       "136      Wadi-Brau-Huss AG   https://www.beeradvocate.com/beer/profile/9378/   \n",
       "137   Wartauer Seegal Bräu  https://www.beeradvocate.com/beer/profile/39074/   \n",
       "138               Weedbeer  https://www.beeradvocate.com/beer/profile/32639/   \n",
       "139  WhiteFrontier Brewery  https://www.beeradvocate.com/beer/profile/38648/   \n",
       "\n",
       "     ratings  n_beers                                            address  \\\n",
       "0        NaN        4                     Stüsslingen, 4655\\nSwitzerland   \n",
       "1       3.79        2             Sonnenweg 30\\nKöniz, 3098\\nSwitzerland   \n",
       "2       2.72        9  Route de la Patinoire 15a\\nMorgins, 1875\\nSwit...   \n",
       "3       4.14        9    Chemin de la Biole 10\\nAigle, 1860\\nSwitzerland   \n",
       "4       3.67        4                        Schlieren, 8952,Switzerland   \n",
       "..       ...      ...                                                ...   \n",
       "135      NaN        2          Voltastrasse 30\\nBasel, 4056\\nSwitzerland   \n",
       "136      NaN        0   Florhofstrasse 13\\nWadenswill, 8820\\nSwitzerland   \n",
       "137      NaN        8    Hauptstrasse 33/35\\nTrübbach, 9477\\nSwitzerland   \n",
       "138     3.00        1      Chemin de l'Etraz 14\\nOrbe, 1350\\nSwitzerland   \n",
       "139     3.79       10       Route des Creux 1\\nBagnes, 1936\\nSwitzerland   \n",
       "\n",
       "            telephone  \n",
       "0                      \n",
       "1     +41 77 450 7655  \n",
       "2     +41 78 797 1875  \n",
       "3    +41 79 235 56 49  \n",
       "4                      \n",
       "..                ...  \n",
       "135  +41 61 690 91 29  \n",
       "136       01 783 9392  \n",
       "137  +41 78 878 19 52  \n",
       "138  +41 21 312 68 21  \n",
       "139  +41 79 939 11 73  \n",
       "\n",
       "[140 rows x 6 columns]"
      ]
     },
     "execution_count": 305,
     "metadata": {},
     "output_type": "execute_result"
    }
   ],
   "source": [
    "breweries_ch_df"
   ]
  },
  {
   "cell_type": "markdown",
   "metadata": {},
   "source": [
    "## Data exploration"
   ]
  },
  {
   "cell_type": "code",
   "execution_count": 6,
   "metadata": {},
   "outputs": [
    {
     "data": {
      "text/html": [
       "<div>\n",
       "<style scoped>\n",
       "    .dataframe tbody tr th:only-of-type {\n",
       "        vertical-align: middle;\n",
       "    }\n",
       "\n",
       "    .dataframe tbody tr th {\n",
       "        vertical-align: top;\n",
       "    }\n",
       "\n",
       "    .dataframe thead th {\n",
       "        text-align: right;\n",
       "    }\n",
       "</style>\n",
       "<table border=\"1\" class=\"dataframe\">\n",
       "  <thead>\n",
       "    <tr style=\"text-align: right;\">\n",
       "      <th></th>\n",
       "      <th>name</th>\n",
       "      <th>link</th>\n",
       "      <th>ratings</th>\n",
       "      <th>n_beers</th>\n",
       "      <th>address</th>\n",
       "      <th>telephone</th>\n",
       "      <th>latitude</th>\n",
       "      <th>longitude</th>\n",
       "    </tr>\n",
       "  </thead>\n",
       "  <tbody>\n",
       "    <tr>\n",
       "      <th>40</th>\n",
       "      <td>Brasserie Trois Dames</td>\n",
       "      <td>https://www.beeradvocate.com/beer/profile/17998/</td>\n",
       "      <td>3.80</td>\n",
       "      <td>39</td>\n",
       "      <td>Rue de France 1\\nSainte-Croix, 1450\\nSwitzerland</td>\n",
       "      <td>+41 24 454 4375</td>\n",
       "      <td>46.822481</td>\n",
       "      <td>6.500209</td>\n",
       "    </tr>\n",
       "    <tr>\n",
       "      <th>85</th>\n",
       "      <td>Feldschlösschen Beverages Group</td>\n",
       "      <td>https://www.beeradvocate.com/beer/profile/555/</td>\n",
       "      <td>2.96</td>\n",
       "      <td>28</td>\n",
       "      <td>Theophil-Roniger-Strasse\\nRheinfelden, 4310\\nS...</td>\n",
       "      <td>+41 (0)61 833 48 48</td>\n",
       "      <td>47.546253</td>\n",
       "      <td>7.791998</td>\n",
       "    </tr>\n",
       "    <tr>\n",
       "      <th>57</th>\n",
       "      <td>Brauerei Locher AG</td>\n",
       "      <td>https://www.beeradvocate.com/beer/profile/5687/</td>\n",
       "      <td>3.58</td>\n",
       "      <td>24</td>\n",
       "      <td>Brauereiplatz\\nAppenzell, 9050\\nSwitzerland</td>\n",
       "      <td>0041 71 787 13 18</td>\n",
       "      <td>47.330883</td>\n",
       "      <td>9.412324</td>\n",
       "    </tr>\n",
       "    <tr>\n",
       "      <th>12</th>\n",
       "      <td>BFM (Brasserie des Franches-Montagnes)</td>\n",
       "      <td>https://www.beeradvocate.com/beer/profile/2958/</td>\n",
       "      <td>4.16</td>\n",
       "      <td>23</td>\n",
       "      <td>Chemin des Buissons 8\\nSaignelégier, 2350\\nSwi...</td>\n",
       "      <td>+41 32 951 26 26</td>\n",
       "      <td>47.254249</td>\n",
       "      <td>7.002505</td>\n",
       "    </tr>\n",
       "    <tr>\n",
       "      <th>18</th>\n",
       "      <td>Birrificio Ticinese</td>\n",
       "      <td>https://www.beeradvocate.com/beer/profile/24571/</td>\n",
       "      <td>3.53</td>\n",
       "      <td>15</td>\n",
       "      <td>Via Vite 5\\nStabio, 6855\\nSwitzerland</td>\n",
       "      <td>+41 (0)91 695 41 90</td>\n",
       "      <td>45.842084</td>\n",
       "      <td>8.923446</td>\n",
       "    </tr>\n",
       "    <tr>\n",
       "      <th>...</th>\n",
       "      <td>...</td>\n",
       "      <td>...</td>\n",
       "      <td>...</td>\n",
       "      <td>...</td>\n",
       "      <td>...</td>\n",
       "      <td>...</td>\n",
       "      <td>...</td>\n",
       "      <td>...</td>\n",
       "    </tr>\n",
       "    <tr>\n",
       "      <th>99</th>\n",
       "      <td>Krügel BIER</td>\n",
       "      <td>https://www.beeradvocate.com/beer/profile/39067/</td>\n",
       "      <td>NaN</td>\n",
       "      <td>0</td>\n",
       "      <td>Obergütschstrasse 26\\nLuzern, 6003\\nSwitzerland</td>\n",
       "      <td>+41 79 451 10 52</td>\n",
       "      <td>47.045563</td>\n",
       "      <td>8.289678</td>\n",
       "    </tr>\n",
       "    <tr>\n",
       "      <th>100</th>\n",
       "      <td>L'Apaisée</td>\n",
       "      <td>https://www.beeradvocate.com/beer/profile/56127/</td>\n",
       "      <td>NaN</td>\n",
       "      <td>0</td>\n",
       "      <td>19 Route des Jeunes\\nCarouge, 1227\\nSwitzerland</td>\n",
       "      <td>+41786144220</td>\n",
       "      <td>46.184449</td>\n",
       "      <td>6.130242</td>\n",
       "    </tr>\n",
       "    <tr>\n",
       "      <th>101</th>\n",
       "      <td>La Brasse-Mortier</td>\n",
       "      <td>https://www.beeradvocate.com/beer/profile/39019/</td>\n",
       "      <td>NaN</td>\n",
       "      <td>0</td>\n",
       "      <td>Place du Bourg 9\\nRomainmôtier, 1323\\nSwitzerland</td>\n",
       "      <td>+41 79 124 54 80</td>\n",
       "      <td>46.694438</td>\n",
       "      <td>6.460887</td>\n",
       "    </tr>\n",
       "    <tr>\n",
       "      <th>103</th>\n",
       "      <td>La Brasserie du Griffon</td>\n",
       "      <td>https://www.beeradvocate.com/beer/profile/39060/</td>\n",
       "      <td>NaN</td>\n",
       "      <td>0</td>\n",
       "      <td>Avenue de l'Industrie 47B\\nMonthey, 1870\\nSwit...</td>\n",
       "      <td>+41 24 471 42 14</td>\n",
       "      <td>46.253542</td>\n",
       "      <td>6.957299</td>\n",
       "    </tr>\n",
       "    <tr>\n",
       "      <th>70</th>\n",
       "      <td>Bündner Bier</td>\n",
       "      <td>https://www.beeradvocate.com/beer/profile/39072/</td>\n",
       "      <td>NaN</td>\n",
       "      <td>0</td>\n",
       "      <td>Salvatorenstrasse 82\\nChur, 7000\\nSwitzerland</td>\n",
       "      <td>+41 81 253 78 78</td>\n",
       "      <td>46.850270</td>\n",
       "      <td>9.516085</td>\n",
       "    </tr>\n",
       "  </tbody>\n",
       "</table>\n",
       "<p>140 rows × 8 columns</p>\n",
       "</div>"
      ],
      "text/plain": [
       "                                       name  \\\n",
       "40                    Brasserie Trois Dames   \n",
       "85          Feldschlösschen Beverages Group   \n",
       "57                       Brauerei Locher AG   \n",
       "12   BFM (Brasserie des Franches-Montagnes)   \n",
       "18                      Birrificio Ticinese   \n",
       "..                                      ...   \n",
       "99                              Krügel BIER   \n",
       "100                               L'Apaisée   \n",
       "101                       La Brasse-Mortier   \n",
       "103                 La Brasserie du Griffon   \n",
       "70                             Bündner Bier   \n",
       "\n",
       "                                                 link  ratings  n_beers  \\\n",
       "40   https://www.beeradvocate.com/beer/profile/17998/     3.80       39   \n",
       "85     https://www.beeradvocate.com/beer/profile/555/     2.96       28   \n",
       "57    https://www.beeradvocate.com/beer/profile/5687/     3.58       24   \n",
       "12    https://www.beeradvocate.com/beer/profile/2958/     4.16       23   \n",
       "18   https://www.beeradvocate.com/beer/profile/24571/     3.53       15   \n",
       "..                                                ...      ...      ...   \n",
       "99   https://www.beeradvocate.com/beer/profile/39067/      NaN        0   \n",
       "100  https://www.beeradvocate.com/beer/profile/56127/      NaN        0   \n",
       "101  https://www.beeradvocate.com/beer/profile/39019/      NaN        0   \n",
       "103  https://www.beeradvocate.com/beer/profile/39060/      NaN        0   \n",
       "70   https://www.beeradvocate.com/beer/profile/39072/      NaN        0   \n",
       "\n",
       "                                               address            telephone  \\\n",
       "40    Rue de France 1\\nSainte-Croix, 1450\\nSwitzerland      +41 24 454 4375   \n",
       "85   Theophil-Roniger-Strasse\\nRheinfelden, 4310\\nS...  +41 (0)61 833 48 48   \n",
       "57         Brauereiplatz\\nAppenzell, 9050\\nSwitzerland    0041 71 787 13 18   \n",
       "12   Chemin des Buissons 8\\nSaignelégier, 2350\\nSwi...     +41 32 951 26 26   \n",
       "18               Via Vite 5\\nStabio, 6855\\nSwitzerland  +41 (0)91 695 41 90   \n",
       "..                                                 ...                  ...   \n",
       "99     Obergütschstrasse 26\\nLuzern, 6003\\nSwitzerland     +41 79 451 10 52   \n",
       "100    19 Route des Jeunes\\nCarouge, 1227\\nSwitzerland         +41786144220   \n",
       "101  Place du Bourg 9\\nRomainmôtier, 1323\\nSwitzerland     +41 79 124 54 80   \n",
       "103  Avenue de l'Industrie 47B\\nMonthey, 1870\\nSwit...     +41 24 471 42 14   \n",
       "70       Salvatorenstrasse 82\\nChur, 7000\\nSwitzerland     +41 81 253 78 78   \n",
       "\n",
       "      latitude  longitude  \n",
       "40   46.822481   6.500209  \n",
       "85   47.546253   7.791998  \n",
       "57   47.330883   9.412324  \n",
       "12   47.254249   7.002505  \n",
       "18   45.842084   8.923446  \n",
       "..         ...        ...  \n",
       "99   47.045563   8.289678  \n",
       "100  46.184449   6.130242  \n",
       "101  46.694438   6.460887  \n",
       "103  46.253542   6.957299  \n",
       "70   46.850270   9.516085  \n",
       "\n",
       "[140 rows x 8 columns]"
      ]
     },
     "execution_count": 6,
     "metadata": {},
     "output_type": "execute_result"
    }
   ],
   "source": [
    "breweries_ch_df.sort_values('n_beers', ascending=False)"
   ]
  },
  {
   "cell_type": "markdown",
   "metadata": {},
   "source": [
    "## Find geographical coordinates of breweries"
   ]
  },
  {
   "cell_type": "code",
   "execution_count": 37,
   "metadata": {
    "collapsed": true,
    "jupyter": {
     "outputs_hidden": true,
     "source_hidden": true
    }
   },
   "outputs": [],
   "source": [
    "from  geopy.geocoders import Nominatim\n",
    "from geopy.extra.rate_limiter import RateLimiter\n",
    "\n",
    "geolocator = Nominatim(user_agent='beer-scraper')\n",
    "geocode = RateLimiter(geolocator.geocode, min_delay_seconds=0.5)\n",
    "\n",
    "def address_to_coordinates(ad):\n",
    "    ad_com = ad.replace('\\n',', ')\n",
    "    loc = geocode(ad_com)\n",
    "    if loc is None:\n",
    "        partial_ad = ', '.join(ad.split('\\n')[1:])\n",
    "        loc = geocode(partial_ad)\n",
    "        if loc is None:\n",
    "            return float('nan'), float('nan')\n",
    "    return loc.latitude, loc.longitude"
   ]
  },
  {
   "cell_type": "code",
   "execution_count": 309,
   "metadata": {
    "collapsed": true,
    "jupyter": {
     "outputs_hidden": true,
     "source_hidden": true
    }
   },
   "outputs": [
    {
     "data": {
      "text/plain": [
       "'Via Sotto Bisio 3A\\nBalerna, 6828\\nSwitzerland'"
      ]
     },
     "execution_count": 309,
     "metadata": {},
     "output_type": "execute_result"
    }
   ],
   "source": [
    "breweries_ch_df['address'][17]"
   ]
  },
  {
   "cell_type": "code",
   "execution_count": 330,
   "metadata": {
    "collapsed": true,
    "jupyter": {
     "outputs_hidden": true,
     "source_hidden": true
    }
   },
   "outputs": [
    {
     "name": "stderr",
     "output_type": "stream",
     "text": [
      "/usr/local/lib/python3.7/site-packages/ipykernel_launcher.py:2: DeprecationWarning: Using Nominatim with the default \"geopy/1.20.0\" `user_agent` is strongly discouraged, as it violates Nominatim's ToS https://operations.osmfoundation.org/policies/nominatim/ and may possibly cause 403 and 429 HTTP errors. Please specify a custom `user_agent` with `Nominatim(user_agent=\"my-application\")` or by overriding the default `user_agent`: `geopy.geocoders.options.default_user_agent = \"my-application\"`. In geopy 2.0 this will become an exception.\n",
      "  \n"
     ]
    }
   ],
   "source": [
    "from  geopy.geocoders import Nominatim\n",
    "geolocator = Nominatim()\n",
    "loc = geolocator.geocode(address)\n",
    "#print(\"latitude is :-\" ,loc.latitude,\"\\nlongtitude is:-\" ,loc.longitude)"
   ]
  },
  {
   "cell_type": "code",
   "execution_count": 362,
   "metadata": {
    "collapsed": true,
    "jupyter": {
     "outputs_hidden": true,
     "source_hidden": true
    }
   },
   "outputs": [],
   "source": [
    "address = breweries_ch_df['address'][50]"
   ]
  },
  {
   "cell_type": "code",
   "execution_count": 329,
   "metadata": {
    "collapsed": true,
    "jupyter": {
     "outputs_hidden": true,
     "source_hidden": true
    }
   },
   "outputs": [
    {
     "data": {
      "text/plain": [
       "'Obergrundstrasse 110, Luzern, 6002, Switzerland'"
      ]
     },
     "execution_count": 329,
     "metadata": {},
     "output_type": "execute_result"
    }
   ],
   "source": [
    "address"
   ]
  },
  {
   "cell_type": "code",
   "execution_count": 322,
   "metadata": {
    "collapsed": true,
    "jupyter": {
     "outputs_hidden": true,
     "source_hidden": true
    }
   },
   "outputs": [
    {
     "data": {
      "text/plain": [
       "Location(Birrificio Sottobisio, 3A, Via Sotto Bisio, Bisio, Balerna, Circolo di Balerna, Distretto di Mendrisio, Ticino, 6828, Switzerland, (45.8443345, 9.0078042, 0.0))"
      ]
     },
     "execution_count": 322,
     "metadata": {},
     "output_type": "execute_result"
    }
   ],
   "source": [
    "loc"
   ]
  },
  {
   "cell_type": "code",
   "execution_count": 331,
   "metadata": {
    "collapsed": true,
    "jupyter": {
     "outputs_hidden": true,
     "source_hidden": true
    }
   },
   "outputs": [
    {
     "data": {
      "text/plain": [
       "(47.04039495, 8.297661748848313)"
      ]
     },
     "execution_count": 331,
     "metadata": {},
     "output_type": "execute_result"
    }
   ],
   "source": [
    "loc.latitude, loc.longitude"
   ]
  },
  {
   "cell_type": "code",
   "execution_count": 35,
   "metadata": {
    "collapsed": true,
    "jupyter": {
     "outputs_hidden": true,
     "source_hidden": true
    }
   },
   "outputs": [
    {
     "data": {
      "text/plain": [
       "name                         Aktienbrauerei Flims Surselva AG\n",
       "link         https://www.beeradvocate.com/beer/profile/20175/\n",
       "ratings                                                  4.03\n",
       "n_beers                                                     1\n",
       "address           Waldhaus\\nFlims Waldhaus, 7018\\nSwitzerland\n",
       "telephone                                     41 81 928 14 00\n",
       "latitude                                              46.8273\n",
       "longitude                                             9.28622\n",
       "Name: 5, dtype: object"
      ]
     },
     "execution_count": 35,
     "metadata": {},
     "output_type": "execute_result"
    }
   ],
   "source": [
    "breweries_ch_df.loc[5]"
   ]
  },
  {
   "cell_type": "code",
   "execution_count": 34,
   "metadata": {
    "collapsed": true,
    "jupyter": {
     "outputs_hidden": true,
     "source_hidden": true
    }
   },
   "outputs": [
    {
     "data": {
      "text/plain": [
       "(46.827296700000005, 9.286218266858235)"
      ]
     },
     "execution_count": 34,
     "metadata": {},
     "output_type": "execute_result"
    }
   ],
   "source": [
    "address_to_coordinates(breweries_ch_df['address'][5])"
   ]
  },
  {
   "cell_type": "code",
   "execution_count": 349,
   "metadata": {
    "collapsed": true,
    "jupyter": {
     "outputs_hidden": true,
     "source_hidden": true
    }
   },
   "outputs": [
    {
     "data": {
      "text/plain": [
       "'Route de la Patinoire 15a, Morgins, 1875, Switzerland'"
      ]
     },
     "execution_count": 349,
     "metadata": {},
     "output_type": "execute_result"
    }
   ],
   "source": [
    "breweries_ch_df['address'][2].replace('\\n', ', ')"
   ]
  },
  {
   "cell_type": "code",
   "execution_count": 38,
   "metadata": {
    "collapsed": true,
    "jupyter": {
     "outputs_hidden": true,
     "source_hidden": true
    }
   },
   "outputs": [],
   "source": [
    "breweries_ch_df[\"latitude\"], breweries_ch_df[\"longitude\"] = zip(\n",
    "    *breweries_ch_df[\"address\"].map(address_to_coordinates))"
   ]
  },
  {
   "cell_type": "code",
   "execution_count": 358,
   "metadata": {
    "collapsed": true,
    "jupyter": {
     "outputs_hidden": true,
     "source_hidden": true
    }
   },
   "outputs": [],
   "source": [
    "loc = geolocator.geocode('7Peaks')"
   ]
  },
  {
   "cell_type": "code",
   "execution_count": 360,
   "metadata": {
    "collapsed": true,
    "jupyter": {
     "outputs_hidden": true,
     "source_hidden": true
    }
   },
   "outputs": [
    {
     "data": {
      "text/plain": [
       "True"
      ]
     },
     "execution_count": 360,
     "metadata": {},
     "output_type": "execute_result"
    }
   ],
   "source": [
    "loc is None"
   ]
  },
  {
   "cell_type": "code",
   "execution_count": 367,
   "metadata": {
    "collapsed": true,
    "jupyter": {
     "outputs_hidden": true,
     "source_hidden": true
    }
   },
   "outputs": [
    {
     "data": {
      "text/plain": [
       "'Luzern, 6002, Switzerland'"
      ]
     },
     "execution_count": 367,
     "metadata": {},
     "output_type": "execute_result"
    }
   ],
   "source": [
    "', '.join(address.split('\\n')[1:])"
   ]
  },
  {
   "cell_type": "code",
   "execution_count": 30,
   "metadata": {
    "collapsed": true,
    "jupyter": {
     "outputs_hidden": true,
     "source_hidden": true
    }
   },
   "outputs": [
    {
     "ename": "ConfigurationError",
     "evalue": "OpenMapQuest requires an API key",
     "output_type": "error",
     "traceback": [
      "\u001b[0;31m---------------------------------------------------------------------------\u001b[0m",
      "\u001b[0;31mConfigurationError\u001b[0m                        Traceback (most recent call last)",
      "\u001b[0;32m<ipython-input-30-dd0737a5369b>\u001b[0m in \u001b[0;36m<module>\u001b[0;34m\u001b[0m\n\u001b[1;32m      2\u001b[0m \u001b[0;32mimport\u001b[0m \u001b[0mgeopy\u001b[0m\u001b[0;34m.\u001b[0m\u001b[0mgeocoders\u001b[0m \u001b[0;32mas\u001b[0m \u001b[0mgeocoders\u001b[0m\u001b[0;34m\u001b[0m\u001b[0;34m\u001b[0m\u001b[0m\n\u001b[1;32m      3\u001b[0m \u001b[0;31m#geolocator = Nominatim(user_agent='beer-scraper')\u001b[0m\u001b[0;34m\u001b[0m\u001b[0;34m\u001b[0m\u001b[0;34m\u001b[0m\u001b[0m\n\u001b[0;32m----> 4\u001b[0;31m \u001b[0mgeolocator\u001b[0m \u001b[0;34m=\u001b[0m \u001b[0mgeocoders\u001b[0m\u001b[0;34m.\u001b[0m\u001b[0mOpenMapQuest\u001b[0m\u001b[0;34m(\u001b[0m\u001b[0muser_agent\u001b[0m\u001b[0;34m=\u001b[0m\u001b[0;34m'beer-scraper'\u001b[0m\u001b[0;34m)\u001b[0m\u001b[0;34m\u001b[0m\u001b[0;34m\u001b[0m\u001b[0m\n\u001b[0m\u001b[1;32m      5\u001b[0m \u001b[0;34m\u001b[0m\u001b[0m\n\u001b[1;32m      6\u001b[0m \u001b[0mloc\u001b[0m \u001b[0;34m=\u001b[0m \u001b[0mgeolocator\u001b[0m\u001b[0;34m.\u001b[0m\u001b[0mgeocode\u001b[0m\u001b[0;34m(\u001b[0m\u001b[0;34m'Route de Bas-Vièze 83, 1875 Morgins, Switzerland'\u001b[0m\u001b[0;34m,\u001b[0m \u001b[0mtimeout\u001b[0m\u001b[0;34m=\u001b[0m\u001b[0;36m5\u001b[0m\u001b[0;34m)\u001b[0m\u001b[0;34m\u001b[0m\u001b[0;34m\u001b[0m\u001b[0m\n",
      "\u001b[0;32m/usr/local/lib/python3.7/site-packages/geopy/geocoders/openmapquest.py\u001b[0m in \u001b[0;36m__init__\u001b[0;34m(self, api_key, format_string, view_box, bounded, country_bias, timeout, proxies, domain, scheme, user_agent, ssl_context)\u001b[0m\n\u001b[1;32m    112\u001b[0m         )\n\u001b[1;32m    113\u001b[0m         \u001b[0;32mif\u001b[0m \u001b[0;32mnot\u001b[0m \u001b[0mapi_key\u001b[0m\u001b[0;34m:\u001b[0m\u001b[0;34m\u001b[0m\u001b[0;34m\u001b[0m\u001b[0m\n\u001b[0;32m--> 114\u001b[0;31m             \u001b[0;32mraise\u001b[0m \u001b[0mConfigurationError\u001b[0m\u001b[0;34m(\u001b[0m\u001b[0;34m'OpenMapQuest requires an API key'\u001b[0m\u001b[0;34m)\u001b[0m\u001b[0;34m\u001b[0m\u001b[0;34m\u001b[0m\u001b[0m\n\u001b[0m\u001b[1;32m    115\u001b[0m         \u001b[0mself\u001b[0m\u001b[0;34m.\u001b[0m\u001b[0mapi_key\u001b[0m \u001b[0;34m=\u001b[0m \u001b[0mapi_key\u001b[0m\u001b[0;34m\u001b[0m\u001b[0;34m\u001b[0m\u001b[0m\n\u001b[1;32m    116\u001b[0m \u001b[0;34m\u001b[0m\u001b[0m\n",
      "\u001b[0;31mConfigurationError\u001b[0m: OpenMapQuest requires an API key"
     ]
    }
   ],
   "source": [
    "# Try google maps\n",
    "import geopy.geocoders as geocoders\n",
    "#geolocator = Nominatim(user_agent='beer-scraper')\n",
    "geolocator = geocoders.OpenMapQuest(user_agent='beer-scraper')\n",
    "\n",
    "loc = geolocator.geocode('Route de Bas-Vièze 83, 1875 Morgins, Switzerland', timeout=5)\n",
    "#loc = geolocator.geocode('Morgins, Switzerland', timeout=5)\n",
    "loc"
   ]
  },
  {
   "cell_type": "code",
   "execution_count": 31,
   "metadata": {
    "collapsed": true,
    "jupyter": {
     "outputs_hidden": true,
     "source_hidden": true
    }
   },
   "outputs": [
    {
     "name": "stderr",
     "output_type": "stream",
     "text": [
      "/usr/local/lib/python3.7/site-packages/ipykernel_launcher.py:2: UserWarning: Since July 2018 Google requires each request to have an API key. Pass a valid `api_key` to GoogleV3 geocoder to hide this warning. See https://developers.google.com/maps/documentation/geocoding/usage-and-billing\n",
      "  \n"
     ]
    },
    {
     "ename": "GeocoderQueryError",
     "evalue": "Your request was denied.",
     "output_type": "error",
     "traceback": [
      "\u001b[0;31m---------------------------------------------------------------------------\u001b[0m",
      "\u001b[0;31mGeocoderQueryError\u001b[0m                        Traceback (most recent call last)",
      "\u001b[0;32m<ipython-input-31-04745dd680d1>\u001b[0m in \u001b[0;36m<module>\u001b[0;34m\u001b[0m\n\u001b[1;32m      1\u001b[0m \u001b[0;32mfrom\u001b[0m \u001b[0mgeopy\u001b[0m\u001b[0;34m.\u001b[0m\u001b[0mgeocoders\u001b[0m \u001b[0;32mimport\u001b[0m \u001b[0mGoogleV3\u001b[0m\u001b[0;34m\u001b[0m\u001b[0;34m\u001b[0m\u001b[0m\n\u001b[1;32m      2\u001b[0m \u001b[0mgeolocator\u001b[0m \u001b[0;34m=\u001b[0m \u001b[0mGoogleV3\u001b[0m\u001b[0;34m(\u001b[0m\u001b[0;34m)\u001b[0m\u001b[0;34m\u001b[0m\u001b[0;34m\u001b[0m\u001b[0m\n\u001b[0;32m----> 3\u001b[0;31m \u001b[0maddress\u001b[0m\u001b[0;34m,\u001b[0m \u001b[0;34m(\u001b[0m\u001b[0mlatitude\u001b[0m\u001b[0;34m,\u001b[0m \u001b[0mlongitude\u001b[0m\u001b[0;34m)\u001b[0m \u001b[0;34m=\u001b[0m \u001b[0mgeolocator\u001b[0m\u001b[0;34m.\u001b[0m\u001b[0mgeocode\u001b[0m\u001b[0;34m(\u001b[0m\u001b[0;34m\"175 5th Avenue NYC\"\u001b[0m\u001b[0;34m)\u001b[0m\u001b[0;34m\u001b[0m\u001b[0;34m\u001b[0m\u001b[0m\n\u001b[0m",
      "\u001b[0;32m/usr/local/lib/python3.7/site-packages/geopy/geocoders/googlev3.py\u001b[0m in \u001b[0;36mgeocode\u001b[0;34m(self, query, exactly_one, timeout, bounds, region, components, place_id, language, sensor)\u001b[0m\n\u001b[1;32m    271\u001b[0m         \u001b[0mlogger\u001b[0m\u001b[0;34m.\u001b[0m\u001b[0mdebug\u001b[0m\u001b[0;34m(\u001b[0m\u001b[0;34m\"%s.geocode: %s\"\u001b[0m\u001b[0;34m,\u001b[0m \u001b[0mself\u001b[0m\u001b[0;34m.\u001b[0m\u001b[0m__class__\u001b[0m\u001b[0;34m.\u001b[0m\u001b[0m__name__\u001b[0m\u001b[0;34m,\u001b[0m \u001b[0murl\u001b[0m\u001b[0;34m)\u001b[0m\u001b[0;34m\u001b[0m\u001b[0;34m\u001b[0m\u001b[0m\n\u001b[1;32m    272\u001b[0m         return self._parse_json(\n\u001b[0;32m--> 273\u001b[0;31m             \u001b[0mself\u001b[0m\u001b[0;34m.\u001b[0m\u001b[0m_call_geocoder\u001b[0m\u001b[0;34m(\u001b[0m\u001b[0murl\u001b[0m\u001b[0;34m,\u001b[0m \u001b[0mtimeout\u001b[0m\u001b[0;34m=\u001b[0m\u001b[0mtimeout\u001b[0m\u001b[0;34m)\u001b[0m\u001b[0;34m,\u001b[0m \u001b[0mexactly_one\u001b[0m\u001b[0;34m\u001b[0m\u001b[0;34m\u001b[0m\u001b[0m\n\u001b[0m\u001b[1;32m    274\u001b[0m         )\n\u001b[1;32m    275\u001b[0m \u001b[0;34m\u001b[0m\u001b[0m\n",
      "\u001b[0;32m/usr/local/lib/python3.7/site-packages/geopy/geocoders/googlev3.py\u001b[0m in \u001b[0;36m_parse_json\u001b[0;34m(self, page, exactly_one)\u001b[0m\n\u001b[1;32m    478\u001b[0m         \u001b[0mplaces\u001b[0m \u001b[0;34m=\u001b[0m \u001b[0mpage\u001b[0m\u001b[0;34m.\u001b[0m\u001b[0mget\u001b[0m\u001b[0;34m(\u001b[0m\u001b[0;34m'results'\u001b[0m\u001b[0;34m,\u001b[0m \u001b[0;34m[\u001b[0m\u001b[0;34m]\u001b[0m\u001b[0;34m)\u001b[0m\u001b[0;34m\u001b[0m\u001b[0;34m\u001b[0m\u001b[0m\n\u001b[1;32m    479\u001b[0m         \u001b[0;32mif\u001b[0m \u001b[0;32mnot\u001b[0m \u001b[0mlen\u001b[0m\u001b[0;34m(\u001b[0m\u001b[0mplaces\u001b[0m\u001b[0;34m)\u001b[0m\u001b[0;34m:\u001b[0m\u001b[0;34m\u001b[0m\u001b[0;34m\u001b[0m\u001b[0m\n\u001b[0;32m--> 480\u001b[0;31m             \u001b[0mself\u001b[0m\u001b[0;34m.\u001b[0m\u001b[0m_check_status\u001b[0m\u001b[0;34m(\u001b[0m\u001b[0mpage\u001b[0m\u001b[0;34m.\u001b[0m\u001b[0mget\u001b[0m\u001b[0;34m(\u001b[0m\u001b[0;34m'status'\u001b[0m\u001b[0;34m)\u001b[0m\u001b[0;34m)\u001b[0m\u001b[0;34m\u001b[0m\u001b[0;34m\u001b[0m\u001b[0m\n\u001b[0m\u001b[1;32m    481\u001b[0m             \u001b[0;32mreturn\u001b[0m \u001b[0;32mNone\u001b[0m\u001b[0;34m\u001b[0m\u001b[0;34m\u001b[0m\u001b[0m\n\u001b[1;32m    482\u001b[0m \u001b[0;34m\u001b[0m\u001b[0m\n",
      "\u001b[0;32m/usr/local/lib/python3.7/site-packages/geopy/geocoders/googlev3.py\u001b[0m in \u001b[0;36m_check_status\u001b[0;34m(status)\u001b[0m\n\u001b[1;32m    509\u001b[0m         \u001b[0;32melif\u001b[0m \u001b[0mstatus\u001b[0m \u001b[0;34m==\u001b[0m \u001b[0;34m'REQUEST_DENIED'\u001b[0m\u001b[0;34m:\u001b[0m\u001b[0;34m\u001b[0m\u001b[0;34m\u001b[0m\u001b[0m\n\u001b[1;32m    510\u001b[0m             raise GeocoderQueryError(\n\u001b[0;32m--> 511\u001b[0;31m                 \u001b[0;34m'Your request was denied.'\u001b[0m\u001b[0;34m\u001b[0m\u001b[0;34m\u001b[0m\u001b[0m\n\u001b[0m\u001b[1;32m    512\u001b[0m             )\n\u001b[1;32m    513\u001b[0m         \u001b[0;32melif\u001b[0m \u001b[0mstatus\u001b[0m \u001b[0;34m==\u001b[0m \u001b[0;34m'INVALID_REQUEST'\u001b[0m\u001b[0;34m:\u001b[0m\u001b[0;34m\u001b[0m\u001b[0;34m\u001b[0m\u001b[0m\n",
      "\u001b[0;31mGeocoderQueryError\u001b[0m: Your request was denied."
     ]
    }
   ],
   "source": [
    "from geopy.geocoders import GoogleV3\n",
    "geolocator = GoogleV3()\n",
    "address, (latitude, longitude) = geolocator.geocode(\"175 5th Avenue NYC\")"
   ]
  },
  {
   "cell_type": "code",
   "execution_count": 62,
   "metadata": {
    "collapsed": true,
    "jupyter": {
     "outputs_hidden": true,
     "source_hidden": true
    }
   },
   "outputs": [
    {
     "data": {
      "text/html": [
       "<div>\n",
       "<style scoped>\n",
       "    .dataframe tbody tr th:only-of-type {\n",
       "        vertical-align: middle;\n",
       "    }\n",
       "\n",
       "    .dataframe tbody tr th {\n",
       "        vertical-align: top;\n",
       "    }\n",
       "\n",
       "    .dataframe thead th {\n",
       "        text-align: right;\n",
       "    }\n",
       "</style>\n",
       "<table border=\"1\" class=\"dataframe\">\n",
       "  <thead>\n",
       "    <tr style=\"text-align: right;\">\n",
       "      <th></th>\n",
       "      <th>name</th>\n",
       "      <th>link</th>\n",
       "      <th>ratings</th>\n",
       "      <th>n_beers</th>\n",
       "      <th>address</th>\n",
       "      <th>telephone</th>\n",
       "      <th>latitude</th>\n",
       "      <th>longitude</th>\n",
       "    </tr>\n",
       "  </thead>\n",
       "  <tbody>\n",
       "    <tr>\n",
       "      <th>95</th>\n",
       "      <td>Il Fermento</td>\n",
       "      <td>https://www.beeradvocate.com/beer/profile/58104/</td>\n",
       "      <td>NaN</td>\n",
       "      <td>0</td>\n",
       "      <td>Via Marconi 2\\nPalazzi Gargantini\\nLugano, 690...</td>\n",
       "      <td>+41 (0) 91 923 45 45</td>\n",
       "      <td>NaN</td>\n",
       "      <td>NaN</td>\n",
       "    </tr>\n",
       "    <tr>\n",
       "      <th>126</th>\n",
       "      <td>Steinfels</td>\n",
       "      <td>https://www.beeradvocate.com/beer/profile/21242/</td>\n",
       "      <td>3.17</td>\n",
       "      <td>4</td>\n",
       "      <td>Heinrichstrasse 267\\nEcher Wyss Platz\\nZürich,...</td>\n",
       "      <td>41 (0)44 271 10 30</td>\n",
       "      <td>NaN</td>\n",
       "      <td>NaN</td>\n",
       "    </tr>\n",
       "    <tr>\n",
       "      <th>136</th>\n",
       "      <td>Wadi-Brau-Huss AG</td>\n",
       "      <td>https://www.beeradvocate.com/beer/profile/9378/</td>\n",
       "      <td>NaN</td>\n",
       "      <td>0</td>\n",
       "      <td>Florhofstrasse 13\\nWadenswill, 8820\\nSwitzerland</td>\n",
       "      <td>01 783 9392</td>\n",
       "      <td>NaN</td>\n",
       "      <td>NaN</td>\n",
       "    </tr>\n",
       "  </tbody>\n",
       "</table>\n",
       "</div>"
      ],
      "text/plain": [
       "                  name                                              link  \\\n",
       "95         Il Fermento  https://www.beeradvocate.com/beer/profile/58104/   \n",
       "126          Steinfels  https://www.beeradvocate.com/beer/profile/21242/   \n",
       "136  Wadi-Brau-Huss AG   https://www.beeradvocate.com/beer/profile/9378/   \n",
       "\n",
       "     ratings  n_beers                                            address  \\\n",
       "95       NaN        0  Via Marconi 2\\nPalazzi Gargantini\\nLugano, 690...   \n",
       "126     3.17        4  Heinrichstrasse 267\\nEcher Wyss Platz\\nZürich,...   \n",
       "136      NaN        0   Florhofstrasse 13\\nWadenswill, 8820\\nSwitzerland   \n",
       "\n",
       "                telephone  latitude  longitude  \n",
       "95   +41 (0) 91 923 45 45       NaN        NaN  \n",
       "126    41 (0)44 271 10 30       NaN        NaN  \n",
       "136           01 783 9392       NaN        NaN  "
      ]
     },
     "execution_count": 62,
     "metadata": {},
     "output_type": "execute_result"
    }
   ],
   "source": [
    "# Fixing missing coordinates by hand\n",
    "breweries_ch_df[breweries_ch_df['latitude'].isna()]"
   ]
  },
  {
   "cell_type": "code",
   "execution_count": 73,
   "metadata": {
    "collapsed": true,
    "jupyter": {
     "outputs_hidden": true,
     "source_hidden": true
    }
   },
   "outputs": [
    {
     "data": {
      "text/plain": [
       "'Florhofstrasse 13\\nWadenswill, 8820\\nSwitzerland'"
      ]
     },
     "execution_count": 73,
     "metadata": {},
     "output_type": "execute_result"
    }
   ],
   "source": [
    "breweries_ch_df.loc[136]['address']"
   ]
  },
  {
   "cell_type": "code",
   "execution_count": 78,
   "metadata": {
    "collapsed": true,
    "jupyter": {
     "outputs_hidden": true,
     "source_hidden": true
    }
   },
   "outputs": [
    {
     "data": {
      "text/plain": [
       "(47.2308218, 8.6695479)"
      ]
     },
     "execution_count": 78,
     "metadata": {},
     "output_type": "execute_result"
    }
   ],
   "source": [
    "loc = address_to_coordinates('Florhofstrasse 9, 8820 Wädenswil')\n",
    "loc"
   ]
  },
  {
   "cell_type": "code",
   "execution_count": 80,
   "metadata": {
    "collapsed": true,
    "jupyter": {
     "outputs_hidden": true,
     "source_hidden": true
    }
   },
   "outputs": [],
   "source": [
    "ind = 136\n",
    "#breweries_ch_df.loc[ind,'latitude'], breweries_ch_df.loc[ind, 'longitude'] = loc"
   ]
  },
  {
   "cell_type": "code",
   "execution_count": 61,
   "metadata": {
    "collapsed": true,
    "jupyter": {
     "outputs_hidden": true,
     "source_hidden": true
    }
   },
   "outputs": [
    {
     "data": {
      "text/plain": [
       "name                                            Engadiner Bier\n",
       "link          https://www.beeradvocate.com/beer/profile/44231/\n",
       "ratings                                                   3.59\n",
       "n_beers                                                      3\n",
       "address      Via Da la Staziun 51\\nPostfach 110\\nPontresina...\n",
       "telephone                                     +41 81 842 68 31\n",
       "latitude                                               46.4913\n",
       "longitude                                              9.89583\n",
       "Name: 82, dtype: object"
      ]
     },
     "execution_count": 61,
     "metadata": {},
     "output_type": "execute_result"
    }
   ],
   "source": [
    "breweries_ch_df.loc[ind]"
   ]
  },
  {
   "cell_type": "markdown",
   "metadata": {},
   "source": [
    "## Save Breweries dataframe"
   ]
  },
  {
   "cell_type": "code",
   "execution_count": 83,
   "metadata": {},
   "outputs": [],
   "source": [
    "breweries_ch_df.to_pickle('breweries_ch_pickled')"
   ]
  },
  {
   "cell_type": "code",
   "execution_count": 2,
   "metadata": {},
   "outputs": [],
   "source": [
    "# read pickle\n",
    "\n",
    "breweries_ch_df = pd.read_pickle('breweries_ch_pickled')"
   ]
  },
  {
   "cell_type": "code",
   "execution_count": 3,
   "metadata": {},
   "outputs": [
    {
     "data": {
      "text/html": [
       "<div>\n",
       "<style scoped>\n",
       "    .dataframe tbody tr th:only-of-type {\n",
       "        vertical-align: middle;\n",
       "    }\n",
       "\n",
       "    .dataframe tbody tr th {\n",
       "        vertical-align: top;\n",
       "    }\n",
       "\n",
       "    .dataframe thead th {\n",
       "        text-align: right;\n",
       "    }\n",
       "</style>\n",
       "<table border=\"1\" class=\"dataframe\">\n",
       "  <thead>\n",
       "    <tr style=\"text-align: right;\">\n",
       "      <th></th>\n",
       "      <th>name</th>\n",
       "      <th>link</th>\n",
       "      <th>ratings</th>\n",
       "      <th>n_beers</th>\n",
       "      <th>address</th>\n",
       "      <th>telephone</th>\n",
       "      <th>latitude</th>\n",
       "      <th>longitude</th>\n",
       "    </tr>\n",
       "  </thead>\n",
       "  <tbody>\n",
       "    <tr>\n",
       "      <th>0</th>\n",
       "      <td>4655 Brewing Company</td>\n",
       "      <td>https://www.beeradvocate.com/beer/profile/41488/</td>\n",
       "      <td>NaN</td>\n",
       "      <td>4</td>\n",
       "      <td>Stüsslingen, 4655\\nSwitzerland</td>\n",
       "      <td></td>\n",
       "      <td>47.392886</td>\n",
       "      <td>7.971289</td>\n",
       "    </tr>\n",
       "    <tr>\n",
       "      <th>1</th>\n",
       "      <td>523</td>\n",
       "      <td>https://www.beeradvocate.com/beer/profile/44206/</td>\n",
       "      <td>3.79</td>\n",
       "      <td>2</td>\n",
       "      <td>Sonnenweg 30\\nKöniz, 3098\\nSwitzerland</td>\n",
       "      <td>+41 77 450 7655</td>\n",
       "      <td>46.925468</td>\n",
       "      <td>7.416251</td>\n",
       "    </tr>\n",
       "    <tr>\n",
       "      <th>2</th>\n",
       "      <td>7Peaks Brasserie</td>\n",
       "      <td>https://www.beeradvocate.com/beer/profile/39040/</td>\n",
       "      <td>2.72</td>\n",
       "      <td>9</td>\n",
       "      <td>Route de la Patinoire 15a\\nMorgins, 1875\\nSwit...</td>\n",
       "      <td>+41 78 797 1875</td>\n",
       "      <td>46.237659</td>\n",
       "      <td>6.858102</td>\n",
       "    </tr>\n",
       "    <tr>\n",
       "      <th>3</th>\n",
       "      <td>À tue-tête</td>\n",
       "      <td>https://www.beeradvocate.com/beer/profile/52843/</td>\n",
       "      <td>4.14</td>\n",
       "      <td>9</td>\n",
       "      <td>Chemin de la Biole 10\\nAigle, 1860\\nSwitzerland</td>\n",
       "      <td>+41 79 235 56 49</td>\n",
       "      <td>46.309735</td>\n",
       "      <td>6.944491</td>\n",
       "    </tr>\n",
       "    <tr>\n",
       "      <th>4</th>\n",
       "      <td>Ahoi Bier</td>\n",
       "      <td>https://www.beeradvocate.com/beer/profile/42305/</td>\n",
       "      <td>3.67</td>\n",
       "      <td>4</td>\n",
       "      <td>Schlieren, 8952,Switzerland</td>\n",
       "      <td></td>\n",
       "      <td>47.396515</td>\n",
       "      <td>8.444486</td>\n",
       "    </tr>\n",
       "    <tr>\n",
       "      <th>...</th>\n",
       "      <td>...</td>\n",
       "      <td>...</td>\n",
       "      <td>...</td>\n",
       "      <td>...</td>\n",
       "      <td>...</td>\n",
       "      <td>...</td>\n",
       "      <td>...</td>\n",
       "      <td>...</td>\n",
       "    </tr>\n",
       "    <tr>\n",
       "      <th>135</th>\n",
       "      <td>Volta Bräu</td>\n",
       "      <td>https://www.beeradvocate.com/beer/profile/39036/</td>\n",
       "      <td>NaN</td>\n",
       "      <td>2</td>\n",
       "      <td>Voltastrasse 30\\nBasel, 4056\\nSwitzerland</td>\n",
       "      <td>+41 61 690 91 29</td>\n",
       "      <td>47.570967</td>\n",
       "      <td>7.579546</td>\n",
       "    </tr>\n",
       "    <tr>\n",
       "      <th>136</th>\n",
       "      <td>Wadi-Brau-Huss AG</td>\n",
       "      <td>https://www.beeradvocate.com/beer/profile/9378/</td>\n",
       "      <td>NaN</td>\n",
       "      <td>0</td>\n",
       "      <td>Florhofstrasse 13\\nWadenswill, 8820\\nSwitzerland</td>\n",
       "      <td>01 783 9392</td>\n",
       "      <td>47.230822</td>\n",
       "      <td>8.669548</td>\n",
       "    </tr>\n",
       "    <tr>\n",
       "      <th>137</th>\n",
       "      <td>Wartauer Seegal Bräu</td>\n",
       "      <td>https://www.beeradvocate.com/beer/profile/39074/</td>\n",
       "      <td>NaN</td>\n",
       "      <td>8</td>\n",
       "      <td>Hauptstrasse 33/35\\nTrübbach, 9477\\nSwitzerland</td>\n",
       "      <td>+41 78 878 19 52</td>\n",
       "      <td>47.073017</td>\n",
       "      <td>9.480788</td>\n",
       "    </tr>\n",
       "    <tr>\n",
       "      <th>138</th>\n",
       "      <td>Weedbeer</td>\n",
       "      <td>https://www.beeradvocate.com/beer/profile/32639/</td>\n",
       "      <td>3.00</td>\n",
       "      <td>1</td>\n",
       "      <td>Chemin de l'Etraz 14\\nOrbe, 1350\\nSwitzerland</td>\n",
       "      <td>+41 21 312 68 21</td>\n",
       "      <td>46.720308</td>\n",
       "      <td>6.539114</td>\n",
       "    </tr>\n",
       "    <tr>\n",
       "      <th>139</th>\n",
       "      <td>WhiteFrontier Brewery</td>\n",
       "      <td>https://www.beeradvocate.com/beer/profile/38648/</td>\n",
       "      <td>3.79</td>\n",
       "      <td>10</td>\n",
       "      <td>Route des Creux 1\\nBagnes, 1936\\nSwitzerland</td>\n",
       "      <td>+41 79 939 11 73</td>\n",
       "      <td>46.096372</td>\n",
       "      <td>7.229051</td>\n",
       "    </tr>\n",
       "  </tbody>\n",
       "</table>\n",
       "<p>140 rows × 8 columns</p>\n",
       "</div>"
      ],
      "text/plain": [
       "                      name                                              link  \\\n",
       "0     4655 Brewing Company  https://www.beeradvocate.com/beer/profile/41488/   \n",
       "1                      523  https://www.beeradvocate.com/beer/profile/44206/   \n",
       "2         7Peaks Brasserie  https://www.beeradvocate.com/beer/profile/39040/   \n",
       "3               À tue-tête  https://www.beeradvocate.com/beer/profile/52843/   \n",
       "4                Ahoi Bier  https://www.beeradvocate.com/beer/profile/42305/   \n",
       "..                     ...                                               ...   \n",
       "135             Volta Bräu  https://www.beeradvocate.com/beer/profile/39036/   \n",
       "136      Wadi-Brau-Huss AG   https://www.beeradvocate.com/beer/profile/9378/   \n",
       "137   Wartauer Seegal Bräu  https://www.beeradvocate.com/beer/profile/39074/   \n",
       "138               Weedbeer  https://www.beeradvocate.com/beer/profile/32639/   \n",
       "139  WhiteFrontier Brewery  https://www.beeradvocate.com/beer/profile/38648/   \n",
       "\n",
       "     ratings  n_beers                                            address  \\\n",
       "0        NaN        4                     Stüsslingen, 4655\\nSwitzerland   \n",
       "1       3.79        2             Sonnenweg 30\\nKöniz, 3098\\nSwitzerland   \n",
       "2       2.72        9  Route de la Patinoire 15a\\nMorgins, 1875\\nSwit...   \n",
       "3       4.14        9    Chemin de la Biole 10\\nAigle, 1860\\nSwitzerland   \n",
       "4       3.67        4                        Schlieren, 8952,Switzerland   \n",
       "..       ...      ...                                                ...   \n",
       "135      NaN        2          Voltastrasse 30\\nBasel, 4056\\nSwitzerland   \n",
       "136      NaN        0   Florhofstrasse 13\\nWadenswill, 8820\\nSwitzerland   \n",
       "137      NaN        8    Hauptstrasse 33/35\\nTrübbach, 9477\\nSwitzerland   \n",
       "138     3.00        1      Chemin de l'Etraz 14\\nOrbe, 1350\\nSwitzerland   \n",
       "139     3.79       10       Route des Creux 1\\nBagnes, 1936\\nSwitzerland   \n",
       "\n",
       "            telephone   latitude  longitude  \n",
       "0                      47.392886   7.971289  \n",
       "1     +41 77 450 7655  46.925468   7.416251  \n",
       "2     +41 78 797 1875  46.237659   6.858102  \n",
       "3    +41 79 235 56 49  46.309735   6.944491  \n",
       "4                      47.396515   8.444486  \n",
       "..                ...        ...        ...  \n",
       "135  +41 61 690 91 29  47.570967   7.579546  \n",
       "136       01 783 9392  47.230822   8.669548  \n",
       "137  +41 78 878 19 52  47.073017   9.480788  \n",
       "138  +41 21 312 68 21  46.720308   6.539114  \n",
       "139  +41 79 939 11 73  46.096372   7.229051  \n",
       "\n",
       "[140 rows x 8 columns]"
      ]
     },
     "execution_count": 3,
     "metadata": {},
     "output_type": "execute_result"
    }
   ],
   "source": [
    "breweries_ch_df"
   ]
  },
  {
   "cell_type": "markdown",
   "metadata": {},
   "source": [
    "## Mapbox bubble map"
   ]
  },
  {
   "cell_type": "code",
   "execution_count": 31,
   "metadata": {},
   "outputs": [
    {
     "data": {
      "text/html": [
       "<div>\n",
       "<style scoped>\n",
       "    .dataframe tbody tr th:only-of-type {\n",
       "        vertical-align: middle;\n",
       "    }\n",
       "\n",
       "    .dataframe tbody tr th {\n",
       "        vertical-align: top;\n",
       "    }\n",
       "\n",
       "    .dataframe thead th {\n",
       "        text-align: right;\n",
       "    }\n",
       "</style>\n",
       "<table border=\"1\" class=\"dataframe\">\n",
       "  <thead>\n",
       "    <tr style=\"text-align: right;\">\n",
       "      <th></th>\n",
       "      <th>name</th>\n",
       "      <th>link</th>\n",
       "      <th>ratings</th>\n",
       "      <th>n_beers</th>\n",
       "      <th>address</th>\n",
       "      <th>telephone</th>\n",
       "      <th>latitude</th>\n",
       "      <th>longitude</th>\n",
       "    </tr>\n",
       "  </thead>\n",
       "  <tbody>\n",
       "    <tr>\n",
       "      <th>93</th>\n",
       "      <td>Hoppy People</td>\n",
       "      <td>https://www.beeradvocate.com/beer/profile/48536/</td>\n",
       "      <td>3.76</td>\n",
       "      <td>10</td>\n",
       "      <td>Route Des Sablons 11\\nSierre, 3960\\nSwitzerland</td>\n",
       "      <td>+41 (0)27 455-00 00</td>\n",
       "      <td>47.050545</td>\n",
       "      <td>8.305468</td>\n",
       "    </tr>\n",
       "  </tbody>\n",
       "</table>\n",
       "</div>"
      ],
      "text/plain": [
       "            name                                              link  ratings  \\\n",
       "93  Hoppy People  https://www.beeradvocate.com/beer/profile/48536/     3.76   \n",
       "\n",
       "    n_beers                                          address  \\\n",
       "93       10  Route Des Sablons 11\\nSierre, 3960\\nSwitzerland   \n",
       "\n",
       "              telephone   latitude  longitude  \n",
       "93  +41 (0)27 455-00 00  47.050545   8.305468  "
      ]
     },
     "execution_count": 31,
     "metadata": {},
     "output_type": "execute_result"
    }
   ],
   "source": [
    "breweries_ch_df[breweries_ch_df['name'].apply(lambda s: 'Hoppy' in s)]"
   ]
  },
  {
   "cell_type": "code",
   "execution_count": 32,
   "metadata": {},
   "outputs": [
    {
     "data": {
      "text/html": [
       "<div>\n",
       "<style scoped>\n",
       "    .dataframe tbody tr th:only-of-type {\n",
       "        vertical-align: middle;\n",
       "    }\n",
       "\n",
       "    .dataframe tbody tr th {\n",
       "        vertical-align: top;\n",
       "    }\n",
       "\n",
       "    .dataframe thead th {\n",
       "        text-align: right;\n",
       "    }\n",
       "</style>\n",
       "<table border=\"1\" class=\"dataframe\">\n",
       "  <thead>\n",
       "    <tr style=\"text-align: right;\">\n",
       "      <th></th>\n",
       "      <th>name</th>\n",
       "      <th>link</th>\n",
       "      <th>ratings</th>\n",
       "      <th>n_beers</th>\n",
       "      <th>address</th>\n",
       "      <th>telephone</th>\n",
       "      <th>latitude</th>\n",
       "      <th>longitude</th>\n",
       "    </tr>\n",
       "  </thead>\n",
       "  <tbody>\n",
       "    <tr>\n",
       "      <th>2</th>\n",
       "      <td>7Peaks Brasserie</td>\n",
       "      <td>https://www.beeradvocate.com/beer/profile/39040/</td>\n",
       "      <td>2.72</td>\n",
       "      <td>9</td>\n",
       "      <td>Route de la Patinoire 15a\\nMorgins, 1875\\nSwit...</td>\n",
       "      <td>+41 78 797 1875</td>\n",
       "      <td>47.050545</td>\n",
       "      <td>8.305468</td>\n",
       "    </tr>\n",
       "  </tbody>\n",
       "</table>\n",
       "</div>"
      ],
      "text/plain": [
       "               name                                              link  \\\n",
       "2  7Peaks Brasserie  https://www.beeradvocate.com/beer/profile/39040/   \n",
       "\n",
       "   ratings  n_beers                                            address  \\\n",
       "2     2.72        9  Route de la Patinoire 15a\\nMorgins, 1875\\nSwit...   \n",
       "\n",
       "         telephone   latitude  longitude  \n",
       "2  +41 78 797 1875  47.050545   8.305468  "
      ]
     },
     "execution_count": 32,
     "metadata": {},
     "output_type": "execute_result"
    }
   ],
   "source": [
    "breweries_ch_df[breweries_ch_df['name'].apply(lambda s: '7Peaks' in s)]"
   ]
  },
  {
   "cell_type": "code",
   "execution_count": 86,
   "metadata": {},
   "outputs": [
    {
     "data": {
      "text/plain": [
       "'swiss-breweries-map.html'"
      ]
     },
     "execution_count": 86,
     "metadata": {},
     "output_type": "execute_result"
    }
   ],
   "source": [
    "import plotly.express as px\n",
    "import plotly.offline as py\n",
    "px.set_mapbox_access_token(open(\".mapbox_token\").read())\n",
    "\n",
    "fig = px.scatter_mapbox(breweries_ch_df, \n",
    "                        lat=\"latitude\", lon=\"longitude\",     \n",
    "                        color=\"ratings\", size=\"n_beers\",\n",
    "                        text='name',\n",
    "                  color_continuous_scale=px.colors.sequential.Viridis, \n",
    "                        size_max=15, zoom=6)\n",
    "#fig.show()\n",
    "py.plot(fig, filename='swiss-breweries-map.html')"
   ]
  },
  {
   "cell_type": "markdown",
   "metadata": {},
   "source": [
    "## Selecting items on map"
   ]
  },
  {
   "cell_type": "code",
   "execution_count": 7,
   "metadata": {},
   "outputs": [
    {
     "data": {
      "application/vnd.jupyter.widget-view+json": {
       "model_id": "a5f0d84cdbe1425ca575adf43dd3d833",
       "version_major": 2,
       "version_minor": 0
      },
      "text/plain": [
       "VBox(children=(FigureWidget({\n",
       "    'data': [{'hoverlabel': {'namelength': 0},\n",
       "              'hovertemplate': ('…"
      ]
     },
     "metadata": {},
     "output_type": "display_data"
    }
   ],
   "source": [
    "import plotly.graph_objs as go\n",
    "from ipywidgets import Output, VBox\n",
    "import plotly.express as px\n",
    "\n",
    "\n",
    "map = px.scatter_mapbox(breweries_ch_df, \n",
    "                        lat=\"latitude\", lon=\"longitude\",     \n",
    "                        color=\"ratings\", size=\"n_beers\",\n",
    "                        text='name',\n",
    "                  color_continuous_scale=px.colors.sequential.Viridis, \n",
    "                        size_max=15, zoom=6)\n",
    "fig = go.FigureWidget(map)\n",
    "\n",
    "out = Output()\n",
    "@out.capture(clear_output=True)\n",
    "def handle_click(trace, points, state):\n",
    "    print(points.point_inds)\n",
    "\n",
    "#pie.on_click(handle_click)\n",
    "fig.data[0].on_click(handle_click)\n",
    "\n",
    "VBox([fig, out])"
   ]
  },
  {
   "cell_type": "markdown",
   "metadata": {},
   "source": [
    "## Get list of beers from each breweries"
   ]
  },
  {
   "cell_type": "markdown",
   "metadata": {},
   "source": [
    "### Attemps with Untappd"
   ]
  },
  {
   "cell_type": "code",
   "execution_count": 15,
   "metadata": {},
   "outputs": [],
   "source": [
    "# test untapped\n",
    "#cookies = {'uid': '232323', 'pass': '32323232323232323232323',\n",
    "#           '__cfduid': '2323232323adasdasdasdas78d6asdasjdgawi8d67as'}\n",
    "cookies = {'Name': 'untappd_user_v3_e', \n",
    "           'Value': 'cf983db65cd6570b3aa37c006adf1491321592df48ef861c4c75ad3c12a93d0c20890aba646fcc0d12a8102d34b655df916b54bee8927d0ed18daf7d1fac9880vdaSZ3BwBT8TUKJ14m29MMk8ztYNxJWrCsNgWTFrqXOjt0a6GddRjI2IPA3rXn0EbH0WlNXTT0WvdjeQjdFeZA%3D%3D',\n",
    "           }\n",
    "url_ut = 'https://untappd.com/w/brasserie-des-franches-montagnes-bfm/4719/beer'\n",
    "\n",
    "#page_ut = requests.get(url_ut, cookies=cookies)\n",
    "page_ut = requests.get(url_ut)\n",
    "#soup_ut = BeautifulSoup(page_ut, 'lxml')\n",
    "\n",
    "with open('test_untappd.html','bw') as f:\n",
    "    f.write(page_ut.content)"
   ]
  },
  {
   "cell_type": "code",
   "execution_count": 20,
   "metadata": {},
   "outputs": [],
   "source": [
    "#url_b = 'https://untappd.com/b/brasserie-des-franches-montagnes-bfm-225-saison/270389'\n",
    "url_b = 'https://untappd.com/home'\n",
    "page_ut = requests.get(url_b)\n",
    "\n",
    "with open('test_untappd.html','bw') as f:\n",
    "    f.write(page_ut.content)\n"
   ]
  },
  {
   "cell_type": "code",
   "execution_count": 21,
   "metadata": {},
   "outputs": [
    {
     "data": {
      "text/plain": [
       "b'Too Many Requests'"
      ]
     },
     "execution_count": 21,
     "metadata": {},
     "output_type": "execute_result"
    }
   ],
   "source": [
    "page_ut.content"
   ]
  },
  {
   "cell_type": "markdown",
   "metadata": {},
   "source": [
    "### Attemps with RateBeer"
   ]
  },
  {
   "cell_type": "code",
   "execution_count": 32,
   "metadata": {},
   "outputs": [],
   "source": [
    "url_RB_search = 'https://www.ratebeer.com/search?q={}&tab=brewer'\n",
    "\n",
    "#brewery_name = breweries_ch_df.loc[51,'name'].replace(' ', '+')\n",
    "brewery_name = 'Fri-Mousse'\n",
    "page_RB_search = requests.get(url_RB_search.format(brewery_name))\n",
    "with open('test_RB.html','bw') as f:\n",
    "    f.write(page_RB_search.content)"
   ]
  },
  {
   "cell_type": "code",
   "execution_count": 27,
   "metadata": {},
   "outputs": [
    {
     "data": {
      "text/plain": [
       "'Brauerei+Erusbacher+&+Paul+AG'"
      ]
     },
     "execution_count": 27,
     "metadata": {},
     "output_type": "execute_result"
    }
   ],
   "source": [
    "brewery_name"
   ]
  },
  {
   "cell_type": "code",
   "execution_count": 29,
   "metadata": {},
   "outputs": [
    {
     "data": {
      "text/plain": [
       "'Brasserie+Fri-Mousse'"
      ]
     },
     "execution_count": 29,
     "metadata": {},
     "output_type": "execute_result"
    }
   ],
   "source": [
    "breweries_ch_df.loc[37,'name'].replace(' ', '+')\n"
   ]
  },
  {
   "cell_type": "code",
   "execution_count": 33,
   "metadata": {},
   "outputs": [
    {
     "data": {
      "text/plain": [
       "'https://www.ratebeer.com/search?q=Fri-Mousse&tab=brewer'"
      ]
     },
     "execution_count": 33,
     "metadata": {},
     "output_type": "execute_result"
    }
   ],
   "source": [
    "url_RB_search.format(brewery_name)"
   ]
  },
  {
   "cell_type": "code",
   "execution_count": 39,
   "metadata": {},
   "outputs": [
    {
     "name": "stderr",
     "output_type": "stream",
     "text": [
      "/usr/local/lib/python3.7/site-packages/selenium/webdriver/phantomjs/webdriver.py:49: UserWarning: Selenium support for PhantomJS has been deprecated, please use headless versions of Chrome or Firefox instead\n",
      "  warnings.warn('Selenium support for PhantomJS has been deprecated, please use headless '\n"
     ]
    }
   ],
   "source": [
    "from bs4 import BeautifulSoup\n",
    "from selenium import webdriver\n",
    "\n",
    "url = \"url_RB_search.format(brewery_name)\"\n",
    "browser = webdriver.PhantomJS()\n",
    "browser.get(url)\n",
    "html = browser.page_source\n",
    "#soup = BeautifulSoup(html, 'lxml')\n",
    "#a = soup.find('section', 'wrapper')\n",
    "with open('test_RB.html','w') as f:\n",
    "    f.write(html)"
   ]
  },
  {
   "cell_type": "code",
   "execution_count": 40,
   "metadata": {},
   "outputs": [
    {
     "data": {
      "text/plain": [
       "'<html><head></head><body></body></html>'"
      ]
     },
     "execution_count": 40,
     "metadata": {},
     "output_type": "execute_result"
    }
   ],
   "source": [
    "html"
   ]
  },
  {
   "cell_type": "code",
   "execution_count": 43,
   "metadata": {},
   "outputs": [
    {
     "data": {
      "text/plain": [
       "<generator object MySpider.start_requests at 0x1124dfdd0>"
      ]
     },
     "execution_count": 43,
     "metadata": {},
     "output_type": "execute_result"
    }
   ],
   "source": [
    "import scrapy\n",
    "from scrapy_splash import SplashRequest\n",
    "\n",
    "class MySpider(scrapy.Spider):\n",
    "    start_urls = [\"https://www.ratebeer.com/search?q=Fri-Mousse&tab=brewer\"]\n",
    "\n",
    "    def start_requests(self):\n",
    "        for url in self.start_urls:\n",
    "            yield SplashRequest(url, self.parse,\n",
    "                endpoint='render.html',\n",
    "                args={'wait': 0.5},\n",
    "            )\n",
    "\n",
    "    def parse(self, response):\n",
    "        with open('test_RB_scrapy.html','w') as f:\n",
    "            f.write(response.body)\n",
    "        \n",
    "        # response.body is a result of render.html call; it\n",
    "        # contains HTML processed by a browser.\n",
    "        # …\n",
    "ms = MySpider('scraper')\n",
    "ms.start_requests()"
   ]
  },
  {
   "cell_type": "code",
   "execution_count": null,
   "metadata": {},
   "outputs": [],
   "source": [
    "https://www.ratebeer.com/search?q=Fri-Mousse&tab=brewer"
   ]
  }
 ],
 "metadata": {
  "kernelspec": {
   "display_name": "Python 3",
   "language": "python",
   "name": "python3"
  },
  "language_info": {
   "codemirror_mode": {
    "name": "ipython",
    "version": 3
   },
   "file_extension": ".py",
   "mimetype": "text/x-python",
   "name": "python",
   "nbconvert_exporter": "python",
   "pygments_lexer": "ipython3",
   "version": "3.7.5"
  }
 },
 "nbformat": 4,
 "nbformat_minor": 4
}
